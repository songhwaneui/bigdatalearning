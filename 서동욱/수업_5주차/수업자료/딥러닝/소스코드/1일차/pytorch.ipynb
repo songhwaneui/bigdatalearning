{
 "cells": [
  {
   "cell_type": "code",
   "execution_count": 1,
   "metadata": {
    "colab": {
     "base_uri": "https://localhost:8080/",
     "height": 36
    },
    "colab_type": "code",
    "executionInfo": {
     "elapsed": 4623,
     "status": "ok",
     "timestamp": 1564377555457,
     "user": {
      "displayName": "JU S",
      "photoUrl": "",
      "userId": "09289710105847252906"
     },
     "user_tz": -540
    },
    "id": "m_LYXPPfJ-SV",
    "outputId": "1dbcb5ec-2634-43a8-be8f-4bdd32e0b7d5"
   },
   "outputs": [
    {
     "name": "stdout",
     "output_type": "stream",
     "text": [
      "\u001b[31mERROR: torch-1.1.0-cp36-cp36m-win_amd64.whl is not a supported wheel on this platform.\u001b[0m\n"
     ]
    }
   ],
   "source": [
    "!pip3 install https://download.pytorch.org/whl/cu90/torch-1.1.0-cp36-cp36m-win_amd64.whl"
   ]
  },
  {
   "cell_type": "code",
   "execution_count": 0,
   "metadata": {
    "colab": {},
    "colab_type": "code",
    "id": "-onVYrUlKu1e"
   },
   "outputs": [],
   "source": [
    "import torch\n",
    "import numpy as np\n",
    "import torch.nn.functional as F\n",
    "from sklearn.datasets import fetch_california_housing\n",
    "import matplotlib.pyplot as plt\n",
    "from sklearn.model_selection import train_test_split\n",
    "from sklearn.preprocessing import StandardScaler\n",
    "from torch.utils.data import TensorDataset, DataLoader\n",
    "import torch.nn as nn"
   ]
  },
  {
   "cell_type": "markdown",
   "metadata": {
    "colab_type": "text",
    "id": "r90Qmy4JLKPm"
   },
   "source": [
    "#### 실제로 GPU 사용할 수 있는지 확인"
   ]
  },
  {
   "cell_type": "code",
   "execution_count": 3,
   "metadata": {
    "colab": {
     "base_uri": "https://localhost:8080/",
     "height": 36
    },
    "colab_type": "code",
    "executionInfo": {
     "elapsed": 536,
     "status": "ok",
     "timestamp": 1564377650558,
     "user": {
      "displayName": "JU S",
      "photoUrl": "",
      "userId": "09289710105847252906"
     },
     "user_tz": -540
    },
    "id": "gidh57bTK__M",
    "outputId": "88cae822-3fa8-4530-c365-663a094d5e50"
   },
   "outputs": [
    {
     "data": {
      "text/plain": [
       "True"
      ]
     },
     "execution_count": 3,
     "metadata": {
      "tags": []
     },
     "output_type": "execute_result"
    }
   ],
   "source": [
    "torch.cuda.is_available()"
   ]
  },
  {
   "cell_type": "code",
   "execution_count": 0,
   "metadata": {
    "colab": {},
    "colab_type": "code",
    "id": "F2MZWozhLJMB"
   },
   "outputs": [],
   "source": [
    "a = torch.FloatTensor([[2,3,4,5]])"
   ]
  },
  {
   "cell_type": "code",
   "execution_count": 5,
   "metadata": {
    "colab": {
     "base_uri": "https://localhost:8080/",
     "height": 36
    },
    "colab_type": "code",
    "executionInfo": {
     "elapsed": 500,
     "status": "ok",
     "timestamp": 1564377723125,
     "user": {
      "displayName": "JU S",
      "photoUrl": "",
      "userId": "09289710105847252906"
     },
     "user_tz": -540
    },
    "id": "MbhPwu6XLan7",
    "outputId": "bc8d69ee-21ce-4239-a1cf-667563fa613f"
   },
   "outputs": [
    {
     "data": {
      "text/plain": [
       "tensor([[2., 3., 4., 5.]])"
      ]
     },
     "execution_count": 5,
     "metadata": {
      "tags": []
     },
     "output_type": "execute_result"
    }
   ],
   "source": [
    "a"
   ]
  },
  {
   "cell_type": "code",
   "execution_count": 0,
   "metadata": {
    "colab": {},
    "colab_type": "code",
    "id": "ti1DKbr-La6h"
   },
   "outputs": [],
   "source": [
    "b = np.array([[3,4,5,6]])"
   ]
  },
  {
   "cell_type": "code",
   "execution_count": 9,
   "metadata": {
    "colab": {
     "base_uri": "https://localhost:8080/",
     "height": 55
    },
    "colab_type": "code",
    "executionInfo": {
     "elapsed": 416,
     "status": "ok",
     "timestamp": 1564377796397,
     "user": {
      "displayName": "JU S",
      "photoUrl": "",
      "userId": "09289710105847252906"
     },
     "user_tz": -540
    },
    "id": "Rrvx7nyxLnYK",
    "outputId": "b4ca10b9-243e-4c31-f6b2-da3f3e36ec2e"
   },
   "outputs": [
    {
     "data": {
      "text/plain": [
       "array([[3, 4],\n",
       "       [5, 6]])"
      ]
     },
     "execution_count": 9,
     "metadata": {
      "tags": []
     },
     "output_type": "execute_result"
    }
   ],
   "source": [
    "b.reshape(2,2)"
   ]
  },
  {
   "cell_type": "code",
   "execution_count": 11,
   "metadata": {
    "colab": {
     "base_uri": "https://localhost:8080/",
     "height": 55
    },
    "colab_type": "code",
    "executionInfo": {
     "elapsed": 446,
     "status": "ok",
     "timestamp": 1564377828225,
     "user": {
      "displayName": "JU S",
      "photoUrl": "",
      "userId": "09289710105847252906"
     },
     "user_tz": -540
    },
    "id": "p5l67PvfLszp",
    "outputId": "8460e0be-662a-4241-bf2b-53e4d9f7a11c"
   },
   "outputs": [
    {
     "data": {
      "text/plain": [
       "tensor([[2., 3.],\n",
       "        [4., 5.]])"
      ]
     },
     "execution_count": 11,
     "metadata": {
      "tags": []
     },
     "output_type": "execute_result"
    }
   ],
   "source": [
    "a.view(2,-1)"
   ]
  },
  {
   "cell_type": "code",
   "execution_count": 12,
   "metadata": {
    "colab": {
     "base_uri": "https://localhost:8080/",
     "height": 36
    },
    "colab_type": "code",
    "executionInfo": {
     "elapsed": 448,
     "status": "ok",
     "timestamp": 1564377867223,
     "user": {
      "displayName": "JU S",
      "photoUrl": "",
      "userId": "09289710105847252906"
     },
     "user_tz": -540
    },
    "id": "NTf86GIDLzBL",
    "outputId": "4b509224-9a78-443c-836f-77de45fd028d"
   },
   "outputs": [
    {
     "data": {
      "text/plain": [
       "tensor([2., 3., 4., 5.])"
      ]
     },
     "execution_count": 12,
     "metadata": {
      "tags": []
     },
     "output_type": "execute_result"
    }
   ],
   "source": [
    "a.view(2,-1).flatten()"
   ]
  },
  {
   "cell_type": "markdown",
   "metadata": {
    "colab_type": "text",
    "id": "-5mKSJJjMFUU"
   },
   "source": [
    "#### unsqueeze, squezze는 shape을 맞춰줄때"
   ]
  },
  {
   "cell_type": "code",
   "execution_count": 13,
   "metadata": {
    "colab": {
     "base_uri": "https://localhost:8080/",
     "height": 36
    },
    "colab_type": "code",
    "executionInfo": {
     "elapsed": 635,
     "status": "ok",
     "timestamp": 1564377887499,
     "user": {
      "displayName": "JU S",
      "photoUrl": "",
      "userId": "09289710105847252906"
     },
     "user_tz": -540
    },
    "id": "LuA-G1zaL-G7",
    "outputId": "f915c468-1da9-4d59-b19c-2c04c5acec4c"
   },
   "outputs": [
    {
     "data": {
      "text/plain": [
       "torch.Size([1, 1, 4])"
      ]
     },
     "execution_count": 13,
     "metadata": {
      "tags": []
     },
     "output_type": "execute_result"
    }
   ],
   "source": [
    "a.unsqueeze(1).shape"
   ]
  },
  {
   "cell_type": "code",
   "execution_count": 14,
   "metadata": {
    "colab": {
     "base_uri": "https://localhost:8080/",
     "height": 36
    },
    "colab_type": "code",
    "executionInfo": {
     "elapsed": 429,
     "status": "ok",
     "timestamp": 1564377940765,
     "user": {
      "displayName": "JU S",
      "photoUrl": "",
      "userId": "09289710105847252906"
     },
     "user_tz": -540
    },
    "id": "lS-GkNt8MDA_",
    "outputId": "3264463a-d6fd-4e82-fadf-c2a71bef469b"
   },
   "outputs": [
    {
     "data": {
      "text/plain": [
       "torch.Size([1, 4])"
      ]
     },
     "execution_count": 14,
     "metadata": {
      "tags": []
     },
     "output_type": "execute_result"
    }
   ],
   "source": [
    "a.unsqueeze(1).squeeze(0).shape"
   ]
  },
  {
   "cell_type": "markdown",
   "metadata": {
    "colab_type": "text",
    "id": "__jikB0PMwWw"
   },
   "source": [
    "#### GPU에 들어가게 하려면 torch.cuda.으로 사용해야함.\n",
    "#### 선택할때는 torch.device('cuda') or torch.device('cpu')"
   ]
  },
  {
   "cell_type": "code",
   "execution_count": 17,
   "metadata": {
    "colab": {
     "base_uri": "https://localhost:8080/",
     "height": 36
    },
    "colab_type": "code",
    "executionInfo": {
     "elapsed": 504,
     "status": "ok",
     "timestamp": 1564378249320,
     "user": {
      "displayName": "JU S",
      "photoUrl": "",
      "userId": "09289710105847252906"
     },
     "user_tz": -540
    },
    "id": "KQnYq-GlMQEE",
    "outputId": "b535ff2b-a110-4ab3-822d-23475d09b75f"
   },
   "outputs": [
    {
     "data": {
      "text/plain": [
       "tensor([[2., 3., 4., 5.]], device='cuda:0')"
      ]
     },
     "execution_count": 17,
     "metadata": {
      "tags": []
     },
     "output_type": "execute_result"
    }
   ],
   "source": [
    "device = torch.device('cuda:0') # 첫번째있는 GPU\n",
    "\n",
    "a = a.to(device)\n",
    "a"
   ]
  },
  {
   "cell_type": "code",
   "execution_count": 18,
   "metadata": {
    "colab": {
     "base_uri": "https://localhost:8080/",
     "height": 316
    },
    "colab_type": "code",
    "executionInfo": {
     "elapsed": 1809,
     "status": "ok",
     "timestamp": 1564378277230,
     "user": {
      "displayName": "JU S",
      "photoUrl": "",
      "userId": "09289710105847252906"
     },
     "user_tz": -540
    },
    "id": "9R44cBOYNQiM",
    "outputId": "2f874eef-f5c5-43b1-8927-0b8b0660fee6"
   },
   "outputs": [
    {
     "name": "stdout",
     "output_type": "stream",
     "text": [
      "Mon Jul 29 05:31:16 2019       \n",
      "+-----------------------------------------------------------------------------+\n",
      "| NVIDIA-SMI 418.67       Driver Version: 410.79       CUDA Version: 10.0     |\n",
      "|-------------------------------+----------------------+----------------------+\n",
      "| GPU  Name        Persistence-M| Bus-Id        Disp.A | Volatile Uncorr. ECC |\n",
      "| Fan  Temp  Perf  Pwr:Usage/Cap|         Memory-Usage | GPU-Util  Compute M. |\n",
      "|===============================+======================+======================|\n",
      "|   0  Tesla T4            Off  | 00000000:00:04.0 Off |                    0 |\n",
      "| N/A   58C    P0    29W /  70W |    771MiB / 15079MiB |      0%      Default |\n",
      "+-------------------------------+----------------------+----------------------+\n",
      "                                                                               \n",
      "+-----------------------------------------------------------------------------+\n",
      "| Processes:                                                       GPU Memory |\n",
      "|  GPU       PID   Type   Process name                             Usage      |\n",
      "|=============================================================================|\n",
      "+-----------------------------------------------------------------------------+\n"
     ]
    }
   ],
   "source": [
    "!nvidia-smi # 실제로 GPU 사용하고 있는지 확인"
   ]
  },
  {
   "cell_type": "code",
   "execution_count": 0,
   "metadata": {
    "colab": {},
    "colab_type": "code",
    "id": "eGVYBJD2Nh3g"
   },
   "outputs": [],
   "source": [
    "a = torch.cuda.FloatTensor(1024,1024,256)"
   ]
  },
  {
   "cell_type": "markdown",
   "metadata": {
    "colab_type": "text",
    "id": "DBIecyk0OTj8"
   },
   "source": [
    "#### torch.nn : 각종 뉴럴 네트워크 관련 클래스들 제공"
   ]
  },
  {
   "cell_type": "code",
   "execution_count": 0,
   "metadata": {
    "colab": {},
    "colab_type": "code",
    "id": "euxQd5E1OY60"
   },
   "outputs": [],
   "source": [
    "linear = torch.nn.Linear(4,1)"
   ]
  },
  {
   "cell_type": "code",
   "execution_count": 0,
   "metadata": {
    "colab": {},
    "colab_type": "code",
    "id": "-cJG09OyO-xT"
   },
   "outputs": [],
   "source": [
    "x = torch.FloatTensor([0,-10,-1,-1])"
   ]
  },
  {
   "cell_type": "code",
   "execution_count": 38,
   "metadata": {
    "colab": {
     "base_uri": "https://localhost:8080/",
     "height": 55
    },
    "colab_type": "code",
    "executionInfo": {
     "elapsed": 436,
     "status": "ok",
     "timestamp": 1564379218511,
     "user": {
      "displayName": "JU S",
      "photoUrl": "",
      "userId": "09289710105847252906"
     },
     "user_tz": -540
    },
    "id": "dx1vJGlmPDNX",
    "outputId": "8eb29808-9af9-4c9f-ca5f-fdebe18bd582"
   },
   "outputs": [
    {
     "data": {
      "text/plain": [
       "Parameter containing:\n",
       "tensor([[-0.1131, -0.0043, -0.2610,  0.1055]], requires_grad=True)"
      ]
     },
     "execution_count": 38,
     "metadata": {
      "tags": []
     },
     "output_type": "execute_result"
    }
   ],
   "source": [
    "linear.weight"
   ]
  },
  {
   "cell_type": "code",
   "execution_count": 39,
   "metadata": {
    "colab": {
     "base_uri": "https://localhost:8080/",
     "height": 73
    },
    "colab_type": "code",
    "executionInfo": {
     "elapsed": 444,
     "status": "ok",
     "timestamp": 1564379219231,
     "user": {
      "displayName": "JU S",
      "photoUrl": "",
      "userId": "09289710105847252906"
     },
     "user_tz": -540
    },
    "id": "gluBz4onPEwf",
    "outputId": "37ec3fe0-8d0b-47cf-8f85-84fed719f92b"
   },
   "outputs": [
    {
     "name": "stderr",
     "output_type": "stream",
     "text": [
      "/usr/local/lib/python3.6/dist-packages/torch/nn/functional.py:1386: UserWarning: nn.functional.sigmoid is deprecated. Use torch.sigmoid instead.\n",
      "  warnings.warn(\"nn.functional.sigmoid is deprecated. Use torch.sigmoid instead.\")\n"
     ]
    },
    {
     "data": {
      "text/plain": [
       "tensor([0.4549], grad_fn=<SigmoidBackward>)"
      ]
     },
     "execution_count": 39,
     "metadata": {
      "tags": []
     },
     "output_type": "execute_result"
    }
   ],
   "source": [
    "F.sigmoid(linear(x))"
   ]
  },
  {
   "cell_type": "code",
   "execution_count": 40,
   "metadata": {
    "colab": {
     "base_uri": "https://localhost:8080/",
     "height": 73
    },
    "colab_type": "code",
    "executionInfo": {
     "elapsed": 485,
     "status": "ok",
     "timestamp": 1564379221162,
     "user": {
      "displayName": "JU S",
      "photoUrl": "",
      "userId": "09289710105847252906"
     },
     "user_tz": -540
    },
    "id": "Wa2spT1uQ2rV",
    "outputId": "07f01ef0-9ee8-4bfc-c996-bc8b196c439e"
   },
   "outputs": [
    {
     "name": "stderr",
     "output_type": "stream",
     "text": [
      "/usr/local/lib/python3.6/dist-packages/torch/nn/functional.py:1374: UserWarning: nn.functional.tanh is deprecated. Use torch.tanh instead.\n",
      "  warnings.warn(\"nn.functional.tanh is deprecated. Use torch.tanh instead.\")\n"
     ]
    },
    {
     "data": {
      "text/plain": [
       "tensor([-0.1790], grad_fn=<TanhBackward>)"
      ]
     },
     "execution_count": 40,
     "metadata": {
      "tags": []
     },
     "output_type": "execute_result"
    }
   ],
   "source": [
    "F.tanh(linear(x))"
   ]
  },
  {
   "cell_type": "markdown",
   "metadata": {
    "colab_type": "text",
    "id": "3No0PGKeRd_O"
   },
   "source": [
    "#### dim : 행을 1? 열을 1? 정하는 것"
   ]
  },
  {
   "cell_type": "code",
   "execution_count": 41,
   "metadata": {
    "colab": {
     "base_uri": "https://localhost:8080/",
     "height": 36
    },
    "colab_type": "code",
    "executionInfo": {
     "elapsed": 419,
     "status": "ok",
     "timestamp": 1564379305208,
     "user": {
      "displayName": "JU S",
      "photoUrl": "",
      "userId": "09289710105847252906"
     },
     "user_tz": -540
    },
    "id": "FZ19Nh6qQ-uG",
    "outputId": "32e913b7-8a02-4ee1-b39d-cfc56c6796e6"
   },
   "outputs": [
    {
     "data": {
      "text/plain": [
       "tensor([1.], grad_fn=<SoftmaxBackward>)"
      ]
     },
     "execution_count": 41,
     "metadata": {
      "tags": []
     },
     "output_type": "execute_result"
    }
   ],
   "source": [
    "F.softmax(linear(x), dim = 0)"
   ]
  },
  {
   "cell_type": "code",
   "execution_count": 0,
   "metadata": {
    "colab": {},
    "colab_type": "code",
    "id": "X_Yt7tXjRdLW"
   },
   "outputs": [],
   "source": [
    "linear1 = torch.nn.Linear(784,15)\n",
    "linear2 = torch.nn.Linear()"
   ]
  },
  {
   "cell_type": "markdown",
   "metadata": {
    "colab_type": "text",
    "id": "zudQcfZBbZJJ"
   },
   "source": [
    "### 사이킷런 캘리포니아 집값 예측 실습"
   ]
  },
  {
   "cell_type": "code",
   "execution_count": 0,
   "metadata": {
    "colab": {},
    "colab_type": "code",
    "id": "_x1dmKXEbXUa"
   },
   "outputs": [],
   "source": [
    "data = fetch_california_housing()"
   ]
  },
  {
   "cell_type": "code",
   "execution_count": 56,
   "metadata": {
    "colab": {
     "base_uri": "https://localhost:8080/",
     "height": 36
    },
    "colab_type": "code",
    "executionInfo": {
     "elapsed": 822,
     "status": "ok",
     "timestamp": 1564382234826,
     "user": {
      "displayName": "JU S",
      "photoUrl": "",
      "userId": "09289710105847252906"
     },
     "user_tz": -540
    },
    "id": "0ukC6oSSbQG8",
    "outputId": "f26779e2-6f15-49d8-fa38-853733c5819e"
   },
   "outputs": [
    {
     "data": {
      "text/plain": [
       "(20640, 8)"
      ]
     },
     "execution_count": 56,
     "metadata": {
      "tags": []
     },
     "output_type": "execute_result"
    }
   ],
   "source": [
    "data.data.shape"
   ]
  },
  {
   "cell_type": "code",
   "execution_count": 57,
   "metadata": {
    "colab": {
     "base_uri": "https://localhost:8080/",
     "height": 167
    },
    "colab_type": "code",
    "executionInfo": {
     "elapsed": 428,
     "status": "ok",
     "timestamp": 1564382256886,
     "user": {
      "displayName": "JU S",
      "photoUrl": "",
      "userId": "09289710105847252906"
     },
     "user_tz": -540
    },
    "id": "YEOXtYKjb5-J",
    "outputId": "cce2fe8d-615c-44a1-d3b9-be52e56bc31e"
   },
   "outputs": [
    {
     "data": {
      "text/plain": [
       "['MedInc',\n",
       " 'HouseAge',\n",
       " 'AveRooms',\n",
       " 'AveBedrms',\n",
       " 'Population',\n",
       " 'AveOccup',\n",
       " 'Latitude',\n",
       " 'Longitude']"
      ]
     },
     "execution_count": 57,
     "metadata": {
      "tags": []
     },
     "output_type": "execute_result"
    }
   ],
   "source": [
    "data.feature_names"
   ]
  },
  {
   "cell_type": "code",
   "execution_count": 58,
   "metadata": {
    "colab": {
     "base_uri": "https://localhost:8080/",
     "height": 36
    },
    "colab_type": "code",
    "executionInfo": {
     "elapsed": 469,
     "status": "ok",
     "timestamp": 1564382286610,
     "user": {
      "displayName": "JU S",
      "photoUrl": "",
      "userId": "09289710105847252906"
     },
     "user_tz": -540
    },
    "id": "d-wOwrIgctzC",
    "outputId": "33c70b05-a374-4076-a7c4-f5f4eddbc88c"
   },
   "outputs": [
    {
     "data": {
      "text/plain": [
       "array([4.526, 3.585, 3.521, ..., 0.923, 0.847, 0.894])"
      ]
     },
     "execution_count": 58,
     "metadata": {
      "tags": []
     },
     "output_type": "execute_result"
    }
   ],
   "source": [
    "data.target"
   ]
  },
  {
   "cell_type": "code",
   "execution_count": 62,
   "metadata": {
    "colab": {
     "base_uri": "https://localhost:8080/",
     "height": 283
    },
    "colab_type": "code",
    "executionInfo": {
     "elapsed": 751,
     "status": "ok",
     "timestamp": 1564382454627,
     "user": {
      "displayName": "JU S",
      "photoUrl": "",
      "userId": "09289710105847252906"
     },
     "user_tz": -540
    },
    "id": "1uPpmookc1C1",
    "outputId": "424c6938-0e14-40a0-f3b7-cf6b6513c64e"
   },
   "outputs": [
    {
     "data": {
      "image/png": "[encoded data removed]",
      "text/plain": [
       "<Figure size 432x288 with 1 Axes>"
      ]
     },
     "metadata": {
      "tags": []
     },
     "output_type": "display_data"
    }
   ],
   "source": [
    "plt.hist(data.target, 50, density=True,facecolor=\"g\")\n",
    "plt.xlabel(\"Housing value\")\n",
    "plt.ylabel(\"Probability\")\n",
    "plt.show()"
   ]
  },
  {
   "cell_type": "code",
   "execution_count": 0,
   "metadata": {
    "colab": {},
    "colab_type": "code",
    "id": "aZinUj9Hdcmj"
   },
   "outputs": [],
   "source": [
    "X_train, X_test, y_train, y_test = train_test_split(data.data, data.target, test_size = 0.2)"
   ]
  },
  {
   "cell_type": "code",
   "execution_count": 126,
   "metadata": {
    "colab": {
     "base_uri": "https://localhost:8080/",
     "height": 36
    },
    "colab_type": "code",
    "executionInfo": {
     "elapsed": 545,
     "status": "ok",
     "timestamp": 1564388943856,
     "user": {
      "displayName": "JU S",
      "photoUrl": "",
      "userId": "09289710105847252906"
     },
     "user_tz": -540
    },
    "id": "fnhu5Ctse9va",
    "outputId": "0708b0cd-2a4a-49a7-bb0b-280872b17f94"
   },
   "outputs": [
    {
     "data": {
      "text/plain": [
       "(16512, 8)"
      ]
     },
     "execution_count": 126,
     "metadata": {
      "tags": []
     },
     "output_type": "execute_result"
    }
   ],
   "source": [
    "X_train.shape"
   ]
  },
  {
   "cell_type": "markdown",
   "metadata": {
    "colab_type": "text",
    "id": "rFXB2BY3fvOO"
   },
   "source": [
    "### min-max 정규화"
   ]
  },
  {
   "cell_type": "code",
   "execution_count": 0,
   "metadata": {
    "colab": {},
    "colab_type": "code",
    "id": "hH_7YZ9hfK3a"
   },
   "outputs": [],
   "source": [
    "min_, max_ = y_train.min(), y_train.max()\n",
    "y_train = (y_train-min_) / (max_ - min_)"
   ]
  },
  {
   "cell_type": "markdown",
   "metadata": {
    "colab_type": "text",
    "id": "6NjLTAW6gW49"
   },
   "source": [
    "### 각각 feature별로 정규화 / 표준 정규화\n",
    "\n",
    "#### 대부분 sklearn class는 fit하고 transform하는 형태\n",
    "\n",
    "####  data.target은 정규 분포가 쏠려있음."
   ]
  },
  {
   "cell_type": "code",
   "execution_count": 0,
   "metadata": {
    "colab": {},
    "colab_type": "code",
    "id": "l87xVlN7fh3h"
   },
   "outputs": [],
   "source": [
    "std_scaler = StandardScaler()\n",
    "\n",
    "X_train = std_scaler.fit_transform(X_train)\n",
    "X_test = std_scaler.transform(X_test)"
   ]
  },
  {
   "cell_type": "code",
   "execution_count": 129,
   "metadata": {
    "colab": {
     "base_uri": "https://localhost:8080/",
     "height": 55
    },
    "colab_type": "code",
    "executionInfo": {
     "elapsed": 514,
     "status": "ok",
     "timestamp": 1564388945728,
     "user": {
      "displayName": "JU S",
      "photoUrl": "",
      "userId": "09289710105847252906"
     },
     "user_tz": -540
    },
    "id": "TxZ9ETE9hApP",
    "outputId": "b6b41993-ef0d-4a31-e2f1-e4f3d4559884"
   },
   "outputs": [
    {
     "data": {
      "text/plain": [
       "array([ 3.87105268e+00,  2.86307534e+01,  5.42926710e+00,  1.09599873e+00,\n",
       "        1.42734163e+03,  3.07351263e+00,  3.56341982e+01, -1.19571880e+02])"
      ]
     },
     "execution_count": 129,
     "metadata": {
      "tags": []
     },
     "output_type": "execute_result"
    }
   ],
   "source": [
    "std_scaler.mean_"
   ]
  },
  {
   "cell_type": "code",
   "execution_count": 130,
   "metadata": {
    "colab": {
     "base_uri": "https://localhost:8080/",
     "height": 55
    },
    "colab_type": "code",
    "executionInfo": {
     "elapsed": 606,
     "status": "ok",
     "timestamp": 1564388946439,
     "user": {
      "displayName": "JU S",
      "photoUrl": "",
      "userId": "09289710105847252906"
     },
     "user_tz": -540
    },
    "id": "OcdCm6yFhC_x",
    "outputId": "37253d90-8d42-4d66-f013-dc8852b5610a"
   },
   "outputs": [
    {
     "data": {
      "text/plain": [
       "array([3.55979204e+00, 1.59601968e+02, 6.35354056e+00, 2.29298345e-01,\n",
       "       1.26227319e+06, 1.19547814e+02, 4.56342848e+00, 4.02267155e+00])"
      ]
     },
     "execution_count": 130,
     "metadata": {
      "tags": []
     },
     "output_type": "execute_result"
    }
   ],
   "source": [
    "std_scaler.var_"
   ]
  },
  {
   "cell_type": "code",
   "execution_count": 0,
   "metadata": {
    "colab": {},
    "colab_type": "code",
    "id": "b7p6X2sihFQw"
   },
   "outputs": [],
   "source": [
    "X_train, y_train = torch.from_numpy(X_train) ,torch.from_numpy(y_train)\n",
    "X_test, y_test = torch.from_numpy(X_test) ,torch.from_numpy(y_test)\n",
    "\n",
    "X_train, y_train = X_train.float(), y_train.float()\n",
    "X_test, y_test = X_test.float(), y_test.float()\n",
    "\n",
    "y_train, y_test = y_train.view(-1,1), y_test.view(-1,1)"
   ]
  },
  {
   "cell_type": "code",
   "execution_count": 132,
   "metadata": {
    "colab": {
     "base_uri": "https://localhost:8080/",
     "height": 148
    },
    "colab_type": "code",
    "executionInfo": {
     "elapsed": 610,
     "status": "ok",
     "timestamp": 1564388947346,
     "user": {
      "displayName": "JU S",
      "photoUrl": "",
      "userId": "09289710105847252906"
     },
     "user_tz": -540
    },
    "id": "bXJ17e9xh_8Q",
    "outputId": "ebcefcaa-e434-4f39-cc7c-937f52d0d0f8"
   },
   "outputs": [
    {
     "data": {
      "text/plain": [
       "tensor([[-0.7162,  0.5042, -0.7778,  ...,  0.0197, -0.6714,  0.5643],\n",
       "        [-1.1471,  1.6123, -0.4461,  ..., -0.0299, -0.7744,  0.6242],\n",
       "        [-0.0998,  1.2166, -0.4276,  ...,  0.0597,  0.9717, -1.4200],\n",
       "        ...,\n",
       "        [-0.1903, -0.8415, -0.1379,  ..., -0.0303,  0.5036, -1.0960],\n",
       "        [ 0.4846, -1.7122, -0.4151,  ..., -0.0885, -0.7182,  0.6940],\n",
       "        [ 1.0530, -0.6040,  1.2786,  ...,  0.0353, -0.6339,  0.4048]])"
      ]
     },
     "execution_count": 132,
     "metadata": {
      "tags": []
     },
     "output_type": "execute_result"
    }
   ],
   "source": [
    "X_train"
   ]
  },
  {
   "cell_type": "code",
   "execution_count": 0,
   "metadata": {
    "colab": {},
    "colab_type": "code",
    "id": "GBu7byHNiH0o"
   },
   "outputs": [],
   "source": [
    "train_dataset = TensorDataset(X_train,y_train)\n",
    "test_dataset = TensorDataset(X_test,y_test)"
   ]
  },
  {
   "cell_type": "code",
   "execution_count": 134,
   "metadata": {
    "colab": {
     "base_uri": "https://localhost:8080/",
     "height": 279
    },
    "colab_type": "code",
    "executionInfo": {
     "elapsed": 539,
     "status": "ok",
     "timestamp": 1564388948196,
     "user": {
      "displayName": "JU S",
      "photoUrl": "",
      "userId": "09289710105847252906"
     },
     "user_tz": -540
    },
    "id": "Io0-sn7Om4nr",
    "outputId": "6857f785-fb69-4038-a7a0-f4fe7f94d819"
   },
   "outputs": [
    {
     "data": {
      "text/plain": [
       "(tensor([[-0.7162,  0.5042, -0.7778,  ...,  0.0197, -0.6714,  0.5643],\n",
       "         [-1.1471,  1.6123, -0.4461,  ..., -0.0299, -0.7744,  0.6242],\n",
       "         [-0.0998,  1.2166, -0.4276,  ...,  0.0597,  0.9717, -1.4200],\n",
       "         ...,\n",
       "         [-0.1903, -0.8415, -0.1379,  ..., -0.0303,  0.5036, -1.0960],\n",
       "         [ 0.4846, -1.7122, -0.4151,  ..., -0.0885, -0.7182,  0.6940],\n",
       "         [ 1.0530, -0.6040,  1.2786,  ...,  0.0353, -0.6339,  0.4048]]),\n",
       " tensor([[0.4342],\n",
       "         [0.2136],\n",
       "         [0.4130],\n",
       "         ...,\n",
       "         [0.3295],\n",
       "         [0.2847],\n",
       "         [0.5181]]))"
      ]
     },
     "execution_count": 134,
     "metadata": {
      "tags": []
     },
     "output_type": "execute_result"
    }
   ],
   "source": [
    "train_dataset.tensors"
   ]
  },
  {
   "cell_type": "code",
   "execution_count": 0,
   "metadata": {
    "colab": {},
    "colab_type": "code",
    "id": "OB7aZ6DUm6BS"
   },
   "outputs": [],
   "source": [
    "train_loader = DataLoader(train_dataset, batch_size = 32, shuffle=True)\n",
    "test_loader = DataLoader(test_dataset, batch_size = 32)"
   ]
  },
  {
   "cell_type": "code",
   "execution_count": 0,
   "metadata": {
    "colab": {},
    "colab_type": "code",
    "id": "hiTaSMsmnYiA"
   },
   "outputs": [],
   "source": [
    "class Model(nn.Module):\n",
    "    def __init__(self, input_dim, hidden_dim):\n",
    "        super(Model, self).__init__()\n",
    "        self.input_dim = input_dim\n",
    "        self.hidden_dim = hidden_dim\n",
    "        self.linear1 = nn.Linear(self.input_dim, self.hidden_dim)\n",
    "        self.linear2 = nn.Linear(self.hidden_dim, 1)\n",
    "        \n",
    "    def forward(self, x):\n",
    "        z1 = self.linear1(x)\n",
    "        a1 = torch.relu(z1)\n",
    "        z2 = self.linear2(a1)\n",
    "        a2 = torch.sigmoid(z2)\n",
    "        return a2"
   ]
  },
  {
   "cell_type": "code",
   "execution_count": 0,
   "metadata": {
    "colab": {},
    "colab_type": "code",
    "id": "KjQDHcWHnmFA"
   },
   "outputs": [],
   "source": [
    "device = torch.device('cuda')\n",
    "model = Model(8,32)\n",
    "model = model.to(device)\n",
    "\n",
    "mse_loss = nn.MSELoss()\n",
    "optimizer = torch.optim.Adam(model.parameters(), lr = 0.001)"
   ]
  },
  {
   "cell_type": "code",
   "execution_count": 138,
   "metadata": {
    "colab": {
     "base_uri": "https://localhost:8080/",
     "height": 577
    },
    "colab_type": "code",
    "executionInfo": {
     "elapsed": 8067,
     "status": "ok",
     "timestamp": 1564388963704,
     "user": {
      "displayName": "JU S",
      "photoUrl": "",
      "userId": "09289710105847252906"
     },
     "user_tz": -540
    },
    "id": "CMyfT_Dcp0oW",
    "outputId": "9626c839-876b-49ee-ce68-3f341accfb4c"
   },
   "outputs": [
    {
     "name": "stdout",
     "output_type": "stream",
     "text": [
      "0,0 - 0.08881314098834991\n",
      "0,200 - 0.026668798178434372\n",
      "0,400 - 0.013472087681293488\n",
      "1,0 - 0.01951008476316929\n",
      "1,200 - 0.01860024221241474\n",
      "1,400 - 0.031463656574487686\n",
      "2,0 - 0.011640671640634537\n",
      "2,200 - 0.019498061388731003\n",
      "2,400 - 0.010509505867958069\n",
      "3,0 - 0.018829554319381714\n",
      "3,200 - 0.014494603499770164\n",
      "3,400 - 0.009804876521229744\n",
      "4,0 - 0.019375480711460114\n",
      "4,200 - 0.007325437851250172\n",
      "4,400 - 0.012665113434195518\n",
      "5,0 - 0.025313574820756912\n",
      "5,200 - 0.011210042051970959\n",
      "5,400 - 0.014017784968018532\n",
      "6,0 - 0.028498772531747818\n",
      "6,200 - 0.006761033087968826\n",
      "6,400 - 0.009099423885345459\n",
      "7,0 - 0.017039040103554726\n",
      "7,200 - 0.01417502947151661\n",
      "7,400 - 0.024206895381212234\n",
      "8,0 - 0.016794478520751\n",
      "8,200 - 0.008802050724625587\n",
      "8,400 - 0.017997868359088898\n",
      "9,0 - 0.00609503872692585\n",
      "9,200 - 0.010230837389826775\n",
      "9,400 - 0.013285118155181408\n"
     ]
    }
   ],
   "source": [
    "epochs = 10\n",
    "\n",
    "model.train()\n",
    "\n",
    "for e in range(epochs):\n",
    "    for i, (batch_X, batch_y) in enumerate(train_loader):\n",
    "        batch_X, batch_y = batch_X.to(device), batch_y.to(device)\n",
    "        \n",
    "        predict = model(batch_X)\n",
    "        loss = mse_loss(predict, batch_y)\n",
    "        \n",
    "        optimizer.zero_grad() # 초기화 해줌.\n",
    "        loss.backward() # 각 가중치별로 그래디언트 계산\n",
    "        optimizer.step() # 한번 모델이 업데이트\n",
    "        \n",
    "        if i % 200 == 0:\n",
    "            loss = loss.cpu() # loss.item()은 값 하나 일 때 \n",
    "            print(f\"{e},{i} - {loss}\") # loss는 GPU에 있기 때문에 에러남."
   ]
  },
  {
   "cell_type": "code",
   "execution_count": 148,
   "metadata": {
    "colab": {
     "base_uri": "https://localhost:8080/",
     "height": 36
    },
    "colab_type": "code",
    "executionInfo": {
     "elapsed": 459,
     "status": "ok",
     "timestamp": 1564389556965,
     "user": {
      "displayName": "JU S",
      "photoUrl": "",
      "userId": "09289710105847252906"
     },
     "user_tz": -540
    },
    "id": "V-dLelJoso7m",
    "outputId": "50965087-80ef-4095-c3de-430a08b59822"
   },
   "outputs": [
    {
     "name": "stdout",
     "output_type": "stream",
     "text": [
      "0.41275334785612977\n"
     ]
    }
   ],
   "source": [
    "l1_loss = nn.L1Loss()\n",
    "test_num = 0\n",
    "total_loss = []\n",
    "\n",
    "with torch.no_grad(): # 이 스코프에서 어떤 연산을 하더라도 gradient가 연산을 안함\n",
    "    model.eval()\n",
    "    \n",
    "    for batch_X, batch_y in test_loader:\n",
    "        batch_X, batch_y = batch_X.to(device), batch_y.to(device)\n",
    "        \n",
    "        predict = model(batch_X)\n",
    "        \n",
    "        predict = (max_ - min_)*predict + min_\n",
    "        loss = l1_loss(predict, batch_y)\n",
    "        \n",
    "        loss = loss.item()\n",
    "        batch_size = batch_X.size(0)\n",
    "        total_loss.append(loss*batch_size)\n",
    "        test_num += batch_size\n",
    "        \n",
    "total_loss = np.sum(total_loss)/test_num\n",
    "print(total_loss)\n",
    "        "
   ]
  },
  {
   "cell_type": "code",
   "execution_count": 0,
   "metadata": {
    "colab": {},
    "colab_type": "code",
    "id": "ldpXRc25vHAs"
   },
   "outputs": [],
   "source": []
  }
 ],
 "metadata": {
  "accelerator": "GPU",
  "colab": {
   "name": "pytorch.ipynb",
   "provenance": [],
   "version": "0.3.2"
  },
  "kernelspec": {
   "display_name": "Python 3",
   "language": "python",
   "name": "python3"
  },
  "language_info": {
   "codemirror_mode": {
    "name": "ipython",
    "version": 3
   },
   "file_extension": ".py",
   "mimetype": "text/x-python",
   "name": "python",
   "nbconvert_exporter": "python",
   "pygments_lexer": "ipython3",
   "version": "3.7.3"
  }
 },
 "nbformat": 4,
 "nbformat_minor": 1
}
