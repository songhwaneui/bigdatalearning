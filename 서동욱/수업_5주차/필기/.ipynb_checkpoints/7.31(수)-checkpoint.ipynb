{
 "cells": [
  {
   "cell_type": "code",
   "execution_count": null,
   "metadata": {},
   "outputs": [],
   "source": [
    "Tensorflow 는 그래프다.\n",
    "numpy와는 다른.\n",
    "모든 연산자를 그래프로 표현한게 tensorflow"
   ]
  },
  {
   "cell_type": "code",
   "execution_count": null,
   "metadata": {},
   "outputs": [],
   "source": [
    "placeholder\n",
    "graph\n",
    "session."
   ]
  },
  {
   "cell_type": "markdown",
   "metadata": {},
   "source": [
    "### Tensorboard\n"
   ]
  },
  {
   "cell_type": "code",
   "execution_count": null,
   "metadata": {},
   "outputs": [],
   "source": [
    "- train accuracy\n",
    "- NER은 accuracy로 안함. class별로 찍어보기 가능.\n",
    "- 모델을 그려보기도 가능하다."
   ]
  },
  {
   "cell_type": "markdown",
   "metadata": {},
   "source": [
    "### language model"
   ]
  },
  {
   "cell_type": "code",
   "execution_count": null,
   "metadata": {},
   "outputs": [],
   "source": [
    "자동완성 : 다 이 모델임.\n",
    "\n",
    "- n gram을 이용한 모델의 문제 :\n",
    "    1. 아에 count를 못하는 문제\n",
    "    2. 앞의 코퍼스(phrase)가 아에 없는 문제.\n",
    "    3. 임의의 단어 더해주거나 smoothing 하는 방법.\n",
    "    통계적 방법을 쓰면 문맥이 좀 이상하다.\n",
    "    \n",
    "- 딥러닝 모델\n",
    "우선순위 확률을 학습한다.\n",
    "\n",
    "- RNN (98년도)\n",
    "자연어는 sequential하게 데이터가 연결이 되어 있다.\n",
    "translation에서 탁월, 감정분석 탁월\n",
    "\n",
    "1. Bidirectional\n",
    "먼저 넣은 것의 단어가 약해질 수 있어\n",
    "뒤집어서 넣은 것도 concat한다.\n",
    "\n",
    "2. Vanishing Gradient Problem.\n",
    "논문 중에 ReLu를 쓰면 더 향상되긴 함.\n",
    "LSTM이 좀더 성능이 좋다. \n",
    "\n",
    "3. LSTM\n",
    "cell state 가져갈 정보만 가져가자.\n",
    "파란색 flow 선에 추가할 것은 추가하자.\n",
    "\n",
    "[ A Simple Way to Initialize Recurrent Networks of Rectified Linear Units ]"
   ]
  },
  {
   "cell_type": "code",
   "execution_count": null,
   "metadata": {},
   "outputs": [],
   "source": [
    "Person, Organization, location, Time... \n",
    "\n",
    "Tagging"
   ]
  },
  {
   "cell_type": "code",
   "execution_count": null,
   "metadata": {},
   "outputs": [],
   "source": []
  }
 ],
 "metadata": {
  "kernelspec": {
   "display_name": "Python 3",
   "language": "python",
   "name": "python3"
  },
  "language_info": {
   "codemirror_mode": {
    "name": "ipython",
    "version": 3
   },
   "file_extension": ".py",
   "mimetype": "text/x-python",
   "name": "python",
   "nbconvert_exporter": "python",
   "pygments_lexer": "ipython3",
   "version": "3.7.3"
  }
 },
 "nbformat": 4,
 "nbformat_minor": 2
}
