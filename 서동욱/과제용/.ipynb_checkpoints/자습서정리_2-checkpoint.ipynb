{
 "cells": [
  {
   "cell_type": "markdown",
   "metadata": {},
   "source": [
    "# 집합"
   ]
  },
  {
   "cell_type": "code",
   "execution_count": 93,
   "metadata": {},
   "outputs": [],
   "source": [
    "a = set('abracadabra')\n",
    "b = set('alacazam')"
   ]
  },
  {
   "cell_type": "code",
   "execution_count": 11,
   "metadata": {
    "scrolled": true
   },
   "outputs": [
    {
     "data": {
      "text/plain": [
       "{'b', 'd', 'l', 'm', 'r', 'z'}"
      ]
     },
     "execution_count": 11,
     "metadata": {},
     "output_type": "execute_result"
    }
   ],
   "source": [
    "a ^ b"
   ]
  },
  {
   "cell_type": "code",
   "execution_count": 14,
   "metadata": {},
   "outputs": [
    {
     "data": {
      "text/plain": [
       "{'b', 'd', 'l', 'm', 'r', 'z'}"
      ]
     },
     "execution_count": 14,
     "metadata": {},
     "output_type": "execute_result"
    }
   ],
   "source": [
    "(a | b) - (a& b)"
   ]
  },
  {
   "cell_type": "code",
   "execution_count": 15,
   "metadata": {},
   "outputs": [
    {
     "data": {
      "text/plain": [
       "{'d', 'r'}"
      ]
     },
     "execution_count": 15,
     "metadata": {},
     "output_type": "execute_result"
    }
   ],
   "source": [
    "{x for x in 'abracadabra' if x not in 'abc'}"
   ]
  },
  {
   "cell_type": "markdown",
   "metadata": {},
   "source": [
    "# 딕셔너리\n",
    "- 불변형만 key가 될 수 있다.\n",
    "- 튜플이 가변형(리스트 등)을 포함하면 key가 될 수 없다.\n",
    "- 키는 중복되지 않아야 한다.\n",
    "- 중복 키로 값을 저장하면 예전 값은 사라진다.\n",
    "- del로 키:값 쌍을 삭제할 수 있다.\n",
    "- list(딕셔너리) 하면 모든 키값이 리스트에 들어간다."
   ]
  },
  {
   "cell_type": "code",
   "execution_count": 25,
   "metadata": {},
   "outputs": [],
   "source": [
    "a = [1,2,3,45]"
   ]
  },
  {
   "cell_type": "code",
   "execution_count": 26,
   "metadata": {},
   "outputs": [],
   "source": [
    "del a[:]"
   ]
  },
  {
   "cell_type": "code",
   "execution_count": 27,
   "metadata": {},
   "outputs": [
    {
     "data": {
      "text/plain": [
       "[]"
      ]
     },
     "execution_count": 27,
     "metadata": {},
     "output_type": "execute_result"
    }
   ],
   "source": [
    "a"
   ]
  },
  {
   "cell_type": "code",
   "execution_count": 28,
   "metadata": {},
   "outputs": [],
   "source": [
    "tel = {'jack': 4098, 'sape': 4139}"
   ]
  },
  {
   "cell_type": "code",
   "execution_count": 29,
   "metadata": {},
   "outputs": [],
   "source": [
    "tel['guido'] = 4127"
   ]
  },
  {
   "cell_type": "code",
   "execution_count": 30,
   "metadata": {
    "scrolled": true
   },
   "outputs": [
    {
     "data": {
      "text/plain": [
       "{'jack': 4098, 'sape': 4139, 'guido': 4127}"
      ]
     },
     "execution_count": 30,
     "metadata": {},
     "output_type": "execute_result"
    }
   ],
   "source": [
    "tel"
   ]
  },
  {
   "cell_type": "code",
   "execution_count": 31,
   "metadata": {},
   "outputs": [],
   "source": [
    "del tel['sape']"
   ]
  },
  {
   "cell_type": "code",
   "execution_count": 32,
   "metadata": {
    "scrolled": true
   },
   "outputs": [
    {
     "data": {
      "text/plain": [
       "{'jack': 4098, 'guido': 4127}"
      ]
     },
     "execution_count": 32,
     "metadata": {},
     "output_type": "execute_result"
    }
   ],
   "source": [
    "tel"
   ]
  },
  {
   "cell_type": "code",
   "execution_count": 33,
   "metadata": {},
   "outputs": [],
   "source": [
    "tel['irv'] = 4127"
   ]
  },
  {
   "cell_type": "code",
   "execution_count": 35,
   "metadata": {},
   "outputs": [
    {
     "data": {
      "text/plain": [
       "['guido', 'irv', 'jack']"
      ]
     },
     "execution_count": 35,
     "metadata": {},
     "output_type": "execute_result"
    }
   ],
   "source": [
    "list(sorted(tel))"
   ]
  },
  {
   "cell_type": "code",
   "execution_count": 39,
   "metadata": {},
   "outputs": [
    {
     "data": {
      "text/plain": [
       "{'jack': 4098, 'guido': 4127, 'irv': 4127}"
      ]
     },
     "execution_count": 39,
     "metadata": {},
     "output_type": "execute_result"
    }
   ],
   "source": [
    " tel"
   ]
  },
  {
   "cell_type": "code",
   "execution_count": 41,
   "metadata": {},
   "outputs": [
    {
     "data": {
      "text/plain": [
       "{'sape': 4139}"
      ]
     },
     "execution_count": 41,
     "metadata": {},
     "output_type": "execute_result"
    }
   ],
   "source": [
    "dict([('sape',4139),])"
   ]
  },
  {
   "cell_type": "code",
   "execution_count": 42,
   "metadata": {
    "scrolled": true
   },
   "outputs": [
    {
     "data": {
      "text/plain": [
       "{0: 0, 1: 1, 2: 4, 3: 9, 4: 16}"
      ]
     },
     "execution_count": 42,
     "metadata": {},
     "output_type": "execute_result"
    }
   ],
   "source": [
    "{x:x**2 for x in range(5)}"
   ]
  },
  {
   "cell_type": "code",
   "execution_count": 43,
   "metadata": {
    "scrolled": true
   },
   "outputs": [
    {
     "data": {
      "text/plain": [
       "{'sape': 4139, 'guido': 4127, 'jack': 4098}"
      ]
     },
     "execution_count": 43,
     "metadata": {},
     "output_type": "execute_result"
    }
   ],
   "source": [
    "dict(sape = 4139,guido = 4127, jack = 4098)"
   ]
  },
  {
   "cell_type": "code",
   "execution_count": 48,
   "metadata": {},
   "outputs": [],
   "source": [
    "knights = dict(gallhad='the pure',robin='the brace')"
   ]
  },
  {
   "cell_type": "code",
   "execution_count": 49,
   "metadata": {},
   "outputs": [
    {
     "data": {
      "text/plain": [
       "dict_items([('gallhad', 'the pure'), ('robin', 'the brace')])"
      ]
     },
     "execution_count": 49,
     "metadata": {},
     "output_type": "execute_result"
    }
   ],
   "source": [
    "knights.items()"
   ]
  },
  {
   "cell_type": "code",
   "execution_count": 50,
   "metadata": {},
   "outputs": [
    {
     "name": "stdout",
     "output_type": "stream",
     "text": [
      "gallhad the pure\n",
      "robin the brace\n"
     ]
    }
   ],
   "source": [
    "for k,v in knights.items():\n",
    "    print(k,v)\n"
   ]
  },
  {
   "cell_type": "code",
   "execution_count": 51,
   "metadata": {},
   "outputs": [
    {
     "name": "stdout",
     "output_type": "stream",
     "text": [
      "What is your name? It is lancelot\n",
      "What is your quest? It is the holy grail\n",
      "What is your favorite color? It is blue\n"
     ]
    }
   ],
   "source": [
    "questions = ['name', 'quest', 'favorite color']\n",
    "answers = ['lancelot', 'the holy grail', 'blue']\n",
    "for q,a in zip(questions,answers):\n",
    "    print('What is your {0}? It is {1}'.format(q,a))"
   ]
  },
  {
   "cell_type": "code",
   "execution_count": 57,
   "metadata": {},
   "outputs": [
    {
     "name": "stdout",
     "output_type": "stream",
     "text": [
      "apple\n",
      "banana\n",
      "orange\n",
      "pear\n"
     ]
    }
   ],
   "source": [
    "basket = ['apple','orange','apple','pear','orange','banana']\n",
    "for f in sorted(set(basket)): # sorted안하면 다르게나옴\n",
    "    print(f)"
   ]
  },
  {
   "cell_type": "code",
   "execution_count": 71,
   "metadata": {},
   "outputs": [
    {
     "data": {
      "text/plain": [
       "[56.2, 51.7, 55.3, 52.5, 47.8]"
      ]
     },
     "execution_count": 71,
     "metadata": {},
     "output_type": "execute_result"
    }
   ],
   "source": [
    "import math\n",
    "raw_data = [56.2, float('NaN'), 51.7, 55.3, 52.5, float('NaN'), 47.8]\n",
    "[value for value in raw_data if not math.isnan(value)]"
   ]
  },
  {
   "cell_type": "code",
   "execution_count": 74,
   "metadata": {},
   "outputs": [
    {
     "data": {
      "text/plain": [
       "False"
      ]
     },
     "execution_count": 74,
     "metadata": {},
     "output_type": "execute_result"
    }
   ],
   "source": [
    "1 > 2 == 2 # 중복해서 가능"
   ]
  },
  {
   "cell_type": "code",
   "execution_count": 75,
   "metadata": {},
   "outputs": [],
   "source": [
    "string1, string2, string3 = '', 'Trondheim', 'Hammer Dance'\n",
    "# 한번 반환하면 뒤는 안한다."
   ]
  },
  {
   "cell_type": "code",
   "execution_count": 80,
   "metadata": {},
   "outputs": [],
   "source": [
    "non_null = string1 or string3"
   ]
  },
  {
   "cell_type": "code",
   "execution_count": 81,
   "metadata": {},
   "outputs": [
    {
     "data": {
      "text/plain": [
       "'Hammer Dance'"
      ]
     },
     "execution_count": 81,
     "metadata": {},
     "output_type": "execute_result"
    }
   ],
   "source": [
    "non_null"
   ]
  },
  {
   "cell_type": "code",
   "execution_count": 88,
   "metadata": {},
   "outputs": [
    {
     "data": {
      "text/plain": [
       "True"
      ]
     },
     "execution_count": 88,
     "metadata": {},
     "output_type": "execute_result"
    }
   ],
   "source": [
    "(1,2) < (1,2,-1) # 무조건 짧은게 작다."
   ]
  },
  {
   "cell_type": "code",
   "execution_count": 89,
   "metadata": {},
   "outputs": [
    {
     "data": {
      "text/plain": [
       "True"
      ]
     },
     "execution_count": 89,
     "metadata": {},
     "output_type": "execute_result"
    }
   ],
   "source": [
    "3 < 4.5"
   ]
  },
  {
   "cell_type": "code",
   "execution_count": 92,
   "metadata": {},
   "outputs": [
    {
     "data": {
      "text/plain": [
       "True"
      ]
     },
     "execution_count": 92,
     "metadata": {},
     "output_type": "execute_result"
    }
   ],
   "source": [
    "(1,2,('ab')) < (1,2,('abc'))"
   ]
  },
  {
   "cell_type": "markdown",
   "metadata": {},
   "source": [
    "# 모듈"
   ]
  },
  {
   "cell_type": "code",
   "execution_count": 108,
   "metadata": {},
   "outputs": [],
   "source": [
    "import fibo"
   ]
  },
  {
   "cell_type": "code",
   "execution_count": 107,
   "metadata": {},
   "outputs": [
    {
     "name": "stdout",
     "output_type": "stream",
     "text": [
      "0 1 1 2 3 5 8 13 21 34 55 89 144 233 377 610 987 \n"
     ]
    },
    {
     "data": {
      "text/plain": [
       "'fibo'"
      ]
     },
     "execution_count": 107,
     "metadata": {},
     "output_type": "execute_result"
    }
   ],
   "source": [
    "fibo.fib(1000)\n",
    "fibo.fib2(100)\n",
    "fibo.__name__"
   ]
  },
  {
   "cell_type": "code",
   "execution_count": 103,
   "metadata": {},
   "outputs": [],
   "source": [
    "fib = fibo.fib"
   ]
  },
  {
   "cell_type": "code",
   "execution_count": null,
   "metadata": {},
   "outputs": [],
   "source": [
    "from fibo import * \n",
    "# _로 시작하는 것을 제외한 모든 이름을 import한다. 보통 쓰지않음.\n",
    "importlib.reload() #중간에 모듈이 수정되면 "
   ]
  },
  {
   "cell_type": "code",
   "execution_count": 110,
   "metadata": {},
   "outputs": [
    {
     "ename": "ValueError",
     "evalue": "invalid literal for int() with base 10: '-f'",
     "output_type": "error",
     "traceback": [
      "\u001b[1;31m---------------------------------------------------------------------------\u001b[0m",
      "\u001b[1;31mValueError\u001b[0m                                Traceback (most recent call last)",
      "\u001b[1;32m<ipython-input-110-8cef41ba1c5e>\u001b[0m in \u001b[0;36m<module>\u001b[1;34m\u001b[0m\n\u001b[0;32m      1\u001b[0m \u001b[1;32mif\u001b[0m \u001b[0m__name__\u001b[0m \u001b[1;33m==\u001b[0m \u001b[1;34m\"__main__\"\u001b[0m\u001b[1;33m:\u001b[0m\u001b[1;33m\u001b[0m\u001b[1;33m\u001b[0m\u001b[0m\n\u001b[0;32m      2\u001b[0m     \u001b[1;32mimport\u001b[0m \u001b[0msys\u001b[0m\u001b[1;33m\u001b[0m\u001b[1;33m\u001b[0m\u001b[0m\n\u001b[1;32m----> 3\u001b[1;33m     \u001b[0mfib\u001b[0m\u001b[1;33m(\u001b[0m\u001b[0mint\u001b[0m\u001b[1;33m(\u001b[0m\u001b[0msys\u001b[0m\u001b[1;33m.\u001b[0m\u001b[0margv\u001b[0m\u001b[1;33m[\u001b[0m\u001b[1;36m1\u001b[0m\u001b[1;33m]\u001b[0m\u001b[1;33m)\u001b[0m\u001b[1;33m)\u001b[0m\u001b[1;33m\u001b[0m\u001b[1;33m\u001b[0m\u001b[0m\n\u001b[0m\u001b[0;32m      4\u001b[0m \u001b[1;33m\u001b[0m\u001b[0m\n\u001b[0;32m      5\u001b[0m \u001b[1;31m# module이 메인 파일로 실행될때만 실행되므로 import시에는 실행되지 않는다.\u001b[0m\u001b[1;33m\u001b[0m\u001b[1;33m\u001b[0m\u001b[1;33m\u001b[0m\u001b[0m\n",
      "\u001b[1;31mValueError\u001b[0m: invalid literal for int() with base 10: '-f'"
     ]
    }
   ],
   "source": [
    "if __name__ == \"__main__\":\n",
    "    import sys\n",
    "    fib(int(sys.argv[1]))\n",
    "    \n",
    "# module이 메인 파일로 실행될때만 실행되므로 import시에는 실행되지 않는다."
   ]
  },
  {
   "cell_type": "code",
   "execution_count": 13,
   "metadata": {},
   "outputs": [],
   "source": [
    "import sys\n",
    "sys.path.append('/ufs/guido/lib/python') # sys.path는 현재 디렉토리 경로들."
   ]
  },
  {
   "cell_type": "code",
   "execution_count": 14,
   "metadata": {},
   "outputs": [
    {
     "data": {
      "text/plain": [
       "['C:\\\\Users\\\\SeoDongUk\\\\Desktop\\\\빅데이터 청년인재\\\\수업\\\\과제용',\n",
       " 'C:\\\\Users\\\\SeoDongUk\\\\Anaconda3\\\\python37.zip',\n",
       " 'C:\\\\Users\\\\SeoDongUk\\\\Anaconda3\\\\DLLs',\n",
       " 'C:\\\\Users\\\\SeoDongUk\\\\Anaconda3\\\\lib',\n",
       " 'C:\\\\Users\\\\SeoDongUk\\\\Anaconda3',\n",
       " '',\n",
       " 'C:\\\\Users\\\\SeoDongUk\\\\Anaconda3\\\\lib\\\\site-packages',\n",
       " 'C:\\\\Users\\\\SeoDongUk\\\\Anaconda3\\\\lib\\\\site-packages\\\\win32',\n",
       " 'C:\\\\Users\\\\SeoDongUk\\\\Anaconda3\\\\lib\\\\site-packages\\\\win32\\\\lib',\n",
       " 'C:\\\\Users\\\\SeoDongUk\\\\Anaconda3\\\\lib\\\\site-packages\\\\Pythonwin',\n",
       " 'C:\\\\Users\\\\SeoDongUk\\\\Anaconda3\\\\lib\\\\site-packages\\\\IPython\\\\extensions',\n",
       " 'C:\\\\Users\\\\SeoDongUk\\\\.ipython',\n",
       " '/ufs/guido/lib/python']"
      ]
     },
     "execution_count": 14,
     "metadata": {},
     "output_type": "execute_result"
    }
   ],
   "source": [
    "sys.path"
   ]
  },
  {
   "cell_type": "code",
   "execution_count": 19,
   "metadata": {},
   "outputs": [],
   "source": [
    "import fibo,sys"
   ]
  },
  {
   "cell_type": "code",
   "execution_count": 30,
   "metadata": {},
   "outputs": [],
   "source": [
    "a = [1,2,3,4,5]\n",
    "import fibo\n",
    "fib = fibo.fib\n",
    "dir() # 현재 정의된 것들 다 나열"
   ]
  },
  {
   "cell_type": "code",
   "execution_count": 31,
   "metadata": {
    "collapsed": true
   },
   "outputs": [
    {
     "data": {
      "text/plain": [
       "['ArithmeticError',\n",
       " 'AssertionError',\n",
       " 'AttributeError',\n",
       " 'BaseException',\n",
       " 'BlockingIOError',\n",
       " 'BrokenPipeError',\n",
       " 'BufferError',\n",
       " 'BytesWarning',\n",
       " 'ChildProcessError',\n",
       " 'ConnectionAbortedError',\n",
       " 'ConnectionError',\n",
       " 'ConnectionRefusedError',\n",
       " 'ConnectionResetError',\n",
       " 'DeprecationWarning',\n",
       " 'EOFError',\n",
       " 'Ellipsis',\n",
       " 'EnvironmentError',\n",
       " 'Exception',\n",
       " 'False',\n",
       " 'FileExistsError',\n",
       " 'FileNotFoundError',\n",
       " 'FloatingPointError',\n",
       " 'FutureWarning',\n",
       " 'GeneratorExit',\n",
       " 'IOError',\n",
       " 'ImportError',\n",
       " 'ImportWarning',\n",
       " 'IndentationError',\n",
       " 'IndexError',\n",
       " 'InterruptedError',\n",
       " 'IsADirectoryError',\n",
       " 'KeyError',\n",
       " 'KeyboardInterrupt',\n",
       " 'LookupError',\n",
       " 'MemoryError',\n",
       " 'ModuleNotFoundError',\n",
       " 'NameError',\n",
       " 'None',\n",
       " 'NotADirectoryError',\n",
       " 'NotImplemented',\n",
       " 'NotImplementedError',\n",
       " 'OSError',\n",
       " 'OverflowError',\n",
       " 'PendingDeprecationWarning',\n",
       " 'PermissionError',\n",
       " 'ProcessLookupError',\n",
       " 'RecursionError',\n",
       " 'ReferenceError',\n",
       " 'ResourceWarning',\n",
       " 'RuntimeError',\n",
       " 'RuntimeWarning',\n",
       " 'StopAsyncIteration',\n",
       " 'StopIteration',\n",
       " 'SyntaxError',\n",
       " 'SyntaxWarning',\n",
       " 'SystemError',\n",
       " 'SystemExit',\n",
       " 'TabError',\n",
       " 'TimeoutError',\n",
       " 'True',\n",
       " 'TypeError',\n",
       " 'UnboundLocalError',\n",
       " 'UnicodeDecodeError',\n",
       " 'UnicodeEncodeError',\n",
       " 'UnicodeError',\n",
       " 'UnicodeTranslateError',\n",
       " 'UnicodeWarning',\n",
       " 'UserWarning',\n",
       " 'ValueError',\n",
       " 'Warning',\n",
       " 'WindowsError',\n",
       " 'ZeroDivisionError',\n",
       " '__IPYTHON__',\n",
       " '__build_class__',\n",
       " '__debug__',\n",
       " '__doc__',\n",
       " '__import__',\n",
       " '__loader__',\n",
       " '__name__',\n",
       " '__package__',\n",
       " '__spec__',\n",
       " 'abs',\n",
       " 'all',\n",
       " 'any',\n",
       " 'ascii',\n",
       " 'bin',\n",
       " 'bool',\n",
       " 'breakpoint',\n",
       " 'bytearray',\n",
       " 'bytes',\n",
       " 'callable',\n",
       " 'chr',\n",
       " 'classmethod',\n",
       " 'compile',\n",
       " 'complex',\n",
       " 'copyright',\n",
       " 'credits',\n",
       " 'delattr',\n",
       " 'dict',\n",
       " 'dir',\n",
       " 'display',\n",
       " 'divmod',\n",
       " 'enumerate',\n",
       " 'eval',\n",
       " 'exec',\n",
       " 'filter',\n",
       " 'float',\n",
       " 'format',\n",
       " 'frozenset',\n",
       " 'get_ipython',\n",
       " 'getattr',\n",
       " 'globals',\n",
       " 'hasattr',\n",
       " 'hash',\n",
       " 'help',\n",
       " 'hex',\n",
       " 'id',\n",
       " 'input',\n",
       " 'int',\n",
       " 'isinstance',\n",
       " 'issubclass',\n",
       " 'iter',\n",
       " 'len',\n",
       " 'license',\n",
       " 'list',\n",
       " 'locals',\n",
       " 'map',\n",
       " 'max',\n",
       " 'memoryview',\n",
       " 'min',\n",
       " 'next',\n",
       " 'object',\n",
       " 'oct',\n",
       " 'open',\n",
       " 'ord',\n",
       " 'pow',\n",
       " 'print',\n",
       " 'property',\n",
       " 'range',\n",
       " 'repr',\n",
       " 'reversed',\n",
       " 'round',\n",
       " 'set',\n",
       " 'setattr',\n",
       " 'slice',\n",
       " 'sorted',\n",
       " 'staticmethod',\n",
       " 'str',\n",
       " 'sum',\n",
       " 'super',\n",
       " 'tuple',\n",
       " 'type',\n",
       " 'vars',\n",
       " 'zip']"
      ]
     },
     "execution_count": 31,
     "metadata": {},
     "output_type": "execute_result"
    }
   ],
   "source": [
    "import builtins\n",
    "dir(builtins)"
   ]
  },
  {
   "cell_type": "code",
   "execution_count": 41,
   "metadata": {},
   "outputs": [
    {
     "ename": "ModuleNotFoundError",
     "evalue": "No module named 'fibo.fib'; 'fibo' is not a package",
     "output_type": "error",
     "traceback": [
      "\u001b[1;31m---------------------------------------------------------------------------\u001b[0m",
      "\u001b[1;31mModuleNotFoundError\u001b[0m                       Traceback (most recent call last)",
      "\u001b[1;32m<ipython-input-41-7339ef955b83>\u001b[0m in \u001b[0;36m<module>\u001b[1;34m\u001b[0m\n\u001b[1;32m----> 1\u001b[1;33m \u001b[1;32mimport\u001b[0m \u001b[0mfibo\u001b[0m\u001b[1;33m.\u001b[0m\u001b[0mfib\u001b[0m \u001b[1;31m# 이 형식은 마지막은 패키지어야 한다.\u001b[0m\u001b[1;33m\u001b[0m\u001b[1;33m\u001b[0m\u001b[0m\n\u001b[0m",
      "\u001b[1;31mModuleNotFoundError\u001b[0m: No module named 'fibo.fib'; 'fibo' is not a package"
     ]
    }
   ],
   "source": [
    "import fibo.fib # 이 형식은 마지막은 패키지어야 한다."
   ]
  },
  {
   "cell_type": "code",
   "execution_count": 63,
   "metadata": {},
   "outputs": [],
   "source": [
    "from . import fibo"
   ]
  },
  {
   "cell_type": "code",
   "execution_count": 64,
   "metadata": {},
   "outputs": [],
   "source": [
    "import fibo"
   ]
  },
  {
   "cell_type": "markdown",
   "metadata": {},
   "source": [
    "# 입력과 출력"
   ]
  },
  {
   "cell_type": "code",
   "execution_count": 67,
   "metadata": {},
   "outputs": [
    {
     "data": {
      "text/plain": [
       "<ipykernel.iostream.OutStream at 0x1c998124dd8>"
      ]
     },
     "execution_count": 67,
     "metadata": {},
     "output_type": "execute_result"
    }
   ],
   "source": [
    "sys.stdout"
   ]
  },
  {
   "cell_type": "markdown",
   "metadata": {},
   "source": [
    "- 포맷형식"
   ]
  },
  {
   "cell_type": "code",
   "execution_count": 68,
   "metadata": {},
   "outputs": [
    {
     "data": {
      "text/plain": [
       "'Results of the 2016 Referendum'"
      ]
     },
     "execution_count": 68,
     "metadata": {},
     "output_type": "execute_result"
    }
   ],
   "source": [
    "year = 2016\n",
    "event = 'Referendum'\n",
    "f'Results of the {year} {event}'"
   ]
  },
  {
   "cell_type": "code",
   "execution_count": 83,
   "metadata": {},
   "outputs": [
    {
     "data": {
      "text/plain": [
       "' 42572654 YES votes  49.67%'"
      ]
     },
     "execution_count": 83,
     "metadata": {},
     "output_type": "execute_result"
    }
   ],
   "source": [
    "yes_votes = 42_572_654\n",
    "no_votes = 43_132_495\n",
    "percentage = yes_votes / (yes_votes + no_votes)\n",
    "'{:-9} YES votes  {:2.2%}'.format(yes_votes, percentage)\n",
    "# 오른쪽으로 붙이고 9개 띄우기(공백 포함), 2개.2개 % 띄우기"
   ]
  },
  {
   "cell_type": "code",
   "execution_count": 85,
   "metadata": {},
   "outputs": [
    {
     "data": {
      "text/plain": [
       "'Hello, world.'"
      ]
     },
     "execution_count": 85,
     "metadata": {},
     "output_type": "execute_result"
    }
   ],
   "source": [
    "s = 'Hello, world.'\n",
    "str(s)"
   ]
  },
  {
   "cell_type": "code",
   "execution_count": 92,
   "metadata": {},
   "outputs": [
    {
     "data": {
      "text/plain": [
       "\"'Hello, world.'\""
      ]
     },
     "execution_count": 92,
     "metadata": {},
     "output_type": "execute_result"
    }
   ],
   "source": [
    "repr(s)"
   ]
  },
  {
   "cell_type": "code",
   "execution_count": 94,
   "metadata": {},
   "outputs": [],
   "source": [
    "hello = 'hello, world\\n'\n",
    "hellos = repr(hello) # repr은 \\n같은거에 backslash를 붙여준다. (quote도 붙임)"
   ]
  },
  {
   "cell_type": "code",
   "execution_count": 96,
   "metadata": {},
   "outputs": [
    {
     "name": "stdout",
     "output_type": "stream",
     "text": [
      "'hello, world\\n'\n"
     ]
    }
   ],
   "source": [
    "print(hellos)"
   ]
  },
  {
   "cell_type": "code",
   "execution_count": 98,
   "metadata": {},
   "outputs": [
    {
     "data": {
      "text/plain": [
       "\"(32.5, 40000, ('spam', 'eggs'))\""
      ]
     },
     "execution_count": 98,
     "metadata": {},
     "output_type": "execute_result"
    }
   ],
   "source": [
    "x = 10 * 3.25\n",
    "y = 200 * 200\n",
    "repr((x,y,('spam','eggs')))"
   ]
  },
  {
   "cell_type": "code",
   "execution_count": 101,
   "metadata": {},
   "outputs": [
    {
     "name": "stdout",
     "output_type": "stream",
     "text": [
      "The value of pi is approximately 3.142.\n"
     ]
    }
   ],
   "source": [
    "import math\n",
    "print(f'The value of pi is approximately {math.pi:.3f}.')"
   ]
  },
  {
   "cell_type": "code",
   "execution_count": 105,
   "metadata": {},
   "outputs": [
    {
     "name": "stdout",
     "output_type": "stream",
     "text": [
      "Sjoerd  ==>  4127\n",
      "Jack    ==>  4098\n",
      "Dcab    ==>  7678\n"
     ]
    }
   ],
   "source": [
    "# ★★★★ 포맷의 중요한 형식 ★★★\n",
    "table = {'Sjoerd': 4127, 'Jack': 4098, 'Dcab': 7678}\n",
    "for a,b in table.items():\n",
    "    print(f'{a:7} ==> {b:5d}')"
   ]
  },
  {
   "cell_type": "code",
   "execution_count": 131,
   "metadata": {},
   "outputs": [
    {
     "name": "stdout",
     "output_type": "stream",
     "text": [
      "My hovercraft is full of '\\ud55c\\uae00'.\n"
     ]
    }
   ],
   "source": [
    "animals = '한글'\n",
    "print(f'My hovercraft is full of {animals!a}.')\n",
    "# !a는 아스키코드, !s는 str(), !r은 repr() 적용"
   ]
  },
  {
   "cell_type": "markdown",
   "metadata": {},
   "source": [
    "# str.format() 메서드"
   ]
  },
  {
   "cell_type": "code",
   "execution_count": 132,
   "metadata": {},
   "outputs": [
    {
     "name": "stdout",
     "output_type": "stream",
     "text": [
      "We are the knights who say \"Ni!\"\n"
     ]
    }
   ],
   "source": [
    "print('We are the {} who say \"{}!\"'.format('knights', 'Ni'))"
   ]
  },
  {
   "cell_type": "code",
   "execution_count": 144,
   "metadata": {},
   "outputs": [
    {
     "name": "stdout",
     "output_type": "stream",
     "text": [
      "spam and eggs\n",
      "This spam is horrible\n",
      "The story of Bill Manfred and Georg\n"
     ]
    }
   ],
   "source": [
    "print('{0} and {1}'.format('spam','eggs')) # 숫자는 positional 인자\n",
    "print('This {food} is {adjective}'.format(adjective = 'horrible',\n",
    "                                         food='spam')) #keyword 인자 방식\n",
    "print('The story of {0} {1} and {other}'.format(\n",
    "'Bill','Manfred',other='Georg')) # 혼합방식"
   ]
  },
  {
   "cell_type": "markdown",
   "metadata": {},
   "source": [
    "- 딕셔너리 포멧 적용법"
   ]
  },
  {
   "cell_type": "code",
   "execution_count": 179,
   "metadata": {},
   "outputs": [
    {
     "name": "stdout",
     "output_type": "stream",
     "text": [
      "Jack: 4098; Sjoerd: 4127; Dcab: 8637678; Hello: 8637678.000000;\n"
     ]
    }
   ],
   "source": [
    "table = {'Sjoerd': 4127, 'Jack': 4098, 'Dcab': 8637678}\n",
    "print('Jack: {0[Jack]:d}; Sjoerd: {0[Sjoerd]:d}; '\n",
    "      'Dcab: {0[Dcab]:d}; Hello: {0[Dcab]:f};'.format(table))"
   ]
  },
  {
   "cell_type": "code",
   "execution_count": 166,
   "metadata": {},
   "outputs": [
    {
     "name": "stdout",
     "output_type": "stream",
     "text": [
      "Jack: 4098; Sjoerd: 4127; Dcab: 8637678; Hello: 8637678.000000;\n"
     ]
    }
   ],
   "source": [
    "table = {'Sjoerd': 4127, 'Jack': 4098, 'Dcab': 8637678}\n",
    "print('Jack: {Jack:d}; Sjoerd: {Sjoerd:d}; '\n",
    "      'Dcab: {Dcab:d}; Hello: {Dcab:f};'.format(**table))\n",
    "# 가변 키워드 방식으로 들어간다."
   ]
  },
  {
   "cell_type": "code",
   "execution_count": 173,
   "metadata": {},
   "outputs": [],
   "source": [
    "dic = dict(age=3)"
   ]
  },
  {
   "cell_type": "code",
   "execution_count": 181,
   "metadata": {
    "collapsed": true
   },
   "outputs": [
    {
     "data": {
      "text/plain": [
       "{'__name__': '__main__',\n",
       " '__doc__': 'Automatically created module for IPython interactive environment',\n",
       " '__package__': None,\n",
       " '__loader__': None,\n",
       " '__spec__': None,\n",
       " '__builtin__': <module 'builtins' (built-in)>,\n",
       " '__builtins__': <module 'builtins' (built-in)>,\n",
       " '_ih': ['',\n",
       "  'import sys',\n",
       "  'sys.path',\n",
       "  'import sys\\nsys.path',\n",
       "  'PYTHONPATH',\n",
       "  'sys.ps1',\n",
       "  'sys.ps2',\n",
       "  \"sys.ps1 = 'C>'\",\n",
       "  'sys.ps1',\n",
       "  'import sys',\n",
       "  'sys.ps1',\n",
       "  'import sys\\nsys.path # 현재 디렉터리 경로들',\n",
       "  \"import sys\\nsys.path.appen('/ufs/guido/lib/python')\",\n",
       "  \"import sys\\nsys.path.append('/ufs/guido/lib/python')\",\n",
       "  'sys.path',\n",
       "  'import fibo,sys',\n",
       "  'dir(fibo)',\n",
       "  'import fibo,sys',\n",
       "  'dir(fibo)',\n",
       "  'import fibo,sys',\n",
       "  'dir(fibo)',\n",
       "  'fibo.reload()\\ndir(fibo)',\n",
       "  'fib.reload()\\ndir(fibo)',\n",
       "  'fibo.fib.reload()\\ndir(fibo)',\n",
       "  'fibo.reload()\\ndir(fibo)',\n",
       "  '\\ndir(fibo)',\n",
       "  'dir(sys)',\n",
       "  'a = [1,2,3,4,5]',\n",
       "  'a = [1,2,3,4,5]\\nimport fibo\\nfib = fibo.fib',\n",
       "  'dir()',\n",
       "  'a = [1,2,3,4,5]\\nimport fibo\\nfib = fibo.fib',\n",
       "  'import builtins\\ndir(builtins)',\n",
       "  'import sound',\n",
       "  'import fibo.fb',\n",
       "  'import fibo.fib',\n",
       "  'from fibo import fib',\n",
       "  'import fibo.fib # 이 형식은 마지막은 패키지어야 한다.',\n",
       "  '_all__',\n",
       "  '__all__',\n",
       "  'fibo.__all__',\n",
       "  'builtins.__all__',\n",
       "  'import fibo.fib # 이 형식은 마지막은 패키지어야 한다.',\n",
       "  'import builtins',\n",
       "  'builtins.__all__',\n",
       "  'builtins.__init__',\n",
       "  'builtins.__init__.py',\n",
       "  'builtins.__init__',\n",
       "  'builtins.__init__.__all__',\n",
       "  'builtins.__init__',\n",
       "  'print(builtins.__init__)',\n",
       "  'import builtins',\n",
       "  'dir(builtins)',\n",
       "  'import sound.effects.echo',\n",
       "  'builtins.__path__',\n",
       "  'from .. import fibo',\n",
       "  'from ..fibo import fib',\n",
       "  'import ...',\n",
       "  'import .',\n",
       "  'from . import fibo',\n",
       "  'fibo.fib(!00)',\n",
       "  'fibo.fib(100)',\n",
       "  'from ... import fibo',\n",
       "  'from .. import fibo',\n",
       "  'from . import fibo',\n",
       "  'import fibo',\n",
       "  'fibo.__path__',\n",
       "  '# 입력과 출력',\n",
       "  'sys.stdout',\n",
       "  \"year = 2016\\nevent = 'Referendum'\\nf'Results of the {year} {event}'\",\n",
       "  \"yes_votes = 42_572_654\\nno_votes = 43_132_495\\npercentage = yes_votes / (yes_votes + no_votes)\\n'{:-9} YES votes  {:2.2%}'.format(yes_votes, percentage)\",\n",
       "  \"yes_votes = 42_572_654\\nno_votes = 43_132_495\\npercentage = yes_votes / (yes_votes + no_votes)\\n'{:-8} YES votes  {:2.2%}'.format(yes_votes, percentage)\",\n",
       "  \"yes_votes = 42_572_654\\nno_votes = 43_132_495\\npercentage = yes_votes / (yes_votes + no_votes)\\n'{:-9} YES votes  {:2.2%}'.format(yes_votes, percentage)\",\n",
       "  \"yes_votes = 42_572_654\\nno_votes = 43_132_495\\npercentage = yes_votes / (yes_votes + no_votes)\\n'{-9} YES votes  {:2.2%}'.format(yes_votes, percentage)\",\n",
       "  \"yes_votes = 42_572_654\\nno_votes = 43_132_495\\npercentage = yes_votes / (yes_votes + no_votes)\\n'{-9:-9} YES votes  {:2.2%}'.format(yes_votes, percentage)\",\n",
       "  \"yes_votes = 42_572_654\\nno_votes = 43_132_495\\npercentage = yes_votes / (yes_votes + no_votes)\\n'{0:-9} YES votes  {:2.2%}'.format(yes_votes, percentage)\",\n",
       "  \"yes_votes = 42_572_654\\nno_votes = 43_132_495\\npercentage = yes_votes / (yes_votes + no_votes)\\n'{0:-9} YES votes  {1:2.2%}'.format(yes_votes, percentage)\",\n",
       "  \"yes_votes = 42_572_654\\nno_votes = 43_132_495\\npercentage = yes_votes / (yes_votes + no_votes)\\n'{:-9} YES votes  {:2.2%}'.format(yes_votes, percentage)\",\n",
       "  \"yes_votes = 42_572_654\\nno_votes = 43_132_495\\npercentage = yes_votes / (yes_votes + no_votes)\\n'{:-9} YES votes  {:-2.2%}'.format(yes_votes, percentage)\\n# 오른쪽으로 붙이고 9개 띄우기(공백 포함), 2개.2개 \",\n",
       "  \"yes_votes = 42_572_654\\nno_votes = 43_132_495\\npercentage = yes_votes / (yes_votes + no_votes)\\n'{:-9} YES votes  {:-5.2%}'.format(yes_votes, percentage)\\n# 오른쪽으로 붙이고 9개 띄우기(공백 포함), 2개.2개 \",\n",
       "  \"yes_votes = 42_572_654\\nno_votes = 43_132_495\\npercentage = yes_votes / (yes_votes + no_votes)\\n'{:-9} YES votes  {:-10.2%}'.format(yes_votes, percentage)\\n# 오른쪽으로 붙이고 9개 띄우기(공백 포함), 2개.2개 \",\n",
       "  \"yes_votes = 42_572_654\\nno_votes = 43_132_495\\npercentage = yes_votes / (yes_votes + no_votes)\\n'{:-9} YES votes  {:2.2%}'.format(yes_votes, percentage)\\n# 오른쪽으로 붙이고 9개 띄우기(공백 포함), 2개.2개 \",\n",
       "  \"yes_votes = 42_572_654\\nno_votes = 43_132_495\\npercentage = yes_votes / (yes_votes + no_votes)\\n'{:-9} YES votes  {:.2%}'.format(yes_votes, percentage)\\n# 오른쪽으로 붙이고 9개 띄우기(공백 포함), 2개.2개 \",\n",
       "  \"yes_votes = 42_572_654\\nno_votes = 43_132_495\\npercentage = yes_votes / (yes_votes + no_votes)\\n'{:-9} YES votes  {:2.2%}'.format(yes_votes, percentage)\\n# 오른쪽으로 붙이고 9개 띄우기(공백 포함), 2개.2개 \",\n",
       "  \"yes_votes = 42_572_654\\nno_votes = 43_132_495\\npercentage = yes_votes / (yes_votes + no_votes)\\n'{:-9} YES votes  {:2.2%}'.format(yes_votes, percentage)\\n# 오른쪽으로 붙이고 9개 띄우기(공백 포함), 2개.2개 % 띄우기\",\n",
       "  'repr(1)',\n",
       "  \"s = 'Hello, world.'\\nstr(s)\",\n",
       "  'repr(s)',\n",
       "  's[0]',\n",
       "  's[1]',\n",
       "  's',\n",
       "  'repr(s)[0]',\n",
       "  'repr(s)[1]',\n",
       "  'repr(s)',\n",
       "  \"hello = 'hello, world\\\\n'\",\n",
       "  \"hello = 'hello, world\\\\n'\\nhellos = repr(hello)\",\n",
       "  'hellos',\n",
       "  'print(hellos)',\n",
       "  'x = 10 * 3.25\\ny = 200 * 200',\n",
       "  \"x = 10 * 3.25\\ny = 200 * 200\\nrepr((x,y,('spam','eggs')))\",\n",
       "  'repr(x)',\n",
       "  \"repr('hello')\",\n",
       "  \"import math\\nprint(f'The value of pi is approximately {math.pi:.3f}.')\",\n",
       "  \"table = {'Sjoerd': 4127, 'Jack': 4098, 'Dcab': 7678}\\nfor name, phone in table.items():\\n    print(f'{name:10} ==> {phone:10d}')\",\n",
       "  \"table = {'Sjoerd': 4127, 'Jack': 4098, 'Dcab': 7678}\\nfor a,b in table.items():\\n    print(f'{a:10} ==> {b:10d}')\\n    \",\n",
       "  \"table = {'Sjoerd': 4127, 'Jack': 4098, 'Dcab': 7678}\\nfor a,b in table.items():\\n    print(f'{a:10} ==> {b:5d}')\",\n",
       "  \"table = {'Sjoerd': 4127, 'Jack': 4098, 'Dcab': 7678}\\nfor a,b in table.items():\\n    print(f'{a:7} ==> {b:5d}')\",\n",
       "  \"animals = 'eels'\",\n",
       "  \"animals = 'eels'\\nprint(f'My hovercraft is full of {animals!r}.')\",\n",
       "  \"animals = 'eels'\\nprint(f'My hovercraft is full of {animals!ㄴ}.')\",\n",
       "  \"animals = 'eels'\\nprint(f'My hovercraft is full of {animals!s}.')\",\n",
       "  \"animals = 'eels'\\nprint(f'My hovercraft is full of {animals!a}.')\",\n",
       "  \"animals = 3\\nprint(f'My hovercraft is full of {animals!a}.')\",\n",
       "  \"animals = 3\\nprint(f'My hovercraft is full of {animals!s}.')\",\n",
       "  \"animals = 3\\nprint(f'My hovercraft is full of {animals!r}.')\",\n",
       "  'animals = \"한글\"\\nprint(f\\'My hovercraft is full of {animals!r}.\\')',\n",
       "  'animals = \"한글\"\\nprint(f\\'My hovercraft is full of {animals!a}.\\')',\n",
       "  'animals = \"한글\"\\nprint(f\\'My hovercraft is full of {animals!s}.\\')',\n",
       "  'animals = \"한글\"\\nprint(f\\'My hovercraft is full of {animals!a}.\\')',\n",
       "  'animals = \"한글\"\\nprint(f\\'My hovercraft is full of {animals!a:5}.\\')\\n# !a는 아스키코드, ',\n",
       "  'animals = \"한글\"\\nprint(f\\'My hovercraft is full of {animals!s:5}.\\')\\n# !a는 아스키코드, ',\n",
       "  'animals = \"한글\"\\nprint(f\\'My hovercraft is full of {animals!s:-5}.\\')\\n# !a는 아스키코드, ',\n",
       "  'animals = \"한글\"\\nprint(f\\'My hovercraft is full of {animals!s:5}.\\')\\n# !a는 아스키코드, ',\n",
       "  \"animals = 3.1415124\\nprint(f'My hovercraft is full of {animals!s:5}.')\\n# !a는 아스키코드, \",\n",
       "  \"animals = 3.1415124\\nprint(f'My hovercraft is full of {animals!s:5.2f}.')\\n# !a는 아스키코드, \",\n",
       "  \"animals = 3.1415124\\nprint(f'My hovercraft is full of {animals!s:5.2}.')\\n# !a는 아스키코드, \",\n",
       "  \"animals = 3.1415124\\nprint(f'My hovercraft is full of {animals!s:.2f}.')\\n# !a는 아스키코드, \",\n",
       "  \"animals = 3.1415124\\nprint(f'My hovercraft is full of {animals!a:.2f}.')\\n# !a는 아스키코드, \",\n",
       "  \"animals = 3.1415124\\nprint(f'My hovercraft is full of {animals!a:.2}.')\\n# !a는 아스키코드, \",\n",
       "  \"animals = 3.1415124\\nprint(f'My hovercraft is full of {animals!a:.34}.')\\n# !a는 아스키코드, \",\n",
       "  \"animals = 3.1415124\\nprint(f'My hovercraft is full of {animals!a}.')\\n# !a는 아스키코드, \",\n",
       "  \"animals = '한글'\\nprint(f'My hovercraft is full of {animals!a}.')\\n# !a는 아스키코드, \",\n",
       "  \"animals = '한글'\\nprint(f'My hovercraft is full of {animals!a}.')\\n# !a는 아스키코드, !s는 str(), !r은 repr() 적용\",\n",
       "  'print(\\'We are the {} who say \"{}!\"\\'.format(\\'knights\\', \\'Ni\\'))',\n",
       "  \"print('{0} and {1}'.format('spam','eggs'))\",\n",
       "  \"print('{0} and {1}'.format('spam','eggs'))\",\n",
       "  \"print('{0} and {1}'.format('spam','eggs'))\\nprint('This {food} is {adjective}'.format(adjective = 'horrible',\\n                                         food='spam'))\",\n",
       "  \"print('{0} and {1}'.format(1='spam','eggs'))\\nprint('This {food} is {adjective}'.format(adjective = 'horrible',\\n                                         food='spam'))\",\n",
       "  \"print('{0} and {1}'.format(1='spam',0'eggs'))\\nprint('This {food} is {adjective}'.format(adjective = 'horrible',\\n                                         food='spam'))\",\n",
       "  \"print('{0} and {1}'.format(1='spam','0'='eggs'))\\nprint('This {food} is {adjective}'.format(adjective = 'horrible',\\n                                         food='spam'))\",\n",
       "  \"print('{0} and {1}'.format('1'='spam','0'='eggs'))\\nprint('This {food} is {adjective}'.format(adjective = 'horrible',\\n                                         food='spam'))\",\n",
       "  \"print('{0} and {1}'.format(1='spam',0='eggs'))\\nprint('This {food} is {adjective}'.format(adjective = 'horrible',\\n                                         food='spam'))\",\n",
       "  \"print('{0} and {1}'.format('spam','eggs'))\\nprint('This {food} is {adjective}'.format(adjective = 'horrible',\\n                                         food='spam'))\",\n",
       "  \"print('{0} and {1}'.format('spam','eggs')) # 숫자는 위치인자\\nprint('This {food} is {adjective}'.format(adjective = 'horrible',\\n                                         food='spam')) #키워드 인자 방식\\nprint('The story of {0} {1} and {other}'.format(\\n'Bill','Manfred',other='Georg'))\",\n",
       "  \"print('{0} and {1}'.format('spam','eggs')) # 숫자는 위치인자\\nprint('This {food} is {adjective}'.format(adjective = 'horrible',\\n                                         food='spam')) #키워드 인자 방식\\nprint('The story of {0} {1} and {other}'.format(\\n'Bill',other='Georg','Manfred')) # 혼합방식\",\n",
       "  \"print('{0} and {1}'.format('spam','eggs')) # 숫자는 위치인자\\nprint('This {food} is {adjective}'.format(adjective = 'horrible',\\n                                         food='spam')) #키워드 인자 방식\\nprint('The story of {0} {1} and {other}'.format(\\n'Bill','Manfred',other='Georg')) # 혼합방식\",\n",
       "  \"table = {'Sjoerd': 4127, 'Jack': 4098, 'Dcab': 8637678}\",\n",
       "  \"table = {'Sjoerd': 4127, 'Jack': 4098, 'Dcab': 8637678}\\nprint('Jack: {0[Jack]:d}; Sjoerd: {1[Sjoerd]:d}; '\\n      'Dcab: {2[Dcab]:d}'.format(table))\",\n",
       "  \"table = {'Sjoerd': 4127, 'Jack': 4098, 'Dcab': 8637678}\\nprint('Jack: {0[Jack]:d}; Sjoerd: {0[Sjoerd]:d}; '\\n      'Dcab: {0[Dcab]:d}'.format(table))\",\n",
       "  \"table = {'Sjoerd': 4127, 'Jack': 4098, 'Dcab': 8637678}\\nprint('Jack: {0[Jack]:d}; Sjoerd: {0[Sjoerd]:d}; '\\n      'Dcab: {0[Dcab]:d} Hello: {0[Dcab]:d}'.format(table))\",\n",
       "  \"table = {'Sjoerd': 4127, 'Jack': 4098, 'Dcab': 8637678}\\nprint('Jack: {0[Jack]:d}; Sjoerd: {0[Sjoerd]:d}; '\\n      'Dcab: {0[Dcab]:d} Hello: {0[Dcab]}'.format(table))\",\n",
       "  \"table = {'Sjoerd': 4127, 'Jack': 4098, 'Dcab': 8637678}\\nprint('Jack: {0[Jack]:d}; Sjoerd: {0[Sjoerd]:d}; '\\n      'Dcab: {0[Dcab]:d} Hello: {0[Dcab]};'.format(table))\",\n",
       "  \"table = {'Sjoerd': 4127, 'Jack': 4098, 'Dcab': 8637678}\\nprint('Jack: {0[Jack]:d}; Sjoerd: {0[Sjoerd]:d}; '\\n      'Dcab: {0[Dcab]:d}; Hello: {0[Dcab]};'.format(table))\",\n",
       "  \"table = {'Sjoerd': 4127, 'Jack': 4098, 'Dcab': 8637678}\\nprint('Jack: {0[Jack]:d}; Sjoerd: {0[Sjoerd]:d}; '\\n      'Dcab: {0[Dcab]:d}; Hello: {0[Dcab]:f};'.format(table))\",\n",
       "  \"table = {'Sjoerd': 4127, 'Jack': 4098, 'Dcab': 8637678}\\nprint('Jack: {0[Jack]:d}; Sjoerd: {0[Sjoerd]:d}; '\\n      'Dcab: {0[Dcab]:d}; Hello: {0[Dcab]:f};'.format(**table))\",\n",
       "  \"table = {'Sjoerd': 4127, 'Jack': 4098, 'Dcab': 8637678}\\nprint('Jack: {0[Jack]:d}; Sjoerd: {0[Sjoerd]:d}; '\\n      'Dcab: {0[Dcab]:d}; Hello: {0[Dcab]:f};'.format(*table))\",\n",
       "  \"table = {'Sjoerd': 4127, 'Jack': 4098, 'Dcab': 8637678}\\nprint('Jack: {[Jack]:d}; Sjoerd: {[Sjoerd]:d}; '\\n      'Dcab: {[Dcab]:d}; Hello: {[Dcab]:f};'.format(**table))\",\n",
       "  \"table = {'Sjoerd': 4127, 'Jack': 4098, 'Dcab': 8637678}\\nprint('Jack: {[Jack]:d}; Sjoerd: {[Sjoerd]:d}; '\\n      'Dcab: {[Dcab]:d}; '.format(**table))\",\n",
       "  \"table = {'Sjoerd': 4127, 'Jack': 4098, 'Dcab': 8637678}\\nprint('Jack: {[Jack]:d}; Sjoerd: {[Sjoerd]:d}; '\\n      'Dcab: {[Dcab]:d}; Hello: {[Dcab]:f};'.format(**table))\",\n",
       "  \"table = {'Sjoerd': 4127, 'Jack': 4098, 'Dcab': 8637678}\\nprint('Jack: {[Jack]:d}; Sjoerd: {[Sjoerd]:d}; '\\n      'Dcab: {[Dcab]:d}; Hello: {[Dcab]:f};'\\n      .format(**table))\",\n",
       "  \"table = {'Sjoerd': 4127, 'Jack': 4098, 'Dcab': 8637678}\\nprint('Jack: {[Jack]:d}; Sjoerd: {[Sjoerd]:d}; Dcab: {[Dcab]:d}; Hello: {[Dcab]:f};'\\n      .format(**table))\",\n",
       "  \"table = {'Sjoerd': 4127, 'Jack': 4098, 'Dcab': 8637678}\\nprint('Jack: {[Jack]:d}; Sjoerd: {[Sjoerd]:d}; Dcab: {[Dcab]:d}; Hello: {[Dcab]:f};'.format(**table))\",\n",
       "  \"table = {'Sjoerd': 4127, 'Jack': 4098, 'Dcab': 8637678}\\nprint('Jack: {[Jack]:d}; Sjoerd: {[Sjoerd]:d}; '\\n      'Dcab: {[Dcab]:d}; Hello: {[Dcab]:d};'.format(**table))\",\n",
       "  \"table = {'Sjoerd': 4127, 'Jack': 4098, 'Dcab': 8637678}\\nprint('Jack: {[Jack]:d}; Sjoerd: {[Sjoerd]:d}; '\\n      'Dcab: {[Dcab]:d};'.format(**table))\",\n",
       "  \"table = {'Sjoerd': 4127, 'Jack': 4098, 'Dcab': 8637678}\\nprint('Jack: {[Jack]:d}; Sjoerd: {[Sjoerd]:d}; '\\n      'Dcab: {[Dcab]:d}; Hello: {[Dcab]:f};'.format(**table))\",\n",
       "  \"table = {'Sjoerd': 4127, 'Jack': 4098, 'Dcab': 8637678}\\nprint('Jack: {0[Jack]:d}; Sjoerd: {0[Sjoerd]:d}; '\\n      'Dcab: {0[Dcab]:d}; Hello: {0[Dcab]:f};'.format(table))\",\n",
       "  \"print('Jack: {Jack:d}; Sjoerd: {Sjoerd:d}; Dcab: {Dcab:d}'.format(**table))\",\n",
       "  \"table = {'Sjoerd': 4127, 'Jack': 4098, 'Dcab': 8637678}\\nprint('Jack: {Jack:d}; Sjoerd: {Sjoerd:d}; '\\n      'Dcab: {Dcab:d}; Hello: {Dcab:f};'.format(**table))\",\n",
       "  \"table = {'Sjoerd': 4127, 'Jack': 4098, 'Dcab': 8637678}\\nprint('Jack: {0[Jack]:d}; Sjoerd: {0[Sjoerd]:d}; '\\n      'Dcab: {0[Dcab]:d}; Hello: {0[Dcab]:f};'.format(*table))\",\n",
       "  \"table = {'Sjoerd': 4127, 'Jack': 4098, 'Dcab': 8637678}\\nprint('Jack: {0[Jack]:d}; Sjoerd: {0[Sjoerd]:d}; '\\n      'Dcab: {0[Dcab]:d}; Hello: {0[Dcab]:f};'.format(table))\",\n",
       "  \"table = {'Sjoerd': 4127, 'Jack': 4098, 'Dcab': 8637678}\\nprint('Jack: {0[Jack]:d}; Sjoerd: {0[Sjoerd]:d}; '\\n      'Dcab: {0[Dcab]:d}; Hello: {0[Dcab]:f}; 0'.format(table))\",\n",
       "  \"table = {'Sjoerd': 4127, 'Jack': 4098, 'Dcab': 8637678}\\nprint('Jack: {0[Jack]:d}; Sjoerd: {0[Sjoerd]:d}; '\\n      'Dcab: {0[Dcab]:d}; Hello: {0[Dcab]:f}; {0}'.format(table))\",\n",
       "  \"table = {'Sjoerd': 4127, 'Jack': 4098, 'Dcab': 8637678}\\nprint('Jack: {0[Jack]:d}; Sjoerd: {0[Sjoerd]:d}; '\\n      'Dcab: {0[Dcab]:d}; Hello: {0[Dcab]:f};'.format(table))\",\n",
       "  'dict(age=3)',\n",
       "  'dic = dict(age=3)',\n",
       "  'dic[0]',\n",
       "  \"dic['age']\",\n",
       "  'dic[age]',\n",
       "  \"table = {'Sjoerd': 4127, 'Jack': 4098, 'Dcab': 8637678}\\nprint('Jack: {0[\\\\'Jack\\\\']:d}; Sjoerd: {0[Sjoerd]:d}; '\\n      'Dcab: {0[Dcab]:d}; Hello: {0[Dcab]:f};'.format(table))\",\n",
       "  \"table = {'Sjoerd': 4127, 'Jack': 4098, 'Dcab': 8637678}\\nprint('Jack: {0['Jack']:d}; Sjoerd: {0[Sjoerd]:d}; '\\n      'Dcab: {0[Dcab]:d}; Hello: {0[Dcab]:f};'.format(table))\",\n",
       "  \"table = {'Sjoerd': 4127, 'Jack': 4098, 'Dcab': 8637678}\\nprint('Jack: {0[Jack]:d}; Sjoerd: {0[Sjoerd]:d}; '\\n      'Dcab: {0[Dcab]:d}; Hello: {0[Dcab]:f};'.format(table))\",\n",
       "  'vars()',\n",
       "  'vars() # 모든 지역변수들을 담은 딕셔너리'],\n",
       " '_oh': {2: ['C:\\\\Users\\\\SeoDongUk\\\\Desktop\\\\빅데이터 청년인재\\\\수업\\\\과제용',\n",
       "   'C:\\\\Users\\\\SeoDongUk\\\\Anaconda3\\\\python37.zip',\n",
       "   'C:\\\\Users\\\\SeoDongUk\\\\Anaconda3\\\\DLLs',\n",
       "   'C:\\\\Users\\\\SeoDongUk\\\\Anaconda3\\\\lib',\n",
       "   'C:\\\\Users\\\\SeoDongUk\\\\Anaconda3',\n",
       "   '',\n",
       "   'C:\\\\Users\\\\SeoDongUk\\\\Anaconda3\\\\lib\\\\site-packages',\n",
       "   'C:\\\\Users\\\\SeoDongUk\\\\Anaconda3\\\\lib\\\\site-packages\\\\win32',\n",
       "   'C:\\\\Users\\\\SeoDongUk\\\\Anaconda3\\\\lib\\\\site-packages\\\\win32\\\\lib',\n",
       "   'C:\\\\Users\\\\SeoDongUk\\\\Anaconda3\\\\lib\\\\site-packages\\\\Pythonwin',\n",
       "   'C:\\\\Users\\\\SeoDongUk\\\\Anaconda3\\\\lib\\\\site-packages\\\\IPython\\\\extensions',\n",
       "   'C:\\\\Users\\\\SeoDongUk\\\\.ipython',\n",
       "   '/ufs/guido/lib/python'],\n",
       "  3: ['C:\\\\Users\\\\SeoDongUk\\\\Desktop\\\\빅데이터 청년인재\\\\수업\\\\과제용',\n",
       "   'C:\\\\Users\\\\SeoDongUk\\\\Anaconda3\\\\python37.zip',\n",
       "   'C:\\\\Users\\\\SeoDongUk\\\\Anaconda3\\\\DLLs',\n",
       "   'C:\\\\Users\\\\SeoDongUk\\\\Anaconda3\\\\lib',\n",
       "   'C:\\\\Users\\\\SeoDongUk\\\\Anaconda3',\n",
       "   '',\n",
       "   'C:\\\\Users\\\\SeoDongUk\\\\Anaconda3\\\\lib\\\\site-packages',\n",
       "   'C:\\\\Users\\\\SeoDongUk\\\\Anaconda3\\\\lib\\\\site-packages\\\\win32',\n",
       "   'C:\\\\Users\\\\SeoDongUk\\\\Anaconda3\\\\lib\\\\site-packages\\\\win32\\\\lib',\n",
       "   'C:\\\\Users\\\\SeoDongUk\\\\Anaconda3\\\\lib\\\\site-packages\\\\Pythonwin',\n",
       "   'C:\\\\Users\\\\SeoDongUk\\\\Anaconda3\\\\lib\\\\site-packages\\\\IPython\\\\extensions',\n",
       "   'C:\\\\Users\\\\SeoDongUk\\\\.ipython',\n",
       "   '/ufs/guido/lib/python'],\n",
       "  5: 'In : ',\n",
       "  6: '...: ',\n",
       "  8: 'C>',\n",
       "  10: 'C>',\n",
       "  11: ['C:\\\\Users\\\\SeoDongUk\\\\Desktop\\\\빅데이터 청년인재\\\\수업\\\\과제용',\n",
       "   'C:\\\\Users\\\\SeoDongUk\\\\Anaconda3\\\\python37.zip',\n",
       "   'C:\\\\Users\\\\SeoDongUk\\\\Anaconda3\\\\DLLs',\n",
       "   'C:\\\\Users\\\\SeoDongUk\\\\Anaconda3\\\\lib',\n",
       "   'C:\\\\Users\\\\SeoDongUk\\\\Anaconda3',\n",
       "   '',\n",
       "   'C:\\\\Users\\\\SeoDongUk\\\\Anaconda3\\\\lib\\\\site-packages',\n",
       "   'C:\\\\Users\\\\SeoDongUk\\\\Anaconda3\\\\lib\\\\site-packages\\\\win32',\n",
       "   'C:\\\\Users\\\\SeoDongUk\\\\Anaconda3\\\\lib\\\\site-packages\\\\win32\\\\lib',\n",
       "   'C:\\\\Users\\\\SeoDongUk\\\\Anaconda3\\\\lib\\\\site-packages\\\\Pythonwin',\n",
       "   'C:\\\\Users\\\\SeoDongUk\\\\Anaconda3\\\\lib\\\\site-packages\\\\IPython\\\\extensions',\n",
       "   'C:\\\\Users\\\\SeoDongUk\\\\.ipython',\n",
       "   '/ufs/guido/lib/python'],\n",
       "  14: ['C:\\\\Users\\\\SeoDongUk\\\\Desktop\\\\빅데이터 청년인재\\\\수업\\\\과제용',\n",
       "   'C:\\\\Users\\\\SeoDongUk\\\\Anaconda3\\\\python37.zip',\n",
       "   'C:\\\\Users\\\\SeoDongUk\\\\Anaconda3\\\\DLLs',\n",
       "   'C:\\\\Users\\\\SeoDongUk\\\\Anaconda3\\\\lib',\n",
       "   'C:\\\\Users\\\\SeoDongUk\\\\Anaconda3',\n",
       "   '',\n",
       "   'C:\\\\Users\\\\SeoDongUk\\\\Anaconda3\\\\lib\\\\site-packages',\n",
       "   'C:\\\\Users\\\\SeoDongUk\\\\Anaconda3\\\\lib\\\\site-packages\\\\win32',\n",
       "   'C:\\\\Users\\\\SeoDongUk\\\\Anaconda3\\\\lib\\\\site-packages\\\\win32\\\\lib',\n",
       "   'C:\\\\Users\\\\SeoDongUk\\\\Anaconda3\\\\lib\\\\site-packages\\\\Pythonwin',\n",
       "   'C:\\\\Users\\\\SeoDongUk\\\\Anaconda3\\\\lib\\\\site-packages\\\\IPython\\\\extensions',\n",
       "   'C:\\\\Users\\\\SeoDongUk\\\\.ipython',\n",
       "   '/ufs/guido/lib/python'],\n",
       "  16: ['__builtins__',\n",
       "   '__cached__',\n",
       "   '__doc__',\n",
       "   '__file__',\n",
       "   '__loader__',\n",
       "   '__name__',\n",
       "   '__package__',\n",
       "   '__spec__',\n",
       "   'fib',\n",
       "   'fib2'],\n",
       "  18: ['__builtins__',\n",
       "   '__cached__',\n",
       "   '__doc__',\n",
       "   '__file__',\n",
       "   '__loader__',\n",
       "   '__name__',\n",
       "   '__package__',\n",
       "   '__spec__',\n",
       "   'fib',\n",
       "   'fib2'],\n",
       "  20: ['__builtins__',\n",
       "   '__cached__',\n",
       "   '__doc__',\n",
       "   '__file__',\n",
       "   '__loader__',\n",
       "   '__name__',\n",
       "   '__package__',\n",
       "   '__spec__',\n",
       "   'fib',\n",
       "   'fib2'],\n",
       "  25: ['__builtins__',\n",
       "   '__cached__',\n",
       "   '__doc__',\n",
       "   '__file__',\n",
       "   '__loader__',\n",
       "   '__name__',\n",
       "   '__package__',\n",
       "   '__spec__',\n",
       "   'fib',\n",
       "   'fib2'],\n",
       "  26: ['__breakpointhook__',\n",
       "   '__displayhook__',\n",
       "   '__doc__',\n",
       "   '__excepthook__',\n",
       "   '__interactivehook__',\n",
       "   '__loader__',\n",
       "   '__name__',\n",
       "   '__package__',\n",
       "   '__spec__',\n",
       "   '__stderr__',\n",
       "   '__stdin__',\n",
       "   '__stdout__',\n",
       "   '_clear_type_cache',\n",
       "   '_current_frames',\n",
       "   '_debugmallocstats',\n",
       "   '_enablelegacywindowsfsencoding',\n",
       "   '_framework',\n",
       "   '_getframe',\n",
       "   '_git',\n",
       "   '_home',\n",
       "   '_xoptions',\n",
       "   'api_version',\n",
       "   'argv',\n",
       "   'base_exec_prefix',\n",
       "   'base_prefix',\n",
       "   'breakpointhook',\n",
       "   'builtin_module_names',\n",
       "   'byteorder',\n",
       "   'call_tracing',\n",
       "   'callstats',\n",
       "   'copyright',\n",
       "   'displayhook',\n",
       "   'dllhandle',\n",
       "   'dont_write_bytecode',\n",
       "   'exc_info',\n",
       "   'excepthook',\n",
       "   'exec_prefix',\n",
       "   'executable',\n",
       "   'exit',\n",
       "   'flags',\n",
       "   'float_info',\n",
       "   'float_repr_style',\n",
       "   'get_asyncgen_hooks',\n",
       "   'get_coroutine_origin_tracking_depth',\n",
       "   'get_coroutine_wrapper',\n",
       "   'getallocatedblocks',\n",
       "   'getcheckinterval',\n",
       "   'getdefaultencoding',\n",
       "   'getfilesystemencodeerrors',\n",
       "   'getfilesystemencoding',\n",
       "   'getprofile',\n",
       "   'getrecursionlimit',\n",
       "   'getrefcount',\n",
       "   'getsizeof',\n",
       "   'getswitchinterval',\n",
       "   'gettrace',\n",
       "   'getwindowsversion',\n",
       "   'hash_info',\n",
       "   'hexversion',\n",
       "   'implementation',\n",
       "   'int_info',\n",
       "   'intern',\n",
       "   'is_finalizing',\n",
       "   'last_traceback',\n",
       "   'last_type',\n",
       "   'last_value',\n",
       "   'maxsize',\n",
       "   'maxunicode',\n",
       "   'meta_path',\n",
       "   'modules',\n",
       "   'path',\n",
       "   'path_hooks',\n",
       "   'path_importer_cache',\n",
       "   'platform',\n",
       "   'prefix',\n",
       "   'ps1',\n",
       "   'ps2',\n",
       "   'ps3',\n",
       "   'set_asyncgen_hooks',\n",
       "   'set_coroutine_origin_tracking_depth',\n",
       "   'set_coroutine_wrapper',\n",
       "   'setcheckinterval',\n",
       "   'setprofile',\n",
       "   'setrecursionlimit',\n",
       "   'setswitchinterval',\n",
       "   'settrace',\n",
       "   'stderr',\n",
       "   'stdin',\n",
       "   'stdout',\n",
       "   'thread_info',\n",
       "   'version',\n",
       "   'version_info',\n",
       "   'warnoptions',\n",
       "   'winver'],\n",
       "  29: ['In',\n",
       "   'Out',\n",
       "   '_',\n",
       "   '_10',\n",
       "   '_11',\n",
       "   '_14',\n",
       "   '_16',\n",
       "   '_18',\n",
       "   '_2',\n",
       "   '_20',\n",
       "   '_25',\n",
       "   '_26',\n",
       "   '_3',\n",
       "   '_5',\n",
       "   '_6',\n",
       "   '_8',\n",
       "   '__',\n",
       "   '___',\n",
       "   '__builtin__',\n",
       "   '__builtins__',\n",
       "   '__doc__',\n",
       "   '__loader__',\n",
       "   '__name__',\n",
       "   '__package__',\n",
       "   '__spec__',\n",
       "   '_dh',\n",
       "   '_i',\n",
       "   '_i1',\n",
       "   '_i10',\n",
       "   '_i11',\n",
       "   '_i12',\n",
       "   '_i13',\n",
       "   '_i14',\n",
       "   '_i15',\n",
       "   '_i16',\n",
       "   '_i17',\n",
       "   '_i18',\n",
       "   '_i19',\n",
       "   '_i2',\n",
       "   '_i20',\n",
       "   '_i21',\n",
       "   '_i22',\n",
       "   '_i23',\n",
       "   '_i24',\n",
       "   '_i25',\n",
       "   '_i26',\n",
       "   '_i27',\n",
       "   '_i28',\n",
       "   '_i29',\n",
       "   '_i3',\n",
       "   '_i4',\n",
       "   '_i5',\n",
       "   '_i6',\n",
       "   '_i7',\n",
       "   '_i8',\n",
       "   '_i9',\n",
       "   '_ih',\n",
       "   '_ii',\n",
       "   '_iii',\n",
       "   '_oh',\n",
       "   'a',\n",
       "   'exit',\n",
       "   'fib',\n",
       "   'fibo',\n",
       "   'get_ipython',\n",
       "   'quit',\n",
       "   'sys'],\n",
       "  31: ['ArithmeticError',\n",
       "   'AssertionError',\n",
       "   'AttributeError',\n",
       "   'BaseException',\n",
       "   'BlockingIOError',\n",
       "   'BrokenPipeError',\n",
       "   'BufferError',\n",
       "   'BytesWarning',\n",
       "   'ChildProcessError',\n",
       "   'ConnectionAbortedError',\n",
       "   'ConnectionError',\n",
       "   'ConnectionRefusedError',\n",
       "   'ConnectionResetError',\n",
       "   'DeprecationWarning',\n",
       "   'EOFError',\n",
       "   'Ellipsis',\n",
       "   'EnvironmentError',\n",
       "   'Exception',\n",
       "   'False',\n",
       "   'FileExistsError',\n",
       "   'FileNotFoundError',\n",
       "   'FloatingPointError',\n",
       "   'FutureWarning',\n",
       "   'GeneratorExit',\n",
       "   'IOError',\n",
       "   'ImportError',\n",
       "   'ImportWarning',\n",
       "   'IndentationError',\n",
       "   'IndexError',\n",
       "   'InterruptedError',\n",
       "   'IsADirectoryError',\n",
       "   'KeyError',\n",
       "   'KeyboardInterrupt',\n",
       "   'LookupError',\n",
       "   'MemoryError',\n",
       "   'ModuleNotFoundError',\n",
       "   'NameError',\n",
       "   'None',\n",
       "   'NotADirectoryError',\n",
       "   'NotImplemented',\n",
       "   'NotImplementedError',\n",
       "   'OSError',\n",
       "   'OverflowError',\n",
       "   'PendingDeprecationWarning',\n",
       "   'PermissionError',\n",
       "   'ProcessLookupError',\n",
       "   'RecursionError',\n",
       "   'ReferenceError',\n",
       "   'ResourceWarning',\n",
       "   'RuntimeError',\n",
       "   'RuntimeWarning',\n",
       "   'StopAsyncIteration',\n",
       "   'StopIteration',\n",
       "   'SyntaxError',\n",
       "   'SyntaxWarning',\n",
       "   'SystemError',\n",
       "   'SystemExit',\n",
       "   'TabError',\n",
       "   'TimeoutError',\n",
       "   'True',\n",
       "   'TypeError',\n",
       "   'UnboundLocalError',\n",
       "   'UnicodeDecodeError',\n",
       "   'UnicodeEncodeError',\n",
       "   'UnicodeError',\n",
       "   'UnicodeTranslateError',\n",
       "   'UnicodeWarning',\n",
       "   'UserWarning',\n",
       "   'ValueError',\n",
       "   'Warning',\n",
       "   'WindowsError',\n",
       "   'ZeroDivisionError',\n",
       "   '__IPYTHON__',\n",
       "   '__build_class__',\n",
       "   '__debug__',\n",
       "   '__doc__',\n",
       "   '__import__',\n",
       "   '__loader__',\n",
       "   '__name__',\n",
       "   '__package__',\n",
       "   '__spec__',\n",
       "   'abs',\n",
       "   'all',\n",
       "   'any',\n",
       "   'ascii',\n",
       "   'bin',\n",
       "   'bool',\n",
       "   'breakpoint',\n",
       "   'bytearray',\n",
       "   'bytes',\n",
       "   'callable',\n",
       "   'chr',\n",
       "   'classmethod',\n",
       "   'compile',\n",
       "   'complex',\n",
       "   'copyright',\n",
       "   'credits',\n",
       "   'delattr',\n",
       "   'dict',\n",
       "   'dir',\n",
       "   'display',\n",
       "   'divmod',\n",
       "   'enumerate',\n",
       "   'eval',\n",
       "   'exec',\n",
       "   'filter',\n",
       "   'float',\n",
       "   'format',\n",
       "   'frozenset',\n",
       "   'get_ipython',\n",
       "   'getattr',\n",
       "   'globals',\n",
       "   'hasattr',\n",
       "   'hash',\n",
       "   'help',\n",
       "   'hex',\n",
       "   'id',\n",
       "   'input',\n",
       "   'int',\n",
       "   'isinstance',\n",
       "   'issubclass',\n",
       "   'iter',\n",
       "   'len',\n",
       "   'license',\n",
       "   'list',\n",
       "   'locals',\n",
       "   'map',\n",
       "   'max',\n",
       "   'memoryview',\n",
       "   'min',\n",
       "   'next',\n",
       "   'object',\n",
       "   'oct',\n",
       "   'open',\n",
       "   'ord',\n",
       "   'pow',\n",
       "   'print',\n",
       "   'property',\n",
       "   'range',\n",
       "   'repr',\n",
       "   'reversed',\n",
       "   'round',\n",
       "   'set',\n",
       "   'setattr',\n",
       "   'slice',\n",
       "   'sorted',\n",
       "   'staticmethod',\n",
       "   'str',\n",
       "   'sum',\n",
       "   'super',\n",
       "   'tuple',\n",
       "   'type',\n",
       "   'vars',\n",
       "   'zip'],\n",
       "  44: <method-wrapper '__init__' of module object at 0x000001C993424D18>,\n",
       "  46: <method-wrapper '__init__' of module object at 0x000001C993424D18>,\n",
       "  48: <method-wrapper '__init__' of module object at 0x000001C993424D18>,\n",
       "  51: ['ArithmeticError',\n",
       "   'AssertionError',\n",
       "   'AttributeError',\n",
       "   'BaseException',\n",
       "   'BlockingIOError',\n",
       "   'BrokenPipeError',\n",
       "   'BufferError',\n",
       "   'BytesWarning',\n",
       "   'ChildProcessError',\n",
       "   'ConnectionAbortedError',\n",
       "   'ConnectionError',\n",
       "   'ConnectionRefusedError',\n",
       "   'ConnectionResetError',\n",
       "   'DeprecationWarning',\n",
       "   'EOFError',\n",
       "   'Ellipsis',\n",
       "   'EnvironmentError',\n",
       "   'Exception',\n",
       "   'False',\n",
       "   'FileExistsError',\n",
       "   'FileNotFoundError',\n",
       "   'FloatingPointError',\n",
       "   'FutureWarning',\n",
       "   'GeneratorExit',\n",
       "   'IOError',\n",
       "   'ImportError',\n",
       "   'ImportWarning',\n",
       "   'IndentationError',\n",
       "   'IndexError',\n",
       "   'InterruptedError',\n",
       "   'IsADirectoryError',\n",
       "   'KeyError',\n",
       "   'KeyboardInterrupt',\n",
       "   'LookupError',\n",
       "   'MemoryError',\n",
       "   'ModuleNotFoundError',\n",
       "   'NameError',\n",
       "   'None',\n",
       "   'NotADirectoryError',\n",
       "   'NotImplemented',\n",
       "   'NotImplementedError',\n",
       "   'OSError',\n",
       "   'OverflowError',\n",
       "   'PendingDeprecationWarning',\n",
       "   'PermissionError',\n",
       "   'ProcessLookupError',\n",
       "   'RecursionError',\n",
       "   'ReferenceError',\n",
       "   'ResourceWarning',\n",
       "   'RuntimeError',\n",
       "   'RuntimeWarning',\n",
       "   'StopAsyncIteration',\n",
       "   'StopIteration',\n",
       "   'SyntaxError',\n",
       "   'SyntaxWarning',\n",
       "   'SystemError',\n",
       "   'SystemExit',\n",
       "   'TabError',\n",
       "   'TimeoutError',\n",
       "   'True',\n",
       "   'TypeError',\n",
       "   'UnboundLocalError',\n",
       "   'UnicodeDecodeError',\n",
       "   'UnicodeEncodeError',\n",
       "   'UnicodeError',\n",
       "   'UnicodeTranslateError',\n",
       "   'UnicodeWarning',\n",
       "   'UserWarning',\n",
       "   'ValueError',\n",
       "   'Warning',\n",
       "   'WindowsError',\n",
       "   'ZeroDivisionError',\n",
       "   '__IPYTHON__',\n",
       "   '__build_class__',\n",
       "   '__debug__',\n",
       "   '__doc__',\n",
       "   '__import__',\n",
       "   '__loader__',\n",
       "   '__name__',\n",
       "   '__package__',\n",
       "   '__spec__',\n",
       "   'abs',\n",
       "   'all',\n",
       "   'any',\n",
       "   'ascii',\n",
       "   'bin',\n",
       "   'bool',\n",
       "   'breakpoint',\n",
       "   'bytearray',\n",
       "   'bytes',\n",
       "   'callable',\n",
       "   'chr',\n",
       "   'classmethod',\n",
       "   'compile',\n",
       "   'complex',\n",
       "   'copyright',\n",
       "   'credits',\n",
       "   'delattr',\n",
       "   'dict',\n",
       "   'dir',\n",
       "   'display',\n",
       "   'divmod',\n",
       "   'enumerate',\n",
       "   'eval',\n",
       "   'exec',\n",
       "   'filter',\n",
       "   'float',\n",
       "   'format',\n",
       "   'frozenset',\n",
       "   'get_ipython',\n",
       "   'getattr',\n",
       "   'globals',\n",
       "   'hasattr',\n",
       "   'hash',\n",
       "   'help',\n",
       "   'hex',\n",
       "   'id',\n",
       "   'input',\n",
       "   'int',\n",
       "   'isinstance',\n",
       "   'issubclass',\n",
       "   'iter',\n",
       "   'len',\n",
       "   'license',\n",
       "   'list',\n",
       "   'locals',\n",
       "   'map',\n",
       "   'max',\n",
       "   'memoryview',\n",
       "   'min',\n",
       "   'next',\n",
       "   'object',\n",
       "   'oct',\n",
       "   'open',\n",
       "   'ord',\n",
       "   'pow',\n",
       "   'print',\n",
       "   'property',\n",
       "   'range',\n",
       "   'repr',\n",
       "   'reversed',\n",
       "   'round',\n",
       "   'set',\n",
       "   'setattr',\n",
       "   'slice',\n",
       "   'sorted',\n",
       "   'staticmethod',\n",
       "   'str',\n",
       "   'sum',\n",
       "   'super',\n",
       "   'tuple',\n",
       "   'type',\n",
       "   'vars',\n",
       "   'zip'],\n",
       "  67: <ipykernel.iostream.OutStream at 0x1c998124dd8>,\n",
       "  68: 'Results of the 2016 Referendum',\n",
       "  69: ' 42572654 YES votes  49.67%',\n",
       "  70: '42572654 YES votes  49.67%',\n",
       "  71: ' 42572654 YES votes  49.67%',\n",
       "  75: ' 42572654 YES votes  49.67%',\n",
       "  76: ' 42572654 YES votes  49.67%',\n",
       "  77: ' 42572654 YES votes  49.67%',\n",
       "  78: ' 42572654 YES votes  49.67%',\n",
       "  79: ' 42572654 YES votes      49.67%',\n",
       "  80: ' 42572654 YES votes  49.67%',\n",
       "  81: ' 42572654 YES votes  49.67%',\n",
       "  82: ' 42572654 YES votes  49.67%',\n",
       "  83: ' 42572654 YES votes  49.67%',\n",
       "  84: '1',\n",
       "  85: 'Hello, world.',\n",
       "  86: \"'Hello, world.'\",\n",
       "  87: 'H',\n",
       "  88: 'e',\n",
       "  89: 'Hello, world.',\n",
       "  90: \"'\",\n",
       "  91: 'H',\n",
       "  92: \"'Hello, world.'\",\n",
       "  95: \"'hello, world\\\\n'\",\n",
       "  98: \"(32.5, 40000, ('spam', 'eggs'))\",\n",
       "  99: '32.5',\n",
       "  100: \"'hello'\",\n",
       "  172: {'age': 3},\n",
       "  175: 3,\n",
       "  180: {...}},\n",
       " '_dh': ['C:\\\\Users\\\\SeoDongUk\\\\Desktop\\\\빅데이터 청년인재\\\\수업\\\\과제용'],\n",
       " 'In': ['',\n",
       "  'import sys',\n",
       "  'sys.path',\n",
       "  'import sys\\nsys.path',\n",
       "  'PYTHONPATH',\n",
       "  'sys.ps1',\n",
       "  'sys.ps2',\n",
       "  \"sys.ps1 = 'C>'\",\n",
       "  'sys.ps1',\n",
       "  'import sys',\n",
       "  'sys.ps1',\n",
       "  'import sys\\nsys.path # 현재 디렉터리 경로들',\n",
       "  \"import sys\\nsys.path.appen('/ufs/guido/lib/python')\",\n",
       "  \"import sys\\nsys.path.append('/ufs/guido/lib/python')\",\n",
       "  'sys.path',\n",
       "  'import fibo,sys',\n",
       "  'dir(fibo)',\n",
       "  'import fibo,sys',\n",
       "  'dir(fibo)',\n",
       "  'import fibo,sys',\n",
       "  'dir(fibo)',\n",
       "  'fibo.reload()\\ndir(fibo)',\n",
       "  'fib.reload()\\ndir(fibo)',\n",
       "  'fibo.fib.reload()\\ndir(fibo)',\n",
       "  'fibo.reload()\\ndir(fibo)',\n",
       "  '\\ndir(fibo)',\n",
       "  'dir(sys)',\n",
       "  'a = [1,2,3,4,5]',\n",
       "  'a = [1,2,3,4,5]\\nimport fibo\\nfib = fibo.fib',\n",
       "  'dir()',\n",
       "  'a = [1,2,3,4,5]\\nimport fibo\\nfib = fibo.fib',\n",
       "  'import builtins\\ndir(builtins)',\n",
       "  'import sound',\n",
       "  'import fibo.fb',\n",
       "  'import fibo.fib',\n",
       "  'from fibo import fib',\n",
       "  'import fibo.fib # 이 형식은 마지막은 패키지어야 한다.',\n",
       "  '_all__',\n",
       "  '__all__',\n",
       "  'fibo.__all__',\n",
       "  'builtins.__all__',\n",
       "  'import fibo.fib # 이 형식은 마지막은 패키지어야 한다.',\n",
       "  'import builtins',\n",
       "  'builtins.__all__',\n",
       "  'builtins.__init__',\n",
       "  'builtins.__init__.py',\n",
       "  'builtins.__init__',\n",
       "  'builtins.__init__.__all__',\n",
       "  'builtins.__init__',\n",
       "  'print(builtins.__init__)',\n",
       "  'import builtins',\n",
       "  'dir(builtins)',\n",
       "  'import sound.effects.echo',\n",
       "  'builtins.__path__',\n",
       "  'from .. import fibo',\n",
       "  'from ..fibo import fib',\n",
       "  'import ...',\n",
       "  'import .',\n",
       "  'from . import fibo',\n",
       "  'fibo.fib(!00)',\n",
       "  'fibo.fib(100)',\n",
       "  'from ... import fibo',\n",
       "  'from .. import fibo',\n",
       "  'from . import fibo',\n",
       "  'import fibo',\n",
       "  'fibo.__path__',\n",
       "  '# 입력과 출력',\n",
       "  'sys.stdout',\n",
       "  \"year = 2016\\nevent = 'Referendum'\\nf'Results of the {year} {event}'\",\n",
       "  \"yes_votes = 42_572_654\\nno_votes = 43_132_495\\npercentage = yes_votes / (yes_votes + no_votes)\\n'{:-9} YES votes  {:2.2%}'.format(yes_votes, percentage)\",\n",
       "  \"yes_votes = 42_572_654\\nno_votes = 43_132_495\\npercentage = yes_votes / (yes_votes + no_votes)\\n'{:-8} YES votes  {:2.2%}'.format(yes_votes, percentage)\",\n",
       "  \"yes_votes = 42_572_654\\nno_votes = 43_132_495\\npercentage = yes_votes / (yes_votes + no_votes)\\n'{:-9} YES votes  {:2.2%}'.format(yes_votes, percentage)\",\n",
       "  \"yes_votes = 42_572_654\\nno_votes = 43_132_495\\npercentage = yes_votes / (yes_votes + no_votes)\\n'{-9} YES votes  {:2.2%}'.format(yes_votes, percentage)\",\n",
       "  \"yes_votes = 42_572_654\\nno_votes = 43_132_495\\npercentage = yes_votes / (yes_votes + no_votes)\\n'{-9:-9} YES votes  {:2.2%}'.format(yes_votes, percentage)\",\n",
       "  \"yes_votes = 42_572_654\\nno_votes = 43_132_495\\npercentage = yes_votes / (yes_votes + no_votes)\\n'{0:-9} YES votes  {:2.2%}'.format(yes_votes, percentage)\",\n",
       "  \"yes_votes = 42_572_654\\nno_votes = 43_132_495\\npercentage = yes_votes / (yes_votes + no_votes)\\n'{0:-9} YES votes  {1:2.2%}'.format(yes_votes, percentage)\",\n",
       "  \"yes_votes = 42_572_654\\nno_votes = 43_132_495\\npercentage = yes_votes / (yes_votes + no_votes)\\n'{:-9} YES votes  {:2.2%}'.format(yes_votes, percentage)\",\n",
       "  \"yes_votes = 42_572_654\\nno_votes = 43_132_495\\npercentage = yes_votes / (yes_votes + no_votes)\\n'{:-9} YES votes  {:-2.2%}'.format(yes_votes, percentage)\\n# 오른쪽으로 붙이고 9개 띄우기(공백 포함), 2개.2개 \",\n",
       "  \"yes_votes = 42_572_654\\nno_votes = 43_132_495\\npercentage = yes_votes / (yes_votes + no_votes)\\n'{:-9} YES votes  {:-5.2%}'.format(yes_votes, percentage)\\n# 오른쪽으로 붙이고 9개 띄우기(공백 포함), 2개.2개 \",\n",
       "  \"yes_votes = 42_572_654\\nno_votes = 43_132_495\\npercentage = yes_votes / (yes_votes + no_votes)\\n'{:-9} YES votes  {:-10.2%}'.format(yes_votes, percentage)\\n# 오른쪽으로 붙이고 9개 띄우기(공백 포함), 2개.2개 \",\n",
       "  \"yes_votes = 42_572_654\\nno_votes = 43_132_495\\npercentage = yes_votes / (yes_votes + no_votes)\\n'{:-9} YES votes  {:2.2%}'.format(yes_votes, percentage)\\n# 오른쪽으로 붙이고 9개 띄우기(공백 포함), 2개.2개 \",\n",
       "  \"yes_votes = 42_572_654\\nno_votes = 43_132_495\\npercentage = yes_votes / (yes_votes + no_votes)\\n'{:-9} YES votes  {:.2%}'.format(yes_votes, percentage)\\n# 오른쪽으로 붙이고 9개 띄우기(공백 포함), 2개.2개 \",\n",
       "  \"yes_votes = 42_572_654\\nno_votes = 43_132_495\\npercentage = yes_votes / (yes_votes + no_votes)\\n'{:-9} YES votes  {:2.2%}'.format(yes_votes, percentage)\\n# 오른쪽으로 붙이고 9개 띄우기(공백 포함), 2개.2개 \",\n",
       "  \"yes_votes = 42_572_654\\nno_votes = 43_132_495\\npercentage = yes_votes / (yes_votes + no_votes)\\n'{:-9} YES votes  {:2.2%}'.format(yes_votes, percentage)\\n# 오른쪽으로 붙이고 9개 띄우기(공백 포함), 2개.2개 % 띄우기\",\n",
       "  'repr(1)',\n",
       "  \"s = 'Hello, world.'\\nstr(s)\",\n",
       "  'repr(s)',\n",
       "  's[0]',\n",
       "  's[1]',\n",
       "  's',\n",
       "  'repr(s)[0]',\n",
       "  'repr(s)[1]',\n",
       "  'repr(s)',\n",
       "  \"hello = 'hello, world\\\\n'\",\n",
       "  \"hello = 'hello, world\\\\n'\\nhellos = repr(hello)\",\n",
       "  'hellos',\n",
       "  'print(hellos)',\n",
       "  'x = 10 * 3.25\\ny = 200 * 200',\n",
       "  \"x = 10 * 3.25\\ny = 200 * 200\\nrepr((x,y,('spam','eggs')))\",\n",
       "  'repr(x)',\n",
       "  \"repr('hello')\",\n",
       "  \"import math\\nprint(f'The value of pi is approximately {math.pi:.3f}.')\",\n",
       "  \"table = {'Sjoerd': 4127, 'Jack': 4098, 'Dcab': 7678}\\nfor name, phone in table.items():\\n    print(f'{name:10} ==> {phone:10d}')\",\n",
       "  \"table = {'Sjoerd': 4127, 'Jack': 4098, 'Dcab': 7678}\\nfor a,b in table.items():\\n    print(f'{a:10} ==> {b:10d}')\\n    \",\n",
       "  \"table = {'Sjoerd': 4127, 'Jack': 4098, 'Dcab': 7678}\\nfor a,b in table.items():\\n    print(f'{a:10} ==> {b:5d}')\",\n",
       "  \"table = {'Sjoerd': 4127, 'Jack': 4098, 'Dcab': 7678}\\nfor a,b in table.items():\\n    print(f'{a:7} ==> {b:5d}')\",\n",
       "  \"animals = 'eels'\",\n",
       "  \"animals = 'eels'\\nprint(f'My hovercraft is full of {animals!r}.')\",\n",
       "  \"animals = 'eels'\\nprint(f'My hovercraft is full of {animals!ㄴ}.')\",\n",
       "  \"animals = 'eels'\\nprint(f'My hovercraft is full of {animals!s}.')\",\n",
       "  \"animals = 'eels'\\nprint(f'My hovercraft is full of {animals!a}.')\",\n",
       "  \"animals = 3\\nprint(f'My hovercraft is full of {animals!a}.')\",\n",
       "  \"animals = 3\\nprint(f'My hovercraft is full of {animals!s}.')\",\n",
       "  \"animals = 3\\nprint(f'My hovercraft is full of {animals!r}.')\",\n",
       "  'animals = \"한글\"\\nprint(f\\'My hovercraft is full of {animals!r}.\\')',\n",
       "  'animals = \"한글\"\\nprint(f\\'My hovercraft is full of {animals!a}.\\')',\n",
       "  'animals = \"한글\"\\nprint(f\\'My hovercraft is full of {animals!s}.\\')',\n",
       "  'animals = \"한글\"\\nprint(f\\'My hovercraft is full of {animals!a}.\\')',\n",
       "  'animals = \"한글\"\\nprint(f\\'My hovercraft is full of {animals!a:5}.\\')\\n# !a는 아스키코드, ',\n",
       "  'animals = \"한글\"\\nprint(f\\'My hovercraft is full of {animals!s:5}.\\')\\n# !a는 아스키코드, ',\n",
       "  'animals = \"한글\"\\nprint(f\\'My hovercraft is full of {animals!s:-5}.\\')\\n# !a는 아스키코드, ',\n",
       "  'animals = \"한글\"\\nprint(f\\'My hovercraft is full of {animals!s:5}.\\')\\n# !a는 아스키코드, ',\n",
       "  \"animals = 3.1415124\\nprint(f'My hovercraft is full of {animals!s:5}.')\\n# !a는 아스키코드, \",\n",
       "  \"animals = 3.1415124\\nprint(f'My hovercraft is full of {animals!s:5.2f}.')\\n# !a는 아스키코드, \",\n",
       "  \"animals = 3.1415124\\nprint(f'My hovercraft is full of {animals!s:5.2}.')\\n# !a는 아스키코드, \",\n",
       "  \"animals = 3.1415124\\nprint(f'My hovercraft is full of {animals!s:.2f}.')\\n# !a는 아스키코드, \",\n",
       "  \"animals = 3.1415124\\nprint(f'My hovercraft is full of {animals!a:.2f}.')\\n# !a는 아스키코드, \",\n",
       "  \"animals = 3.1415124\\nprint(f'My hovercraft is full of {animals!a:.2}.')\\n# !a는 아스키코드, \",\n",
       "  \"animals = 3.1415124\\nprint(f'My hovercraft is full of {animals!a:.34}.')\\n# !a는 아스키코드, \",\n",
       "  \"animals = 3.1415124\\nprint(f'My hovercraft is full of {animals!a}.')\\n# !a는 아스키코드, \",\n",
       "  \"animals = '한글'\\nprint(f'My hovercraft is full of {animals!a}.')\\n# !a는 아스키코드, \",\n",
       "  \"animals = '한글'\\nprint(f'My hovercraft is full of {animals!a}.')\\n# !a는 아스키코드, !s는 str(), !r은 repr() 적용\",\n",
       "  'print(\\'We are the {} who say \"{}!\"\\'.format(\\'knights\\', \\'Ni\\'))',\n",
       "  \"print('{0} and {1}'.format('spam','eggs'))\",\n",
       "  \"print('{0} and {1}'.format('spam','eggs'))\",\n",
       "  \"print('{0} and {1}'.format('spam','eggs'))\\nprint('This {food} is {adjective}'.format(adjective = 'horrible',\\n                                         food='spam'))\",\n",
       "  \"print('{0} and {1}'.format(1='spam','eggs'))\\nprint('This {food} is {adjective}'.format(adjective = 'horrible',\\n                                         food='spam'))\",\n",
       "  \"print('{0} and {1}'.format(1='spam',0'eggs'))\\nprint('This {food} is {adjective}'.format(adjective = 'horrible',\\n                                         food='spam'))\",\n",
       "  \"print('{0} and {1}'.format(1='spam','0'='eggs'))\\nprint('This {food} is {adjective}'.format(adjective = 'horrible',\\n                                         food='spam'))\",\n",
       "  \"print('{0} and {1}'.format('1'='spam','0'='eggs'))\\nprint('This {food} is {adjective}'.format(adjective = 'horrible',\\n                                         food='spam'))\",\n",
       "  \"print('{0} and {1}'.format(1='spam',0='eggs'))\\nprint('This {food} is {adjective}'.format(adjective = 'horrible',\\n                                         food='spam'))\",\n",
       "  \"print('{0} and {1}'.format('spam','eggs'))\\nprint('This {food} is {adjective}'.format(adjective = 'horrible',\\n                                         food='spam'))\",\n",
       "  \"print('{0} and {1}'.format('spam','eggs')) # 숫자는 위치인자\\nprint('This {food} is {adjective}'.format(adjective = 'horrible',\\n                                         food='spam')) #키워드 인자 방식\\nprint('The story of {0} {1} and {other}'.format(\\n'Bill','Manfred',other='Georg'))\",\n",
       "  \"print('{0} and {1}'.format('spam','eggs')) # 숫자는 위치인자\\nprint('This {food} is {adjective}'.format(adjective = 'horrible',\\n                                         food='spam')) #키워드 인자 방식\\nprint('The story of {0} {1} and {other}'.format(\\n'Bill',other='Georg','Manfred')) # 혼합방식\",\n",
       "  \"print('{0} and {1}'.format('spam','eggs')) # 숫자는 위치인자\\nprint('This {food} is {adjective}'.format(adjective = 'horrible',\\n                                         food='spam')) #키워드 인자 방식\\nprint('The story of {0} {1} and {other}'.format(\\n'Bill','Manfred',other='Georg')) # 혼합방식\",\n",
       "  \"table = {'Sjoerd': 4127, 'Jack': 4098, 'Dcab': 8637678}\",\n",
       "  \"table = {'Sjoerd': 4127, 'Jack': 4098, 'Dcab': 8637678}\\nprint('Jack: {0[Jack]:d}; Sjoerd: {1[Sjoerd]:d}; '\\n      'Dcab: {2[Dcab]:d}'.format(table))\",\n",
       "  \"table = {'Sjoerd': 4127, 'Jack': 4098, 'Dcab': 8637678}\\nprint('Jack: {0[Jack]:d}; Sjoerd: {0[Sjoerd]:d}; '\\n      'Dcab: {0[Dcab]:d}'.format(table))\",\n",
       "  \"table = {'Sjoerd': 4127, 'Jack': 4098, 'Dcab': 8637678}\\nprint('Jack: {0[Jack]:d}; Sjoerd: {0[Sjoerd]:d}; '\\n      'Dcab: {0[Dcab]:d} Hello: {0[Dcab]:d}'.format(table))\",\n",
       "  \"table = {'Sjoerd': 4127, 'Jack': 4098, 'Dcab': 8637678}\\nprint('Jack: {0[Jack]:d}; Sjoerd: {0[Sjoerd]:d}; '\\n      'Dcab: {0[Dcab]:d} Hello: {0[Dcab]}'.format(table))\",\n",
       "  \"table = {'Sjoerd': 4127, 'Jack': 4098, 'Dcab': 8637678}\\nprint('Jack: {0[Jack]:d}; Sjoerd: {0[Sjoerd]:d}; '\\n      'Dcab: {0[Dcab]:d} Hello: {0[Dcab]};'.format(table))\",\n",
       "  \"table = {'Sjoerd': 4127, 'Jack': 4098, 'Dcab': 8637678}\\nprint('Jack: {0[Jack]:d}; Sjoerd: {0[Sjoerd]:d}; '\\n      'Dcab: {0[Dcab]:d}; Hello: {0[Dcab]};'.format(table))\",\n",
       "  \"table = {'Sjoerd': 4127, 'Jack': 4098, 'Dcab': 8637678}\\nprint('Jack: {0[Jack]:d}; Sjoerd: {0[Sjoerd]:d}; '\\n      'Dcab: {0[Dcab]:d}; Hello: {0[Dcab]:f};'.format(table))\",\n",
       "  \"table = {'Sjoerd': 4127, 'Jack': 4098, 'Dcab': 8637678}\\nprint('Jack: {0[Jack]:d}; Sjoerd: {0[Sjoerd]:d}; '\\n      'Dcab: {0[Dcab]:d}; Hello: {0[Dcab]:f};'.format(**table))\",\n",
       "  \"table = {'Sjoerd': 4127, 'Jack': 4098, 'Dcab': 8637678}\\nprint('Jack: {0[Jack]:d}; Sjoerd: {0[Sjoerd]:d}; '\\n      'Dcab: {0[Dcab]:d}; Hello: {0[Dcab]:f};'.format(*table))\",\n",
       "  \"table = {'Sjoerd': 4127, 'Jack': 4098, 'Dcab': 8637678}\\nprint('Jack: {[Jack]:d}; Sjoerd: {[Sjoerd]:d}; '\\n      'Dcab: {[Dcab]:d}; Hello: {[Dcab]:f};'.format(**table))\",\n",
       "  \"table = {'Sjoerd': 4127, 'Jack': 4098, 'Dcab': 8637678}\\nprint('Jack: {[Jack]:d}; Sjoerd: {[Sjoerd]:d}; '\\n      'Dcab: {[Dcab]:d}; '.format(**table))\",\n",
       "  \"table = {'Sjoerd': 4127, 'Jack': 4098, 'Dcab': 8637678}\\nprint('Jack: {[Jack]:d}; Sjoerd: {[Sjoerd]:d}; '\\n      'Dcab: {[Dcab]:d}; Hello: {[Dcab]:f};'.format(**table))\",\n",
       "  \"table = {'Sjoerd': 4127, 'Jack': 4098, 'Dcab': 8637678}\\nprint('Jack: {[Jack]:d}; Sjoerd: {[Sjoerd]:d}; '\\n      'Dcab: {[Dcab]:d}; Hello: {[Dcab]:f};'\\n      .format(**table))\",\n",
       "  \"table = {'Sjoerd': 4127, 'Jack': 4098, 'Dcab': 8637678}\\nprint('Jack: {[Jack]:d}; Sjoerd: {[Sjoerd]:d}; Dcab: {[Dcab]:d}; Hello: {[Dcab]:f};'\\n      .format(**table))\",\n",
       "  \"table = {'Sjoerd': 4127, 'Jack': 4098, 'Dcab': 8637678}\\nprint('Jack: {[Jack]:d}; Sjoerd: {[Sjoerd]:d}; Dcab: {[Dcab]:d}; Hello: {[Dcab]:f};'.format(**table))\",\n",
       "  \"table = {'Sjoerd': 4127, 'Jack': 4098, 'Dcab': 8637678}\\nprint('Jack: {[Jack]:d}; Sjoerd: {[Sjoerd]:d}; '\\n      'Dcab: {[Dcab]:d}; Hello: {[Dcab]:d};'.format(**table))\",\n",
       "  \"table = {'Sjoerd': 4127, 'Jack': 4098, 'Dcab': 8637678}\\nprint('Jack: {[Jack]:d}; Sjoerd: {[Sjoerd]:d}; '\\n      'Dcab: {[Dcab]:d};'.format(**table))\",\n",
       "  \"table = {'Sjoerd': 4127, 'Jack': 4098, 'Dcab': 8637678}\\nprint('Jack: {[Jack]:d}; Sjoerd: {[Sjoerd]:d}; '\\n      'Dcab: {[Dcab]:d}; Hello: {[Dcab]:f};'.format(**table))\",\n",
       "  \"table = {'Sjoerd': 4127, 'Jack': 4098, 'Dcab': 8637678}\\nprint('Jack: {0[Jack]:d}; Sjoerd: {0[Sjoerd]:d}; '\\n      'Dcab: {0[Dcab]:d}; Hello: {0[Dcab]:f};'.format(table))\",\n",
       "  \"print('Jack: {Jack:d}; Sjoerd: {Sjoerd:d}; Dcab: {Dcab:d}'.format(**table))\",\n",
       "  \"table = {'Sjoerd': 4127, 'Jack': 4098, 'Dcab': 8637678}\\nprint('Jack: {Jack:d}; Sjoerd: {Sjoerd:d}; '\\n      'Dcab: {Dcab:d}; Hello: {Dcab:f};'.format(**table))\",\n",
       "  \"table = {'Sjoerd': 4127, 'Jack': 4098, 'Dcab': 8637678}\\nprint('Jack: {0[Jack]:d}; Sjoerd: {0[Sjoerd]:d}; '\\n      'Dcab: {0[Dcab]:d}; Hello: {0[Dcab]:f};'.format(*table))\",\n",
       "  \"table = {'Sjoerd': 4127, 'Jack': 4098, 'Dcab': 8637678}\\nprint('Jack: {0[Jack]:d}; Sjoerd: {0[Sjoerd]:d}; '\\n      'Dcab: {0[Dcab]:d}; Hello: {0[Dcab]:f};'.format(table))\",\n",
       "  \"table = {'Sjoerd': 4127, 'Jack': 4098, 'Dcab': 8637678}\\nprint('Jack: {0[Jack]:d}; Sjoerd: {0[Sjoerd]:d}; '\\n      'Dcab: {0[Dcab]:d}; Hello: {0[Dcab]:f}; 0'.format(table))\",\n",
       "  \"table = {'Sjoerd': 4127, 'Jack': 4098, 'Dcab': 8637678}\\nprint('Jack: {0[Jack]:d}; Sjoerd: {0[Sjoerd]:d}; '\\n      'Dcab: {0[Dcab]:d}; Hello: {0[Dcab]:f}; {0}'.format(table))\",\n",
       "  \"table = {'Sjoerd': 4127, 'Jack': 4098, 'Dcab': 8637678}\\nprint('Jack: {0[Jack]:d}; Sjoerd: {0[Sjoerd]:d}; '\\n      'Dcab: {0[Dcab]:d}; Hello: {0[Dcab]:f};'.format(table))\",\n",
       "  'dict(age=3)',\n",
       "  'dic = dict(age=3)',\n",
       "  'dic[0]',\n",
       "  \"dic['age']\",\n",
       "  'dic[age]',\n",
       "  \"table = {'Sjoerd': 4127, 'Jack': 4098, 'Dcab': 8637678}\\nprint('Jack: {0[\\\\'Jack\\\\']:d}; Sjoerd: {0[Sjoerd]:d}; '\\n      'Dcab: {0[Dcab]:d}; Hello: {0[Dcab]:f};'.format(table))\",\n",
       "  \"table = {'Sjoerd': 4127, 'Jack': 4098, 'Dcab': 8637678}\\nprint('Jack: {0['Jack']:d}; Sjoerd: {0[Sjoerd]:d}; '\\n      'Dcab: {0[Dcab]:d}; Hello: {0[Dcab]:f};'.format(table))\",\n",
       "  \"table = {'Sjoerd': 4127, 'Jack': 4098, 'Dcab': 8637678}\\nprint('Jack: {0[Jack]:d}; Sjoerd: {0[Sjoerd]:d}; '\\n      'Dcab: {0[Dcab]:d}; Hello: {0[Dcab]:f};'.format(table))\",\n",
       "  'vars()',\n",
       "  'vars() # 모든 지역변수들을 담은 딕셔너리'],\n",
       " 'Out': {2: ['C:\\\\Users\\\\SeoDongUk\\\\Desktop\\\\빅데이터 청년인재\\\\수업\\\\과제용',\n",
       "   'C:\\\\Users\\\\SeoDongUk\\\\Anaconda3\\\\python37.zip',\n",
       "   'C:\\\\Users\\\\SeoDongUk\\\\Anaconda3\\\\DLLs',\n",
       "   'C:\\\\Users\\\\SeoDongUk\\\\Anaconda3\\\\lib',\n",
       "   'C:\\\\Users\\\\SeoDongUk\\\\Anaconda3',\n",
       "   '',\n",
       "   'C:\\\\Users\\\\SeoDongUk\\\\Anaconda3\\\\lib\\\\site-packages',\n",
       "   'C:\\\\Users\\\\SeoDongUk\\\\Anaconda3\\\\lib\\\\site-packages\\\\win32',\n",
       "   'C:\\\\Users\\\\SeoDongUk\\\\Anaconda3\\\\lib\\\\site-packages\\\\win32\\\\lib',\n",
       "   'C:\\\\Users\\\\SeoDongUk\\\\Anaconda3\\\\lib\\\\site-packages\\\\Pythonwin',\n",
       "   'C:\\\\Users\\\\SeoDongUk\\\\Anaconda3\\\\lib\\\\site-packages\\\\IPython\\\\extensions',\n",
       "   'C:\\\\Users\\\\SeoDongUk\\\\.ipython',\n",
       "   '/ufs/guido/lib/python'],\n",
       "  3: ['C:\\\\Users\\\\SeoDongUk\\\\Desktop\\\\빅데이터 청년인재\\\\수업\\\\과제용',\n",
       "   'C:\\\\Users\\\\SeoDongUk\\\\Anaconda3\\\\python37.zip',\n",
       "   'C:\\\\Users\\\\SeoDongUk\\\\Anaconda3\\\\DLLs',\n",
       "   'C:\\\\Users\\\\SeoDongUk\\\\Anaconda3\\\\lib',\n",
       "   'C:\\\\Users\\\\SeoDongUk\\\\Anaconda3',\n",
       "   '',\n",
       "   'C:\\\\Users\\\\SeoDongUk\\\\Anaconda3\\\\lib\\\\site-packages',\n",
       "   'C:\\\\Users\\\\SeoDongUk\\\\Anaconda3\\\\lib\\\\site-packages\\\\win32',\n",
       "   'C:\\\\Users\\\\SeoDongUk\\\\Anaconda3\\\\lib\\\\site-packages\\\\win32\\\\lib',\n",
       "   'C:\\\\Users\\\\SeoDongUk\\\\Anaconda3\\\\lib\\\\site-packages\\\\Pythonwin',\n",
       "   'C:\\\\Users\\\\SeoDongUk\\\\Anaconda3\\\\lib\\\\site-packages\\\\IPython\\\\extensions',\n",
       "   'C:\\\\Users\\\\SeoDongUk\\\\.ipython',\n",
       "   '/ufs/guido/lib/python'],\n",
       "  5: 'In : ',\n",
       "  6: '...: ',\n",
       "  8: 'C>',\n",
       "  10: 'C>',\n",
       "  11: ['C:\\\\Users\\\\SeoDongUk\\\\Desktop\\\\빅데이터 청년인재\\\\수업\\\\과제용',\n",
       "   'C:\\\\Users\\\\SeoDongUk\\\\Anaconda3\\\\python37.zip',\n",
       "   'C:\\\\Users\\\\SeoDongUk\\\\Anaconda3\\\\DLLs',\n",
       "   'C:\\\\Users\\\\SeoDongUk\\\\Anaconda3\\\\lib',\n",
       "   'C:\\\\Users\\\\SeoDongUk\\\\Anaconda3',\n",
       "   '',\n",
       "   'C:\\\\Users\\\\SeoDongUk\\\\Anaconda3\\\\lib\\\\site-packages',\n",
       "   'C:\\\\Users\\\\SeoDongUk\\\\Anaconda3\\\\lib\\\\site-packages\\\\win32',\n",
       "   'C:\\\\Users\\\\SeoDongUk\\\\Anaconda3\\\\lib\\\\site-packages\\\\win32\\\\lib',\n",
       "   'C:\\\\Users\\\\SeoDongUk\\\\Anaconda3\\\\lib\\\\site-packages\\\\Pythonwin',\n",
       "   'C:\\\\Users\\\\SeoDongUk\\\\Anaconda3\\\\lib\\\\site-packages\\\\IPython\\\\extensions',\n",
       "   'C:\\\\Users\\\\SeoDongUk\\\\.ipython',\n",
       "   '/ufs/guido/lib/python'],\n",
       "  14: ['C:\\\\Users\\\\SeoDongUk\\\\Desktop\\\\빅데이터 청년인재\\\\수업\\\\과제용',\n",
       "   'C:\\\\Users\\\\SeoDongUk\\\\Anaconda3\\\\python37.zip',\n",
       "   'C:\\\\Users\\\\SeoDongUk\\\\Anaconda3\\\\DLLs',\n",
       "   'C:\\\\Users\\\\SeoDongUk\\\\Anaconda3\\\\lib',\n",
       "   'C:\\\\Users\\\\SeoDongUk\\\\Anaconda3',\n",
       "   '',\n",
       "   'C:\\\\Users\\\\SeoDongUk\\\\Anaconda3\\\\lib\\\\site-packages',\n",
       "   'C:\\\\Users\\\\SeoDongUk\\\\Anaconda3\\\\lib\\\\site-packages\\\\win32',\n",
       "   'C:\\\\Users\\\\SeoDongUk\\\\Anaconda3\\\\lib\\\\site-packages\\\\win32\\\\lib',\n",
       "   'C:\\\\Users\\\\SeoDongUk\\\\Anaconda3\\\\lib\\\\site-packages\\\\Pythonwin',\n",
       "   'C:\\\\Users\\\\SeoDongUk\\\\Anaconda3\\\\lib\\\\site-packages\\\\IPython\\\\extensions',\n",
       "   'C:\\\\Users\\\\SeoDongUk\\\\.ipython',\n",
       "   '/ufs/guido/lib/python'],\n",
       "  16: ['__builtins__',\n",
       "   '__cached__',\n",
       "   '__doc__',\n",
       "   '__file__',\n",
       "   '__loader__',\n",
       "   '__name__',\n",
       "   '__package__',\n",
       "   '__spec__',\n",
       "   'fib',\n",
       "   'fib2'],\n",
       "  18: ['__builtins__',\n",
       "   '__cached__',\n",
       "   '__doc__',\n",
       "   '__file__',\n",
       "   '__loader__',\n",
       "   '__name__',\n",
       "   '__package__',\n",
       "   '__spec__',\n",
       "   'fib',\n",
       "   'fib2'],\n",
       "  20: ['__builtins__',\n",
       "   '__cached__',\n",
       "   '__doc__',\n",
       "   '__file__',\n",
       "   '__loader__',\n",
       "   '__name__',\n",
       "   '__package__',\n",
       "   '__spec__',\n",
       "   'fib',\n",
       "   'fib2'],\n",
       "  25: ['__builtins__',\n",
       "   '__cached__',\n",
       "   '__doc__',\n",
       "   '__file__',\n",
       "   '__loader__',\n",
       "   '__name__',\n",
       "   '__package__',\n",
       "   '__spec__',\n",
       "   'fib',\n",
       "   'fib2'],\n",
       "  26: ['__breakpointhook__',\n",
       "   '__displayhook__',\n",
       "   '__doc__',\n",
       "   '__excepthook__',\n",
       "   '__interactivehook__',\n",
       "   '__loader__',\n",
       "   '__name__',\n",
       "   '__package__',\n",
       "   '__spec__',\n",
       "   '__stderr__',\n",
       "   '__stdin__',\n",
       "   '__stdout__',\n",
       "   '_clear_type_cache',\n",
       "   '_current_frames',\n",
       "   '_debugmallocstats',\n",
       "   '_enablelegacywindowsfsencoding',\n",
       "   '_framework',\n",
       "   '_getframe',\n",
       "   '_git',\n",
       "   '_home',\n",
       "   '_xoptions',\n",
       "   'api_version',\n",
       "   'argv',\n",
       "   'base_exec_prefix',\n",
       "   'base_prefix',\n",
       "   'breakpointhook',\n",
       "   'builtin_module_names',\n",
       "   'byteorder',\n",
       "   'call_tracing',\n",
       "   'callstats',\n",
       "   'copyright',\n",
       "   'displayhook',\n",
       "   'dllhandle',\n",
       "   'dont_write_bytecode',\n",
       "   'exc_info',\n",
       "   'excepthook',\n",
       "   'exec_prefix',\n",
       "   'executable',\n",
       "   'exit',\n",
       "   'flags',\n",
       "   'float_info',\n",
       "   'float_repr_style',\n",
       "   'get_asyncgen_hooks',\n",
       "   'get_coroutine_origin_tracking_depth',\n",
       "   'get_coroutine_wrapper',\n",
       "   'getallocatedblocks',\n",
       "   'getcheckinterval',\n",
       "   'getdefaultencoding',\n",
       "   'getfilesystemencodeerrors',\n",
       "   'getfilesystemencoding',\n",
       "   'getprofile',\n",
       "   'getrecursionlimit',\n",
       "   'getrefcount',\n",
       "   'getsizeof',\n",
       "   'getswitchinterval',\n",
       "   'gettrace',\n",
       "   'getwindowsversion',\n",
       "   'hash_info',\n",
       "   'hexversion',\n",
       "   'implementation',\n",
       "   'int_info',\n",
       "   'intern',\n",
       "   'is_finalizing',\n",
       "   'last_traceback',\n",
       "   'last_type',\n",
       "   'last_value',\n",
       "   'maxsize',\n",
       "   'maxunicode',\n",
       "   'meta_path',\n",
       "   'modules',\n",
       "   'path',\n",
       "   'path_hooks',\n",
       "   'path_importer_cache',\n",
       "   'platform',\n",
       "   'prefix',\n",
       "   'ps1',\n",
       "   'ps2',\n",
       "   'ps3',\n",
       "   'set_asyncgen_hooks',\n",
       "   'set_coroutine_origin_tracking_depth',\n",
       "   'set_coroutine_wrapper',\n",
       "   'setcheckinterval',\n",
       "   'setprofile',\n",
       "   'setrecursionlimit',\n",
       "   'setswitchinterval',\n",
       "   'settrace',\n",
       "   'stderr',\n",
       "   'stdin',\n",
       "   'stdout',\n",
       "   'thread_info',\n",
       "   'version',\n",
       "   'version_info',\n",
       "   'warnoptions',\n",
       "   'winver'],\n",
       "  29: ['In',\n",
       "   'Out',\n",
       "   '_',\n",
       "   '_10',\n",
       "   '_11',\n",
       "   '_14',\n",
       "   '_16',\n",
       "   '_18',\n",
       "   '_2',\n",
       "   '_20',\n",
       "   '_25',\n",
       "   '_26',\n",
       "   '_3',\n",
       "   '_5',\n",
       "   '_6',\n",
       "   '_8',\n",
       "   '__',\n",
       "   '___',\n",
       "   '__builtin__',\n",
       "   '__builtins__',\n",
       "   '__doc__',\n",
       "   '__loader__',\n",
       "   '__name__',\n",
       "   '__package__',\n",
       "   '__spec__',\n",
       "   '_dh',\n",
       "   '_i',\n",
       "   '_i1',\n",
       "   '_i10',\n",
       "   '_i11',\n",
       "   '_i12',\n",
       "   '_i13',\n",
       "   '_i14',\n",
       "   '_i15',\n",
       "   '_i16',\n",
       "   '_i17',\n",
       "   '_i18',\n",
       "   '_i19',\n",
       "   '_i2',\n",
       "   '_i20',\n",
       "   '_i21',\n",
       "   '_i22',\n",
       "   '_i23',\n",
       "   '_i24',\n",
       "   '_i25',\n",
       "   '_i26',\n",
       "   '_i27',\n",
       "   '_i28',\n",
       "   '_i29',\n",
       "   '_i3',\n",
       "   '_i4',\n",
       "   '_i5',\n",
       "   '_i6',\n",
       "   '_i7',\n",
       "   '_i8',\n",
       "   '_i9',\n",
       "   '_ih',\n",
       "   '_ii',\n",
       "   '_iii',\n",
       "   '_oh',\n",
       "   'a',\n",
       "   'exit',\n",
       "   'fib',\n",
       "   'fibo',\n",
       "   'get_ipython',\n",
       "   'quit',\n",
       "   'sys'],\n",
       "  31: ['ArithmeticError',\n",
       "   'AssertionError',\n",
       "   'AttributeError',\n",
       "   'BaseException',\n",
       "   'BlockingIOError',\n",
       "   'BrokenPipeError',\n",
       "   'BufferError',\n",
       "   'BytesWarning',\n",
       "   'ChildProcessError',\n",
       "   'ConnectionAbortedError',\n",
       "   'ConnectionError',\n",
       "   'ConnectionRefusedError',\n",
       "   'ConnectionResetError',\n",
       "   'DeprecationWarning',\n",
       "   'EOFError',\n",
       "   'Ellipsis',\n",
       "   'EnvironmentError',\n",
       "   'Exception',\n",
       "   'False',\n",
       "   'FileExistsError',\n",
       "   'FileNotFoundError',\n",
       "   'FloatingPointError',\n",
       "   'FutureWarning',\n",
       "   'GeneratorExit',\n",
       "   'IOError',\n",
       "   'ImportError',\n",
       "   'ImportWarning',\n",
       "   'IndentationError',\n",
       "   'IndexError',\n",
       "   'InterruptedError',\n",
       "   'IsADirectoryError',\n",
       "   'KeyError',\n",
       "   'KeyboardInterrupt',\n",
       "   'LookupError',\n",
       "   'MemoryError',\n",
       "   'ModuleNotFoundError',\n",
       "   'NameError',\n",
       "   'None',\n",
       "   'NotADirectoryError',\n",
       "   'NotImplemented',\n",
       "   'NotImplementedError',\n",
       "   'OSError',\n",
       "   'OverflowError',\n",
       "   'PendingDeprecationWarning',\n",
       "   'PermissionError',\n",
       "   'ProcessLookupError',\n",
       "   'RecursionError',\n",
       "   'ReferenceError',\n",
       "   'ResourceWarning',\n",
       "   'RuntimeError',\n",
       "   'RuntimeWarning',\n",
       "   'StopAsyncIteration',\n",
       "   'StopIteration',\n",
       "   'SyntaxError',\n",
       "   'SyntaxWarning',\n",
       "   'SystemError',\n",
       "   'SystemExit',\n",
       "   'TabError',\n",
       "   'TimeoutError',\n",
       "   'True',\n",
       "   'TypeError',\n",
       "   'UnboundLocalError',\n",
       "   'UnicodeDecodeError',\n",
       "   'UnicodeEncodeError',\n",
       "   'UnicodeError',\n",
       "   'UnicodeTranslateError',\n",
       "   'UnicodeWarning',\n",
       "   'UserWarning',\n",
       "   'ValueError',\n",
       "   'Warning',\n",
       "   'WindowsError',\n",
       "   'ZeroDivisionError',\n",
       "   '__IPYTHON__',\n",
       "   '__build_class__',\n",
       "   '__debug__',\n",
       "   '__doc__',\n",
       "   '__import__',\n",
       "   '__loader__',\n",
       "   '__name__',\n",
       "   '__package__',\n",
       "   '__spec__',\n",
       "   'abs',\n",
       "   'all',\n",
       "   'any',\n",
       "   'ascii',\n",
       "   'bin',\n",
       "   'bool',\n",
       "   'breakpoint',\n",
       "   'bytearray',\n",
       "   'bytes',\n",
       "   'callable',\n",
       "   'chr',\n",
       "   'classmethod',\n",
       "   'compile',\n",
       "   'complex',\n",
       "   'copyright',\n",
       "   'credits',\n",
       "   'delattr',\n",
       "   'dict',\n",
       "   'dir',\n",
       "   'display',\n",
       "   'divmod',\n",
       "   'enumerate',\n",
       "   'eval',\n",
       "   'exec',\n",
       "   'filter',\n",
       "   'float',\n",
       "   'format',\n",
       "   'frozenset',\n",
       "   'get_ipython',\n",
       "   'getattr',\n",
       "   'globals',\n",
       "   'hasattr',\n",
       "   'hash',\n",
       "   'help',\n",
       "   'hex',\n",
       "   'id',\n",
       "   'input',\n",
       "   'int',\n",
       "   'isinstance',\n",
       "   'issubclass',\n",
       "   'iter',\n",
       "   'len',\n",
       "   'license',\n",
       "   'list',\n",
       "   'locals',\n",
       "   'map',\n",
       "   'max',\n",
       "   'memoryview',\n",
       "   'min',\n",
       "   'next',\n",
       "   'object',\n",
       "   'oct',\n",
       "   'open',\n",
       "   'ord',\n",
       "   'pow',\n",
       "   'print',\n",
       "   'property',\n",
       "   'range',\n",
       "   'repr',\n",
       "   'reversed',\n",
       "   'round',\n",
       "   'set',\n",
       "   'setattr',\n",
       "   'slice',\n",
       "   'sorted',\n",
       "   'staticmethod',\n",
       "   'str',\n",
       "   'sum',\n",
       "   'super',\n",
       "   'tuple',\n",
       "   'type',\n",
       "   'vars',\n",
       "   'zip'],\n",
       "  44: <method-wrapper '__init__' of module object at 0x000001C993424D18>,\n",
       "  46: <method-wrapper '__init__' of module object at 0x000001C993424D18>,\n",
       "  48: <method-wrapper '__init__' of module object at 0x000001C993424D18>,\n",
       "  51: ['ArithmeticError',\n",
       "   'AssertionError',\n",
       "   'AttributeError',\n",
       "   'BaseException',\n",
       "   'BlockingIOError',\n",
       "   'BrokenPipeError',\n",
       "   'BufferError',\n",
       "   'BytesWarning',\n",
       "   'ChildProcessError',\n",
       "   'ConnectionAbortedError',\n",
       "   'ConnectionError',\n",
       "   'ConnectionRefusedError',\n",
       "   'ConnectionResetError',\n",
       "   'DeprecationWarning',\n",
       "   'EOFError',\n",
       "   'Ellipsis',\n",
       "   'EnvironmentError',\n",
       "   'Exception',\n",
       "   'False',\n",
       "   'FileExistsError',\n",
       "   'FileNotFoundError',\n",
       "   'FloatingPointError',\n",
       "   'FutureWarning',\n",
       "   'GeneratorExit',\n",
       "   'IOError',\n",
       "   'ImportError',\n",
       "   'ImportWarning',\n",
       "   'IndentationError',\n",
       "   'IndexError',\n",
       "   'InterruptedError',\n",
       "   'IsADirectoryError',\n",
       "   'KeyError',\n",
       "   'KeyboardInterrupt',\n",
       "   'LookupError',\n",
       "   'MemoryError',\n",
       "   'ModuleNotFoundError',\n",
       "   'NameError',\n",
       "   'None',\n",
       "   'NotADirectoryError',\n",
       "   'NotImplemented',\n",
       "   'NotImplementedError',\n",
       "   'OSError',\n",
       "   'OverflowError',\n",
       "   'PendingDeprecationWarning',\n",
       "   'PermissionError',\n",
       "   'ProcessLookupError',\n",
       "   'RecursionError',\n",
       "   'ReferenceError',\n",
       "   'ResourceWarning',\n",
       "   'RuntimeError',\n",
       "   'RuntimeWarning',\n",
       "   'StopAsyncIteration',\n",
       "   'StopIteration',\n",
       "   'SyntaxError',\n",
       "   'SyntaxWarning',\n",
       "   'SystemError',\n",
       "   'SystemExit',\n",
       "   'TabError',\n",
       "   'TimeoutError',\n",
       "   'True',\n",
       "   'TypeError',\n",
       "   'UnboundLocalError',\n",
       "   'UnicodeDecodeError',\n",
       "   'UnicodeEncodeError',\n",
       "   'UnicodeError',\n",
       "   'UnicodeTranslateError',\n",
       "   'UnicodeWarning',\n",
       "   'UserWarning',\n",
       "   'ValueError',\n",
       "   'Warning',\n",
       "   'WindowsError',\n",
       "   'ZeroDivisionError',\n",
       "   '__IPYTHON__',\n",
       "   '__build_class__',\n",
       "   '__debug__',\n",
       "   '__doc__',\n",
       "   '__import__',\n",
       "   '__loader__',\n",
       "   '__name__',\n",
       "   '__package__',\n",
       "   '__spec__',\n",
       "   'abs',\n",
       "   'all',\n",
       "   'any',\n",
       "   'ascii',\n",
       "   'bin',\n",
       "   'bool',\n",
       "   'breakpoint',\n",
       "   'bytearray',\n",
       "   'bytes',\n",
       "   'callable',\n",
       "   'chr',\n",
       "   'classmethod',\n",
       "   'compile',\n",
       "   'complex',\n",
       "   'copyright',\n",
       "   'credits',\n",
       "   'delattr',\n",
       "   'dict',\n",
       "   'dir',\n",
       "   'display',\n",
       "   'divmod',\n",
       "   'enumerate',\n",
       "   'eval',\n",
       "   'exec',\n",
       "   'filter',\n",
       "   'float',\n",
       "   'format',\n",
       "   'frozenset',\n",
       "   'get_ipython',\n",
       "   'getattr',\n",
       "   'globals',\n",
       "   'hasattr',\n",
       "   'hash',\n",
       "   'help',\n",
       "   'hex',\n",
       "   'id',\n",
       "   'input',\n",
       "   'int',\n",
       "   'isinstance',\n",
       "   'issubclass',\n",
       "   'iter',\n",
       "   'len',\n",
       "   'license',\n",
       "   'list',\n",
       "   'locals',\n",
       "   'map',\n",
       "   'max',\n",
       "   'memoryview',\n",
       "   'min',\n",
       "   'next',\n",
       "   'object',\n",
       "   'oct',\n",
       "   'open',\n",
       "   'ord',\n",
       "   'pow',\n",
       "   'print',\n",
       "   'property',\n",
       "   'range',\n",
       "   'repr',\n",
       "   'reversed',\n",
       "   'round',\n",
       "   'set',\n",
       "   'setattr',\n",
       "   'slice',\n",
       "   'sorted',\n",
       "   'staticmethod',\n",
       "   'str',\n",
       "   'sum',\n",
       "   'super',\n",
       "   'tuple',\n",
       "   'type',\n",
       "   'vars',\n",
       "   'zip'],\n",
       "  67: <ipykernel.iostream.OutStream at 0x1c998124dd8>,\n",
       "  68: 'Results of the 2016 Referendum',\n",
       "  69: ' 42572654 YES votes  49.67%',\n",
       "  70: '42572654 YES votes  49.67%',\n",
       "  71: ' 42572654 YES votes  49.67%',\n",
       "  75: ' 42572654 YES votes  49.67%',\n",
       "  76: ' 42572654 YES votes  49.67%',\n",
       "  77: ' 42572654 YES votes  49.67%',\n",
       "  78: ' 42572654 YES votes  49.67%',\n",
       "  79: ' 42572654 YES votes      49.67%',\n",
       "  80: ' 42572654 YES votes  49.67%',\n",
       "  81: ' 42572654 YES votes  49.67%',\n",
       "  82: ' 42572654 YES votes  49.67%',\n",
       "  83: ' 42572654 YES votes  49.67%',\n",
       "  84: '1',\n",
       "  85: 'Hello, world.',\n",
       "  86: \"'Hello, world.'\",\n",
       "  87: 'H',\n",
       "  88: 'e',\n",
       "  89: 'Hello, world.',\n",
       "  90: \"'\",\n",
       "  91: 'H',\n",
       "  92: \"'Hello, world.'\",\n",
       "  95: \"'hello, world\\\\n'\",\n",
       "  98: \"(32.5, 40000, ('spam', 'eggs'))\",\n",
       "  99: '32.5',\n",
       "  100: \"'hello'\",\n",
       "  172: {'age': 3},\n",
       "  175: 3,\n",
       "  180: {...}},\n",
       " 'get_ipython': <bound method InteractiveShell.get_ipython of <ipykernel.zmqshell.ZMQInteractiveShell object at 0x000001C998023D68>>,\n",
       " 'exit': <IPython.core.autocall.ZMQExitAutocall at 0x1c998182ef0>,\n",
       " 'quit': <IPython.core.autocall.ZMQExitAutocall at 0x1c998182ef0>,\n",
       " '_': {...},\n",
       " '__': 3,\n",
       " '___': {'age': 3},\n",
       " '_i': 'vars()',\n",
       " '_ii': \"table = {'Sjoerd': 4127, 'Jack': 4098, 'Dcab': 8637678}\\nprint('Jack: {0[Jack]:d}; Sjoerd: {0[Sjoerd]:d}; '\\n      'Dcab: {0[Dcab]:d}; Hello: {0[Dcab]:f};'.format(table))\",\n",
       " '_iii': \"table = {'Sjoerd': 4127, 'Jack': 4098, 'Dcab': 8637678}\\nprint('Jack: {0['Jack']:d}; Sjoerd: {0[Sjoerd]:d}; '\\n      'Dcab: {0[Dcab]:d}; Hello: {0[Dcab]:f};'.format(table))\",\n",
       " '_i1': 'import sys',\n",
       " 'sys': <module 'sys' (built-in)>,\n",
       " '_i2': 'sys.path',\n",
       " '_2': ['C:\\\\Users\\\\SeoDongUk\\\\Desktop\\\\빅데이터 청년인재\\\\수업\\\\과제용',\n",
       "  'C:\\\\Users\\\\SeoDongUk\\\\Anaconda3\\\\python37.zip',\n",
       "  'C:\\\\Users\\\\SeoDongUk\\\\Anaconda3\\\\DLLs',\n",
       "  'C:\\\\Users\\\\SeoDongUk\\\\Anaconda3\\\\lib',\n",
       "  'C:\\\\Users\\\\SeoDongUk\\\\Anaconda3',\n",
       "  '',\n",
       "  'C:\\\\Users\\\\SeoDongUk\\\\Anaconda3\\\\lib\\\\site-packages',\n",
       "  'C:\\\\Users\\\\SeoDongUk\\\\Anaconda3\\\\lib\\\\site-packages\\\\win32',\n",
       "  'C:\\\\Users\\\\SeoDongUk\\\\Anaconda3\\\\lib\\\\site-packages\\\\win32\\\\lib',\n",
       "  'C:\\\\Users\\\\SeoDongUk\\\\Anaconda3\\\\lib\\\\site-packages\\\\Pythonwin',\n",
       "  'C:\\\\Users\\\\SeoDongUk\\\\Anaconda3\\\\lib\\\\site-packages\\\\IPython\\\\extensions',\n",
       "  'C:\\\\Users\\\\SeoDongUk\\\\.ipython',\n",
       "  '/ufs/guido/lib/python'],\n",
       " '_i3': 'import sys\\nsys.path',\n",
       " '_3': ['C:\\\\Users\\\\SeoDongUk\\\\Desktop\\\\빅데이터 청년인재\\\\수업\\\\과제용',\n",
       "  'C:\\\\Users\\\\SeoDongUk\\\\Anaconda3\\\\python37.zip',\n",
       "  'C:\\\\Users\\\\SeoDongUk\\\\Anaconda3\\\\DLLs',\n",
       "  'C:\\\\Users\\\\SeoDongUk\\\\Anaconda3\\\\lib',\n",
       "  'C:\\\\Users\\\\SeoDongUk\\\\Anaconda3',\n",
       "  '',\n",
       "  'C:\\\\Users\\\\SeoDongUk\\\\Anaconda3\\\\lib\\\\site-packages',\n",
       "  'C:\\\\Users\\\\SeoDongUk\\\\Anaconda3\\\\lib\\\\site-packages\\\\win32',\n",
       "  'C:\\\\Users\\\\SeoDongUk\\\\Anaconda3\\\\lib\\\\site-packages\\\\win32\\\\lib',\n",
       "  'C:\\\\Users\\\\SeoDongUk\\\\Anaconda3\\\\lib\\\\site-packages\\\\Pythonwin',\n",
       "  'C:\\\\Users\\\\SeoDongUk\\\\Anaconda3\\\\lib\\\\site-packages\\\\IPython\\\\extensions',\n",
       "  'C:\\\\Users\\\\SeoDongUk\\\\.ipython',\n",
       "  '/ufs/guido/lib/python'],\n",
       " '_i4': 'PYTHONPATH',\n",
       " '_i5': 'sys.ps1',\n",
       " '_5': 'In : ',\n",
       " '_i6': 'sys.ps2',\n",
       " '_6': '...: ',\n",
       " '_i7': \"sys.ps1 = 'C>'\",\n",
       " '_i8': 'sys.ps1',\n",
       " '_8': 'C>',\n",
       " '_i9': 'import sys',\n",
       " '_i10': 'sys.ps1',\n",
       " '_10': 'C>',\n",
       " '_i11': 'import sys\\nsys.path # 현재 디렉터리 경로들',\n",
       " '_11': ['C:\\\\Users\\\\SeoDongUk\\\\Desktop\\\\빅데이터 청년인재\\\\수업\\\\과제용',\n",
       "  'C:\\\\Users\\\\SeoDongUk\\\\Anaconda3\\\\python37.zip',\n",
       "  'C:\\\\Users\\\\SeoDongUk\\\\Anaconda3\\\\DLLs',\n",
       "  'C:\\\\Users\\\\SeoDongUk\\\\Anaconda3\\\\lib',\n",
       "  'C:\\\\Users\\\\SeoDongUk\\\\Anaconda3',\n",
       "  '',\n",
       "  'C:\\\\Users\\\\SeoDongUk\\\\Anaconda3\\\\lib\\\\site-packages',\n",
       "  'C:\\\\Users\\\\SeoDongUk\\\\Anaconda3\\\\lib\\\\site-packages\\\\win32',\n",
       "  'C:\\\\Users\\\\SeoDongUk\\\\Anaconda3\\\\lib\\\\site-packages\\\\win32\\\\lib',\n",
       "  'C:\\\\Users\\\\SeoDongUk\\\\Anaconda3\\\\lib\\\\site-packages\\\\Pythonwin',\n",
       "  'C:\\\\Users\\\\SeoDongUk\\\\Anaconda3\\\\lib\\\\site-packages\\\\IPython\\\\extensions',\n",
       "  'C:\\\\Users\\\\SeoDongUk\\\\.ipython',\n",
       "  '/ufs/guido/lib/python'],\n",
       " '_i12': \"import sys\\nsys.path.appen('/ufs/guido/lib/python')\",\n",
       " '_i13': \"import sys\\nsys.path.append('/ufs/guido/lib/python')\",\n",
       " '_i14': 'sys.path',\n",
       " '_14': ['C:\\\\Users\\\\SeoDongUk\\\\Desktop\\\\빅데이터 청년인재\\\\수업\\\\과제용',\n",
       "  'C:\\\\Users\\\\SeoDongUk\\\\Anaconda3\\\\python37.zip',\n",
       "  'C:\\\\Users\\\\SeoDongUk\\\\Anaconda3\\\\DLLs',\n",
       "  'C:\\\\Users\\\\SeoDongUk\\\\Anaconda3\\\\lib',\n",
       "  'C:\\\\Users\\\\SeoDongUk\\\\Anaconda3',\n",
       "  '',\n",
       "  'C:\\\\Users\\\\SeoDongUk\\\\Anaconda3\\\\lib\\\\site-packages',\n",
       "  'C:\\\\Users\\\\SeoDongUk\\\\Anaconda3\\\\lib\\\\site-packages\\\\win32',\n",
       "  'C:\\\\Users\\\\SeoDongUk\\\\Anaconda3\\\\lib\\\\site-packages\\\\win32\\\\lib',\n",
       "  'C:\\\\Users\\\\SeoDongUk\\\\Anaconda3\\\\lib\\\\site-packages\\\\Pythonwin',\n",
       "  'C:\\\\Users\\\\SeoDongUk\\\\Anaconda3\\\\lib\\\\site-packages\\\\IPython\\\\extensions',\n",
       "  'C:\\\\Users\\\\SeoDongUk\\\\.ipython',\n",
       "  '/ufs/guido/lib/python'],\n",
       " '_i15': 'import fibo,sys',\n",
       " 'fibo': <module 'fibo' from 'C:\\\\Users\\\\SeoDongUk\\\\Desktop\\\\빅데이터 청년인재\\\\수업\\\\과제용\\\\fibo.py'>,\n",
       " '_i16': 'dir(fibo)',\n",
       " '_16': ['__builtins__',\n",
       "  '__cached__',\n",
       "  '__doc__',\n",
       "  '__file__',\n",
       "  '__loader__',\n",
       "  '__name__',\n",
       "  '__package__',\n",
       "  '__spec__',\n",
       "  'fib',\n",
       "  'fib2'],\n",
       " '_i17': 'import fibo,sys',\n",
       " '_i18': 'dir(fibo)',\n",
       " '_18': ['__builtins__',\n",
       "  '__cached__',\n",
       "  '__doc__',\n",
       "  '__file__',\n",
       "  '__loader__',\n",
       "  '__name__',\n",
       "  '__package__',\n",
       "  '__spec__',\n",
       "  'fib',\n",
       "  'fib2'],\n",
       " '_i19': 'import fibo,sys',\n",
       " '_i20': 'dir(fibo)',\n",
       " '_20': ['__builtins__',\n",
       "  '__cached__',\n",
       "  '__doc__',\n",
       "  '__file__',\n",
       "  '__loader__',\n",
       "  '__name__',\n",
       "  '__package__',\n",
       "  '__spec__',\n",
       "  'fib',\n",
       "  'fib2'],\n",
       " '_i21': 'fibo.reload()\\ndir(fibo)',\n",
       " '_i22': 'fib.reload()\\ndir(fibo)',\n",
       " '_i23': 'fibo.fib.reload()\\ndir(fibo)',\n",
       " '_i24': 'fibo.reload()\\ndir(fibo)',\n",
       " '_i25': '\\ndir(fibo)',\n",
       " '_25': ['__builtins__',\n",
       "  '__cached__',\n",
       "  '__doc__',\n",
       "  '__file__',\n",
       "  '__loader__',\n",
       "  '__name__',\n",
       "  '__package__',\n",
       "  '__spec__',\n",
       "  'fib',\n",
       "  'fib2'],\n",
       " '_i26': 'dir(sys)',\n",
       " '_26': ['__breakpointhook__',\n",
       "  '__displayhook__',\n",
       "  '__doc__',\n",
       "  '__excepthook__',\n",
       "  '__interactivehook__',\n",
       "  '__loader__',\n",
       "  '__name__',\n",
       "  '__package__',\n",
       "  '__spec__',\n",
       "  '__stderr__',\n",
       "  '__stdin__',\n",
       "  '__stdout__',\n",
       "  '_clear_type_cache',\n",
       "  '_current_frames',\n",
       "  '_debugmallocstats',\n",
       "  '_enablelegacywindowsfsencoding',\n",
       "  '_framework',\n",
       "  '_getframe',\n",
       "  '_git',\n",
       "  '_home',\n",
       "  '_xoptions',\n",
       "  'api_version',\n",
       "  'argv',\n",
       "  'base_exec_prefix',\n",
       "  'base_prefix',\n",
       "  'breakpointhook',\n",
       "  'builtin_module_names',\n",
       "  'byteorder',\n",
       "  'call_tracing',\n",
       "  'callstats',\n",
       "  'copyright',\n",
       "  'displayhook',\n",
       "  'dllhandle',\n",
       "  'dont_write_bytecode',\n",
       "  'exc_info',\n",
       "  'excepthook',\n",
       "  'exec_prefix',\n",
       "  'executable',\n",
       "  'exit',\n",
       "  'flags',\n",
       "  'float_info',\n",
       "  'float_repr_style',\n",
       "  'get_asyncgen_hooks',\n",
       "  'get_coroutine_origin_tracking_depth',\n",
       "  'get_coroutine_wrapper',\n",
       "  'getallocatedblocks',\n",
       "  'getcheckinterval',\n",
       "  'getdefaultencoding',\n",
       "  'getfilesystemencodeerrors',\n",
       "  'getfilesystemencoding',\n",
       "  'getprofile',\n",
       "  'getrecursionlimit',\n",
       "  'getrefcount',\n",
       "  'getsizeof',\n",
       "  'getswitchinterval',\n",
       "  'gettrace',\n",
       "  'getwindowsversion',\n",
       "  'hash_info',\n",
       "  'hexversion',\n",
       "  'implementation',\n",
       "  'int_info',\n",
       "  'intern',\n",
       "  'is_finalizing',\n",
       "  'last_traceback',\n",
       "  'last_type',\n",
       "  'last_value',\n",
       "  'maxsize',\n",
       "  'maxunicode',\n",
       "  'meta_path',\n",
       "  'modules',\n",
       "  'path',\n",
       "  'path_hooks',\n",
       "  'path_importer_cache',\n",
       "  'platform',\n",
       "  'prefix',\n",
       "  'ps1',\n",
       "  'ps2',\n",
       "  'ps3',\n",
       "  'set_asyncgen_hooks',\n",
       "  'set_coroutine_origin_tracking_depth',\n",
       "  'set_coroutine_wrapper',\n",
       "  'setcheckinterval',\n",
       "  'setprofile',\n",
       "  'setrecursionlimit',\n",
       "  'setswitchinterval',\n",
       "  'settrace',\n",
       "  'stderr',\n",
       "  'stdin',\n",
       "  'stdout',\n",
       "  'thread_info',\n",
       "  'version',\n",
       "  'version_info',\n",
       "  'warnoptions',\n",
       "  'winver'],\n",
       " '_i27': 'a = [1,2,3,4,5]',\n",
       " 'a': 'Dcab',\n",
       " '_i28': 'a = [1,2,3,4,5]\\nimport fibo\\nfib = fibo.fib',\n",
       " 'fib': <function fibo.fib(n)>,\n",
       " '_i29': 'dir()',\n",
       " '_29': ['In',\n",
       "  'Out',\n",
       "  '_',\n",
       "  '_10',\n",
       "  '_11',\n",
       "  '_14',\n",
       "  '_16',\n",
       "  '_18',\n",
       "  '_2',\n",
       "  '_20',\n",
       "  '_25',\n",
       "  '_26',\n",
       "  '_3',\n",
       "  '_5',\n",
       "  '_6',\n",
       "  '_8',\n",
       "  '__',\n",
       "  '___',\n",
       "  '__builtin__',\n",
       "  '__builtins__',\n",
       "  '__doc__',\n",
       "  '__loader__',\n",
       "  '__name__',\n",
       "  '__package__',\n",
       "  '__spec__',\n",
       "  '_dh',\n",
       "  '_i',\n",
       "  '_i1',\n",
       "  '_i10',\n",
       "  '_i11',\n",
       "  '_i12',\n",
       "  '_i13',\n",
       "  '_i14',\n",
       "  '_i15',\n",
       "  '_i16',\n",
       "  '_i17',\n",
       "  '_i18',\n",
       "  '_i19',\n",
       "  '_i2',\n",
       "  '_i20',\n",
       "  '_i21',\n",
       "  '_i22',\n",
       "  '_i23',\n",
       "  '_i24',\n",
       "  '_i25',\n",
       "  '_i26',\n",
       "  '_i27',\n",
       "  '_i28',\n",
       "  '_i29',\n",
       "  '_i3',\n",
       "  '_i4',\n",
       "  '_i5',\n",
       "  '_i6',\n",
       "  '_i7',\n",
       "  '_i8',\n",
       "  '_i9',\n",
       "  '_ih',\n",
       "  '_ii',\n",
       "  '_iii',\n",
       "  '_oh',\n",
       "  'a',\n",
       "  'exit',\n",
       "  'fib',\n",
       "  'fibo',\n",
       "  'get_ipython',\n",
       "  'quit',\n",
       "  'sys'],\n",
       " '_i30': 'a = [1,2,3,4,5]\\nimport fibo\\nfib = fibo.fib',\n",
       " '_i31': 'import builtins\\ndir(builtins)',\n",
       " 'builtins': <module 'builtins' (built-in)>,\n",
       " '_31': ['ArithmeticError',\n",
       "  'AssertionError',\n",
       "  'AttributeError',\n",
       "  'BaseException',\n",
       "  'BlockingIOError',\n",
       "  'BrokenPipeError',\n",
       "  'BufferError',\n",
       "  'BytesWarning',\n",
       "  'ChildProcessError',\n",
       "  'ConnectionAbortedError',\n",
       "  'ConnectionError',\n",
       "  'ConnectionRefusedError',\n",
       "  'ConnectionResetError',\n",
       "  'DeprecationWarning',\n",
       "  'EOFError',\n",
       "  'Ellipsis',\n",
       "  'EnvironmentError',\n",
       "  'Exception',\n",
       "  'False',\n",
       "  'FileExistsError',\n",
       "  'FileNotFoundError',\n",
       "  'FloatingPointError',\n",
       "  'FutureWarning',\n",
       "  'GeneratorExit',\n",
       "  'IOError',\n",
       "  'ImportError',\n",
       "  'ImportWarning',\n",
       "  'IndentationError',\n",
       "  'IndexError',\n",
       "  'InterruptedError',\n",
       "  'IsADirectoryError',\n",
       "  'KeyError',\n",
       "  'KeyboardInterrupt',\n",
       "  'LookupError',\n",
       "  'MemoryError',\n",
       "  'ModuleNotFoundError',\n",
       "  'NameError',\n",
       "  'None',\n",
       "  'NotADirectoryError',\n",
       "  'NotImplemented',\n",
       "  'NotImplementedError',\n",
       "  'OSError',\n",
       "  'OverflowError',\n",
       "  'PendingDeprecationWarning',\n",
       "  'PermissionError',\n",
       "  'ProcessLookupError',\n",
       "  'RecursionError',\n",
       "  'ReferenceError',\n",
       "  'ResourceWarning',\n",
       "  'RuntimeError',\n",
       "  'RuntimeWarning',\n",
       "  'StopAsyncIteration',\n",
       "  'StopIteration',\n",
       "  'SyntaxError',\n",
       "  'SyntaxWarning',\n",
       "  'SystemError',\n",
       "  'SystemExit',\n",
       "  'TabError',\n",
       "  'TimeoutError',\n",
       "  'True',\n",
       "  'TypeError',\n",
       "  'UnboundLocalError',\n",
       "  'UnicodeDecodeError',\n",
       "  'UnicodeEncodeError',\n",
       "  'UnicodeError',\n",
       "  'UnicodeTranslateError',\n",
       "  'UnicodeWarning',\n",
       "  'UserWarning',\n",
       "  'ValueError',\n",
       "  'Warning',\n",
       "  'WindowsError',\n",
       "  'ZeroDivisionError',\n",
       "  '__IPYTHON__',\n",
       "  '__build_class__',\n",
       "  '__debug__',\n",
       "  '__doc__',\n",
       "  '__import__',\n",
       "  '__loader__',\n",
       "  '__name__',\n",
       "  '__package__',\n",
       "  '__spec__',\n",
       "  'abs',\n",
       "  'all',\n",
       "  'any',\n",
       "  'ascii',\n",
       "  'bin',\n",
       "  'bool',\n",
       "  'breakpoint',\n",
       "  'bytearray',\n",
       "  'bytes',\n",
       "  'callable',\n",
       "  'chr',\n",
       "  'classmethod',\n",
       "  'compile',\n",
       "  'complex',\n",
       "  'copyright',\n",
       "  'credits',\n",
       "  'delattr',\n",
       "  'dict',\n",
       "  'dir',\n",
       "  'display',\n",
       "  'divmod',\n",
       "  'enumerate',\n",
       "  'eval',\n",
       "  'exec',\n",
       "  'filter',\n",
       "  'float',\n",
       "  'format',\n",
       "  'frozenset',\n",
       "  'get_ipython',\n",
       "  'getattr',\n",
       "  'globals',\n",
       "  'hasattr',\n",
       "  'hash',\n",
       "  'help',\n",
       "  'hex',\n",
       "  'id',\n",
       "  'input',\n",
       "  'int',\n",
       "  'isinstance',\n",
       "  'issubclass',\n",
       "  'iter',\n",
       "  'len',\n",
       "  'license',\n",
       "  'list',\n",
       "  'locals',\n",
       "  'map',\n",
       "  'max',\n",
       "  'memoryview',\n",
       "  'min',\n",
       "  'next',\n",
       "  'object',\n",
       "  'oct',\n",
       "  'open',\n",
       "  'ord',\n",
       "  'pow',\n",
       "  'print',\n",
       "  'property',\n",
       "  'range',\n",
       "  'repr',\n",
       "  'reversed',\n",
       "  'round',\n",
       "  'set',\n",
       "  'setattr',\n",
       "  'slice',\n",
       "  'sorted',\n",
       "  'staticmethod',\n",
       "  'str',\n",
       "  'sum',\n",
       "  'super',\n",
       "  'tuple',\n",
       "  'type',\n",
       "  'vars',\n",
       "  'zip'],\n",
       " '_i32': 'import sound',\n",
       " '_i33': 'import fibo.fb',\n",
       " '_i34': 'import fibo.fib',\n",
       " '_i35': 'from fibo import fib',\n",
       " '_i36': 'import fibo.fib # 이 형식은 마지막은 패키지어야 한다.',\n",
       " '_i37': '_all__',\n",
       " '_i38': '__all__',\n",
       " '_i39': 'fibo.__all__',\n",
       " '_i40': 'builtins.__all__',\n",
       " '_i41': 'import fibo.fib # 이 형식은 마지막은 패키지어야 한다.',\n",
       " '_i42': 'import builtins',\n",
       " '_i43': 'builtins.__all__',\n",
       " '_i44': 'builtins.__init__',\n",
       " '_44': <method-wrapper '__init__' of module object at 0x000001C993424D18>,\n",
       " '_i45': 'builtins.__init__.py',\n",
       " '_i46': 'builtins.__init__',\n",
       " '_46': <method-wrapper '__init__' of module object at 0x000001C993424D18>,\n",
       " '_i47': 'builtins.__init__.__all__',\n",
       " '_i48': 'builtins.__init__',\n",
       " '_48': <method-wrapper '__init__' of module object at 0x000001C993424D18>,\n",
       " '_i49': 'print(builtins.__init__)',\n",
       " '_i50': 'import builtins',\n",
       " '_i51': 'dir(builtins)',\n",
       " '_51': ['ArithmeticError',\n",
       "  'AssertionError',\n",
       "  'AttributeError',\n",
       "  'BaseException',\n",
       "  'BlockingIOError',\n",
       "  'BrokenPipeError',\n",
       "  'BufferError',\n",
       "  'BytesWarning',\n",
       "  'ChildProcessError',\n",
       "  'ConnectionAbortedError',\n",
       "  'ConnectionError',\n",
       "  'ConnectionRefusedError',\n",
       "  'ConnectionResetError',\n",
       "  'DeprecationWarning',\n",
       "  'EOFError',\n",
       "  'Ellipsis',\n",
       "  'EnvironmentError',\n",
       "  'Exception',\n",
       "  'False',\n",
       "  'FileExistsError',\n",
       "  'FileNotFoundError',\n",
       "  'FloatingPointError',\n",
       "  'FutureWarning',\n",
       "  'GeneratorExit',\n",
       "  'IOError',\n",
       "  'ImportError',\n",
       "  'ImportWarning',\n",
       "  'IndentationError',\n",
       "  'IndexError',\n",
       "  'InterruptedError',\n",
       "  'IsADirectoryError',\n",
       "  'KeyError',\n",
       "  'KeyboardInterrupt',\n",
       "  'LookupError',\n",
       "  'MemoryError',\n",
       "  'ModuleNotFoundError',\n",
       "  'NameError',\n",
       "  'None',\n",
       "  'NotADirectoryError',\n",
       "  'NotImplemented',\n",
       "  'NotImplementedError',\n",
       "  'OSError',\n",
       "  'OverflowError',\n",
       "  'PendingDeprecationWarning',\n",
       "  'PermissionError',\n",
       "  'ProcessLookupError',\n",
       "  'RecursionError',\n",
       "  'ReferenceError',\n",
       "  'ResourceWarning',\n",
       "  'RuntimeError',\n",
       "  'RuntimeWarning',\n",
       "  'StopAsyncIteration',\n",
       "  'StopIteration',\n",
       "  'SyntaxError',\n",
       "  'SyntaxWarning',\n",
       "  'SystemError',\n",
       "  'SystemExit',\n",
       "  'TabError',\n",
       "  'TimeoutError',\n",
       "  'True',\n",
       "  'TypeError',\n",
       "  'UnboundLocalError',\n",
       "  'UnicodeDecodeError',\n",
       "  'UnicodeEncodeError',\n",
       "  'UnicodeError',\n",
       "  'UnicodeTranslateError',\n",
       "  'UnicodeWarning',\n",
       "  'UserWarning',\n",
       "  'ValueError',\n",
       "  'Warning',\n",
       "  'WindowsError',\n",
       "  'ZeroDivisionError',\n",
       "  '__IPYTHON__',\n",
       "  '__build_class__',\n",
       "  '__debug__',\n",
       "  '__doc__',\n",
       "  '__import__',\n",
       "  '__loader__',\n",
       "  '__name__',\n",
       "  '__package__',\n",
       "  '__spec__',\n",
       "  'abs',\n",
       "  'all',\n",
       "  'any',\n",
       "  'ascii',\n",
       "  'bin',\n",
       "  'bool',\n",
       "  'breakpoint',\n",
       "  'bytearray',\n",
       "  'bytes',\n",
       "  'callable',\n",
       "  'chr',\n",
       "  'classmethod',\n",
       "  'compile',\n",
       "  'complex',\n",
       "  'copyright',\n",
       "  'credits',\n",
       "  'delattr',\n",
       "  'dict',\n",
       "  'dir',\n",
       "  'display',\n",
       "  'divmod',\n",
       "  'enumerate',\n",
       "  'eval',\n",
       "  'exec',\n",
       "  'filter',\n",
       "  'float',\n",
       "  'format',\n",
       "  'frozenset',\n",
       "  'get_ipython',\n",
       "  'getattr',\n",
       "  'globals',\n",
       "  'hasattr',\n",
       "  'hash',\n",
       "  'help',\n",
       "  'hex',\n",
       "  'id',\n",
       "  'input',\n",
       "  'int',\n",
       "  'isinstance',\n",
       "  'issubclass',\n",
       "  'iter',\n",
       "  'len',\n",
       "  'license',\n",
       "  'list',\n",
       "  'locals',\n",
       "  'map',\n",
       "  'max',\n",
       "  'memoryview',\n",
       "  'min',\n",
       "  'next',\n",
       "  'object',\n",
       "  'oct',\n",
       "  'open',\n",
       "  'ord',\n",
       "  'pow',\n",
       "  'print',\n",
       "  'property',\n",
       "  'range',\n",
       "  'repr',\n",
       "  'reversed',\n",
       "  'round',\n",
       "  'set',\n",
       "  'setattr',\n",
       "  'slice',\n",
       "  'sorted',\n",
       "  'staticmethod',\n",
       "  'str',\n",
       "  'sum',\n",
       "  'super',\n",
       "  'tuple',\n",
       "  'type',\n",
       "  'vars',\n",
       "  'zip'],\n",
       " '_i52': 'import sound.effects.echo',\n",
       " '_i53': 'builtins.__path__',\n",
       " '_i54': 'from .. import fibo',\n",
       " '_i55': 'from ..fibo import fib',\n",
       " '_i56': 'import ...',\n",
       " '_i57': 'import .',\n",
       " '_i58': 'from . import fibo',\n",
       " '_i59': 'fibo.fib(!00)',\n",
       " '_i60': 'fibo.fib(100)',\n",
       " '_i61': 'from ... import fibo',\n",
       " '_i62': 'from .. import fibo',\n",
       " '_i63': 'from . import fibo',\n",
       " '_i64': 'import fibo',\n",
       " '_i65': 'fibo.__path__',\n",
       " '_i66': '# 입력과 출력',\n",
       " '_i67': 'sys.stdout',\n",
       " '_67': <ipykernel.iostream.OutStream at 0x1c998124dd8>,\n",
       " '_i68': \"year = 2016\\nevent = 'Referendum'\\nf'Results of the {year} {event}'\",\n",
       " 'year': 2016,\n",
       " 'event': 'Referendum',\n",
       " '_68': 'Results of the 2016 Referendum',\n",
       " '_i69': \"yes_votes = 42_572_654\\nno_votes = 43_132_495\\npercentage = yes_votes / (yes_votes + no_votes)\\n'{:-9} YES votes  {:2.2%}'.format(yes_votes, percentage)\",\n",
       " 'yes_votes': 42572654,\n",
       " 'no_votes': 43132495,\n",
       " 'percentage': 0.496733912684756,\n",
       " '_69': ' 42572654 YES votes  49.67%',\n",
       " '_i70': \"yes_votes = 42_572_654\\nno_votes = 43_132_495\\npercentage = yes_votes / (yes_votes + no_votes)\\n'{:-8} YES votes  {:2.2%}'.format(yes_votes, percentage)\",\n",
       " '_70': '42572654 YES votes  49.67%',\n",
       " '_i71': \"yes_votes = 42_572_654\\nno_votes = 43_132_495\\npercentage = yes_votes / (yes_votes + no_votes)\\n'{:-9} YES votes  {:2.2%}'.format(yes_votes, percentage)\",\n",
       " '_71': ' 42572654 YES votes  49.67%',\n",
       " '_i72': \"yes_votes = 42_572_654\\nno_votes = 43_132_495\\npercentage = yes_votes / (yes_votes + no_votes)\\n'{-9} YES votes  {:2.2%}'.format(yes_votes, percentage)\",\n",
       " '_i73': \"yes_votes = 42_572_654\\nno_votes = 43_132_495\\npercentage = yes_votes / (yes_votes + no_votes)\\n'{-9:-9} YES votes  {:2.2%}'.format(yes_votes, percentage)\",\n",
       " '_i74': \"yes_votes = 42_572_654\\nno_votes = 43_132_495\\npercentage = yes_votes / (yes_votes + no_votes)\\n'{0:-9} YES votes  {:2.2%}'.format(yes_votes, percentage)\",\n",
       " '_i75': \"yes_votes = 42_572_654\\nno_votes = 43_132_495\\npercentage = yes_votes / (yes_votes + no_votes)\\n'{0:-9} YES votes  {1:2.2%}'.format(yes_votes, percentage)\",\n",
       " '_75': ' 42572654 YES votes  49.67%',\n",
       " '_i76': \"yes_votes = 42_572_654\\nno_votes = 43_132_495\\npercentage = yes_votes / (yes_votes + no_votes)\\n'{:-9} YES votes  {:2.2%}'.format(yes_votes, percentage)\",\n",
       " '_76': ' 42572654 YES votes  49.67%',\n",
       " '_i77': \"yes_votes = 42_572_654\\nno_votes = 43_132_495\\npercentage = yes_votes / (yes_votes + no_votes)\\n'{:-9} YES votes  {:-2.2%}'.format(yes_votes, percentage)\\n# 오른쪽으로 붙이고 9개 띄우기(공백 포함), 2개.2개 \",\n",
       " '_77': ' 42572654 YES votes  49.67%',\n",
       " '_i78': \"yes_votes = 42_572_654\\nno_votes = 43_132_495\\npercentage = yes_votes / (yes_votes + no_votes)\\n'{:-9} YES votes  {:-5.2%}'.format(yes_votes, percentage)\\n# 오른쪽으로 붙이고 9개 띄우기(공백 포함), 2개.2개 \",\n",
       " '_78': ' 42572654 YES votes  49.67%',\n",
       " '_i79': \"yes_votes = 42_572_654\\nno_votes = 43_132_495\\npercentage = yes_votes / (yes_votes + no_votes)\\n'{:-9} YES votes  {:-10.2%}'.format(yes_votes, percentage)\\n# 오른쪽으로 붙이고 9개 띄우기(공백 포함), 2개.2개 \",\n",
       " '_79': ' 42572654 YES votes      49.67%',\n",
       " '_i80': \"yes_votes = 42_572_654\\nno_votes = 43_132_495\\npercentage = yes_votes / (yes_votes + no_votes)\\n'{:-9} YES votes  {:2.2%}'.format(yes_votes, percentage)\\n# 오른쪽으로 붙이고 9개 띄우기(공백 포함), 2개.2개 \",\n",
       " '_80': ' 42572654 YES votes  49.67%',\n",
       " '_i81': \"yes_votes = 42_572_654\\nno_votes = 43_132_495\\npercentage = yes_votes / (yes_votes + no_votes)\\n'{:-9} YES votes  {:.2%}'.format(yes_votes, percentage)\\n# 오른쪽으로 붙이고 9개 띄우기(공백 포함), 2개.2개 \",\n",
       " '_81': ' 42572654 YES votes  49.67%',\n",
       " '_i82': \"yes_votes = 42_572_654\\nno_votes = 43_132_495\\npercentage = yes_votes / (yes_votes + no_votes)\\n'{:-9} YES votes  {:2.2%}'.format(yes_votes, percentage)\\n# 오른쪽으로 붙이고 9개 띄우기(공백 포함), 2개.2개 \",\n",
       " '_82': ' 42572654 YES votes  49.67%',\n",
       " '_i83': \"yes_votes = 42_572_654\\nno_votes = 43_132_495\\npercentage = yes_votes / (yes_votes + no_votes)\\n'{:-9} YES votes  {:2.2%}'.format(yes_votes, percentage)\\n# 오른쪽으로 붙이고 9개 띄우기(공백 포함), 2개.2개 % 띄우기\",\n",
       " '_83': ' 42572654 YES votes  49.67%',\n",
       " '_i84': 'repr(1)',\n",
       " '_84': '1',\n",
       " '_i85': \"s = 'Hello, world.'\\nstr(s)\",\n",
       " 's': 'Hello, world.',\n",
       " '_85': 'Hello, world.',\n",
       " '_i86': 'repr(s)',\n",
       " '_86': \"'Hello, world.'\",\n",
       " '_i87': 's[0]',\n",
       " '_87': 'H',\n",
       " '_i88': 's[1]',\n",
       " '_88': 'e',\n",
       " '_i89': 's',\n",
       " '_89': 'Hello, world.',\n",
       " '_i90': 'repr(s)[0]',\n",
       " '_90': \"'\",\n",
       " '_i91': 'repr(s)[1]',\n",
       " '_91': 'H',\n",
       " '_i92': 'repr(s)',\n",
       " '_92': \"'Hello, world.'\",\n",
       " '_i93': \"hello = 'hello, world\\\\n'\",\n",
       " 'hello': 'hello, world\\n',\n",
       " '_i94': \"hello = 'hello, world\\\\n'\\nhellos = repr(hello)\",\n",
       " 'hellos': \"'hello, world\\\\n'\",\n",
       " '_i95': 'hellos',\n",
       " '_95': \"'hello, world\\\\n'\",\n",
       " '_i96': 'print(hellos)',\n",
       " '_i97': 'x = 10 * 3.25\\ny = 200 * 200',\n",
       " 'x': 32.5,\n",
       " 'y': 40000,\n",
       " '_i98': \"x = 10 * 3.25\\ny = 200 * 200\\nrepr((x,y,('spam','eggs')))\",\n",
       " '_98': \"(32.5, 40000, ('spam', 'eggs'))\",\n",
       " '_i99': 'repr(x)',\n",
       " '_99': '32.5',\n",
       " '_i100': \"repr('hello')\",\n",
       " '_100': \"'hello'\",\n",
       " '_i101': \"import math\\nprint(f'The value of pi is approximately {math.pi:.3f}.')\",\n",
       " 'math': <module 'math' (built-in)>,\n",
       " '_i102': \"table = {'Sjoerd': 4127, 'Jack': 4098, 'Dcab': 7678}\\nfor name, phone in table.items():\\n    print(f'{name:10} ==> {phone:10d}')\",\n",
       " 'table': {'Sjoerd': 4127, 'Jack': 4098, 'Dcab': 8637678},\n",
       " 'name': 'Dcab',\n",
       " 'phone': 7678,\n",
       " '_i103': \"table = {'Sjoerd': 4127, 'Jack': 4098, 'Dcab': 7678}\\nfor a,b in table.items():\\n    print(f'{a:10} ==> {b:10d}')\\n    \",\n",
       " 'b': 7678,\n",
       " '_i104': \"table = {'Sjoerd': 4127, 'Jack': 4098, 'Dcab': 7678}\\nfor a,b in table.items():\\n    print(f'{a:10} ==> {b:5d}')\",\n",
       " '_i105': \"table = {'Sjoerd': 4127, 'Jack': 4098, 'Dcab': 7678}\\nfor a,b in table.items():\\n    print(f'{a:7} ==> {b:5d}')\",\n",
       " '_i106': \"animals = 'eels'\",\n",
       " 'animals': '한글',\n",
       " '_i107': \"animals = 'eels'\\nprint(f'My hovercraft is full of {animals!r}.')\",\n",
       " '_i108': \"animals = 'eels'\\nprint(f'My hovercraft is full of {animals!ㄴ}.')\",\n",
       " '_i109': \"animals = 'eels'\\nprint(f'My hovercraft is full of {animals!s}.')\",\n",
       " '_i110': \"animals = 'eels'\\nprint(f'My hovercraft is full of {animals!a}.')\",\n",
       " '_i111': \"animals = 3\\nprint(f'My hovercraft is full of {animals!a}.')\",\n",
       " '_i112': \"animals = 3\\nprint(f'My hovercraft is full of {animals!s}.')\",\n",
       " '_i113': \"animals = 3\\nprint(f'My hovercraft is full of {animals!r}.')\",\n",
       " '_i114': 'animals = \"한글\"\\nprint(f\\'My hovercraft is full of {animals!r}.\\')',\n",
       " '_i115': 'animals = \"한글\"\\nprint(f\\'My hovercraft is full of {animals!a}.\\')',\n",
       " '_i116': 'animals = \"한글\"\\nprint(f\\'My hovercraft is full of {animals!s}.\\')',\n",
       " '_i117': 'animals = \"한글\"\\nprint(f\\'My hovercraft is full of {animals!a}.\\')',\n",
       " '_i118': 'animals = \"한글\"\\nprint(f\\'My hovercraft is full of {animals!a:5}.\\')\\n# !a는 아스키코드, ',\n",
       " '_i119': 'animals = \"한글\"\\nprint(f\\'My hovercraft is full of {animals!s:5}.\\')\\n# !a는 아스키코드, ',\n",
       " '_i120': 'animals = \"한글\"\\nprint(f\\'My hovercraft is full of {animals!s:-5}.\\')\\n# !a는 아스키코드, ',\n",
       " '_i121': 'animals = \"한글\"\\nprint(f\\'My hovercraft is full of {animals!s:5}.\\')\\n# !a는 아스키코드, ',\n",
       " '_i122': \"animals = 3.1415124\\nprint(f'My hovercraft is full of {animals!s:5}.')\\n# !a는 아스키코드, \",\n",
       " '_i123': \"animals = 3.1415124\\nprint(f'My hovercraft is full of {animals!s:5.2f}.')\\n# !a는 아스키코드, \",\n",
       " '_i124': \"animals = 3.1415124\\nprint(f'My hovercraft is full of {animals!s:5.2}.')\\n# !a는 아스키코드, \",\n",
       " '_i125': \"animals = 3.1415124\\nprint(f'My hovercraft is full of {animals!s:.2f}.')\\n# !a는 아스키코드, \",\n",
       " '_i126': \"animals = 3.1415124\\nprint(f'My hovercraft is full of {animals!a:.2f}.')\\n# !a는 아스키코드, \",\n",
       " '_i127': \"animals = 3.1415124\\nprint(f'My hovercraft is full of {animals!a:.2}.')\\n# !a는 아스키코드, \",\n",
       " '_i128': \"animals = 3.1415124\\nprint(f'My hovercraft is full of {animals!a:.34}.')\\n# !a는 아스키코드, \",\n",
       " '_i129': \"animals = 3.1415124\\nprint(f'My hovercraft is full of {animals!a}.')\\n# !a는 아스키코드, \",\n",
       " '_i130': \"animals = '한글'\\nprint(f'My hovercraft is full of {animals!a}.')\\n# !a는 아스키코드, \",\n",
       " '_i131': \"animals = '한글'\\nprint(f'My hovercraft is full of {animals!a}.')\\n# !a는 아스키코드, !s는 str(), !r은 repr() 적용\",\n",
       " '_i132': 'print(\\'We are the {} who say \"{}!\"\\'.format(\\'knights\\', \\'Ni\\'))',\n",
       " '_i133': \"print('{0} and {1}'.format('spam','eggs'))\",\n",
       " '_i134': \"print('{0} and {1}'.format('spam','eggs'))\",\n",
       " '_i135': \"print('{0} and {1}'.format('spam','eggs'))\\nprint('This {food} is {adjective}'.format(adjective = 'horrible',\\n                                         food='spam'))\",\n",
       " '_i136': \"print('{0} and {1}'.format(1='spam','eggs'))\\nprint('This {food} is {adjective}'.format(adjective = 'horrible',\\n                                         food='spam'))\",\n",
       " '_i137': \"print('{0} and {1}'.format(1='spam',0'eggs'))\\nprint('This {food} is {adjective}'.format(adjective = 'horrible',\\n                                         food='spam'))\",\n",
       " '_i138': \"print('{0} and {1}'.format(1='spam','0'='eggs'))\\nprint('This {food} is {adjective}'.format(adjective = 'horrible',\\n                                         food='spam'))\",\n",
       " '_i139': \"print('{0} and {1}'.format('1'='spam','0'='eggs'))\\nprint('This {food} is {adjective}'.format(adjective = 'horrible',\\n                                         food='spam'))\",\n",
       " '_i140': \"print('{0} and {1}'.format(1='spam',0='eggs'))\\nprint('This {food} is {adjective}'.format(adjective = 'horrible',\\n                                         food='spam'))\",\n",
       " '_i141': \"print('{0} and {1}'.format('spam','eggs'))\\nprint('This {food} is {adjective}'.format(adjective = 'horrible',\\n                                         food='spam'))\",\n",
       " '_i142': \"print('{0} and {1}'.format('spam','eggs')) # 숫자는 위치인자\\nprint('This {food} is {adjective}'.format(adjective = 'horrible',\\n                                         food='spam')) #키워드 인자 방식\\nprint('The story of {0} {1} and {other}'.format(\\n'Bill','Manfred',other='Georg'))\",\n",
       " '_i143': \"print('{0} and {1}'.format('spam','eggs')) # 숫자는 위치인자\\nprint('This {food} is {adjective}'.format(adjective = 'horrible',\\n                                         food='spam')) #키워드 인자 방식\\nprint('The story of {0} {1} and {other}'.format(\\n'Bill',other='Georg','Manfred')) # 혼합방식\",\n",
       " '_i144': \"print('{0} and {1}'.format('spam','eggs')) # 숫자는 위치인자\\nprint('This {food} is {adjective}'.format(adjective = 'horrible',\\n                                         food='spam')) #키워드 인자 방식\\nprint('The story of {0} {1} and {other}'.format(\\n'Bill','Manfred',other='Georg')) # 혼합방식\",\n",
       " '_i145': \"table = {'Sjoerd': 4127, 'Jack': 4098, 'Dcab': 8637678}\",\n",
       " '_i146': \"table = {'Sjoerd': 4127, 'Jack': 4098, 'Dcab': 8637678}\\nprint('Jack: {0[Jack]:d}; Sjoerd: {1[Sjoerd]:d}; '\\n      'Dcab: {2[Dcab]:d}'.format(table))\",\n",
       " '_i147': \"table = {'Sjoerd': 4127, 'Jack': 4098, 'Dcab': 8637678}\\nprint('Jack: {0[Jack]:d}; Sjoerd: {0[Sjoerd]:d}; '\\n      'Dcab: {0[Dcab]:d}'.format(table))\",\n",
       " '_i148': \"table = {'Sjoerd': 4127, 'Jack': 4098, 'Dcab': 8637678}\\nprint('Jack: {0[Jack]:d}; Sjoerd: {0[Sjoerd]:d}; '\\n      'Dcab: {0[Dcab]:d} Hello: {0[Dcab]:d}'.format(table))\",\n",
       " '_i149': \"table = {'Sjoerd': 4127, 'Jack': 4098, 'Dcab': 8637678}\\nprint('Jack: {0[Jack]:d}; Sjoerd: {0[Sjoerd]:d}; '\\n      'Dcab: {0[Dcab]:d} Hello: {0[Dcab]}'.format(table))\",\n",
       " '_i150': \"table = {'Sjoerd': 4127, 'Jack': 4098, 'Dcab': 8637678}\\nprint('Jack: {0[Jack]:d}; Sjoerd: {0[Sjoerd]:d}; '\\n      'Dcab: {0[Dcab]:d} Hello: {0[Dcab]};'.format(table))\",\n",
       " '_i151': \"table = {'Sjoerd': 4127, 'Jack': 4098, 'Dcab': 8637678}\\nprint('Jack: {0[Jack]:d}; Sjoerd: {0[Sjoerd]:d}; '\\n      'Dcab: {0[Dcab]:d}; Hello: {0[Dcab]};'.format(table))\",\n",
       " '_i152': \"table = {'Sjoerd': 4127, 'Jack': 4098, 'Dcab': 8637678}\\nprint('Jack: {0[Jack]:d}; Sjoerd: {0[Sjoerd]:d}; '\\n      'Dcab: {0[Dcab]:d}; Hello: {0[Dcab]:f};'.format(table))\",\n",
       " '_i153': \"table = {'Sjoerd': 4127, 'Jack': 4098, 'Dcab': 8637678}\\nprint('Jack: {0[Jack]:d}; Sjoerd: {0[Sjoerd]:d}; '\\n      'Dcab: {0[Dcab]:d}; Hello: {0[Dcab]:f};'.format(**table))\",\n",
       " '_i154': \"table = {'Sjoerd': 4127, 'Jack': 4098, 'Dcab': 8637678}\\nprint('Jack: {0[Jack]:d}; Sjoerd: {0[Sjoerd]:d}; '\\n      'Dcab: {0[Dcab]:d}; Hello: {0[Dcab]:f};'.format(*table))\",\n",
       " '_i155': \"table = {'Sjoerd': 4127, 'Jack': 4098, 'Dcab': 8637678}\\nprint('Jack: {[Jack]:d}; Sjoerd: {[Sjoerd]:d}; '\\n      'Dcab: {[Dcab]:d}; Hello: {[Dcab]:f};'.format(**table))\",\n",
       " '_i156': \"table = {'Sjoerd': 4127, 'Jack': 4098, 'Dcab': 8637678}\\nprint('Jack: {[Jack]:d}; Sjoerd: {[Sjoerd]:d}; '\\n      'Dcab: {[Dcab]:d}; '.format(**table))\",\n",
       " '_i157': \"table = {'Sjoerd': 4127, 'Jack': 4098, 'Dcab': 8637678}\\nprint('Jack: {[Jack]:d}; Sjoerd: {[Sjoerd]:d}; '\\n      'Dcab: {[Dcab]:d}; Hello: {[Dcab]:f};'.format(**table))\",\n",
       " '_i158': \"table = {'Sjoerd': 4127, 'Jack': 4098, 'Dcab': 8637678}\\nprint('Jack: {[Jack]:d}; Sjoerd: {[Sjoerd]:d}; '\\n      'Dcab: {[Dcab]:d}; Hello: {[Dcab]:f};'\\n      .format(**table))\",\n",
       " '_i159': \"table = {'Sjoerd': 4127, 'Jack': 4098, 'Dcab': 8637678}\\nprint('Jack: {[Jack]:d}; Sjoerd: {[Sjoerd]:d}; Dcab: {[Dcab]:d}; Hello: {[Dcab]:f};'\\n      .format(**table))\",\n",
       " '_i160': \"table = {'Sjoerd': 4127, 'Jack': 4098, 'Dcab': 8637678}\\nprint('Jack: {[Jack]:d}; Sjoerd: {[Sjoerd]:d}; Dcab: {[Dcab]:d}; Hello: {[Dcab]:f};'.format(**table))\",\n",
       " '_i161': \"table = {'Sjoerd': 4127, 'Jack': 4098, 'Dcab': 8637678}\\nprint('Jack: {[Jack]:d}; Sjoerd: {[Sjoerd]:d}; '\\n      'Dcab: {[Dcab]:d}; Hello: {[Dcab]:d};'.format(**table))\",\n",
       " '_i162': \"table = {'Sjoerd': 4127, 'Jack': 4098, 'Dcab': 8637678}\\nprint('Jack: {[Jack]:d}; Sjoerd: {[Sjoerd]:d}; '\\n      'Dcab: {[Dcab]:d};'.format(**table))\",\n",
       " '_i163': \"table = {'Sjoerd': 4127, 'Jack': 4098, 'Dcab': 8637678}\\nprint('Jack: {[Jack]:d}; Sjoerd: {[Sjoerd]:d}; '\\n      'Dcab: {[Dcab]:d}; Hello: {[Dcab]:f};'.format(**table))\",\n",
       " '_i164': \"table = {'Sjoerd': 4127, 'Jack': 4098, 'Dcab': 8637678}\\nprint('Jack: {0[Jack]:d}; Sjoerd: {0[Sjoerd]:d}; '\\n      'Dcab: {0[Dcab]:d}; Hello: {0[Dcab]:f};'.format(table))\",\n",
       " '_i165': \"print('Jack: {Jack:d}; Sjoerd: {Sjoerd:d}; Dcab: {Dcab:d}'.format(**table))\",\n",
       " '_i166': \"table = {'Sjoerd': 4127, 'Jack': 4098, 'Dcab': 8637678}\\nprint('Jack: {Jack:d}; Sjoerd: {Sjoerd:d}; '\\n      'Dcab: {Dcab:d}; Hello: {Dcab:f};'.format(**table))\",\n",
       " '_i167': \"table = {'Sjoerd': 4127, 'Jack': 4098, 'Dcab': 8637678}\\nprint('Jack: {0[Jack]:d}; Sjoerd: {0[Sjoerd]:d}; '\\n      'Dcab: {0[Dcab]:d}; Hello: {0[Dcab]:f};'.format(*table))\",\n",
       " '_i168': \"table = {'Sjoerd': 4127, 'Jack': 4098, 'Dcab': 8637678}\\nprint('Jack: {0[Jack]:d}; Sjoerd: {0[Sjoerd]:d}; '\\n      'Dcab: {0[Dcab]:d}; Hello: {0[Dcab]:f};'.format(table))\",\n",
       " '_i169': \"table = {'Sjoerd': 4127, 'Jack': 4098, 'Dcab': 8637678}\\nprint('Jack: {0[Jack]:d}; Sjoerd: {0[Sjoerd]:d}; '\\n      'Dcab: {0[Dcab]:d}; Hello: {0[Dcab]:f}; 0'.format(table))\",\n",
       " '_i170': \"table = {'Sjoerd': 4127, 'Jack': 4098, 'Dcab': 8637678}\\nprint('Jack: {0[Jack]:d}; Sjoerd: {0[Sjoerd]:d}; '\\n      'Dcab: {0[Dcab]:d}; Hello: {0[Dcab]:f}; {0}'.format(table))\",\n",
       " '_i171': \"table = {'Sjoerd': 4127, 'Jack': 4098, 'Dcab': 8637678}\\nprint('Jack: {0[Jack]:d}; Sjoerd: {0[Sjoerd]:d}; '\\n      'Dcab: {0[Dcab]:d}; Hello: {0[Dcab]:f};'.format(table))\",\n",
       " '_i172': 'dict(age=3)',\n",
       " '_172': {'age': 3},\n",
       " '_i173': 'dic = dict(age=3)',\n",
       " 'dic': {'age': 3},\n",
       " '_i174': 'dic[0]',\n",
       " '_i175': \"dic['age']\",\n",
       " '_175': 3,\n",
       " '_i176': 'dic[age]',\n",
       " '_i177': \"table = {'Sjoerd': 4127, 'Jack': 4098, 'Dcab': 8637678}\\nprint('Jack: {0[\\\\'Jack\\\\']:d}; Sjoerd: {0[Sjoerd]:d}; '\\n      'Dcab: {0[Dcab]:d}; Hello: {0[Dcab]:f};'.format(table))\",\n",
       " '_i178': \"table = {'Sjoerd': 4127, 'Jack': 4098, 'Dcab': 8637678}\\nprint('Jack: {0['Jack']:d}; Sjoerd: {0[Sjoerd]:d}; '\\n      'Dcab: {0[Dcab]:d}; Hello: {0[Dcab]:f};'.format(table))\",\n",
       " '_i179': \"table = {'Sjoerd': 4127, 'Jack': 4098, 'Dcab': 8637678}\\nprint('Jack: {0[Jack]:d}; Sjoerd: {0[Sjoerd]:d}; '\\n      'Dcab: {0[Dcab]:d}; Hello: {0[Dcab]:f};'.format(table))\",\n",
       " '_i180': 'vars()',\n",
       " '_180': {...},\n",
       " '_i181': 'vars() # 모든 지역변수들을 담은 딕셔너리'}"
      ]
     },
     "execution_count": 181,
     "metadata": {},
     "output_type": "execute_result"
    }
   ],
   "source": [
    "vars() # 모든 지역변수들을 담은 딕셔너리"
   ]
  },
  {
   "cell_type": "code",
   "execution_count": 182,
   "metadata": {},
   "outputs": [
    {
     "name": "stdout",
     "output_type": "stream",
     "text": [
      " 1   1    1\n",
      " 2   4    8\n",
      " 3   9   27\n",
      " 4  16   64\n",
      " 5  25  125\n",
      " 6  36  216\n",
      " 7  49  343\n",
      " 8  64  512\n",
      " 9  81  729\n",
      "10 100 1000\n"
     ]
    }
   ],
   "source": [
    "for x in range(1, 11):\n",
    "...     print(repr(x).rjust(2), repr(x*x).rjust(3), end=' ')\n",
    "...     # Note use of 'end' on previous line\n",
    "...     print(repr(x*x*x).rjust(4))"
   ]
  },
  {
   "cell_type": "code",
   "execution_count": 188,
   "metadata": {},
   "outputs": [
    {
     "data": {
      "text/plain": [
       "'00012'"
      ]
     },
     "execution_count": 188,
     "metadata": {},
     "output_type": "execute_result"
    }
   ],
   "source": [
    "'12'.zfill(5)"
   ]
  },
  {
   "cell_type": "code",
   "execution_count": 189,
   "metadata": {},
   "outputs": [
    {
     "data": {
      "text/plain": [
       "'-003.14'"
      ]
     },
     "execution_count": 189,
     "metadata": {},
     "output_type": "execute_result"
    }
   ],
   "source": [
    "'-3.14'.zfill(7)"
   ]
  },
  {
   "cell_type": "code",
   "execution_count": 190,
   "metadata": {},
   "outputs": [
    {
     "data": {
      "text/plain": [
       "'3.141453252523523'"
      ]
     },
     "execution_count": 190,
     "metadata": {},
     "output_type": "execute_result"
    }
   ],
   "source": [
    "'3.141453252523523'.zfill(5)"
   ]
  },
  {
   "cell_type": "code",
   "execution_count": 198,
   "metadata": {},
   "outputs": [
    {
     "name": "stdout",
     "output_type": "stream",
     "text": [
      "The value of pi is approximately 3.142.\n"
     ]
    }
   ],
   "source": [
    "import math\n",
    "print('The value of pi is approximately %5.3f.' % math.pi)"
   ]
  },
  {
   "cell_type": "markdown",
   "metadata": {},
   "source": [
    "# 파일 읽기/쓰기"
   ]
  },
  {
   "cell_type": "code",
   "execution_count": 207,
   "metadata": {},
   "outputs": [],
   "source": [
    "f = open('workfile','w') # 'r' 'a' 'r+' 생략하면 'r'\n",
    "# 텍스트 파일 제외하고는 바이너리 모드로 열기"
   ]
  },
  {
   "cell_type": "code",
   "execution_count": 212,
   "metadata": {},
   "outputs": [],
   "source": [
    "with open('workfile') as f:\n",
    "    read_data = f.read() "
   ]
  },
  {
   "cell_type": "code",
   "execution_count": 210,
   "metadata": {},
   "outputs": [
    {
     "data": {
      "text/plain": [
       "True"
      ]
     },
     "execution_count": 210,
     "metadata": {},
     "output_type": "execute_result"
    }
   ],
   "source": [
    "f.closed"
   ]
  },
  {
   "cell_type": "code",
   "execution_count": null,
   "metadata": {},
   "outputs": [],
   "source": [
    "f.read(size)\n",
    "# size 생략시 전체 다 읽어줌."
   ]
  },
  {
   "cell_type": "code",
   "execution_count": 211,
   "metadata": {},
   "outputs": [],
   "source": [
    "with open('workfile','w') as f:\n",
    "    f.write('This is the first line of the file.\\nSecond line of the file\\n')"
   ]
  },
  {
   "cell_type": "code",
   "execution_count": 220,
   "metadata": {},
   "outputs": [],
   "source": [
    "f = open('workfile','w')"
   ]
  },
  {
   "cell_type": "code",
   "execution_count": 219,
   "metadata": {},
   "outputs": [
    {
     "name": "stdout",
     "output_type": "stream",
     "text": [
      "This is the first line of the file.\n",
      "Second line of the file\n"
     ]
    }
   ],
   "source": [
    "for line in f:\n",
    "    print(line,end='')"
   ]
  },
  {
   "cell_type": "code",
   "execution_count": 221,
   "metadata": {},
   "outputs": [
    {
     "data": {
      "text/plain": [
       "15"
      ]
     },
     "execution_count": 221,
     "metadata": {},
     "output_type": "execute_result"
    }
   ],
   "source": [
    "f.write('this is a test\\n')\n",
    "f.close()"
   ]
  },
  {
   "cell_type": "code",
   "execution_count": 223,
   "metadata": {},
   "outputs": [
    {
     "data": {
      "text/plain": [
       "16"
      ]
     },
     "execution_count": 223,
     "metadata": {},
     "output_type": "execute_result"
    }
   ],
   "source": [
    "f = open('workfile','rb+')\n",
    "f.write(b'0123456789abcdef')"
   ]
  },
  {
   "cell_type": "code",
   "execution_count": 224,
   "metadata": {},
   "outputs": [
    {
     "data": {
      "text/plain": [
       "5"
      ]
     },
     "execution_count": 224,
     "metadata": {},
     "output_type": "execute_result"
    }
   ],
   "source": [
    "f.seek(5)"
   ]
  },
  {
   "cell_type": "code",
   "execution_count": 225,
   "metadata": {},
   "outputs": [
    {
     "data": {
      "text/plain": [
       "b'5'"
      ]
     },
     "execution_count": 225,
     "metadata": {},
     "output_type": "execute_result"
    }
   ],
   "source": [
    "f.read(1)"
   ]
  },
  {
   "cell_type": "code",
   "execution_count": 227,
   "metadata": {},
   "outputs": [
    {
     "data": {
      "text/plain": [
       "6"
      ]
     },
     "execution_count": 227,
     "metadata": {},
     "output_type": "execute_result"
    }
   ],
   "source": [
    "f.tell()"
   ]
  },
  {
   "cell_type": "code",
   "execution_count": 228,
   "metadata": {},
   "outputs": [
    {
     "data": {
      "text/plain": [
       "13"
      ]
     },
     "execution_count": 228,
     "metadata": {},
     "output_type": "execute_result"
    }
   ],
   "source": [
    "f.seek(-3,2)"
   ]
  },
  {
   "cell_type": "code",
   "execution_count": 230,
   "metadata": {},
   "outputs": [
    {
     "data": {
      "text/plain": [
       "b'd'"
      ]
     },
     "execution_count": 230,
     "metadata": {},
     "output_type": "execute_result"
    }
   ],
   "source": [
    "f.read(1)"
   ]
  },
  {
   "cell_type": "code",
   "execution_count": 235,
   "metadata": {},
   "outputs": [],
   "source": [
    "# 텍스트 파일에서는 상대적인 위치 변경만 허락이 된다."
   ]
  },
  {
   "cell_type": "markdown",
   "metadata": {},
   "source": [
    "# JSON 데이터 저장"
   ]
  },
  {
   "cell_type": "markdown",
   "metadata": {},
   "source": [
    "- 직렬화(Serializing) : 문자열로 바꾸는 것\n",
    "- 역 직렬화(deserializing) : 문자열에서 원 데이터로 재구성 하는 것"
   ]
  },
  {
   "cell_type": "code",
   "execution_count": 236,
   "metadata": {},
   "outputs": [
    {
     "data": {
      "text/plain": [
       "'[1, \"simple\", \"list\"]'"
      ]
     },
     "execution_count": 236,
     "metadata": {},
     "output_type": "execute_result"
    }
   ],
   "source": [
    "import json\n",
    "json.dumps([1,'simple','list'])"
   ]
  },
  {
   "cell_type": "code",
   "execution_count": 243,
   "metadata": {},
   "outputs": [],
   "source": [
    "f = open('workfile','w')\n",
    "x = [1,'simple','list']\n",
    "json.dump(x,f)"
   ]
  },
  {
   "cell_type": "code",
   "execution_count": 251,
   "metadata": {},
   "outputs": [],
   "source": [
    "f = open('workfile')\n",
    "a = json.load(f)"
   ]
  },
  {
   "cell_type": "markdown",
   "metadata": {},
   "source": [
    "# 에러와 예외"
   ]
  },
  {
   "cell_type": "code",
   "execution_count": 253,
   "metadata": {},
   "outputs": [
    {
     "name": "stdout",
     "output_type": "stream",
     "text": [
      "Please enter a number: ㄹㅁ\n",
      "Oops!  That was no valid number.  Try again...\n",
      "Please enter a number: ㅎㄴ\n",
      "Oops!  That was no valid number.  Try again...\n",
      "Please enter a number: ㅎㄴㄹ\n",
      "Oops!  That was no valid number.  Try again...\n",
      "Please enter a number: ㅁㅇ\n",
      "Oops!  That was no valid number.  Try again...\n",
      "Please enter a number: 3\n"
     ]
    }
   ],
   "source": [
    "while True:\n",
    "    try:\n",
    "        x = int(input(\"Please enter a number: \"))\n",
    "        break\n",
    "    except ValueError:\n",
    "        print(\"Oops!  That was no valid number.  Try again...\")"
   ]
  },
  {
   "cell_type": "code",
   "execution_count": 259,
   "metadata": {},
   "outputs": [
    {
     "name": "stdout",
     "output_type": "stream",
     "text": [
      "B\n",
      "C\n",
      "D\n"
     ]
    }
   ],
   "source": [
    "class B(Exception):\n",
    "    pass\n",
    "\n",
    "class C(B):\n",
    "    pass\n",
    "\n",
    "class D(C):\n",
    "    pass\n",
    "\n",
    "for cls in [B, C, D]:\n",
    "    try:\n",
    "        raise cls()\n",
    "    except D: # except절의 클래스는 같거나 베이스 클래스일 때 매칭됨.\n",
    "        print(\"D\")\n",
    "    except C:\n",
    "        print(\"C\")\n",
    "    except B:\n",
    "        print(\"B\")"
   ]
  },
  {
   "cell_type": "code",
   "execution_count": 273,
   "metadata": {},
   "outputs": [
    {
     "name": "stdout",
     "output_type": "stream",
     "text": [
      "B\n",
      "B\n",
      "D\n"
     ]
    }
   ],
   "source": [
    "class B(Exception):\n",
    "    pass\n",
    "\n",
    "class C(B):\n",
    "    pass\n",
    "\n",
    "class D(C):\n",
    "    pass\n",
    "\n",
    "for cls in [B, C, D]:\n",
    "    try:\n",
    "        raise cls()\n",
    "    except D:\n",
    "        print(\"D\")\n",
    "    except B:\n",
    "        print(\"B\")\n",
    "    except C:\n",
    "        print(\"C\")"
   ]
  },
  {
   "cell_type": "code",
   "execution_count": 276,
   "metadata": {},
   "outputs": [
    {
     "name": "stdout",
     "output_type": "stream",
     "text": [
      "Could not convert data to an integer.\n"
     ]
    }
   ],
   "source": [
    "import sys\n",
    "\n",
    "try:\n",
    "    f = open('myfile.txt','r+')\n",
    "    s = f.readline()\n",
    "    i = int(s.strip())\n",
    "except OSError as err:\n",
    "    print(\"OS error: {0}\".format(err))\n",
    "except ValueError:\n",
    "    print(\"Could not convert data to an integer.\")\n",
    "except:\n",
    "    print(\"Unexpected error:\", sys.exc_info()[0])\n",
    "    raise"
   ]
  },
  {
   "cell_type": "code",
   "execution_count": 278,
   "metadata": {},
   "outputs": [
    {
     "name": "stdout",
     "output_type": "stream",
     "text": [
      "cannot open -f\n",
      "C:\\Users\\SeoDongUk\\AppData\\Roaming\\jupyter\\runtime\\kernel-2b742548-aaa4-4331-bdb7-a9ca8f6ab98a.json has 12 lines\n"
     ]
    }
   ],
   "source": [
    "for arg in sys.argv[1:]:\n",
    "    try:\n",
    "        f = open(arg, 'r')\n",
    "    except OSError:\n",
    "        print('cannot open', arg)\n",
    "    else:\n",
    "        print(arg, 'has', len(f.readlines()), 'lines')\n",
    "        f.close()"
   ]
  },
  {
   "cell_type": "code",
   "execution_count": 279,
   "metadata": {},
   "outputs": [
    {
     "data": {
      "text/plain": [
       "['C:\\\\Users\\\\SeoDongUk\\\\Anaconda3\\\\lib\\\\site-packages\\\\ipykernel_launcher.py',\n",
       " '-f',\n",
       " 'C:\\\\Users\\\\SeoDongUk\\\\AppData\\\\Roaming\\\\jupyter\\\\runtime\\\\kernel-2b742548-aaa4-4331-bdb7-a9ca8f6ab98a.json']"
      ]
     },
     "execution_count": 279,
     "metadata": {},
     "output_type": "execute_result"
    }
   ],
   "source": [
    "sys.argv"
   ]
  },
  {
   "cell_type": "code",
   "execution_count": 283,
   "metadata": {},
   "outputs": [
    {
     "name": "stdout",
     "output_type": "stream",
     "text": [
      "<class 'Exception'>\n",
      "('spam', 'eggs')\n",
      "('spam', 'eggs')\n",
      "x = spam\n",
      "y = eggs\n"
     ]
    }
   ],
   "source": [
    "try:\n",
    "...     raise Exception('spam', 'eggs')\n",
    "... except Exception as inst:\n",
    "...     print(type(inst))    # the exception instance\n",
    "...     print(inst.args)     # arguments stored in .args\n",
    "...     print(inst)          # __str__ allows args to be printed directly,\n",
    "...                          # but may be overridden in exception subclasses\n",
    "...     x, y = inst.args     # unpack args\n",
    "...     print('x =', x)\n",
    "...     print('y =', y)\n",
    "..."
   ]
  },
  {
   "cell_type": "code",
   "execution_count": 284,
   "metadata": {},
   "outputs": [
    {
     "ename": "NameError",
     "evalue": "HiThere",
     "output_type": "error",
     "traceback": [
      "\u001b[1;31m---------------------------------------------------------------------------\u001b[0m",
      "\u001b[1;31mNameError\u001b[0m                                 Traceback (most recent call last)",
      "\u001b[1;32m<ipython-input-284-72c183edb298>\u001b[0m in \u001b[0;36m<module>\u001b[1;34m\u001b[0m\n\u001b[1;32m----> 1\u001b[1;33m \u001b[1;32mraise\u001b[0m \u001b[0mNameError\u001b[0m\u001b[1;33m(\u001b[0m\u001b[1;34m'HiThere'\u001b[0m\u001b[1;33m)\u001b[0m\u001b[1;33m\u001b[0m\u001b[1;33m\u001b[0m\u001b[0m\n\u001b[0m",
      "\u001b[1;31mNameError\u001b[0m: HiThere"
     ]
    }
   ],
   "source": [
    "raise NameError('HiThere') # 강제로 에러 일으키기\n",
    "# raise에 제공하는 단일인자는 예외 인스턴스나\n",
    "# ,Exception을 계송하는 예외 클래스 여야 한다."
   ]
  },
  {
   "cell_type": "code",
   "execution_count": 286,
   "metadata": {},
   "outputs": [
    {
     "name": "stdout",
     "output_type": "stream",
     "text": [
      "An exception flew by!\n"
     ]
    },
    {
     "ename": "NameError",
     "evalue": "HiThere",
     "output_type": "error",
     "traceback": [
      "\u001b[1;31m---------------------------------------------------------------------------\u001b[0m",
      "\u001b[1;31mNameError\u001b[0m                                 Traceback (most recent call last)",
      "\u001b[1;32m<ipython-input-286-b3460bbf09f3>\u001b[0m in \u001b[0;36m<module>\u001b[1;34m\u001b[0m\n\u001b[0;32m      1\u001b[0m \u001b[1;32mtry\u001b[0m\u001b[1;33m:\u001b[0m\u001b[1;33m\u001b[0m\u001b[1;33m\u001b[0m\u001b[0m\n\u001b[1;32m----> 2\u001b[1;33m         \u001b[1;32mraise\u001b[0m \u001b[0mNameError\u001b[0m\u001b[1;33m(\u001b[0m\u001b[1;34m'HiThere'\u001b[0m\u001b[1;33m)\u001b[0m\u001b[1;33m\u001b[0m\u001b[1;33m\u001b[0m\u001b[0m\n\u001b[0m\u001b[0;32m      3\u001b[0m \u001b[1;32mexcept\u001b[0m \u001b[0mNameError\u001b[0m\u001b[1;33m:\u001b[0m\u001b[1;33m\u001b[0m\u001b[1;33m\u001b[0m\u001b[0m\n\u001b[0;32m      4\u001b[0m         \u001b[0mprint\u001b[0m\u001b[1;33m(\u001b[0m\u001b[1;34m'An exception flew by!'\u001b[0m\u001b[1;33m)\u001b[0m\u001b[1;33m\u001b[0m\u001b[1;33m\u001b[0m\u001b[0m\n\u001b[0;32m      5\u001b[0m         \u001b[1;32mraise\u001b[0m\u001b[1;33m\u001b[0m\u001b[1;33m\u001b[0m\u001b[0m\n",
      "\u001b[1;31mNameError\u001b[0m: HiThere"
     ]
    }
   ],
   "source": [
    "try:\n",
    "        raise NameError('HiThere')\n",
    "except NameError:\n",
    "        print('An exception flew by!')\n",
    "        raise # 그 예외를(NameError)를 다시 발생시킴."
   ]
  },
  {
   "cell_type": "code",
   "execution_count": 289,
   "metadata": {},
   "outputs": [],
   "source": [
    "class Error(Exception):\n",
    "    pass\n",
    "\n",
    "class  InputError(Error):\n",
    "    \n",
    "    def __init__(self,expression,message):\n",
    "        self.expression = expression\n",
    "        self.message = message\n",
    "\n",
    "class TransitionError(Error):\n",
    "    \n",
    "    def __init__(self,previous,next,message):\n",
    "        self.previous = prevous\n",
    "        self.next = next\n",
    "        self.message = message"
   ]
  },
  {
   "cell_type": "code",
   "execution_count": 290,
   "metadata": {},
   "outputs": [
    {
     "name": "stdout",
     "output_type": "stream",
     "text": [
      "GoodBye\n"
     ]
    },
    {
     "ename": "KeyboardInterrupt",
     "evalue": "",
     "output_type": "error",
     "traceback": [
      "\u001b[1;31m---------------------------------------------------------------------------\u001b[0m",
      "\u001b[1;31mKeyboardInterrupt\u001b[0m                         Traceback (most recent call last)",
      "\u001b[1;32m<ipython-input-290-1251ee70ba83>\u001b[0m in \u001b[0;36m<module>\u001b[1;34m\u001b[0m\n\u001b[0;32m      1\u001b[0m \u001b[1;32mtry\u001b[0m\u001b[1;33m:\u001b[0m\u001b[1;33m\u001b[0m\u001b[1;33m\u001b[0m\u001b[0m\n\u001b[1;32m----> 2\u001b[1;33m     \u001b[1;32mraise\u001b[0m \u001b[0mKeyboardInterrupt\u001b[0m\u001b[1;33m\u001b[0m\u001b[1;33m\u001b[0m\u001b[0m\n\u001b[0m\u001b[0;32m      3\u001b[0m \u001b[1;32mfinally\u001b[0m\u001b[1;33m:\u001b[0m\u001b[1;33m\u001b[0m\u001b[1;33m\u001b[0m\u001b[0m\n\u001b[0;32m      4\u001b[0m     \u001b[0mprint\u001b[0m\u001b[1;33m(\u001b[0m\u001b[1;34m\"GoodBye\"\u001b[0m\u001b[1;33m)\u001b[0m\u001b[1;33m\u001b[0m\u001b[1;33m\u001b[0m\u001b[0m\n",
      "\u001b[1;31mKeyboardInterrupt\u001b[0m: "
     ]
    }
   ],
   "source": [
    "try:\n",
    "    raise KeyboardInterrupt\n",
    "finally:\n",
    "    print(\"GoodBye\")"
   ]
  },
  {
   "cell_type": "code",
   "execution_count": 291,
   "metadata": {},
   "outputs": [],
   "source": [
    "def divide(x, y):\n",
    "...     try:\n",
    "...         result = x / y\n",
    "...     except ZeroDivisionError:\n",
    "...         print(\"division by zero!\")\n",
    "...     else:\n",
    "...         print(\"result is\", result)\n",
    "...     finally:\n",
    "...         print(\"executing finally clause\")"
   ]
  },
  {
   "cell_type": "code",
   "execution_count": 292,
   "metadata": {},
   "outputs": [
    {
     "name": "stdout",
     "output_type": "stream",
     "text": [
      "result is 2.0\n",
      "executing finally clause\n"
     ]
    }
   ],
   "source": [
    "divide(2,1)"
   ]
  },
  {
   "cell_type": "code",
   "execution_count": 293,
   "metadata": {},
   "outputs": [
    {
     "name": "stdout",
     "output_type": "stream",
     "text": [
      "division by zero!\n",
      "executing finally clause\n"
     ]
    }
   ],
   "source": [
    "divide(2,0)"
   ]
  },
  {
   "cell_type": "code",
   "execution_count": 294,
   "metadata": {},
   "outputs": [
    {
     "name": "stdout",
     "output_type": "stream",
     "text": [
      "executing finally clause\n"
     ]
    },
    {
     "ename": "TypeError",
     "evalue": "unsupported operand type(s) for /: 'str' and 'str'",
     "output_type": "error",
     "traceback": [
      "\u001b[1;31m---------------------------------------------------------------------------\u001b[0m",
      "\u001b[1;31mTypeError\u001b[0m                                 Traceback (most recent call last)",
      "\u001b[1;32m<ipython-input-294-5ea9252531ac>\u001b[0m in \u001b[0;36m<module>\u001b[1;34m\u001b[0m\n\u001b[1;32m----> 1\u001b[1;33m \u001b[0mdivide\u001b[0m\u001b[1;33m(\u001b[0m\u001b[1;34m\"2\"\u001b[0m\u001b[1;33m,\u001b[0m\u001b[1;34m'1'\u001b[0m\u001b[1;33m)\u001b[0m\u001b[1;33m\u001b[0m\u001b[1;33m\u001b[0m\u001b[0m\n\u001b[0m",
      "\u001b[1;32m<ipython-input-291-fb375c737bea>\u001b[0m in \u001b[0;36mdivide\u001b[1;34m(x, y)\u001b[0m\n\u001b[0;32m      1\u001b[0m \u001b[1;32mdef\u001b[0m \u001b[0mdivide\u001b[0m\u001b[1;33m(\u001b[0m\u001b[0mx\u001b[0m\u001b[1;33m,\u001b[0m \u001b[0my\u001b[0m\u001b[1;33m)\u001b[0m\u001b[1;33m:\u001b[0m\u001b[1;33m\u001b[0m\u001b[1;33m\u001b[0m\u001b[0m\n\u001b[0;32m      2\u001b[0m     \u001b[1;32mtry\u001b[0m\u001b[1;33m:\u001b[0m\u001b[1;33m\u001b[0m\u001b[1;33m\u001b[0m\u001b[0m\n\u001b[1;32m----> 3\u001b[1;33m         \u001b[0mresult\u001b[0m \u001b[1;33m=\u001b[0m \u001b[0mx\u001b[0m \u001b[1;33m/\u001b[0m \u001b[0my\u001b[0m\u001b[1;33m\u001b[0m\u001b[1;33m\u001b[0m\u001b[0m\n\u001b[0m\u001b[0;32m      4\u001b[0m     \u001b[1;32mexcept\u001b[0m \u001b[0mZeroDivisionError\u001b[0m\u001b[1;33m:\u001b[0m\u001b[1;33m\u001b[0m\u001b[1;33m\u001b[0m\u001b[0m\n\u001b[0;32m      5\u001b[0m         \u001b[0mprint\u001b[0m\u001b[1;33m(\u001b[0m\u001b[1;34m\"division by zero!\"\u001b[0m\u001b[1;33m)\u001b[0m\u001b[1;33m\u001b[0m\u001b[1;33m\u001b[0m\u001b[0m\n",
      "\u001b[1;31mTypeError\u001b[0m: unsupported operand type(s) for /: 'str' and 'str'"
     ]
    }
   ],
   "source": [
    "divide(\"2\",'1')\n",
    "# 자원 같은거 반납할 때 finally 꼭 사용해라."
   ]
  },
  {
   "cell_type": "markdown",
   "metadata": {},
   "source": [
    "### 정리\n",
    "- else는 try가 다 성공하고 나서 실행  \n",
    "이를 통해 try에서 있지 않은 에러를 발견할 수 있다.  \n",
    "- fianlly는 try든 except가든 무조건 실행."
   ]
  },
  {
   "cell_type": "code",
   "execution_count": null,
   "metadata": {},
   "outputs": [],
   "source": []
  }
 ],
 "metadata": {
  "kernelspec": {
   "display_name": "Python 3",
   "language": "python",
   "name": "python3"
  },
  "language_info": {
   "codemirror_mode": {
    "name": "ipython",
    "version": 3
   },
   "file_extension": ".py",
   "mimetype": "text/x-python",
   "name": "python",
   "nbconvert_exporter": "python",
   "pygments_lexer": "ipython3",
   "version": "3.7.3"
  }
 },
 "nbformat": 4,
 "nbformat_minor": 2
}
