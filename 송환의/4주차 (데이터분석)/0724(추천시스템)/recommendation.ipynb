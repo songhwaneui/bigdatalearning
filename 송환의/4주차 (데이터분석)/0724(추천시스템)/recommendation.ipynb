{
 "cells": [
  {
   "cell_type": "markdown",
   "metadata": {},
   "source": [
    "# recommendation"
   ]
  },
  {
   "cell_type": "raw",
   "metadata": {},
   "source": [
    "r은 통계적 새로운 기법들은 즉 유명한 논문지에 새로운 기법들은 r로 라이브러리화 되어서 나오기 때문에 바로 적용가능\n",
    "하지만 나머지는 파이썬이 짱짱맨이다."
   ]
  },
  {
   "cell_type": "markdown",
   "metadata": {},
   "source": [
    "### 추천시스템은 계속 핫해왔고 여전히 핫하다."
   ]
  },
  {
   "cell_type": "raw",
   "metadata": {},
   "source": [
    "검색은 사람이 능동적으로 찾는 것이고 추천은 수동적으로 찾아 지는것이다 과거 데이터 기반으로\n",
    "과거데이터를 기반으로 미래를 예측하는것이 기계학습이다.\n",
    "\n",
    "파레토법칙 80퍼센트가 20퍼센트에서 나온다->꼬리가 길어진다 롱테일 법칙 \n",
    "\n",
    "NICHE MARKET 다품종 소량생산 (롱테일 부분에서)\n",
    "\n"
   ]
  },
  {
   "cell_type": "markdown",
   "metadata": {},
   "source": [
    "# 필터버블\n",
    "필터가 거품처럼 늘어남\n",
    "페이스북 계속 보는 사람들이 편향적으로 바뀐다. 취하는 정보에 따라 감정까지 바뀐다."
   ]
  },
  {
   "cell_type": "markdown",
   "metadata": {},
   "source": [
    "## 추천시스템은 아주 크게 2가지 기법이 있다.\n",
    "1. 나하고 가장 비슷한 사람을 찾고 그 사람이 예전에 어떤 것을 하면 나도 그것을 하게 될 가능성이 많다.(사람유사도:협업필터링)\n",
    "2. 내가 해왔던 행동컨텐츠를 비교해서 그와 유사한걸 나한테 추천한다.(컨텐츠 유사도)"
   ]
  },
  {
   "cell_type": "markdown",
   "metadata": {},
   "source": [
    "## 협업필터링\n",
    "과거의 패턴으로 유사도를 찾는다. 둘은 비슷하지만 같지는 않다. SERENDIPITY추천(신선한 추천: 나는 관심없었지만 나와 유사한 사람이 좋아하는거 추천) 이 때 아이템 유사도는 찾지 않아도 된다.\n",
    "\n",
    "문제\n",
    "새로운 물품이 나왔을때는 산사람이 없기 때문에 추천을 할 수 없다 (콜드 스타트: 해결하기 위해 뒤에 숨겨놓고 데이터가 쌓일때까지 기다림)\n",
    "쏠림 문제가 또 야기 된다 20퍼센트의 물건을 많이 사니까 그 20퍼만 추천하게 된다.(롱테일 문제)\n",
    "유사도를 분석하기에 사람이 너무 많다.\n",
    "독특한 취향의 고객(gray sheep(취향이 왔다갔다)/black sheep(진성 오덕))"
   ]
  },
  {
   "cell_type": "markdown",
   "metadata": {},
   "source": [
    "## 컨텐츠 기반 필터링\n",
    "\n",
    "아이템을 분석하는 것 어렵다.\n",
    "콜드 스타트 문제는 없다. 새로운 컨텐츠 추천할 때 특히 용이\n",
    "\n"
   ]
  },
  {
   "cell_type": "raw",
   "metadata": {},
   "source": [
    "결론은 둘을 합치는게 best이다"
   ]
  },
  {
   "cell_type": "markdown",
   "metadata": {},
   "source": [
    "모델 기반 협력 필터링"
   ]
  },
  {
   "cell_type": "markdown",
   "metadata": {},
   "source": [
    "# 모델을 만드는 방법\n",
    "\n",
    "1.matrix를 만든다 이떄 사람은 index 물품은 컬럼\n",
    "2.데이터 집어넣기\n",
    "3.데이터를 숫자화한다.\n",
    "\n",
    "컬럼을 디멘젼화 시키고 인덱스를 벡터화 시킨다"
   ]
  },
  {
   "cell_type": "markdown",
   "metadata": {},
   "source": [
    "## 메모리 베이스드 방법\n",
    "\n",
    "cos값으로 유사도를 찾는다.\n",
    "\n",
    "상관계수를 구한다.\n",
    "\n",
    "나와 가장 유사한 4명 을찾는다\n",
    "\n",
    "그 사람들이 샀던거를 뽑아낸다\n",
    "\n",
    "내가 샀던거 지운다\n",
    "\n",
    "유사도 합을 구해서 추천한다."
   ]
  },
  {
   "cell_type": "markdown",
   "metadata": {},
   "source": [
    "# 아이템 베이스드 방법\n",
    "콘텐츠 고유의 속성을 고려하지 않고 사람을 index로 넣고 물건의 유사도를 측정하는 것"
   ]
  },
  {
   "cell_type": "markdown",
   "metadata": {},
   "source": [
    "# 컨텐츠 베이스드 방법\n",
    "컨텐츠 고유의 속성으로 유사도를 계산한다."
   ]
  },
  {
   "cell_type": "code",
   "execution_count": null,
   "metadata": {},
   "outputs": [],
   "source": [
    "########################실습시작"
   ]
  },
  {
   "cell_type": "code",
   "execution_count": null,
   "metadata": {},
   "outputs": [],
   "source": [
    "# .pl pearlscript sh 쉘 스크립트"
   ]
  },
  {
   "cell_type": "code",
   "execution_count": null,
   "metadata": {},
   "outputs": [],
   "source": [
    "# C:\\Users\\KimJJ\\Downloads\\ml-100k\\ml-100k"
   ]
  },
  {
   "cell_type": "code",
   "execution_count": null,
   "metadata": {},
   "outputs": [],
   "source": [
    "# 저장할때는 분리하고 분석할 때는 합친다."
   ]
  },
  {
   "cell_type": "code",
   "execution_count": null,
   "metadata": {},
   "outputs": [],
   "source": [
    "import pandas as pd"
   ]
  },
  {
   "cell_type": "code",
   "execution_count": null,
   "metadata": {},
   "outputs": [],
   "source": [
    "u_data = pd.read_csv(r\"C:\\Users\\KimJJ\\Downloads\\ml-100k\\ml-100k\\u.data\",sep='\\t',encoding = \"ISO-8859-1\")  #r붙이니까 됨"
   ]
  },
  {
   "cell_type": "code",
   "execution_count": null,
   "metadata": {},
   "outputs": [],
   "source": [
    "u_genre = pd.read_csv(r\"C:\\Users\\KimJJ\\Downloads\\ml-100k\\ml-100k\\u.genre\",sep='\\t',encoding = \"ISO-8859-1\") "
   ]
  },
  {
   "cell_type": "code",
   "execution_count": null,
   "metadata": {},
   "outputs": [],
   "source": [
    "u_info = pd.read_csv(r\"C:\\Users\\KimJJ\\Downloads\\ml-100k\\ml-100k\\u.info\",sep=' ',encoding = \"ISO-8859-1\",header=None) "
   ]
  },
  {
   "cell_type": "code",
   "execution_count": null,
   "metadata": {},
   "outputs": [],
   "source": [
    "u_item = pd.read_csv(r\"C:\\Users\\KimJJ\\Downloads\\ml-100k\\ml-100k\\u.item\",sep='\\t',encoding = \"ISO-8859-1\") "
   ]
  },
  {
   "cell_type": "code",
   "execution_count": null,
   "metadata": {},
   "outputs": [],
   "source": [
    "u_occu = pd.read_csv(r\"C:\\Users\\KimJJ\\Downloads\\ml-100k\\ml-100k\\u.occupation\",sep='\\t',encoding = \"ISO-8859-1\") "
   ]
  },
  {
   "cell_type": "code",
   "execution_count": null,
   "metadata": {},
   "outputs": [],
   "source": [
    "u_user = pd.read_csv(r\"C:\\Users\\KimJJ\\Downloads\\ml-100k\\ml-100k\\u.user\",sep='\\t',encoding = \"ISO-8859-1\") "
   ]
  },
  {
   "cell_type": "code",
   "execution_count": null,
   "metadata": {},
   "outputs": [],
   "source": [
    "u_info"
   ]
  },
  {
   "cell_type": "code",
   "execution_count": null,
   "metadata": {},
   "outputs": [],
   "source": [
    "u_info.rename({1:'kind',0:'number'},axis=1)"
   ]
  },
  {
   "cell_type": "code",
   "execution_count": null,
   "metadata": {},
   "outputs": [],
   "source": [
    "u_item"
   ]
  },
  {
   "cell_type": "code",
   "execution_count": null,
   "metadata": {},
   "outputs": [],
   "source": [
    "item = pd.read_csv(\"C://Users/KimJJ/Downloads/ml-100k/ml-100k/u.item\",sep='|',engine='python',header=None) "
   ]
  },
  {
   "cell_type": "code",
   "execution_count": null,
   "metadata": {},
   "outputs": [],
   "source": [
    "item"
   ]
  },
  {
   "cell_type": "code",
   "execution_count": null,
   "metadata": {},
   "outputs": [],
   "source": [
    "\n",
    "item.rename(columns ={0:'movie_id',1:'movie_title',2:'release_date',3:'video_release_date',4:'imdb_url',5:'unknown',6:'Action',7:'Adventure',8:'Animation',9:'Children',10:'Comedy',11:'Crime',12:'Documentary',13:'Drama',14:'Fantasy',15:'Film-Noir',16:'Horror',17:'Musical',18:'Mystery',19:'Romance',20:'Sci-Fi',21:'Thriller',22: 'War' ,23: 'Western' })"
   ]
  },
  {
   "cell_type": "code",
   "execution_count": null,
   "metadata": {},
   "outputs": [],
   "source": [
    "genre = pd.read_csv(\"C://Users/KimJJ/Downloads/ml-100k/ml-100k/u.genre\",sep='|',header=None) "
   ]
  },
  {
   "cell_type": "code",
   "execution_count": null,
   "metadata": {},
   "outputs": [],
   "source": [
    "genre"
   ]
  },
  {
   "cell_type": "code",
   "execution_count": null,
   "metadata": {},
   "outputs": [],
   "source": [
    "occu = pd.read_csv(\"C://Users/KimJJ/Downloads/ml-100k/ml-100k/u.occupation\",sep='\\t',encoding = \"ISO-8859-1\",header = None) "
   ]
  },
  {
   "cell_type": "code",
   "execution_count": null,
   "metadata": {},
   "outputs": [],
   "source": [
    "occu"
   ]
  },
  {
   "cell_type": "code",
   "execution_count": null,
   "metadata": {},
   "outputs": [],
   "source": [
    "user = pd.read_csv(\"C://Users/KimJJ/Downloads/ml-100k/ml-100k/u.user\",sep='|',encoding = \"ISO-8859-1\",header = None) "
   ]
  },
  {
   "cell_type": "code",
   "execution_count": null,
   "metadata": {},
   "outputs": [],
   "source": [
    "user.rename(columns={0:'user_id',1:'age',2:'gender',3:'occupation',4:'zip_code'},inplace = True)"
   ]
  },
  {
   "cell_type": "code",
   "execution_count": 2,
   "metadata": {},
   "outputs": [
    {
     "ename": "FileNotFoundError",
     "evalue": "File b'C://Users/KimJJ/Downloads/ml-100k/ml-100k/u.data' does not exist",
     "output_type": "error",
     "traceback": [
      "\u001b[1;31m---------------------------------------------------------------------------\u001b[0m",
      "\u001b[1;31mFileNotFoundError\u001b[0m                         Traceback (most recent call last)",
      "\u001b[1;32m<ipython-input-2-a5adf3b84bab>\u001b[0m in \u001b[0;36m<module>\u001b[1;34m()\u001b[0m\n\u001b[1;32m----> 1\u001b[1;33m \u001b[0mdata\u001b[0m \u001b[1;33m=\u001b[0m\u001b[0mpd\u001b[0m\u001b[1;33m.\u001b[0m\u001b[0mread_csv\u001b[0m\u001b[1;33m(\u001b[0m\u001b[1;34m\"C://Users/KimJJ/Downloads/ml-100k/ml-100k/u.data\"\u001b[0m\u001b[1;33m,\u001b[0m\u001b[0msep\u001b[0m\u001b[1;33m=\u001b[0m\u001b[1;34m'\\t'\u001b[0m\u001b[1;33m,\u001b[0m\u001b[0mencoding\u001b[0m \u001b[1;33m=\u001b[0m \u001b[1;34m\"ISO-8859-1\"\u001b[0m\u001b[1;33m,\u001b[0m\u001b[0mheader\u001b[0m \u001b[1;33m=\u001b[0m \u001b[1;32mNone\u001b[0m\u001b[1;33m)\u001b[0m\u001b[1;33m\u001b[0m\u001b[0m\n\u001b[0m",
      "\u001b[1;32m~\\Anaconda3\\lib\\site-packages\\pandas\\io\\parsers.py\u001b[0m in \u001b[0;36mparser_f\u001b[1;34m(filepath_or_buffer, sep, delimiter, header, names, index_col, usecols, squeeze, prefix, mangle_dupe_cols, dtype, engine, converters, true_values, false_values, skipinitialspace, skiprows, nrows, na_values, keep_default_na, na_filter, verbose, skip_blank_lines, parse_dates, infer_datetime_format, keep_date_col, date_parser, dayfirst, iterator, chunksize, compression, thousands, decimal, lineterminator, quotechar, quoting, escapechar, comment, encoding, dialect, tupleize_cols, error_bad_lines, warn_bad_lines, skipfooter, skip_footer, doublequote, delim_whitespace, as_recarray, compact_ints, use_unsigned, low_memory, buffer_lines, memory_map, float_precision)\u001b[0m\n\u001b[0;32m    707\u001b[0m                     skip_blank_lines=skip_blank_lines)\n\u001b[0;32m    708\u001b[0m \u001b[1;33m\u001b[0m\u001b[0m\n\u001b[1;32m--> 709\u001b[1;33m         \u001b[1;32mreturn\u001b[0m \u001b[0m_read\u001b[0m\u001b[1;33m(\u001b[0m\u001b[0mfilepath_or_buffer\u001b[0m\u001b[1;33m,\u001b[0m \u001b[0mkwds\u001b[0m\u001b[1;33m)\u001b[0m\u001b[1;33m\u001b[0m\u001b[0m\n\u001b[0m\u001b[0;32m    710\u001b[0m \u001b[1;33m\u001b[0m\u001b[0m\n\u001b[0;32m    711\u001b[0m     \u001b[0mparser_f\u001b[0m\u001b[1;33m.\u001b[0m\u001b[0m__name__\u001b[0m \u001b[1;33m=\u001b[0m \u001b[0mname\u001b[0m\u001b[1;33m\u001b[0m\u001b[0m\n",
      "\u001b[1;32m~\\Anaconda3\\lib\\site-packages\\pandas\\io\\parsers.py\u001b[0m in \u001b[0;36m_read\u001b[1;34m(filepath_or_buffer, kwds)\u001b[0m\n\u001b[0;32m    447\u001b[0m \u001b[1;33m\u001b[0m\u001b[0m\n\u001b[0;32m    448\u001b[0m     \u001b[1;31m# Create the parser.\u001b[0m\u001b[1;33m\u001b[0m\u001b[1;33m\u001b[0m\u001b[0m\n\u001b[1;32m--> 449\u001b[1;33m     \u001b[0mparser\u001b[0m \u001b[1;33m=\u001b[0m \u001b[0mTextFileReader\u001b[0m\u001b[1;33m(\u001b[0m\u001b[0mfilepath_or_buffer\u001b[0m\u001b[1;33m,\u001b[0m \u001b[1;33m**\u001b[0m\u001b[0mkwds\u001b[0m\u001b[1;33m)\u001b[0m\u001b[1;33m\u001b[0m\u001b[0m\n\u001b[0m\u001b[0;32m    450\u001b[0m \u001b[1;33m\u001b[0m\u001b[0m\n\u001b[0;32m    451\u001b[0m     \u001b[1;32mif\u001b[0m \u001b[0mchunksize\u001b[0m \u001b[1;32mor\u001b[0m \u001b[0miterator\u001b[0m\u001b[1;33m:\u001b[0m\u001b[1;33m\u001b[0m\u001b[0m\n",
      "\u001b[1;32m~\\Anaconda3\\lib\\site-packages\\pandas\\io\\parsers.py\u001b[0m in \u001b[0;36m__init__\u001b[1;34m(self, f, engine, **kwds)\u001b[0m\n\u001b[0;32m    816\u001b[0m             \u001b[0mself\u001b[0m\u001b[1;33m.\u001b[0m\u001b[0moptions\u001b[0m\u001b[1;33m[\u001b[0m\u001b[1;34m'has_index_names'\u001b[0m\u001b[1;33m]\u001b[0m \u001b[1;33m=\u001b[0m \u001b[0mkwds\u001b[0m\u001b[1;33m[\u001b[0m\u001b[1;34m'has_index_names'\u001b[0m\u001b[1;33m]\u001b[0m\u001b[1;33m\u001b[0m\u001b[0m\n\u001b[0;32m    817\u001b[0m \u001b[1;33m\u001b[0m\u001b[0m\n\u001b[1;32m--> 818\u001b[1;33m         \u001b[0mself\u001b[0m\u001b[1;33m.\u001b[0m\u001b[0m_make_engine\u001b[0m\u001b[1;33m(\u001b[0m\u001b[0mself\u001b[0m\u001b[1;33m.\u001b[0m\u001b[0mengine\u001b[0m\u001b[1;33m)\u001b[0m\u001b[1;33m\u001b[0m\u001b[0m\n\u001b[0m\u001b[0;32m    819\u001b[0m \u001b[1;33m\u001b[0m\u001b[0m\n\u001b[0;32m    820\u001b[0m     \u001b[1;32mdef\u001b[0m \u001b[0mclose\u001b[0m\u001b[1;33m(\u001b[0m\u001b[0mself\u001b[0m\u001b[1;33m)\u001b[0m\u001b[1;33m:\u001b[0m\u001b[1;33m\u001b[0m\u001b[0m\n",
      "\u001b[1;32m~\\Anaconda3\\lib\\site-packages\\pandas\\io\\parsers.py\u001b[0m in \u001b[0;36m_make_engine\u001b[1;34m(self, engine)\u001b[0m\n\u001b[0;32m   1047\u001b[0m     \u001b[1;32mdef\u001b[0m \u001b[0m_make_engine\u001b[0m\u001b[1;33m(\u001b[0m\u001b[0mself\u001b[0m\u001b[1;33m,\u001b[0m \u001b[0mengine\u001b[0m\u001b[1;33m=\u001b[0m\u001b[1;34m'c'\u001b[0m\u001b[1;33m)\u001b[0m\u001b[1;33m:\u001b[0m\u001b[1;33m\u001b[0m\u001b[0m\n\u001b[0;32m   1048\u001b[0m         \u001b[1;32mif\u001b[0m \u001b[0mengine\u001b[0m \u001b[1;33m==\u001b[0m \u001b[1;34m'c'\u001b[0m\u001b[1;33m:\u001b[0m\u001b[1;33m\u001b[0m\u001b[0m\n\u001b[1;32m-> 1049\u001b[1;33m             \u001b[0mself\u001b[0m\u001b[1;33m.\u001b[0m\u001b[0m_engine\u001b[0m \u001b[1;33m=\u001b[0m \u001b[0mCParserWrapper\u001b[0m\u001b[1;33m(\u001b[0m\u001b[0mself\u001b[0m\u001b[1;33m.\u001b[0m\u001b[0mf\u001b[0m\u001b[1;33m,\u001b[0m \u001b[1;33m**\u001b[0m\u001b[0mself\u001b[0m\u001b[1;33m.\u001b[0m\u001b[0moptions\u001b[0m\u001b[1;33m)\u001b[0m\u001b[1;33m\u001b[0m\u001b[0m\n\u001b[0m\u001b[0;32m   1050\u001b[0m         \u001b[1;32melse\u001b[0m\u001b[1;33m:\u001b[0m\u001b[1;33m\u001b[0m\u001b[0m\n\u001b[0;32m   1051\u001b[0m             \u001b[1;32mif\u001b[0m \u001b[0mengine\u001b[0m \u001b[1;33m==\u001b[0m \u001b[1;34m'python'\u001b[0m\u001b[1;33m:\u001b[0m\u001b[1;33m\u001b[0m\u001b[0m\n",
      "\u001b[1;32m~\\Anaconda3\\lib\\site-packages\\pandas\\io\\parsers.py\u001b[0m in \u001b[0;36m__init__\u001b[1;34m(self, src, **kwds)\u001b[0m\n\u001b[0;32m   1693\u001b[0m         \u001b[0mkwds\u001b[0m\u001b[1;33m[\u001b[0m\u001b[1;34m'allow_leading_cols'\u001b[0m\u001b[1;33m]\u001b[0m \u001b[1;33m=\u001b[0m \u001b[0mself\u001b[0m\u001b[1;33m.\u001b[0m\u001b[0mindex_col\u001b[0m \u001b[1;32mis\u001b[0m \u001b[1;32mnot\u001b[0m \u001b[1;32mFalse\u001b[0m\u001b[1;33m\u001b[0m\u001b[0m\n\u001b[0;32m   1694\u001b[0m \u001b[1;33m\u001b[0m\u001b[0m\n\u001b[1;32m-> 1695\u001b[1;33m         \u001b[0mself\u001b[0m\u001b[1;33m.\u001b[0m\u001b[0m_reader\u001b[0m \u001b[1;33m=\u001b[0m \u001b[0mparsers\u001b[0m\u001b[1;33m.\u001b[0m\u001b[0mTextReader\u001b[0m\u001b[1;33m(\u001b[0m\u001b[0msrc\u001b[0m\u001b[1;33m,\u001b[0m \u001b[1;33m**\u001b[0m\u001b[0mkwds\u001b[0m\u001b[1;33m)\u001b[0m\u001b[1;33m\u001b[0m\u001b[0m\n\u001b[0m\u001b[0;32m   1696\u001b[0m \u001b[1;33m\u001b[0m\u001b[0m\n\u001b[0;32m   1697\u001b[0m         \u001b[1;31m# XXX\u001b[0m\u001b[1;33m\u001b[0m\u001b[1;33m\u001b[0m\u001b[0m\n",
      "\u001b[1;32mpandas/_libs/parsers.pyx\u001b[0m in \u001b[0;36mpandas._libs.parsers.TextReader.__cinit__\u001b[1;34m()\u001b[0m\n",
      "\u001b[1;32mpandas/_libs/parsers.pyx\u001b[0m in \u001b[0;36mpandas._libs.parsers.TextReader._setup_parser_source\u001b[1;34m()\u001b[0m\n",
      "\u001b[1;31mFileNotFoundError\u001b[0m: File b'C://Users/KimJJ/Downloads/ml-100k/ml-100k/u.data' does not exist"
     ]
    }
   ],
   "source": [
    "data =pd.read_csv(\"C://Users/KimJJ/Downloads/ml-100k/ml-100k/u.data\",sep='\\t',encoding = \"ISO-8859-1\",header = None) "
   ]
  },
  {
   "cell_type": "code",
   "execution_count": null,
   "metadata": {},
   "outputs": [],
   "source": [
    "data.rename(columns={0:'user_id',1:'item_id',2:'rating',3:'timestamp'},inplace = True)"
   ]
  },
  {
   "cell_type": "code",
   "execution_count": null,
   "metadata": {},
   "outputs": [],
   "source": [
    "data.merge(user)  #inner join된다."
   ]
  },
  {
   "cell_type": "code",
   "execution_count": null,
   "metadata": {},
   "outputs": [],
   "source": [
    "data.drop(columns='timestamp',inplace = True)"
   ]
  },
  {
   "cell_type": "code",
   "execution_count": null,
   "metadata": {},
   "outputs": [],
   "source": [
    "recommendation = data.set_index(['user_id','item_id']).unstack().fillna(0)"
   ]
  },
  {
   "cell_type": "code",
   "execution_count": null,
   "metadata": {},
   "outputs": [],
   "source": [
    "recommendation"
   ]
  },
  {
   "cell_type": "code",
   "execution_count": null,
   "metadata": {},
   "outputs": [],
   "source": [
    "data.pivot_table('rating','user_id','item_id')  #동시에 여러 값이 있으면 골치아프다"
   ]
  },
  {
   "cell_type": "code",
   "execution_count": null,
   "metadata": {},
   "outputs": [],
   "source": [
    "pd.crosstab(data['user_id'],data['item_id'],data['rating'],aggfunc='max') #역시 동시에 여러 값이 있으면 골치아프다"
   ]
  },
  {
   "cell_type": "code",
   "execution_count": null,
   "metadata": {},
   "outputs": [],
   "source": [
    "reco = data.pivot('user_id','item_id','rating').fillna(0)"
   ]
  },
  {
   "cell_type": "code",
   "execution_count": null,
   "metadata": {
    "scrolled": true
   },
   "outputs": [],
   "source": [
    "reco"
   ]
  },
  {
   "cell_type": "code",
   "execution_count": null,
   "metadata": {},
   "outputs": [],
   "source": [
    "reco.corr()  #컬럼별 상관계수이지만 우리는 유저별 상관계수를 원하므로 T로 변환하여 corr을 구한다."
   ]
  },
  {
   "cell_type": "code",
   "execution_count": null,
   "metadata": {},
   "outputs": [],
   "source": [
    "reco_corr=reco.T.corr()"
   ]
  },
  {
   "cell_type": "code",
   "execution_count": null,
   "metadata": {},
   "outputs": [],
   "source": [
    "reco_corr.loc[42]"
   ]
  },
  {
   "cell_type": "code",
   "execution_count": null,
   "metadata": {},
   "outputs": [],
   "source": [
    "reco_corr.loc[42].sort_values(ascending=False)"
   ]
  },
  {
   "cell_type": "code",
   "execution_count": null,
   "metadata": {},
   "outputs": [],
   "source": [
    "reco_corr.loc[42].sort_values(ascending=False).iloc[1:5]  #4개를 뽑는데 iloc를 쓰는 이유는 sort되어서 차례대로 안되어 있기때문에 1부터는 나자신 제외"
   ]
  },
  {
   "cell_type": "code",
   "execution_count": null,
   "metadata": {},
   "outputs": [],
   "source": [
    "def ru(user_id,k):\n",
    "    return reco_corr.loc[user_id].sort_values(ascending=False)[1:k].index"
   ]
  },
  {
   "cell_type": "code",
   "execution_count": null,
   "metadata": {},
   "outputs": [],
   "source": [
    "s =ru(42,5)"
   ]
  },
  {
   "cell_type": "code",
   "execution_count": null,
   "metadata": {},
   "outputs": [],
   "source": [
    "s.index"
   ]
  },
  {
   "cell_type": "code",
   "execution_count": null,
   "metadata": {},
   "outputs": [],
   "source": [
    "data[data.user_id==42].item_id.sort_values()       #내가 본 영화"
   ]
  },
  {
   "cell_type": "code",
   "execution_count": null,
   "metadata": {},
   "outputs": [],
   "source": [
    "def seen_movie(user_id):\n",
    "    return data[data.user_id==user_id].item_id"
   ]
  },
  {
   "cell_type": "code",
   "execution_count": null,
   "metadata": {},
   "outputs": [],
   "source": [
    "seen_movie(42)"
   ]
  },
  {
   "cell_type": "code",
   "execution_count": null,
   "metadata": {},
   "outputs": [],
   "source": [
    "len(seen_movie(916))"
   ]
  },
  {
   "cell_type": "code",
   "execution_count": null,
   "metadata": {},
   "outputs": [],
   "source": [
    "t= set(data[data.user_id==577].item_id)-set(data[data.user_id==42].item_id)"
   ]
  },
  {
   "cell_type": "code",
   "execution_count": null,
   "metadata": {},
   "outputs": [],
   "source": [
    "r1 = data[(data.item_id.isin(t)) & (data.rating==5) &(data.user_id==577)].sort_values('rating', ascending=False)"
   ]
  },
  {
   "cell_type": "code",
   "execution_count": null,
   "metadata": {},
   "outputs": [],
   "source": [
    "r1.rating = r1.rating *0.513391\n"
   ]
  },
  {
   "cell_type": "code",
   "execution_count": null,
   "metadata": {},
   "outputs": [],
   "source": [
    "for i in s:\n",
    "    print(i)"
   ]
  },
  {
   "cell_type": "code",
   "execution_count": null,
   "metadata": {},
   "outputs": [],
   "source": [
    "def recommendation_user(user_id,k):\n",
    "    s = reco_corr.loc[user_id].sort_values(ascending=False)[1:k].index\n",
    "    temp=[]\n",
    "    for i in s :\n",
    "        temp.append(set(data[data.user_id==i].item_id)-set(data[data.user_id==user_id].item_id))\n",
    "    return temp"
   ]
  },
  {
   "cell_type": "code",
   "execution_count": null,
   "metadata": {},
   "outputs": [],
   "source": [
    "recommendation_user(1,5)"
   ]
  },
  {
   "cell_type": "code",
   "execution_count": null,
   "metadata": {},
   "outputs": [],
   "source": [
    "# pd.concat([s,s1]) s와 s1을 붙인다.중복검사는pd.concat([s,s1]).duplicated  지우는 것은 pd.concat([s,s1]).drop_duplicated(keep=False)이다."
   ]
  },
  {
   "cell_type": "code",
   "execution_count": null,
   "metadata": {},
   "outputs": [],
   "source": [
    "#set을 이용한 개념이 duplicate가 있다."
   ]
  },
  {
   "cell_type": "code",
   "execution_count": null,
   "metadata": {},
   "outputs": [],
   "source": [
    "def recommendation_user(user_id,k):\n",
    "    s = reco_corr.loc[user_id].sort_values(ascending=False)[1:k].index\n",
    "    temp=pd.DataFrame(columns =['user_id','item_id','rating'])\n",
    "    for i in s :\n",
    "        t = set(data[data.user_id==i].item_id)-set(data[data.user_id==user_id].item_id)\n",
    "        \n",
    "        temp = pd.concat([temp,data[(data.item_id.isin(t)) & (data.rating==5) & (data.user_id==i) ]]) ## 서로 안봤던 영화중에서 레이팅 5,나는안봤지만 나랑 안봤던 영화    else:\n",
    "        return temp.drop_duplicates(keep=False).sort_values('item_id')"
   ]
  },
  {
   "cell_type": "code",
   "execution_count": null,
   "metadata": {},
   "outputs": [],
   "source": [
    "s=recommendation_user(1,5)"
   ]
  },
  {
   "cell_type": "code",
   "execution_count": null,
   "metadata": {},
   "outputs": [],
   "source": [
    "s"
   ]
  },
  {
   "cell_type": "code",
   "execution_count": null,
   "metadata": {},
   "outputs": [],
   "source": [
    "def recommendation_user(user_id, k, m): ## 추천수 m\n",
    "    s = reco_corr.loc[user_id].sort_values(ascending=False)[1:k].index\n",
    "    temp=pd.DataFrame(columns =['user_id','item_id','rating'])\n",
    "    for j,i in enumrate(s) : ## enumerate 앞에 인덱스를 붙여줌 j에 1 2 3 4 들어감\n",
    "        t = set(data[data.user_id==i].item_id)-set(data[data.user_id==user_id].item_id)\n",
    "        k = data[(data.item_id.isin(t)) & (data.rating==5) & (data.user_id==i)]\n",
    "        k.rating = krating *(1-0.05*j) ## 밑에있을수록 0.05씩 가중치 줄여버리면서 곱함\n",
    "        \n",
    "        temp = pd.concat([temp,k])\n",
    "      #  temp = pd.concat([temp,data[(data.item_id.isin(t)) & (data.rating==5) & (data.user_id==i) ]]) ## 서로 안봤던 영화중에서 레이팅 5,나는안봤지만 나랑 안봤던 영화    else:\n",
    "        return temp ##temp.drop_duplicates(keep=False).sort_values('item_id')"
   ]
  },
  {
   "cell_type": "code",
   "execution_count": null,
   "metadata": {},
   "outputs": [],
   "source": [
    "aaa.unstack()  ## 컬럼으로 바꿔야함  ## 시리즈를 데이터프레임으로 바꿈 시리즈는 머지 없음\n",
    "pd.DataFrame(aaa.unstack())"
   ]
  },
  {
   "cell_type": "code",
   "execution_count": null,
   "metadata": {},
   "outputs": [],
   "source": [
    "aaa = recommentation_user(42,5,10)   ## 42번인애가 가까운에 5명에게 영화 10개추천"
   ]
  },
  {
   "cell_type": "code",
   "execution_count": null,
   "metadata": {},
   "outputs": [],
   "source": [
    "aaa.groupby('item_id').mean().sort_values('rating',ascending=False)[:n] ## 처음"
   ]
  },
  {
   "cell_type": "code",
   "execution_count": null,
   "metadata": {},
   "outputs": [],
   "source": []
  },
  {
   "cell_type": "code",
   "execution_count": null,
   "metadata": {},
   "outputs": [],
   "source": [
    "#######################"
   ]
  },
  {
   "cell_type": "code",
   "execution_count": null,
   "metadata": {},
   "outputs": [],
   "source": [
    "def recommendation_user(user_id,k,n=10): ## 영화 몇개 추천해줄건지 초기값 n= 10\n",
    "    s = reco_corr.loc[user_id].sort_values(ascending=False)[1:k+1].index  #나하고 비슷한애 k명 찾는다.\n",
    "    temp=pd.DataFrame(columns =['user_id','item_id','rating']) #가져다 붙이려고 만들었다.\n",
    "    for j,i in enumerate(s,1) :\n",
    "        t = set(data[data.user_id==i].item_id)-set(data[data.user_id==user_id].item_id)\n",
    "        k=data[(data.item_id.isin(t)) & (data.rating==5) & (data.user_id==i)]\n",
    "        k.rating = k.rating * (1-0.05*j)\n",
    "        temp = pd.concat([temp,k])\n",
    "        #나는 안봤지만 나랑 비슷한 사람이 본영화중 rating이 5인거 \n",
    "    else:\n",
    "        return  temp.rename(columns={\"item_id\":\"movie_id\"})\n",
    "        #temp = temp.rename(columns={\"item_id\":\"movie_id\"}) ## re!!\n",
    "       # return temp.merge(item)"
   ]
  },
  {
   "cell_type": "code",
   "execution_count": null,
   "metadata": {},
   "outputs": [],
   "source": [
    "aaa.merge(item[['movie_id','movie_title']]).drop_duplicates()#.groupby('movie_id').mean() ## 기본옵션이 첫번째거만 남기고 뒤에거 다지운다. ## 합수에 갖다붙힘"
   ]
  },
  {
   "cell_type": "code",
   "execution_count": null,
   "metadata": {},
   "outputs": [],
   "source": [
    "aaa.groupby('movie_title').mean().sort_values('rating',ascending=False)[:10] ## 함수 리턴에 계속 붙인다."
   ]
  },
  {
   "cell_type": "code",
   "execution_count": 3,
   "metadata": {},
   "outputs": [
    {
     "ename": "NameError",
     "evalue": "name 'aaa' is not defined",
     "output_type": "error",
     "traceback": [
      "\u001b[1;31m---------------------------------------------------------------------------\u001b[0m",
      "\u001b[1;31mNameError\u001b[0m                                 Traceback (most recent call last)",
      "\u001b[1;32m<ipython-input-3-2a38506bfa11>\u001b[0m in \u001b[0;36m<module>\u001b[1;34m()\u001b[0m\n\u001b[1;32m----> 1\u001b[1;33m \u001b[0maaa\u001b[0m\u001b[1;33m.\u001b[0m\u001b[0mindex\u001b[0m \u001b[1;31m## 영화제목만나옴\u001b[0m\u001b[1;33m\u001b[0m\u001b[0m\n\u001b[0m",
      "\u001b[1;31mNameError\u001b[0m: name 'aaa' is not defined"
     ]
    }
   ],
   "source": [
    "aaa.index ## 영화제목만나옴\n"
   ]
  },
  {
   "cell_type": "code",
   "execution_count": 4,
   "metadata": {},
   "outputs": [
    {
     "ename": "NameError",
     "evalue": "name 'aaa' is not defined",
     "output_type": "error",
     "traceback": [
      "\u001b[1;31m---------------------------------------------------------------------------\u001b[0m",
      "\u001b[1;31mNameError\u001b[0m                                 Traceback (most recent call last)",
      "\u001b[1;32m<ipython-input-4-477c6679112f>\u001b[0m in \u001b[0;36m<module>\u001b[1;34m()\u001b[0m\n\u001b[1;32m----> 1\u001b[1;33m \u001b[1;33m[\u001b[0m\u001b[0mx\u001b[0m \u001b[1;32mfor\u001b[0m \u001b[0mx\u001b[0m \u001b[1;32min\u001b[0m \u001b[0maaa\u001b[0m\u001b[1;33m]\u001b[0m\u001b[1;33m\u001b[0m\u001b[0m\n\u001b[0m",
      "\u001b[1;31mNameError\u001b[0m: name 'aaa' is not defined"
     ]
    }
   ],
   "source": [
    "[x for x in aaa]"
   ]
  },
  {
   "cell_type": "code",
   "execution_count": null,
   "metadata": {},
   "outputs": [],
   "source": [
    "\n",
    "## 이거하면 pandas 에 있는거 다할수있다 apply 뺴고\n",
    "\n",
    "\n",
    "## 피클링 머신러닝할때 객체 자체를 저장 데이터 저장하면 ㅈㄴ 귀찮음"
   ]
  }
 ],
 "metadata": {
  "kernelspec": {
   "display_name": "Python 3",
   "language": "python",
   "name": "python3"
  },
  "language_info": {
   "codemirror_mode": {
    "name": "ipython",
    "version": 3
   },
   "file_extension": ".py",
   "mimetype": "text/x-python",
   "name": "python",
   "nbconvert_exporter": "python",
   "pygments_lexer": "ipython3",
   "version": "3.6.4"
  }
 },
 "nbformat": 4,
 "nbformat_minor": 2
}
