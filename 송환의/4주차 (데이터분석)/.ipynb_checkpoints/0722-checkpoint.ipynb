{
 "cells": [
  {
   "cell_type": "code",
   "execution_count": null,
   "metadata": {},
   "outputs": [],
   "source": [
    "## 파이썬 단점 속도가 느리다  => 계산속도가 느리다 =\n",
    "## gpu , parallen computing (여러대 연결)\n",
    "# 파이썬 인터프리터 언어인데 컴파일 할수 있게 해줌(cython(자료 타입 지정) c속도 근접하게 나옴, shed, skin, num)\n",
    "# 컴파잃 할수 있어 속도 빠르다 pypy 파이썬으로 만든 (다이나믹타입, 스택,~~ 이런거 최적화 해서 5배빠름 문법 수정 할 필요 x pypy 설치(호환성문제))\n",
    "# 글루 랭기지 - 다른 언어와 잘 붙는다. 병목현상 일어나는 부분을 c코드로 짜버린다. "
   ]
  }
 ],
 "metadata": {
  "kernelspec": {
   "display_name": "Python 3",
   "language": "python",
   "name": "python3"
  },
  "language_info": {
   "codemirror_mode": {
    "name": "ipython",
    "version": 3
   },
   "file_extension": ".py",
   "mimetype": "text/x-python",
   "name": "python",
   "nbconvert_exporter": "python",
   "pygments_lexer": "ipython3",
   "version": "3.6.4"
  }
 },
 "nbformat": 4,
 "nbformat_minor": 2
}
