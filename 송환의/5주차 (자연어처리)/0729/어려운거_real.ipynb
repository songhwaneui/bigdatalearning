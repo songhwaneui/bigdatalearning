{
  "nbformat": 4,
  "nbformat_minor": 0,
  "metadata": {
    "colab": {
      "name": "어려운거_real.ipynb",
      "version": "0.3.2",
      "provenance": [],
      "collapsed_sections": []
    },
    "kernelspec": {
      "name": "python3",
      "display_name": "Python 3"
    },
    "accelerator": "GPU"
  },
  "cells": [
    {
      "cell_type": "code",
      "metadata": {
        "id": "7SRpVa2Rw7H1",
        "colab_type": "code",
        "outputId": "b960d3d2-5e90-45cd-cccf-be77d3b32116",
        "colab": {
          "base_uri": "https://localhost:8080/",
          "height": 140
        }
      },
      "source": [
        "!git clone http://github.com/e9t/nsmc.git"
      ],
      "execution_count": 0,
      "outputs": [
        {
          "output_type": "stream",
          "text": [
            "Cloning into 'nsmc'...\n",
            "warning: redirecting to https://github.com/e9t/nsmc.git/\n",
            "remote: Enumerating objects: 14763, done.\u001b[K\n",
            "remote: Total 14763 (delta 0), reused 0 (delta 0), pack-reused 14763\u001b[K\n",
            "Receiving objects: 100% (14763/14763), 56.19 MiB | 26.70 MiB/s, done.\n",
            "Resolving deltas: 100% (1749/1749), done.\n",
            "Checking out files: 100% (14737/14737), done.\n"
          ],
          "name": "stdout"
        }
      ]
    },
    {
      "cell_type": "code",
      "metadata": {
        "id": "pUqus8voyD_4",
        "colab_type": "code",
        "outputId": "bd0a7b40-e66e-4a08-fbc6-6613d9aea896",
        "colab": {
          "base_uri": "https://localhost:8080/",
          "height": 158
        }
      },
      "source": [
        "\n",
        "!pip install konlpy"
      ],
      "execution_count": 11,
      "outputs": [
        {
          "output_type": "stream",
          "text": [
            "Collecting konlpy\n",
            "\u001b[?25l  Downloading https://files.pythonhosted.org/packages/e5/3d/4e983cd98d87b50b2ab0387d73fa946f745aa8164e8888a714d5129f9765/konlpy-0.5.1-py2.py3-none-any.whl (19.4MB)\n",
            "\u001b[K     |████████████████████████████████| 19.4MB 3.4MB/s \n",
            "\u001b[?25hCollecting JPype1>=0.5.7 (from konlpy)\n",
            "\u001b[?25l  Downloading https://files.pythonhosted.org/packages/07/09/e19ce27d41d4f66d73ac5b6c6a188c51b506f56c7bfbe6c1491db2d15995/JPype1-0.7.0-cp36-cp36m-manylinux2010_x86_64.whl (2.7MB)\n",
            "\u001b[K     |████████████████████████████████| 2.7MB 39.7MB/s \n",
            "\u001b[?25hInstalling collected packages: JPype1, konlpy\n",
            "Successfully installed JPype1-0.7.0 konlpy-0.5.1\n"
          ],
          "name": "stdout"
        }
      ]
    },
    {
      "cell_type": "markdown",
      "metadata": {
        "id": "8D_6d8bl1HgN",
        "colab_type": "text"
      },
      "source": [
        ""
      ]
    },
    {
      "cell_type": "code",
      "metadata": {
        "id": "8JDUghGOw8jT",
        "colab_type": "code",
        "colab": {
          "base_uri": "https://localhost:8080/",
          "height": 34
        },
        "outputId": "9564cf2b-ca72-4094-a2d0-2b117c6b803b"
      },
      "source": [
        "import konlpy\n",
        "from konlpy.tag import Kkma\n",
        "from konlpy.utils import pprint\n",
        "konlpy.__version__"
      ],
      "execution_count": 17,
      "outputs": [
        {
          "output_type": "execute_result",
          "data": {
            "text/plain": [
              "'0.5.1'"
            ]
          },
          "metadata": {
            "tags": []
          },
          "execution_count": 17
        }
      ]
    },
    {
      "cell_type": "code",
      "metadata": {
        "id": "QYUQGGV9xd9U",
        "colab_type": "code",
        "colab": {}
      },
      "source": [
        "def read_data(filename):\n",
        "  with open(filename, \"r\") as f:\n",
        "    data = [line.split('\\t') for line in f.read().splitlines()]\n",
        "    data = data[1:10000]\n",
        "    #okt.pos(data. norm=True, stem = True)\n",
        "    \n",
        "  return data"
      ],
      "execution_count": 0,
      "outputs": []
    },
    {
      "cell_type": "code",
      "metadata": {
        "id": "B04wyZ7W1Rqe",
        "colab_type": "code",
        "colab": {}
      },
      "source": [
        "train_data = read_data('./nsmc/ratings_train.txt')\n",
        "test_data = read_data('./nsmc/ratings_test.txt')\n",
        "print(train_data[0:])"
      ],
      "execution_count": 0,
      "outputs": []
    },
    {
      "cell_type": "markdown",
      "metadata": {
        "id": "_9nD3GKh3QjX",
        "colab_type": "text"
      },
      "source": [
        ""
      ]
    },
    {
      "cell_type": "code",
      "metadata": {
        "id": "z4n-g5vV1Y0A",
        "colab_type": "code",
        "colab": {
          "base_uri": "https://localhost:8080/",
          "height": 210
        },
        "outputId": "dcff94ba-2449-4bd2-8e75-ef3511de5114"
      },
      "source": [
        "from konlpy.tag import Okt\n",
        "\n",
        "okt = Okt()\n",
        "print(okt.pos(u'이 밤 그날의 반딧불을 당신의 창 가까이 보낼게요'))"
      ],
      "execution_count": 18,
      "outputs": [
        {
          "output_type": "stream",
          "text": [
            "/usr/local/lib/python3.6/dist-packages/jpype/_core.py:210: UserWarning: \n",
            "-------------------------------------------------------------------------------\n",
            "Deprecated: convertStrings was not specified when starting the JVM. The default\n",
            "behavior in JPype will be False starting in JPype 0.8. The recommended setting\n",
            "for new code is convertStrings=False.  The legacy value of True was assumed for\n",
            "this session. If you are a user of an application that reported this warning,\n",
            "please file a ticket with the developer.\n",
            "-------------------------------------------------------------------------------\n",
            "\n",
            "  \"\"\")\n"
          ],
          "name": "stderr"
        },
        {
          "output_type": "stream",
          "text": [
            "[('이', 'Noun'), ('밤', 'Noun'), ('그날', 'Noun'), ('의', 'Josa'), ('반딧불', 'Noun'), ('을', 'Josa'), ('당신', 'Noun'), ('의', 'Josa'), ('창', 'Noun'), ('가까이', 'Noun'), ('보낼게요', 'Verb')]\n"
          ],
          "name": "stdout"
        }
      ]
    },
    {
      "cell_type": "code",
      "metadata": {
        "id": "E3ZCVUur306Q",
        "colab_type": "code",
        "colab": {}
      },
      "source": [
        "def tokenize(doc):\n",
        "  return['/'.join(t) for t in okt.pos(doc,norm = True ,stem = True)]"
      ],
      "execution_count": 0,
      "outputs": []
    },
    {
      "cell_type": "code",
      "metadata": {
        "id": "nxBu4Wcl4QpE",
        "colab_type": "code",
        "colab": {
          "base_uri": "https://localhost:8080/",
          "height": 246
        },
        "outputId": "afbd551b-bd42-4bb1-fb53-5027f0228ff2"
      },
      "source": [
        "tokenize('이 밤 그날의 반딧불을 날르다 당신의 창 가까이 보낼게요 뛰어가면서')"
      ],
      "execution_count": 25,
      "outputs": [
        {
          "output_type": "execute_result",
          "data": {
            "text/plain": [
              "['이/Noun',\n",
              " '밤/Noun',\n",
              " '그날/Noun',\n",
              " '의/Josa',\n",
              " '반딧불/Noun',\n",
              " '을/Josa',\n",
              " '나르다/Verb',\n",
              " '당신/Noun',\n",
              " '의/Josa',\n",
              " '창/Noun',\n",
              " '가까이/Noun',\n",
              " '보내다/Verb',\n",
              " '뛰어가다/Verb']"
            ]
          },
          "metadata": {
            "tags": []
          },
          "execution_count": 25
        }
      ]
    },
    {
      "cell_type": "code",
      "metadata": {
        "id": "-DCb4nUmxQPb",
        "colab_type": "code",
        "colab": {}
      },
      "source": [
        ""
      ],
      "execution_count": 0,
      "outputs": []
    },
    {
      "cell_type": "code",
      "metadata": {
        "id": "3EdIYmFW5eDy",
        "colab_type": "code",
        "colab": {}
      },
      "source": [
        ""
      ],
      "execution_count": 0,
      "outputs": []
    },
    {
      "cell_type": "code",
      "metadata": {
        "id": "gjKFKmVVxTlj",
        "colab_type": "code",
        "colab": {}
      },
      "source": [
        " \n",
        "train_data = read_data('./nsmc/ratings_train.txt')\n",
        "test_data = read_data('./nsmc/ratings_test.txt')"
      ],
      "execution_count": 0,
      "outputs": []
    },
    {
      "cell_type": "code",
      "metadata": {
        "id": "UROMyZ7uxQR1",
        "colab_type": "code",
        "colab": {}
      },
      "source": [
        "def tokenize(doc):\n",
        "  # norm은 정규ㅠ화, stem 은 근어로 표시하기를 나타냄\n",
        "  return ['/'.join(t) for t in okt.pos(doc, norm=True, stem=True)]"
      ],
      "execution_count": 0,
      "outputs": []
    },
    {
      "cell_type": "code",
      "metadata": {
        "id": "Vll7QDMOxQUY",
        "colab_type": "code",
        "colab": {}
      },
      "source": [
        ""
      ],
      "execution_count": 0,
      "outputs": []
    },
    {
      "cell_type": "code",
      "metadata": {
        "id": "DwQJFuB-xQWn",
        "colab_type": "code",
        "colab": {}
      },
      "source": [
        "from konlpy.tag import Okt\n",
        "\n",
        "okt = Okt()\n",
        "okt.pos(\"이 밤 그날의 반딧불\", norm = True ,stem = True)"
      ],
      "execution_count": 0,
      "outputs": []
    },
    {
      "cell_type": "code",
      "metadata": {
        "id": "QuBi8uFpxQZC",
        "colab_type": "code",
        "colab": {}
      },
      "source": [
        "selected_words = [f[0] for f in text.vocab().]"
      ],
      "execution_count": 0,
      "outputs": []
    },
    {
      "cell_type": "code",
      "metadata": {
        "id": "OtwVY5-L5ehJ",
        "colab_type": "code",
        "colab": {}
      },
      "source": [
        ""
      ],
      "execution_count": 0,
      "outputs": []
    },
    {
      "cell_type": "code",
      "metadata": {
        "id": "9NHdWOPe5ejt",
        "colab_type": "code",
        "colab": {}
      },
      "source": [
        "import json\n",
        "import os\n",
        "from pprint import pprint\n",
        "\n",
        "\n",
        "\n",
        "if os.path.isfile(\"./nsmc/train_doc.json\"):\n",
        "  with open(\"./nsmc/train_doc.json\") as f:\n",
        "    train_docs = json.load(f)\n",
        "  with open(\"./nsmc/test_doc.json\") as f:\n",
        "    test_docs = json.load(f) \n",
        "else :\n",
        "  train_docs = [(tokenize(row[1]),row[2]) for row in train_data]\n",
        "  test_docs = [(tokenize(row[1]),row[2]) for row in test_data]\n",
        "  with open(\"./nsmc/train_doc.json\",'w',encoding = \"utf-8\") as make_file:\n",
        "    json.dump(train_docs , make_file, ensure_ascii=False,indent = '\\t')\n",
        "  with open(\"./nsmc/test_doc.json\",'w',encoding = \"utf-8\") as make_file:\n",
        "    json.dump(test_docs , make_file, ensure_ascii=False,indent = '\\t')\n"
      ],
      "execution_count": 0,
      "outputs": []
    },
    {
      "cell_type": "code",
      "metadata": {
        "id": "OGSiBK8W5emx",
        "colab_type": "code",
        "colab": {
          "base_uri": "https://localhost:8080/",
          "height": 34
        },
        "outputId": "041e0964-14db-4678-fd0e-4b1b72581176"
      },
      "source": [
        "d = test_docs\n",
        "tokens = [t for d in train_docs for t in d[0]]\n",
        "print(len(tokens))"
      ],
      "execution_count": 39,
      "outputs": [
        {
          "output_type": "stream",
          "text": [
            "146789\n"
          ],
          "name": "stdout"
        }
      ]
    },
    {
      "cell_type": "code",
      "metadata": {
        "id": "hQeu5g7A5ep_",
        "colab_type": "code",
        "colab": {
          "base_uri": "https://localhost:8080/",
          "height": 34
        },
        "outputId": "ee5f624e-0731-48a0-d5dd-dd2517917322"
      },
      "source": [
        "import nltk\n",
        "text = nltk.Text(tokens, name='NMSC')\n",
        "print(text)"
      ],
      "execution_count": 40,
      "outputs": [
        {
          "output_type": "stream",
          "text": [
            "<Text: NMSC>\n"
          ],
          "name": "stdout"
        }
      ]
    },
    {
      "cell_type": "code",
      "metadata": {
        "id": "oF6pHweT7SeR",
        "colab_type": "code",
        "colab": {
          "base_uri": "https://localhost:8080/",
          "height": 1000
        },
        "outputId": "06ba3507-ef6f-4ae4-de39-72a4f3fddc20"
      },
      "source": [
        "print(len(text.tokens))\n",
        "print(len(set(text.tokens)))\n",
        "pprint(text.vocab().most_common(100))\n"
      ],
      "execution_count": 62,
      "outputs": [
        {
          "output_type": "stream",
          "text": [
            "146789\n",
            "13496\n",
            "[('./Punctuation', 4791),\n",
            " ('영화/Noun', 3368),\n",
            " ('하다/Verb', 2829),\n",
            " ('이/Josa', 2624),\n",
            " ('보다/Verb', 2576),\n",
            " ('의/Josa', 2123),\n",
            " ('../Punctuation', 1949),\n",
            " ('가/Josa', 1789),\n",
            " ('에/Josa', 1771),\n",
            " ('을/Josa', 1587),\n",
            " ('.../Punctuation', 1500),\n",
            " ('도/Josa', 1445),\n",
            " ('은/Josa', 1265),\n",
            " ('들/Suffix', 1247),\n",
            " (',/Punctuation', 1191),\n",
            " ('는/Josa', 1122),\n",
            " ('없다/Adjective', 1087),\n",
            " ('를/Josa', 1069),\n",
            " ('있다/Adjective', 827),\n",
            " ('이/Determiner', 757),\n",
            " ('?/Punctuation', 751),\n",
            " ('좋다/Adjective', 729),\n",
            " ('재밌다/Adjective', 706),\n",
            " ('너무/Adverb', 680),\n",
            " ('정말/Noun', 660),\n",
            " ('것/Noun', 623),\n",
            " ('되다/Verb', 580),\n",
            " ('같다/Adjective', 580),\n",
            " ('적/Suffix', 558),\n",
            " ('진짜/Noun', 552),\n",
            " ('점/Noun', 548),\n",
            " ('이/Noun', 543),\n",
            " ('아니다/Adjective', 533),\n",
            " ('!/Punctuation', 531),\n",
            " ('으로/Josa', 530),\n",
            " ('않다/Verb', 481),\n",
            " ('만/Josa', 472),\n",
            " ('에서/Josa', 465),\n",
            " ('로/Josa', 458),\n",
            " ('나오다/Verb', 449),\n",
            " ('연기/Noun', 441),\n",
            " ('평점/Noun', 424),\n",
            " ('만들다/Verb', 422),\n",
            " ('과/Josa', 420),\n",
            " ('최고/Noun', 417),\n",
            " ('한/Josa', 405),\n",
            " ('이다/Verb', 397),\n",
            " ('~/Punctuation', 384),\n",
            " ('인/Josa', 374),\n",
            " ('..../Punctuation', 363),\n",
            " ('스토리/Noun', 360),\n",
            " ('다/Adverb', 354),\n",
            " ('이다/Josa', 353),\n",
            " ('왜/Noun', 351),\n",
            " ('사람/Noun', 344),\n",
            " ('1/Number', 343),\n",
            " ('드라마/Noun', 338),\n",
            " ('보고/Noun', 328),\n",
            " ('다/Josa', 324),\n",
            " ('감동/Noun', 319),\n",
            " ('생각/Noun', 319),\n",
            " ('아깝다/Adjective', 310),\n",
            " ('이렇다/Adjective', 310),\n",
            " ('때/Noun', 307),\n",
            " ('감독/Noun', 307),\n",
            " ('ㅋㅋ/KoreanParticle', 306),\n",
            " ('말/Noun', 306),\n",
            " ('ㅋㅋㅋ/KoreanParticle', 295),\n",
            " ('고/Josa', 284),\n",
            " ('안/VerbPrefix', 277),\n",
            " ('배우/Noun', 277),\n",
            " ('거/Noun', 277),\n",
            " ('더/Noun', 276),\n",
            " ('그냥/Noun', 275),\n",
            " ('재미없다/Adjective', 275),\n",
            " ('내용/Noun', 272),\n",
            " ('내/Noun', 267),\n",
            " ('재미/Noun', 264),\n",
            " ('지루하다/Adjective', 263),\n",
            " ('재미있다/Adjective', 262),\n",
            " ('와/Josa', 261),\n",
            " ('뭐/Noun', 258),\n",
            " ('시간/Noun', 257),\n",
            " ('!!/Punctuation', 256),\n",
            " ('하고/Josa', 256),\n",
            " ('가다/Verb', 250),\n",
            " ('자다/Verb', 248),\n",
            " ('못/VerbPrefix', 247),\n",
            " ('그/Noun', 247),\n",
            " ('게/Josa', 247),\n",
            " ('주다/Verb', 244),\n",
            " ('까지/Josa', 238),\n",
            " ('모르다/Verb', 236),\n",
            " ('한/Determiner', 232),\n",
            " ('좀/Noun', 232),\n",
            " ('쓰레기/Noun', 229),\n",
            " ('10/Number', 228),\n",
            " ('들다/Verb', 226),\n",
            " ('작품/Noun', 226),\n",
            " ('나/Noun', 220)]\n"
          ],
          "name": "stdout"
        }
      ]
    },
    {
      "cell_type": "code",
      "metadata": {
        "id": "twI_DC_z7gSz",
        "colab_type": "code",
        "colab": {
          "base_uri": "https://localhost:8080/",
          "height": 34
        },
        "outputId": "652b2c81-ddc0-4150-d517-2f2f66e359ce"
      },
      "source": [
        "selected_words = [f[0] for f in text.vocab().most_common(10000)]\n",
        "pprint(selected_words[0])"
      ],
      "execution_count": 44,
      "outputs": [
        {
          "output_type": "stream",
          "text": [
            "'./Punctuation'\n"
          ],
          "name": "stdout"
        }
      ]
    },
    {
      "cell_type": "code",
      "metadata": {
        "id": "b6nnuyx48mOh",
        "colab_type": "code",
        "colab": {}
      },
      "source": [
        "def term_frequency(doc):\n",
        "  return [doc.count(word) for word in selected_words]"
      ],
      "execution_count": 0,
      "outputs": []
    },
    {
      "cell_type": "code",
      "metadata": {
        "id": "2583IiXp9SVd",
        "colab_type": "code",
        "colab": {}
      },
      "source": [
        "train_x = [term_frequency(d) for d, _ in train_docs]\n",
        "test_x = [term_frequency(d) for d, _ in test_docs]\n",
        "train_y = [c for _, c in train_docs]\n",
        "test_y = [c for _, c in test_docs]"
      ],
      "execution_count": 0,
      "outputs": []
    },
    {
      "cell_type": "code",
      "metadata": {
        "id": "By8OENI4BXLM",
        "colab_type": "code",
        "colab": {}
      },
      "source": [
        ""
      ],
      "execution_count": 0,
      "outputs": []
    },
    {
      "cell_type": "code",
      "metadata": {
        "id": "DT5FqlhVA-23",
        "colab_type": "code",
        "colab": {}
      },
      "source": [
        "import numpy as np\n",
        "x_train = np.asarray(train_x).astype('float32')\n",
        "x_test = np.asarray(test_x).astype('float32')\n",
        "y_train = np.asarray(train_y).astype('float32')\n",
        "y_test = np.asarray(test_y).astype('float32')"
      ],
      "execution_count": 0,
      "outputs": []
    },
    {
      "cell_type": "code",
      "metadata": {
        "id": "JV8rheJOBmSQ",
        "colab_type": "code",
        "colab": {}
      },
      "source": [
        "from tensorflow.keras import models\n",
        "from tensorflow.keras import layers\n",
        "from tensorflow.keras import optimizers\n",
        "from tensorflow.keras import losses\n",
        "from tensorflow.keras import metrics\n",
        "model = models.Sequential()\n",
        "model.add(layers.Dense(64, activation='relu',\n",
        "                      input_shape=(10000,)))\n",
        "model.add(layers.Dense(64, activation='relu'))\n",
        "model.add(layers.Dense(1, activation='sigmoid'))"
      ],
      "execution_count": 0,
      "outputs": []
    },
    {
      "cell_type": "code",
      "metadata": {
        "id": "6xlHyQAWBrvv",
        "colab_type": "code",
        "colab": {
          "base_uri": "https://localhost:8080/",
          "height": 386
        },
        "outputId": "d403a631-b7f8-4d08-f0b8-11d9b4866d7b"
      },
      "source": [
        "# 손실 함수로는 binary_crossentropy를 사용\n",
        " # RMSProp 옵티마이저를 통해서 gradient desent을 진행\n",
        "# 또한 배치 사이즈를 512로, 에포크를 10번으로 학습\n",
        "model.compile(optimizer=optimizers.RMSprop(lr=0.001),\n",
        "loss=losses.binary_crossentropy,\n",
        "metrics=[metrics.binary_accuracy])\n",
        "model.fit(x_train, y_train, epochs=10, batch_size=512)\n",
        "results = model.evaluate(x_test, y_test)"
      ],
      "execution_count": 70,
      "outputs": [
        {
          "output_type": "stream",
          "text": [
            "Epoch 1/10\n",
            "9999/9999 [==============================] - 0s 41us/sample - loss: 0.6016 - binary_accuracy: 0.7431\n",
            "Epoch 2/10\n",
            "9999/9999 [==============================] - 0s 32us/sample - loss: 0.3941 - binary_accuracy: 0.8593\n",
            "Epoch 3/10\n",
            "9999/9999 [==============================] - 0s 33us/sample - loss: 0.2903 - binary_accuracy: 0.8949\n",
            "Epoch 4/10\n",
            "9999/9999 [==============================] - 0s 35us/sample - loss: 0.2298 - binary_accuracy: 0.9190\n",
            "Epoch 5/10\n",
            "9999/9999 [==============================] - 0s 31us/sample - loss: 0.1857 - binary_accuracy: 0.9341\n",
            "Epoch 6/10\n",
            "9999/9999 [==============================] - 0s 32us/sample - loss: 0.1507 - binary_accuracy: 0.9482\n",
            "Epoch 7/10\n",
            "9999/9999 [==============================] - 0s 30us/sample - loss: 0.1246 - binary_accuracy: 0.9582\n",
            "Epoch 8/10\n",
            "9999/9999 [==============================] - 0s 29us/sample - loss: 0.1032 - binary_accuracy: 0.9644\n",
            "Epoch 9/10\n",
            "9999/9999 [==============================] - 0s 27us/sample - loss: 0.0855 - binary_accuracy: 0.9723\n",
            "Epoch 10/10\n",
            "9999/9999 [==============================] - 0s 28us/sample - loss: 0.0718 - binary_accuracy: 0.9777\n",
            "9999/9999 [==============================] - 1s 71us/sample - loss: 0.7121 - binary_accuracy: 0.7983\n"
          ],
          "name": "stdout"
        }
      ]
    },
    {
      "cell_type": "code",
      "metadata": {
        "id": "njo-JXsiByzV",
        "colab_type": "code",
        "colab": {
          "base_uri": "https://localhost:8080/",
          "height": 34
        },
        "outputId": "1a3b7f9f-aae3-41dd-a5f6-b860fc9b4ebc"
      },
      "source": [
        "results"
      ],
      "execution_count": 64,
      "outputs": [
        {
          "output_type": "execute_result",
          "data": {
            "text/plain": [
              "[0.7234986915220224, 0.79847986]"
            ]
          },
          "metadata": {
            "tags": []
          },
          "execution_count": 64
        }
      ]
    },
    {
      "cell_type": "code",
      "metadata": {
        "id": "j0naQ6CAB4uA",
        "colab_type": "code",
        "colab": {}
      },
      "source": [
        "def predict_pos_neg(review):\n",
        "  token = tokenize(review)\n",
        "  tf = term_frequency(token)\n",
        "  # 데이터 형태 맞추기 위해 np.expand_dims 메서드를 이용해 array의 축을 확장\n",
        "  data = np.expand_dims(np.asarray(tf).astype('float32'), axis=0)\n",
        "  score = float(model.predict(data))\n",
        "  # 최종 확률이 0.5 보다 크면 긍정이고, 그렇지 않으면 부정이라고 예측\n",
        "  if(score > 0.5):\n",
        "    print(\"[{}]는 {:.2f}% 확률로 긍정 리뷰이지 않을까 추측해봅니다.^^\\n\".format(review, score * 100))\n",
        "  else:\n",
        "    print(\"[{}]는 {:.2f}% 확률로 부정 리뷰이지 않을까 추측해봅니다.^^;\\n\".format(review, (1 - score) * 100))"
      ],
      "execution_count": 0,
      "outputs": []
    },
    {
      "cell_type": "code",
      "metadata": {
        "id": "6bV--gx_CEw-",
        "colab_type": "code",
        "colab": {
          "base_uri": "https://localhost:8080/",
          "height": 193
        },
        "outputId": "e4e51a3e-3873-4312-e402-59f5ad955521"
      },
      "source": [
        "predict_pos_neg (\"올해 최고의 영화 ! 세 번 넘게 봐도 질리지가않네요\")\n",
        "predict_pos_neg(\"배경 음악이 영화의 분위기랑 너무 안맞았습니다 . 몰입에 방해가 됩니다\")\n",
        "predict_pos_neg(\"주연 배우가 신인인데 연기를 진짜 잘 하네요 몰입감 ㅎㄷㄷ\")\n",
        "predict_pos_neg(\"믿고 보는 감독이지만 이번에는 아니네요\")\n",
        "predict_pos_neg(\"주연배우 때문에 봤어요\")"
      ],
      "execution_count": 60,
      "outputs": [
        {
          "output_type": "stream",
          "text": [
            "[올해 최고의 영화 ! 세 번 넘게 봐도 질리지가않네요]는 99.99% 확률로 긍정 리뷰이지 않을까 추측해봅니다.^^\n",
            "\n",
            "[배경 음악이 영화의 분위기랑 너무 안맞았습니다 . 몰입에 방해가 됩니다]는 64.27% 확률로 부정 리뷰이지 않을까 추측해봅니다.^^;\n",
            "\n",
            "[주연 배우가 신인인데 연기를 진짜 잘 하네요 몰입감 ㅎㄷㄷ]는 99.88% 확률로 긍정 리뷰이지 않을까 추측해봅니다.^^\n",
            "\n",
            "[믿고 보는 감독이지만 이번에는 아니네요]는 93.79% 확률로 긍정 리뷰이지 않을까 추측해봅니다.^^\n",
            "\n",
            "[주연배우 때문에 봤어요]는 76.18% 확률로 부정 리뷰이지 않을까 추측해봅니다.^^;\n",
            "\n"
          ],
          "name": "stdout"
        }
      ]
    },
    {
      "cell_type": "code",
      "metadata": {
        "id": "h775An7HCgGH",
        "colab_type": "code",
        "colab": {}
      },
      "source": [
        ""
      ],
      "execution_count": 0,
      "outputs": []
    }
  ]
}