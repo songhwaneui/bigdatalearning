{
  "nbformat": 4,
  "nbformat_minor": 0,
  "metadata": {
    "colab": {
      "name": "처음",
      "version": "0.3.2",
      "provenance": [],
      "collapsed_sections": []
    },
    "kernelspec": {
      "name": "python3",
      "display_name": "Python 3"
    }
  },
  "cells": [
    {
      "cell_type": "code",
      "metadata": {
        "id": "E6jzcdKKdpXi",
        "colab_type": "code",
        "outputId": "8dabc5a4-46d0-4994-d514-2585f4b14df8",
        "colab": {
          "base_uri": "https://localhost:8080/",
          "height": 52
        }
      },
      "source": [
        "!pip install nltk"
      ],
      "execution_count": 0,
      "outputs": [
        {
          "output_type": "stream",
          "text": [
            "Requirement already satisfied: nltk in /usr/local/lib/python3.6/dist-packages (3.2.5)\n",
            "Requirement already satisfied: six in /usr/local/lib/python3.6/dist-packages (from nltk) (1.12.0)\n"
          ],
          "name": "stdout"
        }
      ]
    },
    {
      "cell_type": "code",
      "metadata": {
        "id": "j7fbQvYBdz9A",
        "colab_type": "code",
        "outputId": "aeafa337-348b-413d-d5c9-2006af4d8c21",
        "colab": {
          "base_uri": "https://localhost:8080/",
          "height": 70
        }
      },
      "source": [
        "import nltk\n",
        "nltk.download('punkt')"
      ],
      "execution_count": 0,
      "outputs": [
        {
          "output_type": "stream",
          "text": [
            "[nltk_data] Downloading package punkt to /root/nltk_data...\n",
            "[nltk_data]   Package punkt is already up-to-date!\n"
          ],
          "name": "stdout"
        },
        {
          "output_type": "execute_result",
          "data": {
            "text/plain": [
              "True"
            ]
          },
          "metadata": {
            "tags": []
          },
          "execution_count": 36
        }
      ]
    },
    {
      "cell_type": "code",
      "metadata": {
        "id": "Go8xZcAwd3z1",
        "colab_type": "code",
        "colab": {}
      },
      "source": [
        "## nltk 들가면 사용법 다 있음\n",
        "from nltk.tokenize import sent_tokenize"
      ],
      "execution_count": 0,
      "outputs": []
    },
    {
      "cell_type": "code",
      "metadata": {
        "id": "gzANJjbLeBpF",
        "colab_type": "code",
        "outputId": "c0ff51bb-7189-485a-b47c-047716671c31",
        "colab": {
          "base_uri": "https://localhost:8080/",
          "height": 34
        }
      },
      "source": [
        "text_sent =  \"IP is 192.168.152.1. Since you have to go Ph.D. students.\"  ## .단위로 문장 구분을 하지만 nltk 에서 ip 192.168.152.1, Ph.D 이런거 다 예외처리 한거다.\n",
        "print(sent_tokenize(text_sent))"
      ],
      "execution_count": 0,
      "outputs": [
        {
          "output_type": "stream",
          "text": [
            "['IP is 192.168.152.1.', 'Since you have to go Ph.D. students.']\n"
          ],
          "name": "stdout"
        }
      ]
    },
    {
      "cell_type": "code",
      "metadata": {
        "id": "pCFk-zHSeQF1",
        "colab_type": "code",
        "colab": {}
      },
      "source": [
        "## nltk 들가면 사용법 다 있음\n",
        "from nltk.tokenize import word_tokenize"
      ],
      "execution_count": 0,
      "outputs": []
    },
    {
      "cell_type": "code",
      "metadata": {
        "id": "fUmqybvRfLEb",
        "colab_type": "code",
        "outputId": "d690f44f-42f1-478a-b1d5-5263b72009c0",
        "colab": {
          "base_uri": "https://localhost:8080/",
          "height": 34
        }
      },
      "source": [
        "# text_word = \"Hello World. It's good to see you. Thanks for buying this book.\"\n",
        "text_word = \"I can't\"\n",
        "print(word_tokenize(text_word))"
      ],
      "execution_count": 0,
      "outputs": [
        {
          "output_type": "stream",
          "text": [
            "['I', 'ca', \"n't\"]\n"
          ],
          "name": "stdout"
        }
      ]
    },
    {
      "cell_type": "code",
      "metadata": {
        "id": "PUaLjo8qfVU6",
        "colab_type": "code",
        "colab": {}
      },
      "source": [
        "dir(nltk)"
      ],
      "execution_count": 0,
      "outputs": []
    },
    {
      "cell_type": "code",
      "metadata": {
        "id": "WdKWBE8cfbRE",
        "colab_type": "code",
        "outputId": "4f5ffd22-ac8f-4fe5-9f6f-1b0c6b44759e",
        "colab": {
          "base_uri": "https://localhost:8080/",
          "height": 34
        }
      },
      "source": [
        "from nltk.tokenize import WordPunctTokenizer\n",
        "tokenizer = WordPunctTokenizer()\n",
        "\n",
        "text_punt = \"Hello World. It's good to see you. Thanks for buying this book. I can't\"\n",
        "print(tokenizer.tokenize(text_punt))"
      ],
      "execution_count": 0,
      "outputs": [
        {
          "output_type": "stream",
          "text": [
            "['Hello', 'World', '.', 'It', \"'\", 's', 'good', 'to', 'see', 'you', '.', 'Thanks', 'for', 'buying', 'this', 'book', '.', 'I', 'can', \"'\", 't']\n"
          ],
          "name": "stdout"
        }
      ]
    },
    {
      "cell_type": "code",
      "metadata": {
        "id": "tgNV8S7-f0Xy",
        "colab_type": "code",
        "outputId": "38541210-4716-47f4-f94d-bd770a9a8cd9",
        "colab": {
          "base_uri": "https://localhost:8080/",
          "height": 175
        }
      },
      "source": [
        "import nltk\n",
        "from nltk.stem import WordNetLemmatizer\n",
        "nltk.download('wordnet')\n",
        "lemma = WordNetLemmatizer()\n",
        "lemma.lemmatize(\"has\",\"v\")\n",
        "\n",
        "\n",
        "word = [\"doing\", \"policy\", \"have\", \"going\", \"dies\", \"has\", \"watched\"]\n",
        "\n",
        "for i in word:\n",
        "  print(lemma.lemmatize(i))\n"
      ],
      "execution_count": 0,
      "outputs": [
        {
          "output_type": "stream",
          "text": [
            "[nltk_data] Downloading package wordnet to /root/nltk_data...\n",
            "[nltk_data]   Package wordnet is already up-to-date!\n",
            "doing\n",
            "policy\n",
            "have\n",
            "going\n",
            "dy\n",
            "ha\n",
            "watched\n"
          ],
          "name": "stdout"
        }
      ]
    },
    {
      "cell_type": "code",
      "metadata": {
        "id": "QynNFEIFiUea",
        "colab_type": "code",
        "outputId": "03ed4437-6e8a-4b6a-f8b7-7e6e7c612f2b",
        "colab": {
          "base_uri": "https://localhost:8080/",
          "height": 52
        }
      },
      "source": [
        "text_word = \"Hello World. It's good to see you. Thanks for buying this book.\"\n",
        "print(text_word.lower())\n",
        "print(text_word.upper())"
      ],
      "execution_count": 0,
      "outputs": [
        {
          "output_type": "stream",
          "text": [
            "hello world. it's good to see you. thanks for buying this book.\n",
            "HELLO WORLD. IT'S GOOD TO SEE YOU. THANKS FOR BUYING THIS BOOK.\n"
          ],
          "name": "stdout"
        }
      ]
    },
    {
      "cell_type": "code",
      "metadata": {
        "id": "rkvsEtMH7TtB",
        "colab_type": "code",
        "colab": {}
      },
      "source": [
        "import re\n"
      ],
      "execution_count": 0,
      "outputs": []
    },
    {
      "cell_type": "code",
      "metadata": {
        "id": "p1zXGarY7stQ",
        "colab_type": "code",
        "colab": {}
      },
      "source": [
        "r = re.compile(\"ab[2]c\") ## b가 몇부터 몇까지 계쏙 나와야한다"
      ],
      "execution_count": 0,
      "outputs": []
    },
    {
      "cell_type": "code",
      "metadata": {
        "id": "LSU8jvrQ75Rz",
        "colab_type": "code",
        "colab": {}
      },
      "source": [
        "r.search(\"abbbc\")"
      ],
      "execution_count": 0,
      "outputs": []
    },
    {
      "cell_type": "code",
      "metadata": {
        "id": "Zn5168s977lz",
        "colab_type": "code",
        "colab": {}
      },
      "source": [
        "r = re.compile(\"[^abc]\") ## b가 몇부터 몇까지 계쏙 나와야한다"
      ],
      "execution_count": 0,
      "outputs": []
    },
    {
      "cell_type": "code",
      "metadata": {
        "id": "m0F7i4Ua9Sum",
        "colab_type": "code",
        "outputId": "8d9de82b-2592-41f5-8c7a-f84b50b3521f",
        "colab": {
          "base_uri": "https://localhost:8080/",
          "height": 34
        }
      },
      "source": [
        "r.search(\"apple\")\n",
        "## match 는 문장 처음부터 다 지정, search 는 문장 다 돌면서 찾아줌"
      ],
      "execution_count": 0,
      "outputs": [
        {
          "output_type": "execute_result",
          "data": {
            "text/plain": [
              "<_sre.SRE_Match object; span=(1, 2), match='p'>"
            ]
          },
          "metadata": {
            "tags": []
          },
          "execution_count": 82
        }
      ]
    },
    {
      "cell_type": "code",
      "metadata": {
        "id": "oWCfCc7x9TTG",
        "colab_type": "code",
        "outputId": "2e291126-eeaf-493d-b3ed-5324b20778b2",
        "colab": {
          "base_uri": "https://localhost:8080/",
          "height": 34
        }
      },
      "source": [
        "text = \"사과 복숭아 메론 바나나\"\n",
        "re.split(\" \", text)"
      ],
      "execution_count": 0,
      "outputs": [
        {
          "output_type": "execute_result",
          "data": {
            "text/plain": [
              "['사과', '복숭아', '메론', '바나나']"
            ]
          },
          "metadata": {
            "tags": []
          },
          "execution_count": 92
        }
      ]
    },
    {
      "cell_type": "code",
      "metadata": {
        "id": "sDzemRrm-DpA",
        "colab_type": "code",
        "outputId": "797dceb9-bea9-4955-94f5-09dab31607b8",
        "colab": {
          "base_uri": "https://localhost:8080/",
          "height": 439
        }
      },
      "source": [
        "text = \"\"\"이름 : 송환의\\\n",
        "          전화번호 : 010-5181-6453\\\n",
        "          성별 : 남자\"\"\"\n",
        "re.findall(\"[\\w+,남]\",text) ## *왜?"
      ],
      "execution_count": 0,
      "outputs": [
        {
          "output_type": "execute_result",
          "data": {
            "text/plain": [
              "['이',\n",
              " '름',\n",
              " '송',\n",
              " '환',\n",
              " '의',\n",
              " '전',\n",
              " '화',\n",
              " '번',\n",
              " '호',\n",
              " '0',\n",
              " '1',\n",
              " '0',\n",
              " '5',\n",
              " '1',\n",
              " '8',\n",
              " '1',\n",
              " '6',\n",
              " '4',\n",
              " '5',\n",
              " '3',\n",
              " '성',\n",
              " '별',\n",
              " '남',\n",
              " '자']"
            ]
          },
          "metadata": {
            "tags": []
          },
          "execution_count": 120
        }
      ]
    },
    {
      "cell_type": "code",
      "metadata": {
        "id": "njOPBsNX-PkX",
        "colab_type": "code",
        "outputId": "a5321e06-add9-45d7-9dae-b6b7025a7a03",
        "colab": {
          "base_uri": "https://localhost:8080/",
          "height": 34
        }
      },
      "source": [
        "text = \"Regular Expression : A regular or regexp[1].\"\n",
        "text = \"100 John PROK 101 James STUD 102 Mac STUD\"\n",
        "re.sub(\"[^a-zA-Z]\",\" \",text) ## 대체한다."
      ],
      "execution_count": 0,
      "outputs": [
        {
          "output_type": "execute_result",
          "data": {
            "text/plain": [
              "'    John PROK     James STUD     Mac STUD'"
            ]
          },
          "metadata": {
            "tags": []
          },
          "execution_count": 122
        }
      ]
    },
    {
      "cell_type": "code",
      "metadata": {
        "id": "IwpYfF75-P_v",
        "colab_type": "code",
        "outputId": "0405fa9f-4888-4f3c-8e05-2427229e7bc6",
        "colab": {
          "base_uri": "https://localhost:8080/",
          "height": 34
        }
      },
      "source": [
        "text = \"100 John PROK 101 James STUD 102 Mac STUD\"\n",
        "re.findall(\"[A-Z][a-z]+\",text)"
      ],
      "execution_count": 0,
      "outputs": [
        {
          "output_type": "execute_result",
          "data": {
            "text/plain": [
              "['John', 'James', 'Mac']"
            ]
          },
          "metadata": {
            "tags": []
          },
          "execution_count": 132
        }
      ]
    },
    {
      "cell_type": "code",
      "metadata": {
        "id": "bmqJooHf-RFD",
        "colab_type": "code",
        "outputId": "be6fb15e-3dc0-4069-e7fa-6ee5301643e9",
        "colab": {
          "base_uri": "https://localhost:8080/",
          "height": 34
        }
      },
      "source": [
        "text = \"100 John PROK 101 James STUD 102 Mac STUD\"\n",
        "re.findall(\"^PR\",text)"
      ],
      "execution_count": 0,
      "outputs": [
        {
          "output_type": "execute_result",
          "data": {
            "text/plain": [
              "[]"
            ]
          },
          "metadata": {
            "tags": []
          },
          "execution_count": 141
        }
      ]
    },
    {
      "cell_type": "code",
      "metadata": {
        "id": "LFMdxUeA-Qpw",
        "colab_type": "code",
        "outputId": "5143b113-5539-4303-daf1-e2869e8e1c50",
        "colab": {
          "base_uri": "https://localhost:8080/",
          "height": 34
        }
      },
      "source": [
        "text = \"John PROK 101 James STUD 102 Mac STUD\"\n",
        "re.findall(\"\\bJohn\\b\",text)"
      ],
      "execution_count": 0,
      "outputs": [
        {
          "output_type": "execute_result",
          "data": {
            "text/plain": [
              "[]"
            ]
          },
          "metadata": {
            "tags": []
          },
          "execution_count": 156
        }
      ]
    },
    {
      "cell_type": "code",
      "metadata": {
        "id": "az0d-yx3-Qim",
        "colab_type": "code",
        "colab": {}
      },
      "source": [
        "import nltk\n",
        "from nltk.tokenize import RegexpTokenizer"
      ],
      "execution_count": 0,
      "outputs": []
    },
    {
      "cell_type": "code",
      "metadata": {
        "id": "qI0TJVnU-QSd",
        "colab_type": "code",
        "outputId": "7e075f0e-4705-41c2-9c1e-89ee27b567c3",
        "colab": {
          "base_uri": "https://localhost:8080/",
          "height": 34
        }
      },
      "source": [
        "tokenizer = RegexpTokenizer(\"[\\w]+\")\n",
        "tokenizer = RegexpTokenizer(\"[\\s]\", gaps = True)\n",
        "print(tokenizer.tokenize(\"Hello World. It's good to see you. Thanks for buying this book.\"))\n",
        "# \\W*\\b\\w{1,2}\\b"
      ],
      "execution_count": 0,
      "outputs": [
        {
          "output_type": "stream",
          "text": [
            "['Hello', 'World.', \"It's\", 'good', 'to', 'see', 'you.', 'Thanks', 'for', 'buying', 'this', 'book.']\n"
          ],
          "name": "stdout"
        }
      ]
    },
    {
      "cell_type": "code",
      "metadata": {
        "id": "ArDJhxKBHCFH",
        "colab_type": "code",
        "colab": {}
      },
      "source": [
        "#"
      ],
      "execution_count": 0,
      "outputs": []
    },
    {
      "cell_type": "code",
      "metadata": {
        "id": "d_mrvzvzHDw7",
        "colab_type": "code",
        "outputId": "ca722d08-59d5-48c9-f0e6-89ee40c910e1",
        "colab": {
          "base_uri": "https://localhost:8080/",
          "height": 70
        }
      },
      "source": [
        "import nltk\n",
        "from nltk.stem import PorterStemmer\n",
        "\n",
        "stemming = PorterStemmer()\n",
        "\n",
        "word = {\"formalize\", \"allowance\", \"electricical\"}\n",
        "\n",
        "for i in word:\n",
        "  print(stemming.stem(i))\n"
      ],
      "execution_count": 0,
      "outputs": [
        {
          "output_type": "stream",
          "text": [
            "allow\n",
            "electric\n",
            "formal\n"
          ],
          "name": "stdout"
        }
      ]
    },
    {
      "cell_type": "code",
      "metadata": {
        "id": "b5zllcLqHDth",
        "colab_type": "code",
        "outputId": "5436c40e-c412-4d01-ee5c-63754a72c62c",
        "colab": {
          "base_uri": "https://localhost:8080/",
          "height": 52
        }
      },
      "source": [
        "import nltk\n",
        "nltk.download('stopwords')\n",
        "from nltk.corpus import stopwords"
      ],
      "execution_count": 0,
      "outputs": [
        {
          "output_type": "stream",
          "text": [
            "[nltk_data] Downloading package stopwords to /root/nltk_data...\n",
            "[nltk_data]   Unzipping corpora/stopwords.zip.\n"
          ],
          "name": "stdout"
        }
      ]
    },
    {
      "cell_type": "code",
      "metadata": {
        "id": "bu9dgKn5HDpl",
        "colab_type": "code",
        "colab": {}
      },
      "source": [
        "stopwords.words(\"english\")[:]"
      ],
      "execution_count": 0,
      "outputs": []
    },
    {
      "cell_type": "code",
      "metadata": {
        "id": "rPfb_gS5HDlV",
        "colab_type": "code",
        "outputId": "bd937c65-22ae-427d-9e4c-02a8841dec79",
        "colab": {
          "base_uri": "https://localhost:8080/",
          "height": 54
        }
      },
      "source": [
        "example = \"Family is not an important thing. It's everything\"\n",
        "a = list()\n",
        "for i in stopwords.words(\"english\"):\n",
        "  if re.findall(i,example) is not None:\n",
        "    a.append(i)\n",
        "print(a)\n"
      ],
      "execution_count": 0,
      "outputs": [
        {
          "output_type": "stream",
          "text": [
            "['i', 'me', 'my', 'myself', 'we', 'our', 'ours', 'ourselves', 'you', \"you're\", \"you've\", \"you'll\", \"you'd\", 'your', 'yours', 'yourself', 'yourselves', 'he', 'him', 'his', 'himself', 'she', \"she's\", 'her', 'hers', 'herself', 'it', \"it's\", 'its', 'itself', 'they', 'them', 'their', 'theirs', 'themselves', 'what', 'which', 'who', 'whom', 'this', 'that', \"that'll\", 'these', 'those', 'am', 'is', 'are', 'was', 'were', 'be', 'been', 'being', 'have', 'has', 'had', 'having', 'do', 'does', 'did', 'doing', 'a', 'an', 'the', 'and', 'but', 'if', 'or', 'because', 'as', 'until', 'while', 'of', 'at', 'by', 'for', 'with', 'about', 'against', 'between', 'into', 'through', 'during', 'before', 'after', 'above', 'below', 'to', 'from', 'up', 'down', 'in', 'out', 'on', 'off', 'over', 'under', 'again', 'further', 'then', 'once', 'here', 'there', 'when', 'where', 'why', 'how', 'all', 'any', 'both', 'each', 'few', 'more', 'most', 'other', 'some', 'such', 'no', 'nor', 'not', 'only', 'own', 'same', 'so', 'than', 'too', 'very', 's', 't', 'can', 'will', 'just', 'don', \"don't\", 'should', \"should've\", 'now', 'd', 'll', 'm', 'o', 're', 've', 'y', 'ain', 'aren', \"aren't\", 'couldn', \"couldn't\", 'didn', \"didn't\", 'doesn', \"doesn't\", 'hadn', \"hadn't\", 'hasn', \"hasn't\", 'haven', \"haven't\", 'isn', \"isn't\", 'ma', 'mightn', \"mightn't\", 'mustn', \"mustn't\", 'needn', \"needn't\", 'shan', \"shan't\", 'shouldn', \"shouldn't\", 'wasn', \"wasn't\", 'weren', \"weren't\", 'won', \"won't\", 'wouldn', \"wouldn't\"]\n"
          ],
          "name": "stdout"
        }
      ]
    },
    {
      "cell_type": "code",
      "metadata": {
        "id": "cnbawZ1HHDhj",
        "colab_type": "code",
        "outputId": "2172d48c-0674-46fa-ca7b-f7391e1fa618",
        "colab": {
          "base_uri": "https://localhost:8080/",
          "height": 87
        }
      },
      "source": [
        "example = \"Family is not an important thing. It's everything\"\n",
        "b = list()\n",
        "for i in word_tokenize(example):\n",
        "  for j in stopwords.words(\"english\"):\n",
        "    if i==j :\n",
        "      print(i)\n",
        "      b.append(i)\n",
        "re.findall(b[0],example)"
      ],
      "execution_count": 0,
      "outputs": [
        {
          "output_type": "stream",
          "text": [
            "is\n",
            "not\n",
            "an\n"
          ],
          "name": "stdout"
        },
        {
          "output_type": "execute_result",
          "data": {
            "text/plain": [
              "['is']"
            ]
          },
          "metadata": {
            "tags": []
          },
          "execution_count": 193
        }
      ]
    },
    {
      "cell_type": "code",
      "metadata": {
        "id": "4p-L2H4-HDdQ",
        "colab_type": "code",
        "outputId": "9dca5aef-235c-442d-f44c-a9e5d922d6c2",
        "colab": {
          "base_uri": "https://localhost:8080/",
          "height": 34
        }
      },
      "source": [
        "######################################################### 정답\n",
        "word_token = word_tokenize(example)\n",
        "stop_word = set(stopwords.words(\"english\"))\n",
        "clean_word = []\n",
        "\n",
        "for i in word_token :\n",
        "  if i not in stop_word:\n",
        "    clean_word.append(i)\n",
        "print(clean_word)"
      ],
      "execution_count": 0,
      "outputs": [
        {
          "output_type": "stream",
          "text": [
            "['Family', 'important', 'thing', '.', 'It', \"'s\", 'everything']\n"
          ],
          "name": "stdout"
        }
      ]
    },
    {
      "cell_type": "code",
      "metadata": {
        "id": "DtUm_qjeHDYg",
        "colab_type": "code",
        "colab": {}
      },
      "source": [
        "#############################################################################################################"
      ],
      "execution_count": 0,
      "outputs": []
    },
    {
      "cell_type": "code",
      "metadata": {
        "id": "y96OZs93OHq6",
        "colab_type": "code",
        "colab": {}
      },
      "source": [
        ""
      ],
      "execution_count": 0,
      "outputs": []
    },
    {
      "cell_type": "markdown",
      "metadata": {
        "id": "26XpQf_LHDTA",
        "colab_type": "text"
      },
      "source": [
        "**word Cloud**"
      ]
    },
    {
      "cell_type": "code",
      "metadata": {
        "id": "EyT2SMPYHDNb",
        "colab_type": "code",
        "outputId": "b815bc89-03e6-48a2-d08d-575c3099e17e",
        "colab": {
          "base_uri": "https://localhost:8080/",
          "height": 228
        }
      },
      "source": [
        "!pip install WordCloud\n",
        "!pip install matplotlib"
      ],
      "execution_count": 0,
      "outputs": [
        {
          "output_type": "stream",
          "text": [
            "Requirement already satisfied: WordCloud in /usr/local/lib/python3.6/dist-packages (1.5.0)\n",
            "Requirement already satisfied: numpy>=1.6.1 in /usr/local/lib/python3.6/dist-packages (from WordCloud) (1.16.4)\n",
            "Requirement already satisfied: pillow in /usr/local/lib/python3.6/dist-packages (from WordCloud) (4.3.0)\n",
            "Requirement already satisfied: olefile in /usr/local/lib/python3.6/dist-packages (from pillow->WordCloud) (0.46)\n",
            "Requirement already satisfied: matplotlib in /usr/local/lib/python3.6/dist-packages (3.0.3)\n",
            "Requirement already satisfied: numpy>=1.10.0 in /usr/local/lib/python3.6/dist-packages (from matplotlib) (1.16.4)\n",
            "Requirement already satisfied: cycler>=0.10 in /usr/local/lib/python3.6/dist-packages (from matplotlib) (0.10.0)\n",
            "Requirement already satisfied: kiwisolver>=1.0.1 in /usr/local/lib/python3.6/dist-packages (from matplotlib) (1.1.0)\n",
            "Requirement already satisfied: pyparsing!=2.0.4,!=2.1.2,!=2.1.6,>=2.0.1 in /usr/local/lib/python3.6/dist-packages (from matplotlib) (2.4.0)\n",
            "Requirement already satisfied: python-dateutil>=2.1 in /usr/local/lib/python3.6/dist-packages (from matplotlib) (2.5.3)\n",
            "Requirement already satisfied: six in /usr/local/lib/python3.6/dist-packages (from cycler>=0.10->matplotlib) (1.12.0)\n",
            "Requirement already satisfied: setuptools in /usr/local/lib/python3.6/dist-packages (from kiwisolver>=1.0.1->matplotlib) (41.0.1)\n"
          ],
          "name": "stdout"
        }
      ]
    },
    {
      "cell_type": "code",
      "metadata": {
        "id": "cDvQDczrHD3c",
        "colab_type": "code",
        "colab": {}
      },
      "source": [
        "f = \"\"\"From the day we arrive on the planet\n",
        "And blinking, step into the sun\n",
        "There's more to see than can ever be seen\n",
        "More to do than can ever be done\n",
        "There's far too much to take in here\n",
        "More to find than can ever be found\n",
        "But the sun rolling high\n",
        "Through the sapphire sky\n",
        "Keeps great and small on the endless round\n",
        "It's the circle of life\n",
        "And it moves us all\n",
        "Through despair and hope\n",
        "Through faith and love\n",
        "Till we find our place\n",
        "On the path unwinding\n",
        "In the circle\n",
        "The circle of life\n",
        "It's the circle of life\n",
        "And it moves us all\n",
        "Through despair and hope\n",
        "Through faith and love\n",
        "Till we find our place\n",
        "On the path unwinding\n",
        "In the circle\n",
        "The circle of life\"\"\""
      ],
      "execution_count": 0,
      "outputs": []
    },
    {
      "cell_type": "code",
      "metadata": {
        "id": "cqbZVbSZRkYP",
        "colab_type": "code",
        "outputId": "2e71a24d-5cc2-4886-ebd6-de8f5315cbcb",
        "colab": {
          "base_uri": "https://localhost:8080/",
          "height": 72
        }
      },
      "source": [
        "word_token = word_tokenize(f)\n",
        "stop_word = set(stopwords.words(\"english\"))\n",
        "clean_word = []\n",
        "\n",
        "for i in word_token :\n",
        "  if i not in stop_word:\n",
        "    clean_word.append(i)\n",
        "print(clean_word)\n",
        "c = \"\"\n",
        "for i in clean_word:\n",
        "  c = c+i+\" \"\n",
        "print(c)"
      ],
      "execution_count": 0,
      "outputs": [
        {
          "output_type": "stream",
          "text": [
            "['From', 'day', 'arrive', 'planet', 'And', 'blinking', ',', 'step', 'sun', 'There', \"'s\", 'see', 'ever', 'seen', 'More', 'ever', 'done', 'There', \"'s\", 'far', 'much', 'take', 'More', 'find', 'ever', 'found', 'But', 'sun', 'rolling', 'high', 'Through', 'sapphire', 'sky', 'Keeps', 'great', 'small', 'endless', 'round', 'It', \"'s\", 'circle', 'life', 'And', 'moves', 'us', 'Through', 'despair', 'hope', 'Through', 'faith', 'love', 'Till', 'find', 'place', 'On', 'path', 'unwinding', 'In', 'circle', 'The', 'circle', 'life', 'It', \"'s\", 'circle', 'life', 'And', 'moves', 'us', 'Through', 'despair', 'hope', 'Through', 'faith', 'love', 'Till', 'find', 'place', 'On', 'path', 'unwinding', 'In', 'circle', 'The', 'circle', 'life']\n",
            "From day arrive planet And blinking , step sun There 's see ever seen More ever done There 's far much take More find ever found But sun rolling high Through sapphire sky Keeps great small endless round It 's circle life And moves us Through despair hope Through faith love Till find place On path unwinding In circle The circle life It 's circle life And moves us Through despair hope Through faith love Till find place On path unwinding In circle The circle life \n"
          ],
          "name": "stdout"
        }
      ]
    },
    {
      "cell_type": "code",
      "metadata": {
        "id": "xPyxFbnkHDG5",
        "colab_type": "code",
        "outputId": "bbb43ae4-889f-45f7-9dde-5376568f0216",
        "colab": {
          "base_uri": "https://localhost:8080/",
          "height": 633
        }
      },
      "source": [
        "import matplotlib.pyplot as plt\n",
        "from wordcloud import WordCloud  ## wordCloud 에서 아예 불용어 처리가 됨\n",
        "\n",
        "#wordcloud = WordCloud().generate(f)\n",
        "wordcloud = WordCloud().generate(c)\n",
        "#wordcloud = WordCloud().generate(clean_word)\n",
        "wordcloud.words_\n"
      ],
      "execution_count": 0,
      "outputs": [
        {
          "output_type": "execute_result",
          "data": {
            "text/plain": [
              "{'Keeps': 0.16666666666666666,\n",
              " 'Till': 0.3333333333333333,\n",
              " 'arrive': 0.16666666666666666,\n",
              " 'blinking': 0.16666666666666666,\n",
              " 'circle': 1.0,\n",
              " 'day': 0.16666666666666666,\n",
              " 'despair': 0.3333333333333333,\n",
              " 'done': 0.16666666666666666,\n",
              " 'endless': 0.16666666666666666,\n",
              " 'faith': 0.3333333333333333,\n",
              " 'far': 0.16666666666666666,\n",
              " 'find': 0.5,\n",
              " 'found': 0.16666666666666666,\n",
              " 'great': 0.16666666666666666,\n",
              " 'high': 0.16666666666666666,\n",
              " 'hope': 0.3333333333333333,\n",
              " 'life': 0.6666666666666666,\n",
              " 'love': 0.3333333333333333,\n",
              " 'moves': 0.3333333333333333,\n",
              " 'much': 0.16666666666666666,\n",
              " 'path': 0.3333333333333333,\n",
              " 'place': 0.3333333333333333,\n",
              " 'planet': 0.16666666666666666,\n",
              " 'rolling': 0.16666666666666666,\n",
              " 'round': 0.16666666666666666,\n",
              " 'sapphire': 0.16666666666666666,\n",
              " 'see': 0.16666666666666666,\n",
              " 'seen': 0.16666666666666666,\n",
              " 'sky': 0.16666666666666666,\n",
              " 'small': 0.16666666666666666,\n",
              " 'step': 0.16666666666666666,\n",
              " 'sun': 0.3333333333333333,\n",
              " 'take': 0.16666666666666666,\n",
              " 'unwinding': 0.3333333333333333,\n",
              " 'us': 0.3333333333333333}"
            ]
          },
          "metadata": {
            "tags": []
          },
          "execution_count": 234
        }
      ]
    },
    {
      "cell_type": "markdown",
      "metadata": {
        "id": "xJF_pnqZV_CS",
        "colab_type": "text"
      },
      "source": [
        ""
      ]
    },
    {
      "cell_type": "code",
      "metadata": {
        "id": "8gPitmI_QnVu",
        "colab_type": "code",
        "colab": {}
      },
      "source": [
        "# c=\"\"\n",
        "# for i in set(stopwords.words(\"english\")):\n",
        "#   c=c+i+\" \"\n",
        "# print(c)"
      ],
      "execution_count": 0,
      "outputs": []
    },
    {
      "cell_type": "code",
      "metadata": {
        "id": "tBsNZ3-gHC6E",
        "colab_type": "code",
        "outputId": "95b1d6ab-3d76-4a1d-bb24-17bd02330591",
        "colab": {
          "base_uri": "https://localhost:8080/",
          "height": 386
        }
      },
      "source": [
        "plt.figure(figsize = (12,12))\n",
        "plt.imshow(wordcloud, interpolation=\"bilinear\")\n",
        "plt.axis(\"on\")\n",
        "plt.show()"
      ],
      "execution_count": 0,
      "outputs": [
        {
          "output_type": "display_data",
          "data": {
            "image/png": "[encoded data removed]",
            "text/plain": [
              "<Figure size 864x864 with 1 Axes>"
            ]
          },
          "metadata": {
            "tags": []
          }
        }
      ]
    },
    {
      "cell_type": "code",
      "metadata": {
        "id": "4Ba_0VclHCnC",
        "colab_type": "code",
        "colab": {}
      },
      "source": [
        ""
      ],
      "execution_count": 0,
      "outputs": []
    },
    {
      "cell_type": "code",
      "metadata": {
        "id": "e-Q1Gb-ROjD1",
        "colab_type": "code",
        "colab": {}
      },
      "source": [
        ""
      ],
      "execution_count": 0,
      "outputs": []
    },
    {
      "cell_type": "markdown",
      "metadata": {
        "id": "kz7GYxpbaCLo",
        "colab_type": "text"
      },
      "source": [
        "형태소분석\n"
      ]
    },
    {
      "cell_type": "code",
      "metadata": {
        "id": "ZFyUgN63Oi73",
        "colab_type": "code",
        "colab": {}
      },
      "source": [
        "!apt-get update #우분투 라이브러리 업데이트 해주는거"
      ],
      "execution_count": 0,
      "outputs": []
    },
    {
      "cell_type": "code",
      "metadata": {
        "id": "u_Y8TcRAOiz2",
        "colab_type": "code",
        "colab": {}
      },
      "source": [
        "!apt-get install g++ openjdk-8-jdk"
      ],
      "execution_count": 0,
      "outputs": []
    },
    {
      "cell_type": "code",
      "metadata": {
        "id": "dk77EiV8OisX",
        "colab_type": "code",
        "colab": {}
      },
      "source": [
        "!pip install konlpy"
      ],
      "execution_count": 0,
      "outputs": []
    },
    {
      "cell_type": "code",
      "metadata": {
        "id": "aH-7UIkvOii2",
        "colab_type": "code",
        "outputId": "f62946a3-bbb0-44dc-bb5b-cd493915832c",
        "colab": {
          "base_uri": "https://localhost:8080/",
          "height": 52
        }
      },
      "source": [
        "from konlpy.tag import Kkma\n",
        "from konlpy.utils import pprint\n",
        "\n",
        "kkma = Kkma()\n",
        "pprint(kkma.sentences(u\"네 안녕하세요. 반갑습니다\"))\n",
        "pprint(kkma.pos(u\"하늘을 날으는 자동차\"))\n"
      ],
      "execution_count": 0,
      "outputs": [
        {
          "output_type": "stream",
          "text": [
            "['네 안녕하세요.', '반갑습니다']\n",
            "[('하늘', 'NNG'), ('을', 'JKO'), ('날으', 'VV'), ('는', 'ETD'), ('자동차', 'NNG')]\n"
          ],
          "name": "stdout"
        }
      ]
    },
    {
      "cell_type": "code",
      "metadata": {
        "id": "bkavtxMD-O3D",
        "colab_type": "code",
        "colab": {}
      },
      "source": [
        "from konlpy.tag import Hannanum"
      ],
      "execution_count": 0,
      "outputs": []
    },
    {
      "cell_type": "code",
      "metadata": {
        "id": "_wW1erlCaxDE",
        "colab_type": "code",
        "outputId": "2665033a-92a2-40b9-f4cb-7fbc1bf4fc8f",
        "colab": {
          "base_uri": "https://localhost:8080/",
          "height": 422
        }
      },
      "source": [
        "han = Hannanum()\n",
        "pprint(han.analyze(u\"아버지가 방에 들어가신다. 안녕하세요. 하늘을 나는 자동차\"))\n",
        "## 여러가지 분석으로 나온 해석결과 후보를 다 보여줌"
      ],
      "execution_count": 0,
      "outputs": [
        {
          "output_type": "stream",
          "text": [
            "[[[('아버지', 'ncn'), ('가', 'jcc')], [('아버지', 'ncn'), ('가', 'jcs')]],\n",
            " [[('방', 'nbu'), ('에', 'jca')], [('방', 'ncn'), ('에', 'jca')]],\n",
            " [[('들', 'pvg'), ('어', 'ecx'), ('가', 'px'), ('시', 'ep'), ('ㄴ다', 'ef')],\n",
            "  [('듣', 'pvg'), ('어', 'ecx'), ('가', 'px'), ('시', 'ep'), ('ㄴ다', 'ef')],\n",
            "  [('들어가', 'pvg'), ('시', 'ep'), ('ㄴ다', 'ef')]],\n",
            " [[('.', 'sf')], [('.', 'sy')]],\n",
            " [],\n",
            " [[('안녕', 'ncps'), ('하세', 'ncpa'), ('요', 'ncn')],\n",
            "  [('안녕', 'ncps'), ('하', 'xsms'), ('세요', 'ef')],\n",
            "  [('안녕', 'ncps'), ('하', 'xsms'), ('세', 'ef'), ('요', 'jxf')]],\n",
            " [[('.', 'sf')], [('.', 'sy')]],\n",
            " [],\n",
            " [[('하늘', 'ncn'), ('을', 'jco')]],\n",
            " [[('나', 'ncn'), ('는', 'jxc')],\n",
            "  [('나', 'npp'), ('는', 'jxc')],\n",
            "  [('나', 'pvg'), ('는', 'etm')],\n",
            "  [('나', 'px'), ('는', 'etm')],\n",
            "  [('나', 'pvg'), ('아', 'ecs'), ('는', 'jxc')],\n",
            "  [('나', 'pvg'), ('아', 'ef'), ('는', 'etm')],\n",
            "  [('나', 'px'), ('아', 'ecs'), ('는', 'jxc')],\n",
            "  [('나', 'px'), ('아', 'ef'), ('는', 'etm')],\n",
            "  [('날', 'pvg'), ('는', 'etm')]],\n",
            " [[('자동차', 'ncn')], [('자동', 'ncn'), ('차', 'ncn')]]]\n"
          ],
          "name": "stdout"
        }
      ]
    },
    {
      "cell_type": "code",
      "metadata": {
        "id": "Co9nsqeqaw7O",
        "colab_type": "code",
        "colab": {}
      },
      "source": [
        "pprint(han.morphs(u\"아버지가 방에 들어가신다. 안녕하세요. 하늘을 나는 자동차\")) ## 문장에 따라 어떻게 잘라지는지 보여줌\n",
        "pprint(han.nouns(u\"아버지가 방에 들어가신다. 안녕하세요. 하늘을 나는 자동차\")) ## 문장에 따라 어떻게 잘라지는지 보여줌\n",
        "pprint(han.pos(u\"아버지가 방에 들어가신다. 안녕하세요. 하늘을 나는 자동차\")) ## 문장에 따라 어떻게 잘라지는지 보여줌"
      ],
      "execution_count": 0,
      "outputs": []
    },
    {
      "cell_type": "code",
      "metadata": {
        "id": "gHr15jVNawyy",
        "colab_type": "code",
        "outputId": "5b45ad7b-6125-4559-9cc0-31b96895eb88",
        "colab": {
          "base_uri": "https://localhost:8080/",
          "height": 386
        }
      },
      "source": [
        "from konlpy.tag import Komoran\n",
        "ko = Komoran()\n",
        "# pos, morphs, nouns\n",
        "pprint(ko.pos(u\"아버지가 방에 들어가신다. 안녕하세요. 하늘을 나는 자동차\"))\n",
        "print()\n",
        "pprint(ko.nouns(u\"아버지가 방에 들어가신다. 안녕하세요. 하늘을 나는 자동차\"))\n",
        "print()\n",
        "pprint(ko.morphs(u\"아버지가 방에 들어가신다. 안녕하세요. 하늘을 나는 자동차\"))"
      ],
      "execution_count": 0,
      "outputs": [
        {
          "output_type": "error",
          "ename": "java.lang.OutOfMemoryError",
          "evalue": "ignored",
          "traceback": [
            "\u001b[0;31m---------------------------------------------------------------------------\u001b[0m",
            "\u001b[0;31mjava.lang.OutOfMemoryError\u001b[0m                Traceback (most recent call last)",
            "\u001b[0;32m<ipython-input-253-f59226fed51b>\u001b[0m in \u001b[0;36m<module>\u001b[0;34m()\u001b[0m\n\u001b[1;32m      1\u001b[0m \u001b[0;32mfrom\u001b[0m \u001b[0mkonlpy\u001b[0m\u001b[0;34m.\u001b[0m\u001b[0mtag\u001b[0m \u001b[0;32mimport\u001b[0m \u001b[0mKomoran\u001b[0m\u001b[0;34m\u001b[0m\u001b[0;34m\u001b[0m\u001b[0m\n\u001b[0;32m----> 2\u001b[0;31m \u001b[0mko\u001b[0m \u001b[0;34m=\u001b[0m \u001b[0mKomoran\u001b[0m\u001b[0;34m(\u001b[0m\u001b[0;34m)\u001b[0m\u001b[0;34m\u001b[0m\u001b[0;34m\u001b[0m\u001b[0m\n\u001b[0m\u001b[1;32m      3\u001b[0m \u001b[0;31m# pos, morphs, nouns\u001b[0m\u001b[0;34m\u001b[0m\u001b[0;34m\u001b[0m\u001b[0;34m\u001b[0m\u001b[0m\n\u001b[1;32m      4\u001b[0m \u001b[0mpprint\u001b[0m\u001b[0;34m(\u001b[0m\u001b[0mko\u001b[0m\u001b[0;34m.\u001b[0m\u001b[0mpos\u001b[0m\u001b[0;34m(\u001b[0m\u001b[0;34mu\"아버지가 방에 들어가신다. 안녕하세요. 하늘을 나는 자동차\"\u001b[0m\u001b[0;34m)\u001b[0m\u001b[0;34m)\u001b[0m\u001b[0;34m\u001b[0m\u001b[0;34m\u001b[0m\u001b[0m\n\u001b[1;32m      5\u001b[0m \u001b[0mprint\u001b[0m\u001b[0;34m(\u001b[0m\u001b[0;34m)\u001b[0m\u001b[0;34m\u001b[0m\u001b[0;34m\u001b[0m\u001b[0m\n",
            "\u001b[0;32m/usr/local/lib/python3.6/dist-packages/konlpy/tag/_komoran.py\u001b[0m in \u001b[0;36m__init__\u001b[0;34m(self, jvmpath, userdic, modelpath, max_heap_size)\u001b[0m\n\u001b[1;32m    102\u001b[0m \u001b[0;34m\u001b[0m\u001b[0m\n\u001b[1;32m    103\u001b[0m         \u001b[0;32mtry\u001b[0m\u001b[0;34m:\u001b[0m\u001b[0;34m\u001b[0m\u001b[0;34m\u001b[0m\u001b[0m\n\u001b[0;32m--> 104\u001b[0;31m             \u001b[0mself\u001b[0m\u001b[0;34m.\u001b[0m\u001b[0mjki\u001b[0m \u001b[0;34m=\u001b[0m \u001b[0mkomoranJavaPackage\u001b[0m\u001b[0;34m.\u001b[0m\u001b[0mKomoran\u001b[0m\u001b[0;34m(\u001b[0m\u001b[0mself\u001b[0m\u001b[0;34m.\u001b[0m\u001b[0mmodelpath\u001b[0m\u001b[0;34m)\u001b[0m\u001b[0;34m\u001b[0m\u001b[0;34m\u001b[0m\u001b[0m\n\u001b[0m\u001b[1;32m    105\u001b[0m         \u001b[0;32mexcept\u001b[0m \u001b[0mTypeError\u001b[0m\u001b[0;34m:\u001b[0m  \u001b[0;31m# Package kr.lucypark.komoran.KomoranInterface is not Callable\u001b[0m\u001b[0;34m\u001b[0m\u001b[0;34m\u001b[0m\u001b[0m\n\u001b[1;32m    106\u001b[0m             \u001b[0;32mraise\u001b[0m \u001b[0mIOError\u001b[0m\u001b[0;34m(\u001b[0m\u001b[0;34m\"Cannot access komoran-dic. Please leave an issue at https://github.com/konlpy/konlpy/issues\"\u001b[0m\u001b[0;34m)\u001b[0m\u001b[0;34m\u001b[0m\u001b[0;34m\u001b[0m\u001b[0m\n",
            "\u001b[0;32m/usr/local/lib/python3.6/dist-packages/jpype/_jobject.py\u001b[0m in \u001b[0;36m__init__\u001b[0;34m(self, *args)\u001b[0m\n\u001b[1;32m     93\u001b[0m             \u001b[0mobject\u001b[0m\u001b[0;34m.\u001b[0m\u001b[0m__setattr__\u001b[0m\u001b[0;34m(\u001b[0m\u001b[0mself\u001b[0m\u001b[0;34m,\u001b[0m \u001b[0;34m'__javavalue__'\u001b[0m\u001b[0;34m,\u001b[0m \u001b[0margs\u001b[0m\u001b[0;34m[\u001b[0m\u001b[0;36m0\u001b[0m\u001b[0;34m]\u001b[0m\u001b[0;34m)\u001b[0m\u001b[0;34m\u001b[0m\u001b[0;34m\u001b[0m\u001b[0m\n\u001b[1;32m     94\u001b[0m         \u001b[0;32melif\u001b[0m \u001b[0;32mnot\u001b[0m \u001b[0mhasattr\u001b[0m\u001b[0;34m(\u001b[0m\u001b[0mself\u001b[0m\u001b[0;34m,\u001b[0m \u001b[0;34m'__javavalue__'\u001b[0m\u001b[0;34m)\u001b[0m\u001b[0;34m:\u001b[0m\u001b[0;34m\u001b[0m\u001b[0;34m\u001b[0m\u001b[0m\n\u001b[0;32m---> 95\u001b[0;31m             \u001b[0mjv\u001b[0m \u001b[0;34m=\u001b[0m \u001b[0mself\u001b[0m\u001b[0;34m.\u001b[0m\u001b[0m__class__\u001b[0m\u001b[0;34m.\u001b[0m\u001b[0m__javaclass__\u001b[0m\u001b[0;34m.\u001b[0m\u001b[0mnewInstance\u001b[0m\u001b[0;34m(\u001b[0m\u001b[0;34m*\u001b[0m\u001b[0margs\u001b[0m\u001b[0;34m)\u001b[0m\u001b[0;34m\u001b[0m\u001b[0;34m\u001b[0m\u001b[0m\n\u001b[0m\u001b[1;32m     96\u001b[0m             \u001b[0mobject\u001b[0m\u001b[0;34m.\u001b[0m\u001b[0m__setattr__\u001b[0m\u001b[0;34m(\u001b[0m\u001b[0mself\u001b[0m\u001b[0;34m,\u001b[0m \u001b[0;34m'__javavalue__'\u001b[0m\u001b[0;34m,\u001b[0m \u001b[0mjv\u001b[0m\u001b[0;34m)\u001b[0m\u001b[0;34m\u001b[0m\u001b[0;34m\u001b[0m\u001b[0m\n\u001b[1;32m     97\u001b[0m         \u001b[0msuper\u001b[0m\u001b[0;34m(\u001b[0m\u001b[0mJObject\u001b[0m\u001b[0;34m,\u001b[0m \u001b[0mself\u001b[0m\u001b[0;34m)\u001b[0m\u001b[0;34m.\u001b[0m\u001b[0m__init__\u001b[0m\u001b[0;34m(\u001b[0m\u001b[0;34m)\u001b[0m\u001b[0;34m\u001b[0m\u001b[0;34m\u001b[0m\u001b[0m\n",
            "\u001b[0;31mjava.lang.OutOfMemoryError\u001b[0m: Java heap space"
          ]
        }
      ]
    },
    {
      "cell_type": "code",
      "metadata": {
        "id": "B3_tQEg4awhV",
        "colab_type": "code",
        "colab": {}
      },
      "source": [
        "from konlpy.tag import Twitter"
      ],
      "execution_count": 0,
      "outputs": []
    },
    {
      "cell_type": "code",
      "metadata": {
        "id": "wN1Mc6POOg_k",
        "colab_type": "code",
        "outputId": "46399b58-0d4c-47f2-c013-51baad2ef3ce",
        "colab": {
          "base_uri": "https://localhost:8080/",
          "height": 316
        }
      },
      "source": [
        "tw = Twitter()\n",
        "pprint(tw.phrases(u\"아버지가 방에 들어가신다. 안녕하세요. 하늘을 나는 자동차\"))\n",
        "\n",
        "pprint(tw.morphs(u\"아버지가 방에 들어가신다. 안녕하세요. 하늘을 나는 자동차\"))\n",
        "\n",
        "pprint(tw.pos(u\"아버지가 방에 들어가신다. 안녕하세요. 하늘을 나는 자동차\"))"
      ],
      "execution_count": 0,
      "outputs": [
        {
          "output_type": "stream",
          "text": [
            "['아버지', '하늘', '자동차']\n",
            "['아버지', '가', '방', '에', '들어가신다', '.', '안녕하세요', '.', '하늘', '을', '나', '는', '자동차']\n",
            "[('아버지', 'Noun'),\n",
            " ('가', 'Josa'),\n",
            " ('방', 'Noun'),\n",
            " ('에', 'Josa'),\n",
            " ('들어가신다', 'Verb'),\n",
            " ('.', 'Punctuation'),\n",
            " ('안녕하세요', 'Adjective'),\n",
            " ('.', 'Punctuation'),\n",
            " ('하늘', 'Noun'),\n",
            " ('을', 'Josa'),\n",
            " ('나', 'Noun'),\n",
            " ('는', 'Josa'),\n",
            " ('자동차', 'Noun')]\n"
          ],
          "name": "stdout"
        },
        {
          "output_type": "stream",
          "text": [
            "/usr/local/lib/python3.6/dist-packages/konlpy/tag/_okt.py:16: UserWarning: \"Twitter\" has changed to \"Okt\" since KoNLPy v0.4.5.\n",
            "  warn('\"Twitter\" has changed to \"Okt\" since KoNLPy v0.4.5.')\n"
          ],
          "name": "stderr"
        }
      ]
    },
    {
      "cell_type": "code",
      "metadata": {
        "id": "s-u36psJOhsP",
        "colab_type": "code",
        "colab": {}
      },
      "source": [
        "#####################"
      ],
      "execution_count": 0,
      "outputs": []
    },
    {
      "cell_type": "code",
      "metadata": {
        "id": "5ajqulUJOiDd",
        "colab_type": "code",
        "colab": {}
      },
      "source": [
        ""
      ],
      "execution_count": 0,
      "outputs": []
    },
    {
      "cell_type": "code",
      "metadata": {
        "id": "aL6W3j4vOh3b",
        "colab_type": "code",
        "colab": {}
      },
      "source": [
        ""
      ],
      "execution_count": 0,
      "outputs": []
    }
  ]
}