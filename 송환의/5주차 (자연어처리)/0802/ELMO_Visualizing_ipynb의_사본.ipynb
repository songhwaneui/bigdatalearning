{
  "nbformat": 4,
  "nbformat_minor": 0,
  "metadata": {
    "colab": {
      "name": "ELMO_Visualizing.ipynb의 사본",
      "version": "0.3.2",
      "provenance": [],
      "collapsed_sections": []
    },
    "kernelspec": {
      "name": "python3",
      "display_name": "Python 3"
    },
    "accelerator": "GPU"
  },
  "cells": [
    {
      "cell_type": "markdown",
      "metadata": {
        "id": "7PoiqS-1LYAJ",
        "colab_type": "text"
      },
      "source": [
        "https://github.com/hengluchang/visualizing_contextual_vectors\n",
        "이 소스는 위의 github주소에 기반합니다."
      ]
    },
    {
      "cell_type": "markdown",
      "metadata": {
        "id": "vUY_DSieRTTm",
        "colab_type": "text"
      },
      "source": [
        "***ELMO Visualization을 위한 파이썬 패키지 설치***"
      ]
    },
    {
      "cell_type": "code",
      "metadata": {
        "id": "F_zqqWnH-s5M",
        "colab_type": "code",
        "outputId": "cdb7c222-2fa6-4eab-ce3c-3604da7dba03",
        "colab": {
          "base_uri": "https://localhost:8080/",
          "height": 1000
        }
      },
      "source": [
        "!pip3 install allennlp\n",
        "!pip3 install sklearn\n",
        "!pip3 install matplotlib\n",
        "!pip3 install numpy"
      ],
      "execution_count": 2,
      "outputs": [
        {
          "output_type": "stream",
          "text": [
            "Collecting allennlp\n",
            "\u001b[?25l  Downloading https://files.pythonhosted.org/packages/30/8c/72b14d20c9cbb0306939ea41109fc599302634fd5c59ccba1a659b7d0360/allennlp-0.8.4-py3-none-any.whl (5.7MB)\n",
            "\u001b[K     |████████████████████████████████| 5.7MB 6.6MB/s \n",
            "\u001b[?25hRequirement already satisfied: boto3 in /usr/local/lib/python3.6/dist-packages (from allennlp) (1.9.189)\n",
            "Collecting parsimonious>=0.8.0 (from allennlp)\n",
            "\u001b[?25l  Downloading https://files.pythonhosted.org/packages/02/fc/067a3f89869a41009e1a7cdfb14725f8ddd246f30f63c645e8ef8a1c56f4/parsimonious-0.8.1.tar.gz (45kB)\n",
            "\u001b[K     |████████████████████████████████| 51kB 20.4MB/s \n",
            "\u001b[?25hCollecting flask-cors>=3.0.7 (from allennlp)\n",
            "  Downloading https://files.pythonhosted.org/packages/78/38/e68b11daa5d613e3a91e4bf3da76c94ac9ee0d9cd515af9c1ab80d36f709/Flask_Cors-3.0.8-py2.py3-none-any.whl\n",
            "Collecting jsonpickle (from allennlp)\n",
            "  Downloading https://files.pythonhosted.org/packages/07/07/c157520a3ebd166c8c24c6ae0ecae7c3968eb4653ff0e5af369bb82f004d/jsonpickle-1.2-py2.py3-none-any.whl\n",
            "Requirement already satisfied: pytz>=2017.3 in /usr/local/lib/python3.6/dist-packages (from allennlp) (2018.9)\n",
            "Collecting conllu==0.11 (from allennlp)\n",
            "  Downloading https://files.pythonhosted.org/packages/d4/2c/856344d9b69baf5b374c395b4286626181a80f0c2b2f704914d18a1cea47/conllu-0.11-py2.py3-none-any.whl\n",
            "Collecting overrides (from allennlp)\n",
            "  Downloading https://files.pythonhosted.org/packages/de/55/3100c6d14c1ed177492fcf8f07c4a7d2d6c996c0a7fc6a9a0a41308e7eec/overrides-1.9.tar.gz\n",
            "Collecting jsonnet>=0.10.0; sys_platform != \"win32\" (from allennlp)\n",
            "\u001b[?25l  Downloading https://files.pythonhosted.org/packages/a9/a8/adba6cd0f84ee6ab064e7f70cd03a2836cefd2e063fd565180ec13beae93/jsonnet-0.13.0.tar.gz (255kB)\n",
            "\u001b[K     |████████████████████████████████| 256kB 40.3MB/s \n",
            "\u001b[?25hRequirement already satisfied: numpy in /usr/local/lib/python3.6/dist-packages (from allennlp) (1.16.4)\n",
            "Collecting unidecode (from allennlp)\n",
            "\u001b[?25l  Downloading https://files.pythonhosted.org/packages/d0/42/d9edfed04228bacea2d824904cae367ee9efd05e6cce7ceaaedd0b0ad964/Unidecode-1.1.1-py2.py3-none-any.whl (238kB)\n",
            "\u001b[K     |████████████████████████████████| 245kB 37.8MB/s \n",
            "\u001b[?25hRequirement already satisfied: tqdm>=4.19 in /usr/local/lib/python3.6/dist-packages (from allennlp) (4.28.1)\n",
            "Collecting tensorboardX>=1.2 (from allennlp)\n",
            "\u001b[?25l  Downloading https://files.pythonhosted.org/packages/c3/12/dcaf67e1312475b26db9e45e7bb6f32b540671a9ee120b3a72d9e09bc517/tensorboardX-1.8-py2.py3-none-any.whl (216kB)\n",
            "\u001b[K     |████████████████████████████████| 225kB 40.5MB/s \n",
            "\u001b[?25hCollecting numpydoc>=0.8.0 (from allennlp)\n",
            "  Downloading https://files.pythonhosted.org/packages/6a/f3/7cfe4c616e4b9fe05540256cc9c6661c052c8a4cec2915732793b36e1843/numpydoc-0.9.1.tar.gz\n",
            "Requirement already satisfied: pytest in /usr/local/lib/python3.6/dist-packages (from allennlp) (3.6.4)\n",
            "Requirement already satisfied: torch>=0.4.1 in /usr/local/lib/python3.6/dist-packages (from allennlp) (1.1.0)\n",
            "Requirement already satisfied: h5py in /usr/local/lib/python3.6/dist-packages (from allennlp) (2.8.0)\n",
            "Collecting flaky (from allennlp)\n",
            "  Downloading https://files.pythonhosted.org/packages/ae/09/94d623dda1adacd51722f3e3e0f88ba08dd030ac2b2662bfb4383096340d/flaky-3.6.0-py2.py3-none-any.whl\n",
            "Requirement already satisfied: requests>=2.18 in /usr/local/lib/python3.6/dist-packages (from allennlp) (2.21.0)\n",
            "Requirement already satisfied: scikit-learn in /usr/local/lib/python3.6/dist-packages (from allennlp) (0.21.2)\n",
            "Requirement already satisfied: nltk in /usr/local/lib/python3.6/dist-packages (from allennlp) (3.2.5)\n",
            "Requirement already satisfied: matplotlib>=2.2.3 in /usr/local/lib/python3.6/dist-packages (from allennlp) (3.0.3)\n",
            "Requirement already satisfied: editdistance in /usr/local/lib/python3.6/dist-packages (from allennlp) (0.5.3)\n",
            "Collecting word2number>=1.1 (from allennlp)\n",
            "  Downloading https://files.pythonhosted.org/packages/4a/29/a31940c848521f0725f0df6b25dca8917f13a2025b0e8fcbe5d0457e45e6/word2number-1.1.zip\n",
            "Requirement already satisfied: gevent>=1.3.6 in /usr/local/lib/python3.6/dist-packages (from allennlp) (1.4.0)\n",
            "Requirement already satisfied: scipy in /usr/local/lib/python3.6/dist-packages (from allennlp) (1.3.0)\n",
            "Collecting pytorch-pretrained-bert>=0.6.0 (from allennlp)\n",
            "\u001b[?25l  Downloading https://files.pythonhosted.org/packages/d7/e0/c08d5553b89973d9a240605b9c12404bcf8227590de62bae27acbcfe076b/pytorch_pretrained_bert-0.6.2-py3-none-any.whl (123kB)\n",
            "\u001b[K     |████████████████████████████████| 133kB 39.0MB/s \n",
            "\u001b[?25hRequirement already satisfied: sqlparse>=0.2.4 in /usr/local/lib/python3.6/dist-packages (from allennlp) (0.3.0)\n",
            "Requirement already satisfied: spacy<2.2,>=2.0.18 in /usr/local/lib/python3.6/dist-packages (from allennlp) (2.1.6)\n",
            "Requirement already satisfied: flask>=1.0.2 in /usr/local/lib/python3.6/dist-packages (from allennlp) (1.1.1)\n",
            "Collecting awscli>=1.11.91 (from allennlp)\n",
            "\u001b[?25l  Downloading https://files.pythonhosted.org/packages/6a/82/99ed4bfad39ace624a5a547b96e520b8f61a01348758c277f0a79aeeb315/awscli-1.16.209-py2.py3-none-any.whl (1.8MB)\n",
            "\u001b[K     |████████████████████████████████| 1.8MB 34.4MB/s \n",
            "\u001b[?25hCollecting responses>=0.7 (from allennlp)\n",
            "  Downloading https://files.pythonhosted.org/packages/d1/5a/b887e89925f1de7890ef298a74438371ed4ed29b33def9e6d02dc6036fd8/responses-0.10.6-py2.py3-none-any.whl\n",
            "Collecting ftfy (from allennlp)\n",
            "\u001b[?25l  Downloading https://files.pythonhosted.org/packages/8f/86/df789c5834f15ae1ca53a8d4c1fc4788676c2e32112f6a786f2625d9c6e6/ftfy-5.5.1-py3-none-any.whl (43kB)\n",
            "\u001b[K     |████████████████████████████████| 51kB 22.1MB/s \n",
            "\u001b[?25hRequirement already satisfied: jmespath<1.0.0,>=0.7.1 in /usr/local/lib/python3.6/dist-packages (from boto3->allennlp) (0.9.4)\n",
            "Requirement already satisfied: s3transfer<0.3.0,>=0.2.0 in /usr/local/lib/python3.6/dist-packages (from boto3->allennlp) (0.2.1)\n",
            "Requirement already satisfied: botocore<1.13.0,>=1.12.189 in /usr/local/lib/python3.6/dist-packages (from boto3->allennlp) (1.12.189)\n",
            "Requirement already satisfied: six>=1.9.0 in /usr/local/lib/python3.6/dist-packages (from parsimonious>=0.8.0->allennlp) (1.12.0)\n",
            "Requirement already satisfied: protobuf>=3.2.0 in /usr/local/lib/python3.6/dist-packages (from tensorboardX>=1.2->allennlp) (3.7.1)\n",
            "Requirement already satisfied: sphinx>=1.6.5 in /usr/local/lib/python3.6/dist-packages (from numpydoc>=0.8.0->allennlp) (1.8.5)\n",
            "Requirement already satisfied: Jinja2>=2.3 in /usr/local/lib/python3.6/dist-packages (from numpydoc>=0.8.0->allennlp) (2.10.1)\n",
            "Requirement already satisfied: atomicwrites>=1.0 in /usr/local/lib/python3.6/dist-packages (from pytest->allennlp) (1.3.0)\n",
            "Requirement already satisfied: more-itertools>=4.0.0 in /usr/local/lib/python3.6/dist-packages (from pytest->allennlp) (7.1.0)\n",
            "Requirement already satisfied: py>=1.5.0 in /usr/local/lib/python3.6/dist-packages (from pytest->allennlp) (1.8.0)\n",
            "Requirement already satisfied: pluggy<0.8,>=0.5 in /usr/local/lib/python3.6/dist-packages (from pytest->allennlp) (0.7.1)\n",
            "Requirement already satisfied: attrs>=17.4.0 in /usr/local/lib/python3.6/dist-packages (from pytest->allennlp) (19.1.0)\n",
            "Requirement already satisfied: setuptools in /usr/local/lib/python3.6/dist-packages (from pytest->allennlp) (41.0.1)\n",
            "Requirement already satisfied: chardet<3.1.0,>=3.0.2 in /usr/local/lib/python3.6/dist-packages (from requests>=2.18->allennlp) (3.0.4)\n",
            "Requirement already satisfied: idna<2.9,>=2.5 in /usr/local/lib/python3.6/dist-packages (from requests>=2.18->allennlp) (2.8)\n",
            "Requirement already satisfied: certifi>=2017.4.17 in /usr/local/lib/python3.6/dist-packages (from requests>=2.18->allennlp) (2019.6.16)\n",
            "Requirement already satisfied: urllib3<1.25,>=1.21.1 in /usr/local/lib/python3.6/dist-packages (from requests>=2.18->allennlp) (1.24.3)\n",
            "Requirement already satisfied: joblib>=0.11 in /usr/local/lib/python3.6/dist-packages (from scikit-learn->allennlp) (0.13.2)\n",
            "Requirement already satisfied: kiwisolver>=1.0.1 in /usr/local/lib/python3.6/dist-packages (from matplotlib>=2.2.3->allennlp) (1.1.0)\n",
            "Requirement already satisfied: pyparsing!=2.0.4,!=2.1.2,!=2.1.6,>=2.0.1 in /usr/local/lib/python3.6/dist-packages (from matplotlib>=2.2.3->allennlp) (2.4.0)\n",
            "Requirement already satisfied: cycler>=0.10 in /usr/local/lib/python3.6/dist-packages (from matplotlib>=2.2.3->allennlp) (0.10.0)\n",
            "Requirement already satisfied: python-dateutil>=2.1 in /usr/local/lib/python3.6/dist-packages (from matplotlib>=2.2.3->allennlp) (2.5.3)\n",
            "Requirement already satisfied: greenlet>=0.4.14; platform_python_implementation == \"CPython\" in /usr/local/lib/python3.6/dist-packages (from gevent>=1.3.6->allennlp) (0.4.15)\n",
            "Collecting regex (from pytorch-pretrained-bert>=0.6.0->allennlp)\n",
            "\u001b[?25l  Downloading https://files.pythonhosted.org/packages/6f/4e/1b178c38c9a1a184288f72065a65ca01f3154df43c6ad898624149b8b4e0/regex-2019.06.08.tar.gz (651kB)\n",
            "\u001b[K     |████████████████████████████████| 655kB 40.4MB/s \n",
            "\u001b[?25hRequirement already satisfied: preshed<2.1.0,>=2.0.1 in /usr/local/lib/python3.6/dist-packages (from spacy<2.2,>=2.0.18->allennlp) (2.0.1)\n",
            "Requirement already satisfied: thinc<7.1.0,>=7.0.8 in /usr/local/lib/python3.6/dist-packages (from spacy<2.2,>=2.0.18->allennlp) (7.0.8)\n",
            "Requirement already satisfied: cymem<2.1.0,>=2.0.2 in /usr/local/lib/python3.6/dist-packages (from spacy<2.2,>=2.0.18->allennlp) (2.0.2)\n",
            "Requirement already satisfied: plac<1.0.0,>=0.9.6 in /usr/local/lib/python3.6/dist-packages (from spacy<2.2,>=2.0.18->allennlp) (0.9.6)\n",
            "Requirement already satisfied: wasabi<1.1.0,>=0.2.0 in /usr/local/lib/python3.6/dist-packages (from spacy<2.2,>=2.0.18->allennlp) (0.2.2)\n",
            "Requirement already satisfied: blis<0.3.0,>=0.2.2 in /usr/local/lib/python3.6/dist-packages (from spacy<2.2,>=2.0.18->allennlp) (0.2.4)\n",
            "Requirement already satisfied: murmurhash<1.1.0,>=0.28.0 in /usr/local/lib/python3.6/dist-packages (from spacy<2.2,>=2.0.18->allennlp) (1.0.2)\n",
            "Requirement already satisfied: srsly<1.1.0,>=0.0.6 in /usr/local/lib/python3.6/dist-packages (from spacy<2.2,>=2.0.18->allennlp) (0.0.7)\n",
            "Requirement already satisfied: itsdangerous>=0.24 in /usr/local/lib/python3.6/dist-packages (from flask>=1.0.2->allennlp) (1.1.0)\n",
            "Requirement already satisfied: click>=5.1 in /usr/local/lib/python3.6/dist-packages (from flask>=1.0.2->allennlp) (7.0)\n",
            "Requirement already satisfied: Werkzeug>=0.15 in /usr/local/lib/python3.6/dist-packages (from flask>=1.0.2->allennlp) (0.15.5)\n",
            "Requirement already satisfied: docutils<0.15,>=0.10 in /usr/local/lib/python3.6/dist-packages (from awscli>=1.11.91->allennlp) (0.14)\n",
            "Collecting colorama<=0.3.9,>=0.2.5 (from awscli>=1.11.91->allennlp)\n",
            "  Downloading https://files.pythonhosted.org/packages/db/c8/7dcf9dbcb22429512708fe3a547f8b6101c0d02137acbd892505aee57adf/colorama-0.3.9-py2.py3-none-any.whl\n",
            "Requirement already satisfied: PyYAML<=5.1,>=3.10; python_version != \"2.6\" in /usr/local/lib/python3.6/dist-packages (from awscli>=1.11.91->allennlp) (3.13)\n",
            "Collecting rsa<=3.5.0,>=3.1.2 (from awscli>=1.11.91->allennlp)\n",
            "\u001b[?25l  Downloading https://files.pythonhosted.org/packages/e1/ae/baedc9cb175552e95f3395c43055a6a5e125ae4d48a1d7a924baca83e92e/rsa-3.4.2-py2.py3-none-any.whl (46kB)\n",
            "\u001b[K     |████████████████████████████████| 51kB 19.4MB/s \n",
            "\u001b[?25hRequirement already satisfied: wcwidth in /usr/local/lib/python3.6/dist-packages (from ftfy->allennlp) (0.1.7)\n",
            "Requirement already satisfied: Pygments>=2.0 in /usr/local/lib/python3.6/dist-packages (from sphinx>=1.6.5->numpydoc>=0.8.0->allennlp) (2.1.3)\n",
            "Requirement already satisfied: snowballstemmer>=1.1 in /usr/local/lib/python3.6/dist-packages (from sphinx>=1.6.5->numpydoc>=0.8.0->allennlp) (1.9.0)\n",
            "Requirement already satisfied: sphinxcontrib-websupport in /usr/local/lib/python3.6/dist-packages (from sphinx>=1.6.5->numpydoc>=0.8.0->allennlp) (1.1.2)\n",
            "Requirement already satisfied: packaging in /usr/local/lib/python3.6/dist-packages (from sphinx>=1.6.5->numpydoc>=0.8.0->allennlp) (19.0)\n",
            "Requirement already satisfied: alabaster<0.8,>=0.7 in /usr/local/lib/python3.6/dist-packages (from sphinx>=1.6.5->numpydoc>=0.8.0->allennlp) (0.7.12)\n",
            "Requirement already satisfied: imagesize in /usr/local/lib/python3.6/dist-packages (from sphinx>=1.6.5->numpydoc>=0.8.0->allennlp) (1.1.0)\n",
            "Requirement already satisfied: babel!=2.0,>=1.3 in /usr/local/lib/python3.6/dist-packages (from sphinx>=1.6.5->numpydoc>=0.8.0->allennlp) (2.7.0)\n",
            "Requirement already satisfied: MarkupSafe>=0.23 in /usr/local/lib/python3.6/dist-packages (from Jinja2>=2.3->numpydoc>=0.8.0->allennlp) (1.1.1)\n",
            "Requirement already satisfied: pyasn1>=0.1.3 in /usr/local/lib/python3.6/dist-packages (from rsa<=3.5.0,>=3.1.2->awscli>=1.11.91->allennlp) (0.4.5)\n",
            "Building wheels for collected packages: parsimonious, overrides, jsonnet, numpydoc, word2number, regex\n",
            "  Building wheel for parsimonious (setup.py) ... \u001b[?25l\u001b[?25hdone\n",
            "  Created wheel for parsimonious: filename=parsimonious-0.8.1-cp36-none-any.whl size=42710 sha256=40c5dfc53c5b7fd7022f67fdf871fed555960a2c35e4a3a9834bb11e222d6dd5\n",
            "  Stored in directory: /root/.cache/pip/wheels/b7/8d/e7/a0e74217da5caeb3c1c7689639b6d28ddbf9985b840bc96a9a\n",
            "  Building wheel for overrides (setup.py) ... \u001b[?25l\u001b[?25hdone\n",
            "  Created wheel for overrides: filename=overrides-1.9-cp36-none-any.whl size=4213 sha256=492bcfd1b4652d5883ccaa3a1e5eaef6e1eebfef583ddd46c538f8bf55094678\n",
            "  Stored in directory: /root/.cache/pip/wheels/8d/52/86/e5a83b1797e7d263b458d2334edd2704c78508b3eea9323718\n",
            "  Building wheel for jsonnet (setup.py) ... \u001b[?25l\u001b[?25hdone\n",
            "  Created wheel for jsonnet: filename=jsonnet-0.13.0-cp36-cp36m-linux_x86_64.whl size=3320385 sha256=170d6e108abac83db4fd402119426a71c59883325f3721e56e9bcdbf2b7a9098\n",
            "  Stored in directory: /root/.cache/pip/wheels/1a/30/ab/ae4a57b1df44fa20a531edb9601b27603da8f5336225691f3f\n",
            "  Building wheel for numpydoc (setup.py) ... \u001b[?25l\u001b[?25hdone\n",
            "  Created wheel for numpydoc: filename=numpydoc-0.9.1-cp36-none-any.whl size=31873 sha256=bb67b2b82bc7bb646d1aec1c63b0b6ab220b3d60839ba4620572a5125d00fb27\n",
            "  Stored in directory: /root/.cache/pip/wheels/51/30/d1/92a39ba40f21cb70e53f8af96eb98f002a781843c065406500\n",
            "  Building wheel for word2number (setup.py) ... \u001b[?25l\u001b[?25hdone\n",
            "  Created wheel for word2number: filename=word2number-1.1-cp36-none-any.whl size=5587 sha256=6d4c201a717998894f087819601ecb6001831fdcb2dca6ae0671ea07cb600942\n",
            "  Stored in directory: /root/.cache/pip/wheels/46/2f/53/5f5c1d275492f2fce1cdab9a9bb12d49286dead829a4078e0e\n",
            "  Building wheel for regex (setup.py) ... \u001b[?25l\u001b[?25hdone\n",
            "  Created wheel for regex: filename=regex-2019.6.8-cp36-cp36m-linux_x86_64.whl size=604157 sha256=e3868950ffddaa2cc23b2d9915162d95de0cd21ec33af90b25517bdc14a892ce\n",
            "  Stored in directory: /root/.cache/pip/wheels/35/e4/80/abf3b33ba89cf65cd262af8a22a5a999cc28fbfabea6b38473\n",
            "Successfully built parsimonious overrides jsonnet numpydoc word2number regex\n",
            "\u001b[31mERROR: awscli 1.16.209 has requirement botocore==1.12.199, but you'll have botocore 1.12.189 which is incompatible.\u001b[0m\n",
            "Installing collected packages: parsimonious, flask-cors, jsonpickle, conllu, overrides, jsonnet, unidecode, tensorboardX, numpydoc, flaky, word2number, regex, pytorch-pretrained-bert, colorama, rsa, awscli, responses, ftfy, allennlp\n",
            "  Found existing installation: rsa 4.0\n",
            "    Uninstalling rsa-4.0:\n",
            "      Successfully uninstalled rsa-4.0\n",
            "Successfully installed allennlp-0.8.4 awscli-1.16.209 colorama-0.3.9 conllu-0.11 flaky-3.6.0 flask-cors-3.0.8 ftfy-5.5.1 jsonnet-0.13.0 jsonpickle-1.2 numpydoc-0.9.1 overrides-1.9 parsimonious-0.8.1 pytorch-pretrained-bert-0.6.2 regex-2019.6.8 responses-0.10.6 rsa-3.4.2 tensorboardX-1.8 unidecode-1.1.1 word2number-1.1\n"
          ],
          "name": "stdout"
        },
        {
          "output_type": "display_data",
          "data": {
            "application/vnd.colab-display-data+json": {
              "pip_warning": {
                "packages": [
                  "rsa"
                ]
              }
            }
          },
          "metadata": {
            "tags": []
          }
        },
        {
          "output_type": "stream",
          "text": [
            "Requirement already satisfied: sklearn in /usr/local/lib/python3.6/dist-packages (0.0)\n",
            "Requirement already satisfied: scikit-learn in /usr/local/lib/python3.6/dist-packages (from sklearn) (0.21.2)\n",
            "Requirement already satisfied: joblib>=0.11 in /usr/local/lib/python3.6/dist-packages (from scikit-learn->sklearn) (0.13.2)\n",
            "Requirement already satisfied: scipy>=0.17.0 in /usr/local/lib/python3.6/dist-packages (from scikit-learn->sklearn) (1.3.0)\n",
            "Requirement already satisfied: numpy>=1.11.0 in /usr/local/lib/python3.6/dist-packages (from scikit-learn->sklearn) (1.16.4)\n",
            "Requirement already satisfied: matplotlib in /usr/local/lib/python3.6/dist-packages (3.0.3)\n",
            "Requirement already satisfied: pyparsing!=2.0.4,!=2.1.2,!=2.1.6,>=2.0.1 in /usr/local/lib/python3.6/dist-packages (from matplotlib) (2.4.0)\n",
            "Requirement already satisfied: cycler>=0.10 in /usr/local/lib/python3.6/dist-packages (from matplotlib) (0.10.0)\n",
            "Requirement already satisfied: python-dateutil>=2.1 in /usr/local/lib/python3.6/dist-packages (from matplotlib) (2.5.3)\n",
            "Requirement already satisfied: kiwisolver>=1.0.1 in /usr/local/lib/python3.6/dist-packages (from matplotlib) (1.1.0)\n",
            "Requirement already satisfied: numpy>=1.10.0 in /usr/local/lib/python3.6/dist-packages (from matplotlib) (1.16.4)\n",
            "Requirement already satisfied: six in /usr/local/lib/python3.6/dist-packages (from cycler>=0.10->matplotlib) (1.12.0)\n",
            "Requirement already satisfied: setuptools in /usr/local/lib/python3.6/dist-packages (from kiwisolver>=1.0.1->matplotlib) (41.0.1)\n",
            "Requirement already satisfied: numpy in /usr/local/lib/python3.6/dist-packages (1.16.4)\n"
          ],
          "name": "stdout"
        }
      ]
    },
    {
      "cell_type": "markdown",
      "metadata": {
        "id": "1OlkJQz-Rq-W",
        "colab_type": "text"
      },
      "source": [
        "***패키지 import***"
      ]
    },
    {
      "cell_type": "code",
      "metadata": {
        "id": "9O62exkSRfII",
        "colab_type": "code",
        "colab": {
          "base_uri": "https://localhost:8080/",
          "height": 72
        },
        "outputId": "2147593a-123b-4caf-d24c-75246ab01310"
      },
      "source": [
        "from collections import OrderedDict\n",
        "\n",
        "import numpy as np\n",
        "from allennlp.commands.elmo import ElmoEmbedder\n",
        "from sklearn.decomposition import PCA ## 엘모 입베더 그림으로 표현할수있게해주는 패키지"
      ],
      "execution_count": 3,
      "outputs": [
        {
          "output_type": "stream",
          "text": [
            "/usr/local/lib/python3.6/dist-packages/sklearn/utils/linear_assignment_.py:21: DeprecationWarning: The linear_assignment_ module is deprecated in 0.21 and will be removed from 0.23. Use scipy.optimize.linear_sum_assignment instead.\n",
            "  DeprecationWarning)\n"
          ],
          "name": "stderr"
        }
      ]
    },
    {
      "cell_type": "markdown",
      "metadata": {
        "id": "96XWPi-hRkgz",
        "colab_type": "text"
      },
      "source": [
        "***ELMO 클래스 선언***"
      ]
    },
    {
      "cell_type": "code",
      "metadata": {
        "id": "S-sQsQ-FRx0A",
        "colab_type": "code",
        "colab": {}
      },
      "source": [
        "class Elmo:\n",
        "    def __init__(self):\n",
        "        self.elmo = ElmoEmbedder()\n",
        "    \n",
        "    # ELMO 벡터 반환 함수.\n",
        "    # 입력 token들과 layer에 따라 반환\n",
        "    def get_elmo_vector(self, tokens, layer):\n",
        "        vectors = self.elmo.embed_sentence(tokens)\n",
        "        X = []\n",
        "        for vector in vectors[layer]:\n",
        "            X.append(vector)\n",
        "\n",
        "        X = np.array(X)\n",
        "\n",
        "        return X"
      ],
      "execution_count": 0,
      "outputs": []
    },
    {
      "cell_type": "markdown",
      "metadata": {
        "id": "QKiH41uCR-9g",
        "colab_type": "text"
      },
      "source": [
        "***차원 축소 함수***"
      ]
    },
    {
      "cell_type": "code",
      "metadata": {
        "id": "RsHv10BPSF3K",
        "colab_type": "code",
        "colab": {}
      },
      "source": [
        "def dim_reduction(X, n):  \n",
        "    pca = PCA(n_components=n)\n",
        "    print(\"size of X: {}\".format(X.shape))\n",
        "    results = pca.fit_transform(X)\n",
        "    print(\"size of reduced X: {}\".format(results.shape))\n",
        "\n",
        "    for i, ratio in enumerate(pca.explained_variance_ratio_):\n",
        "        print(\"Variance retained ratio of PCA-{}: {}\".format(i+1, ratio))\n",
        "\n",
        "    return results"
      ],
      "execution_count": 0,
      "outputs": []
    },
    {
      "cell_type": "markdown",
      "metadata": {
        "id": "sKIfQHguSIDE",
        "colab_type": "text"
      },
      "source": [
        "***2차원으로 표현된 벡터 png파일로 저장하는 함수***"
      ]
    },
    {
      "cell_type": "code",
      "metadata": {
        "id": "d1y5HlRUSSkL",
        "colab_type": "code",
        "colab": {}
      },
      "source": [
        "def plot(word, token_list, reduced_X, file_name, title):\n",
        "    import matplotlib.pyplot as plt\n",
        "    fig, ax = plt.subplots()\n",
        "\n",
        "    # plot ELMo vectors\n",
        "    i = 0\n",
        "    for j, token in enumerate(token_list):\n",
        "        color = pick_color(j)\n",
        "        for _, w in enumerate(token):\n",
        "\n",
        "            # only plot the word of interest\n",
        "            if w.lower() in [word, word + 's', word + 'ing', word + 'ed']:\n",
        "                ax.plot(reduced_X[i, 0], reduced_X[i, 1], color)\n",
        "            i += 1\n",
        "\n",
        "    tokens = []\n",
        "    for token in token_list:\n",
        "        tokens += token\n",
        "\n",
        "    # annotate point\n",
        "    k = 0\n",
        "    for i, token in enumerate(tokens):\n",
        "        if token.lower() in [word, word + 's', word + 'ing', word + 'ed']:\n",
        "            text = ' '.join(token_list[k])\n",
        "\n",
        "            # bold the word of interest in the sentence\n",
        "            text = text.replace(token, r\"$\\bf{\" + token + \"}$\")\n",
        "\n",
        "            plt.annotate(text, xy=(reduced_X[i, 0], reduced_X[i, 1]))\n",
        "            k += 1\n",
        "\n",
        "    ax.set_title(title)\n",
        "    ax.set_xlabel(\"PCA 1\")\n",
        "    ax.set_ylabel(\"PCA 2\")\n",
        "    fig.savefig(file_name, bbox_inches=\"tight\")\n",
        "\n",
        "    print(\"{} saved\\n\".format(file_name))"
      ],
      "execution_count": 0,
      "outputs": []
    },
    {
      "cell_type": "markdown",
      "metadata": {
        "id": "FnwWgqWySU-C",
        "colab_type": "text"
      },
      "source": [
        "***벡터에 표현된 point 색지정***"
      ]
    },
    {
      "cell_type": "code",
      "metadata": {
        "id": "YvTDda-_SeJ3",
        "colab_type": "code",
        "colab": {}
      },
      "source": [
        "def pick_color(i):\n",
        "    if i == 0:\n",
        "        color = 'ro'\n",
        "    elif i == 1:\n",
        "        color = 'bo'\n",
        "    elif i == 2:\n",
        "        color = 'yo'\n",
        "    elif i == 3:\n",
        "        color = 'go'\n",
        "    else:\n",
        "        color = 'co'\n",
        "    return color"
      ],
      "execution_count": 0,
      "outputs": []
    },
    {
      "cell_type": "markdown",
      "metadata": {
        "id": "PuBeoU-ySg1Z",
        "colab_type": "text"
      },
      "source": [
        "***Main***"
      ]
    },
    {
      "cell_type": "code",
      "metadata": {
        "id": "pYerVjsFSitA",
        "colab_type": "code",
        "outputId": "81184f3b-5937-4860-cfce-d7d4904d19a3",
        "colab": {
          "base_uri": "https://localhost:8080/",
          "height": 263
        }
      },
      "source": [
        "if __name__ == \"__main__\":\n",
        "    model = Elmo()\n",
        "#     # Bank에 대한 문장 선언.\n",
        "#     banks = OrderedDict()\n",
        "#     # 은행관련 문장\n",
        "#     banks[0] = \"One can deposit money at the bank\"\n",
        "#     # 강둑관련 문장\n",
        "#     banks[1] = \"He had a nice walk along the river bank\"\n",
        "#     # 은행관련 문장\n",
        "#     banks[2] = \"I withdrew cash from the bank\"\n",
        "#     # 강둑관련 문장\n",
        "#     banks[3] = \"The river bank was not clean\"\n",
        "#     # 은행관련 문장\n",
        "#     banks[4] = \"My wife and I have a joint bank account\"\n",
        "    \n",
        "    \n",
        "#     # Work에 대한 문장 선언. 품사 정보 잘 반영하고있는지\n",
        "#     works = OrderedDict()\n",
        "#     # 명사로써 이해\n",
        "#     works[0] = \"I like this beautiful work by Andy Warhol\"\n",
        "#     # 동사로써 이해\n",
        "#     works[1] = \"Employee works hard every day\"\n",
        "#     # 동사로써 이해\n",
        "#     works[2] = \"My sister works at Starbucks\"\n",
        "#     # 명사로써 이해\n",
        "#     works[3] = \"This amazing work was done in the early nineteenth century\"\n",
        "#     # 동사로써 이해\n",
        "#     works[4] = \"Hundreds of people work in this building\"\n",
        "    \n",
        "    # Plants에 관련 문장 선언. \n",
        "    plants = OrderedDict()\n",
        "    # 심는다의 의미.\n",
        "    plants[0] = \"The gardener planted some trees in my yard\"\n",
        "    # 심는다의 의미.\n",
        "    plants[1] = \"I plan to plant a Joshua tree tomorrow\"\n",
        "    # 심는다의 의미.\n",
        "    plants[2] = \"My sister planted a seed and hopes it will grow to a tree\"\n",
        "    # 식물의 의미.\n",
        "    plants[3] = \"This kind of plant only grows in the subtropical region\"\n",
        "     # 식물의 의미.\n",
        "    plants[4] = \"Most of the plants will die without water\"\n",
        "    \n",
        "        # Plants에 관련 문장 선언. \n",
        "    korea = OrderedDict()\n",
        "    # 심는다의 의미.\n",
        "    korea[0] = \"The gardener planted some trees in my yard\"\n",
        "    # 심는다의 의미.\n",
        "    korea[1] = \"I plan to plant a Joshua tree tomorrow\"\n",
        "    # 심는다의 의미.\n",
        "    korea[2] = \"My sister planted a seed and hopes it will grow to a tree\"\n",
        "    # 식물의 의미.\n",
        "    korea[3] = \"This kind of plant only grows in the subtropical region\"\n",
        "     # 식물의 의미.\n",
        "    korea[4] = \"Most of the plants will die without water\"\n",
        "\n",
        "    words = {\n",
        "  #      \"bank\": banks,\n",
        "   #      \"work\": works,\n",
        "          \"plant\": plants,\n",
        "          \"korea\" : korea\n",
        "    }\n",
        "\n",
        "    # Elmo의 Layer마다의 출력 결과 비교.\n",
        "    for layer in [1, 2]:\n",
        "        for word, sentences in words.items():\n",
        "            print(\"visualizing word {} using ELMo layer {}\".format(word, layer))\n",
        "            X = np.concatenate([model.get_elmo_vector(tokens=sentences[idx].split(),\n",
        "                                                      layer=layer)\n",
        "                                for idx, _ in enumerate(sentences)], axis=0)\n",
        "\n",
        "            # 2차원으로 축소\n",
        "            X_reduce = dim_reduction(X=X, n=2)\n",
        "\n",
        "            token_list = []\n",
        "            for _, sentence in sentences.items():\n",
        "                token_list.append(sentence.split())\n",
        "\n",
        "            file_name = \"{}_elmo_layer_{}.png\".format(word, layer)\n",
        "            title = \"Layer {} ELMo vectors of the word {}\".format(layer, word)\n",
        "            plot(word, token_list, X_reduce, file_name, title)"
      ],
      "execution_count": 11,
      "outputs": [
        {
          "output_type": "stream",
          "text": [
            "visualizing word plant using ELMo layer 1\n",
            "size of X: (47, 1024)\n",
            "size of reduced X: (47, 2)\n",
            "Variance retained ratio of PCA-1: 0.09539472311735153\n",
            "Variance retained ratio of PCA-2: 0.0718805268406868\n",
            "plant_elmo_layer_1.png saved\n",
            "\n",
            "visualizing word plant using ELMo layer 2\n",
            "size of X: (47, 1024)\n",
            "size of reduced X: (47, 2)\n",
            "Variance retained ratio of PCA-1: 0.10498985648155212\n",
            "Variance retained ratio of PCA-2: 0.07778073847293854\n",
            "plant_elmo_layer_2.png saved\n",
            "\n"
          ],
          "name": "stdout"
        }
      ]
    },
    {
      "cell_type": "code",
      "metadata": {
        "id": "KHr5ZPo3_Wu2",
        "colab_type": "code",
        "colab": {}
      },
      "source": [
        "## 문맥기반이 가장 잘반영된 모델\n",
        "## 주변단어를 보고 중의적 의미 잘 찾아냄\n",
        "## 레이어가 깊을수록 군집화가 진행됨\n",
        "\n",
        "## 워드투벡, 글로브 한벡터\n",
        "\n",
        "# 문장에 따라 다르게 \n",
        "\n",
        "\n",
        "## 피쳐 구분은 딥러닝이 알아서 하기 떄문에 레이어 하나하나마다 플로트 찍어보면서 하는게 좋다.\n",
        "\n",
        "## "
      ],
      "execution_count": 0,
      "outputs": []
    }
  ]
}