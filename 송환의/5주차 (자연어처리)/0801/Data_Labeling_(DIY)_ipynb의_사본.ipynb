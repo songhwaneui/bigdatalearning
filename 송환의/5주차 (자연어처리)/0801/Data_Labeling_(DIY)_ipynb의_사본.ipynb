{
  "nbformat": 4,
  "nbformat_minor": 0,
  "metadata": {
    "colab": {
      "name": "Data Labeling (DIY).ipynb의 사본",
      "version": "0.3.2",
      "provenance": [],
      "collapsed_sections": [],
      "toc_visible": true
    },
    "kernelspec": {
      "name": "python3",
      "display_name": "Python 3"
    },
    "accelerator": "GPU"
  },
  "cells": [
    {
      "cell_type": "markdown",
      "metadata": {
        "id": "TKtiON7SWo-W",
        "colab_type": "text"
      },
      "source": [
        "# Data Labeling Lab"
      ]
    },
    {
      "cell_type": "markdown",
      "metadata": {
        "id": "EEbjAYgOW6WB",
        "colab_type": "text"
      },
      "source": [
        "## Goal\n",
        "본 실습의 목표는 Amazon Mechanical Turk와 같은 플랫폼을 통해 사용자들로부터 데이터에 정답을 부착했을 때, 이를 머신러닝 학습에 사용할 수 있도록 후처리하는 방법을 배우는 것입니다."
      ]
    },
    {
      "cell_type": "markdown",
      "metadata": {
        "id": "8yF2I-Cs2JPd",
        "colab_type": "text"
      },
      "source": [
        "## Dataset"
      ]
    },
    {
      "cell_type": "code",
      "metadata": {
        "id": "N1YfHPu-7t1f",
        "colab_type": "code",
        "colab": {}
      },
      "source": [
        "import os\n",
        "import pandas as pd\n",
        "import numpy as np\n",
        "from collections import defaultdict"
      ],
      "execution_count": 0,
      "outputs": []
    },
    {
      "cell_type": "markdown",
      "metadata": {
        "id": "ALwOX9m48wGQ",
        "colab_type": "text"
      },
      "source": [
        "학습 데이터를 다운로드하고 압축을 풉니다.\n",
        "\n",
        "데이터 출처: http://www.cs.cornell.edu/~cristian/Politeness.html"
      ]
    },
    {
      "cell_type": "code",
      "metadata": {
        "id": "q2EW2UKy6elS",
        "colab_type": "code",
        "colab": {
          "base_uri": "https://localhost:8080/",
          "height": 369
        },
        "outputId": "b48dfdf9-6d26-4e3f-da08-e1378f29e4ec"
      },
      "source": [
        "if not os.path.exists(\"Stanford_politeness_corpus.zip\"):\n",
        "  !wget http://www.cs.cornell.edu/~cristian/Politeness_files/Stanford_politeness_corpus.zip\n",
        "\n",
        "if not os.path.exists(\"Stanford_politeness_corpus/wikipedia.annotated.csv\"):\n",
        "  !unzip Stanford_politeness_corpus.zip"
      ],
      "execution_count": 2,
      "outputs": [
        {
          "output_type": "stream",
          "text": [
            "--2019-08-01 04:50:20--  http://www.cs.cornell.edu/~cristian/Politeness_files/Stanford_politeness_corpus.zip\n",
            "Resolving www.cs.cornell.edu (www.cs.cornell.edu)... 132.236.207.20\n",
            "Connecting to www.cs.cornell.edu (www.cs.cornell.edu)|132.236.207.20|:80... connected.\n",
            "HTTP request sent, awaiting response... 200 OK\n",
            "Length: 34676352 (33M) [application/zip]\n",
            "Saving to: ‘Stanford_politeness_corpus.zip’\n",
            "\n",
            "Stanford_politeness 100%[===================>]  33.07M  14.0MB/s    in 2.4s    \n",
            "\n",
            "2019-08-01 04:50:23 (14.0 MB/s) - ‘Stanford_politeness_corpus.zip’ saved [34676352/34676352]\n",
            "\n",
            "Archive:  Stanford_politeness_corpus.zip\n",
            "   creating: Stanford_politeness_corpus/\n",
            "  inflating: Stanford_politeness_corpus/Readme.txt  \n",
            "  inflating: Stanford_politeness_corpus/stack-exchange.annotated.csv  \n",
            "  inflating: Stanford_politeness_corpus/stack-exchange.requests.csv  \n",
            "  inflating: Stanford_politeness_corpus/stack-exchange.roles.csv  \n",
            "  inflating: Stanford_politeness_corpus/wikipedia.admins.csv  \n",
            "  inflating: Stanford_politeness_corpus/wikipedia.annotated.csv  \n",
            "  inflating: Stanford_politeness_corpus/wikipedia.requests.csv  \n"
          ],
          "name": "stdout"
        }
      ]
    },
    {
      "cell_type": "markdown",
      "metadata": {
        "id": "gkBe_qZMhXmT",
        "colab_type": "text"
      },
      "source": [
        "requests 정답 부착되지않은 원시데이터 크롤링한거 양 존나많음\n",
        "annotated 아마존 메카니컬파크를 통해 사람들에게 공손함 측정한 결과7"
      ]
    },
    {
      "cell_type": "markdown",
      "metadata": {
        "id": "ZSjkRRR82O_r",
        "colab_type": "text"
      },
      "source": [
        "다운로드된 데이터셋은 CSV 파일 형태로 되어 있습니다.\n",
        "\n",
        "pandas 패키지의 read_csv 함수를 이용하면 이를 편리하게 읽어올 수 있습니다."
      ]
    },
    {
      "cell_type": "code",
      "metadata": {
        "id": "fN4zIxe99SNI",
        "colab_type": "code",
        "colab": {
          "base_uri": "https://localhost:8080/",
          "height": 369
        },
        "outputId": "bb767371-25da-411c-8a63-c074e107101c"
      },
      "source": [
        "data = pd.read_csv(\"Stanford_politeness_corpus/wikipedia.annotated.csv\")\n",
        "pd.set_option('display.max_columns', None)  ## 축약되는거없이 다 봄\n",
        "\n",
        "print(data.head()) ## 데이터의 첫 5번쨰 \n",
        "\n",
        "## 위키피디아\n",
        "\n",
        "## 같은문장에 대해서 여러사람한테 물어봐서 의견을 종합 같은 문장에대해 5명에게 점수매김\n",
        "# 필터링 방식\n",
        "## 이사람이 영어를 잘하는 사람인지에 대해 테스트하는거 +함  (영어를 잘하는지 테스트)\n",
        "## (귀찮아서 대충할경우) 한사람이 너무 균일하게 하면 삭제 \n",
        "## Turkid1 A2UFD1I8ZO1V4G 각각의 점수를 누가 부여했는지 알수있게\n",
        "## Normalized Score 기계학습에서 쓸수있는 정답만드는? 점수"
      ],
      "execution_count": 3,
      "outputs": [
        {
          "output_type": "stream",
          "text": [
            "   Community      Id                                            Request  \\\n",
            "0  Wikipedia  629705  Where did you learn English? How come you're t...   \n",
            "1  Wikipedia  244336  Thanks very much for your edit to the <url> ar...   \n",
            "2  Wikipedia  627353  Sir i think u hav many friends on wiki who can...   \n",
            "3  Wikipedia  448565  I can't find it.  Maybe I didn't manage to gue...   \n",
            "4  Wikipedia  625810  I can't spend too much time, and I'm no specia...   \n",
            "\n",
            "   Score1  Score2  Score3  Score4  Score5         TurkId1         TurkId2  \\\n",
            "0      13       9      11      11       5  A2UFD1I8ZO1V4G  A2YFPO0N4GIS25   \n",
            "1      23      16      24      21      25  A2QN0EGBRGJU1M  A2GSW5RBAT5LQ5   \n",
            "2      17      17      11      10       9  A233ONYNWKDIYF  A2UFD1I8ZO1V4G   \n",
            "3      17       9      16      16       9  A233ONYNWKDIYF  A1TLLJDX8H4JP1   \n",
            "4      17      14      17      11      17  A21753FQKCM5DQ   AYG3MF094634L   \n",
            "\n",
            "          TurkId3         TurkId4         TurkId5  Normalized Score  \n",
            "0   AYG3MF094634L  A38WUWONC7EXTO  A15DM9BMKZZJQ6         -1.120049  \n",
            "1   AO5E3LWBYM72K  A2ULMYRKQMNNFG  A3TFQK7QK8X6LM          1.313955  \n",
            "2  A2MWGIVIKOXWYM  A1F4D2PZ7NNWTL  A1RT9SQ9D9DLOV         -0.247941  \n",
            "3   AC25X12LNYY6Y  A1F4D2PZ7NNWTL   AEYHIQUDWJ3KV          0.058298  \n",
            "4  A3EJ5TT2ZGBIDA  A1F4D2PZ7NNWTL  A1RT9SQ9D9DLOV          0.346093  \n"
          ],
          "name": "stdout"
        }
      ]
    },
    {
      "cell_type": "markdown",
      "metadata": {
        "id": "S7rtT6zL2iqL",
        "colab_type": "text"
      },
      "source": [
        "각 칼럼에 대한 자세한 정보 등은 Readme.txt 파일에 있습니다.\n",
        "\n",
        "Community - always \"Wikipedia\" in this file\n",
        "\n",
        "Id - Unique ID of the request (can be used to match the requests with the metadata in  wikipedia.requests.csv)\n",
        "\n",
        "Request - text of the request\n",
        "\n",
        "Score[1-5] - politeness scores assigned by each of the 5 annotators, between 1 (very impolite) and 25 (very polite)\n",
        "\n",
        "TurkId[1-5]\t- the Amazon Mechanical Turk ids of each of the 5 annotators\n",
        "\n",
        "Normalized Score - the normalized politeness score of the requests (after normalizing each annotator's score; details in Section 2 of the paper)\n"
      ]
    },
    {
      "cell_type": "markdown",
      "metadata": {
        "id": "iDEGlFBG3DgA",
        "colab_type": "text"
      },
      "source": [
        "가장 단순하게는 5개 Score의 평균을 내서 각 문장에 대한 정답을 부여할 수 있을 것입니다.\n",
        "\n",
        "이런 방법으로 각 문장마다 점수를 내고 이를 시각화해볼까요?"
      ]
    },
    {
      "cell_type": "code",
      "metadata": {
        "colab_type": "code",
        "id": "K0FrPkGoIavN",
        "colab": {
          "base_uri": "https://localhost:8080/",
          "height": 638
        },
        "outputId": "fd915591-1e34-4164-ffc2-688801792b6b"
      },
      "source": [
        "def calc_avg(row):  ## 하나의 데이터 행이 있을때 포문 돌면서 스코어 다 더해서 평균냄\n",
        "  sum = 0\n",
        "  for i in range(1, 6, 1):\n",
        "    sum += row[\"Score%d\" %i] ## 점수 의 평균괌\n",
        "  \n",
        "  return sum / 5.0\n",
        "  \n",
        "data[\"avg_score\"] = data.apply(lambda row: calc_avg(row), axis=1) ## 각각 로우함수에다가 에버러지 컬럼 스코어 칼럼 추가해라 ## apply가 돌면서 자동으로 닿줌\n",
        "\n",
        "print(data.head())\n",
        "data[\"avg_score\"].plot.hist(bins=50)## bins 막대기 몇개그릴지 세밀하게, 큰그림 등등  # 공손함은 모호한게 많아서 중간이 많음\n",
        "#\n",
        "## ex 정치뉴스, 스포츠 뉴스 이러면 양쪽 끝과끝으로 나뉨"
      ],
      "execution_count": 4,
      "outputs": [
        {
          "output_type": "stream",
          "text": [
            "   Community      Id                                            Request  \\\n",
            "0  Wikipedia  629705  Where did you learn English? How come you're t...   \n",
            "1  Wikipedia  244336  Thanks very much for your edit to the <url> ar...   \n",
            "2  Wikipedia  627353  Sir i think u hav many friends on wiki who can...   \n",
            "3  Wikipedia  448565  I can't find it.  Maybe I didn't manage to gue...   \n",
            "4  Wikipedia  625810  I can't spend too much time, and I'm no specia...   \n",
            "\n",
            "   Score1  Score2  Score3  Score4  Score5         TurkId1         TurkId2  \\\n",
            "0      13       9      11      11       5  A2UFD1I8ZO1V4G  A2YFPO0N4GIS25   \n",
            "1      23      16      24      21      25  A2QN0EGBRGJU1M  A2GSW5RBAT5LQ5   \n",
            "2      17      17      11      10       9  A233ONYNWKDIYF  A2UFD1I8ZO1V4G   \n",
            "3      17       9      16      16       9  A233ONYNWKDIYF  A1TLLJDX8H4JP1   \n",
            "4      17      14      17      11      17  A21753FQKCM5DQ   AYG3MF094634L   \n",
            "\n",
            "          TurkId3         TurkId4         TurkId5  Normalized Score  avg_score  \n",
            "0   AYG3MF094634L  A38WUWONC7EXTO  A15DM9BMKZZJQ6         -1.120049        9.8  \n",
            "1   AO5E3LWBYM72K  A2ULMYRKQMNNFG  A3TFQK7QK8X6LM          1.313955       21.8  \n",
            "2  A2MWGIVIKOXWYM  A1F4D2PZ7NNWTL  A1RT9SQ9D9DLOV         -0.247941       12.8  \n",
            "3   AC25X12LNYY6Y  A1F4D2PZ7NNWTL   AEYHIQUDWJ3KV          0.058298       13.4  \n",
            "4  A3EJ5TT2ZGBIDA  A1F4D2PZ7NNWTL  A1RT9SQ9D9DLOV          0.346093       15.2  \n"
          ],
          "name": "stdout"
        },
        {
          "output_type": "execute_result",
          "data": {
            "text/plain": [
              "<matplotlib.axes._subplots.AxesSubplot at 0x7febd26c2400>"
            ]
          },
          "metadata": {
            "tags": []
          },
          "execution_count": 4
        },
        {
          "output_type": "display_data",
          "data": {
            "image/png": "[encoded data removed]",
            "text/plain": [
              "<Figure size 432x288 with 1 Axes>"
            ]
          },
          "metadata": {
            "tags": []
          }
        }
      ]
    },
    {
      "cell_type": "markdown",
      "metadata": {
        "id": "YucDDC643WDI",
        "colab_type": "text"
      },
      "source": [
        "위 방법에는 몇 가지 문제가 있습니다.\n",
        "\n",
        "\n",
        "1.   사람마다 느끼는 공손함의 정도는 주관적입니다.\n",
        "2.   각 문장마다 서로 다른 사람이 점수를 부여했기 때문에 같은 점수를 같은 정도의 공손함이라고 해석할 수 없습니다.\n",
        "\n",
        "이를 해결하기 위해, 각 사람마다의 점수 분포를 정규화해줄 수 있습니다.\n",
        "\n",
        "TurkId 항목을 이용해 각각의 사람이 부여한 점수를 모으고, 이로부터 각 사람이 부여한 점수의 평균과 표준편차를 계산해봅시다.\n",
        "\n"
      ]
    },
    {
      "cell_type": "markdown",
      "metadata": {
        "id": "3KSyVs09jHs7",
        "colab_type": "text"
      },
      "source": [
        "정규분포를 통해 사람의 성향에 따라 점수를 \n",
        "사람 id가지고 각각 개인이 판단을 하는 중심기준이 어느정도인지 찾는게 목표\n",
        "어떤사람은 10을 중심으로 어떤사람은 20을중심으로 등등\n",
        "이런것들을 통일해주기위해\n",
        "각사람이 점수준거에 대해 평균과 표준편차 => 모든 평균 0 표준분포 1인 정규분포 만듬\n",
        "정규화(z노말라이제이션)"
      ]
    },
    {
      "cell_type": "code",
      "metadata": {
        "id": "dRnBjbRok56u",
        "colab_type": "code",
        "colab": {}
      },
      "source": [
        "\n",
        "for idx, row in data.iterrows(): \n",
        "  print(idx)\n",
        "  print(\"================\")\n",
        "  print(row[\"TurkId2\"])"
      ],
      "execution_count": 0,
      "outputs": []
    },
    {
      "cell_type": "code",
      "metadata": {
        "id": "myhNps40EAux",
        "colab_type": "code",
        "colab": {
          "base_uri": "https://localhost:8080/",
          "height": 756
        },
        "outputId": "2c93e42c-cabf-4339-d7f8-686ac29991d6"
      },
      "source": [
        "worker_scores = defaultdict(list)  ## 내가 원하는 키 없으면 에러 내는 대신에 빈 리스트 반환 원래는 에러 # 키는 터크아이디, 벨류는 그사람이 매긴 점수 리스트\n",
        "\n",
        "# Your code here\n",
        "for idx, row in data.iterrows(): ## iterrows() 몇번쨰행인지, 그행데이터 이터레이터 반환\n",
        "  for i in range(1, 6, 1):\n",
        "    worker_scores[row[\"Turkld%d\" %i]].append(row[\"Score%d\" %i])\n",
        "    \n",
        "# for worker_id in worker_scores:\n",
        "#   worker_mean[worker_id] = np.mean(worker_scores[workers_id])\n",
        "#   worker_std[worker_id] = np.std(worker_scores[worker_id])\n",
        "\n",
        "# print(worker_mean)\n",
        "# print(worker_std)\n",
        "\n",
        "\n",
        "print(worker_scores)\n",
        "\n",
        "\n",
        "\n",
        "#      \n",
        "#     worker_scores[row[\"Turkld\"+i]]= row[\"Score\"+i] \n",
        "\n",
        "\n",
        "# worker_mean = {}\n",
        "# worker_std = {}\n",
        "\n",
        "# # Your code here\n",
        "# np.mean([....])  \n",
        "# np.std([...]) ## 표준편차\n",
        "# print(worker_mean)\n",
        "# print(worker_std)\n",
        "                  "
      ],
      "execution_count": 23,
      "outputs": [
        {
          "output_type": "error",
          "ename": "KeyError",
          "evalue": "ignored",
          "traceback": [
            "\u001b[0;31m---------------------------------------------------------------------------\u001b[0m",
            "\u001b[0;31mTypeError\u001b[0m                                 Traceback (most recent call last)",
            "\u001b[0;32m/usr/local/lib/python3.6/dist-packages/pandas/core/indexes/base.py\u001b[0m in \u001b[0;36mget_value\u001b[0;34m(self, series, key)\u001b[0m\n\u001b[1;32m   4380\u001b[0m             \u001b[0;32mtry\u001b[0m\u001b[0;34m:\u001b[0m\u001b[0;34m\u001b[0m\u001b[0;34m\u001b[0m\u001b[0m\n\u001b[0;32m-> 4381\u001b[0;31m                 \u001b[0;32mreturn\u001b[0m \u001b[0mlibindex\u001b[0m\u001b[0;34m.\u001b[0m\u001b[0mget_value_box\u001b[0m\u001b[0;34m(\u001b[0m\u001b[0ms\u001b[0m\u001b[0;34m,\u001b[0m \u001b[0mkey\u001b[0m\u001b[0;34m)\u001b[0m\u001b[0;34m\u001b[0m\u001b[0;34m\u001b[0m\u001b[0m\n\u001b[0m\u001b[1;32m   4382\u001b[0m             \u001b[0;32mexcept\u001b[0m \u001b[0mIndexError\u001b[0m\u001b[0;34m:\u001b[0m\u001b[0;34m\u001b[0m\u001b[0;34m\u001b[0m\u001b[0m\n",
            "\u001b[0;32mpandas/_libs/index.pyx\u001b[0m in \u001b[0;36mpandas._libs.index.get_value_box\u001b[0;34m()\u001b[0m\n",
            "\u001b[0;32mpandas/_libs/index.pyx\u001b[0m in \u001b[0;36mpandas._libs.index.get_value_at\u001b[0;34m()\u001b[0m\n",
            "\u001b[0;32mpandas/_libs/util.pxd\u001b[0m in \u001b[0;36mpandas._libs.util.get_value_at\u001b[0;34m()\u001b[0m\n",
            "\u001b[0;32mpandas/_libs/util.pxd\u001b[0m in \u001b[0;36mpandas._libs.util.validate_indexer\u001b[0;34m()\u001b[0m\n",
            "\u001b[0;31mTypeError\u001b[0m: 'str' object cannot be interpreted as an integer",
            "\nDuring handling of the above exception, another exception occurred:\n",
            "\u001b[0;31mKeyError\u001b[0m                                  Traceback (most recent call last)",
            "\u001b[0;32m<ipython-input-23-c035c0ac321e>\u001b[0m in \u001b[0;36m<module>\u001b[0;34m()\u001b[0m\n\u001b[1;32m      4\u001b[0m \u001b[0;32mfor\u001b[0m \u001b[0midx\u001b[0m\u001b[0;34m,\u001b[0m \u001b[0mrow\u001b[0m \u001b[0;32min\u001b[0m \u001b[0mdata\u001b[0m\u001b[0;34m.\u001b[0m\u001b[0miterrows\u001b[0m\u001b[0;34m(\u001b[0m\u001b[0;34m)\u001b[0m\u001b[0;34m:\u001b[0m \u001b[0;31m## iterrows() 몇번쨰행인지, 그행데이터 이터레이터 반환\u001b[0m\u001b[0;34m\u001b[0m\u001b[0;34m\u001b[0m\u001b[0m\n\u001b[1;32m      5\u001b[0m   \u001b[0;32mfor\u001b[0m \u001b[0mi\u001b[0m \u001b[0;32min\u001b[0m \u001b[0mrange\u001b[0m\u001b[0;34m(\u001b[0m\u001b[0;36m1\u001b[0m\u001b[0;34m,\u001b[0m \u001b[0;36m6\u001b[0m\u001b[0;34m,\u001b[0m \u001b[0;36m1\u001b[0m\u001b[0;34m)\u001b[0m\u001b[0;34m:\u001b[0m\u001b[0;34m\u001b[0m\u001b[0;34m\u001b[0m\u001b[0m\n\u001b[0;32m----> 6\u001b[0;31m     \u001b[0mworker_scores\u001b[0m\u001b[0;34m[\u001b[0m\u001b[0mrow\u001b[0m\u001b[0;34m[\u001b[0m\u001b[0;34m\"Turkld%d\"\u001b[0m \u001b[0;34m%\u001b[0m\u001b[0mi\u001b[0m\u001b[0;34m]\u001b[0m\u001b[0;34m]\u001b[0m\u001b[0;34m.\u001b[0m\u001b[0mappend\u001b[0m\u001b[0;34m(\u001b[0m\u001b[0mrow\u001b[0m\u001b[0;34m[\u001b[0m\u001b[0;34m\"Score%d\"\u001b[0m \u001b[0;34m%\u001b[0m\u001b[0mi\u001b[0m\u001b[0;34m]\u001b[0m\u001b[0;34m)\u001b[0m\u001b[0;34m\u001b[0m\u001b[0;34m\u001b[0m\u001b[0m\n\u001b[0m\u001b[1;32m      7\u001b[0m \u001b[0;34m\u001b[0m\u001b[0m\n\u001b[1;32m      8\u001b[0m \u001b[0;31m# for worker_id in worker_scores:\u001b[0m\u001b[0;34m\u001b[0m\u001b[0;34m\u001b[0m\u001b[0;34m\u001b[0m\u001b[0m\n",
            "\u001b[0;32m/usr/local/lib/python3.6/dist-packages/pandas/core/series.py\u001b[0m in \u001b[0;36m__getitem__\u001b[0;34m(self, key)\u001b[0m\n\u001b[1;32m    866\u001b[0m         \u001b[0mkey\u001b[0m \u001b[0;34m=\u001b[0m \u001b[0mcom\u001b[0m\u001b[0;34m.\u001b[0m\u001b[0mapply_if_callable\u001b[0m\u001b[0;34m(\u001b[0m\u001b[0mkey\u001b[0m\u001b[0;34m,\u001b[0m \u001b[0mself\u001b[0m\u001b[0;34m)\u001b[0m\u001b[0;34m\u001b[0m\u001b[0;34m\u001b[0m\u001b[0m\n\u001b[1;32m    867\u001b[0m         \u001b[0;32mtry\u001b[0m\u001b[0;34m:\u001b[0m\u001b[0;34m\u001b[0m\u001b[0;34m\u001b[0m\u001b[0m\n\u001b[0;32m--> 868\u001b[0;31m             \u001b[0mresult\u001b[0m \u001b[0;34m=\u001b[0m \u001b[0mself\u001b[0m\u001b[0;34m.\u001b[0m\u001b[0mindex\u001b[0m\u001b[0;34m.\u001b[0m\u001b[0mget_value\u001b[0m\u001b[0;34m(\u001b[0m\u001b[0mself\u001b[0m\u001b[0;34m,\u001b[0m \u001b[0mkey\u001b[0m\u001b[0;34m)\u001b[0m\u001b[0;34m\u001b[0m\u001b[0;34m\u001b[0m\u001b[0m\n\u001b[0m\u001b[1;32m    869\u001b[0m \u001b[0;34m\u001b[0m\u001b[0m\n\u001b[1;32m    870\u001b[0m             \u001b[0;32mif\u001b[0m \u001b[0;32mnot\u001b[0m \u001b[0mis_scalar\u001b[0m\u001b[0;34m(\u001b[0m\u001b[0mresult\u001b[0m\u001b[0;34m)\u001b[0m\u001b[0;34m:\u001b[0m\u001b[0;34m\u001b[0m\u001b[0;34m\u001b[0m\u001b[0m\n",
            "\u001b[0;32m/usr/local/lib/python3.6/dist-packages/pandas/core/indexes/base.py\u001b[0m in \u001b[0;36mget_value\u001b[0;34m(self, series, key)\u001b[0m\n\u001b[1;32m   4387\u001b[0m                     \u001b[0;32mraise\u001b[0m \u001b[0mInvalidIndexError\u001b[0m\u001b[0;34m(\u001b[0m\u001b[0mkey\u001b[0m\u001b[0;34m)\u001b[0m\u001b[0;34m\u001b[0m\u001b[0;34m\u001b[0m\u001b[0m\n\u001b[1;32m   4388\u001b[0m                 \u001b[0;32melse\u001b[0m\u001b[0;34m:\u001b[0m\u001b[0;34m\u001b[0m\u001b[0;34m\u001b[0m\u001b[0m\n\u001b[0;32m-> 4389\u001b[0;31m                     \u001b[0;32mraise\u001b[0m \u001b[0me1\u001b[0m\u001b[0;34m\u001b[0m\u001b[0;34m\u001b[0m\u001b[0m\n\u001b[0m\u001b[1;32m   4390\u001b[0m             \u001b[0;32mexcept\u001b[0m \u001b[0mException\u001b[0m\u001b[0;34m:\u001b[0m  \u001b[0;31m# pragma: no cover\u001b[0m\u001b[0;34m\u001b[0m\u001b[0;34m\u001b[0m\u001b[0m\n\u001b[1;32m   4391\u001b[0m                 \u001b[0;32mraise\u001b[0m \u001b[0me1\u001b[0m\u001b[0;34m\u001b[0m\u001b[0;34m\u001b[0m\u001b[0m\n",
            "\u001b[0;32m/usr/local/lib/python3.6/dist-packages/pandas/core/indexes/base.py\u001b[0m in \u001b[0;36mget_value\u001b[0;34m(self, series, key)\u001b[0m\n\u001b[1;32m   4373\u001b[0m         \u001b[0;32mtry\u001b[0m\u001b[0;34m:\u001b[0m\u001b[0;34m\u001b[0m\u001b[0;34m\u001b[0m\u001b[0m\n\u001b[1;32m   4374\u001b[0m             return self._engine.get_value(s, k,\n\u001b[0;32m-> 4375\u001b[0;31m                                           tz=getattr(series.dtype, 'tz', None))\n\u001b[0m\u001b[1;32m   4376\u001b[0m         \u001b[0;32mexcept\u001b[0m \u001b[0mKeyError\u001b[0m \u001b[0;32mas\u001b[0m \u001b[0me1\u001b[0m\u001b[0;34m:\u001b[0m\u001b[0;34m\u001b[0m\u001b[0;34m\u001b[0m\u001b[0m\n\u001b[1;32m   4377\u001b[0m             \u001b[0;32mif\u001b[0m \u001b[0mlen\u001b[0m\u001b[0;34m(\u001b[0m\u001b[0mself\u001b[0m\u001b[0;34m)\u001b[0m \u001b[0;34m>\u001b[0m \u001b[0;36m0\u001b[0m \u001b[0;32mand\u001b[0m \u001b[0;34m(\u001b[0m\u001b[0mself\u001b[0m\u001b[0;34m.\u001b[0m\u001b[0mholds_integer\u001b[0m\u001b[0;34m(\u001b[0m\u001b[0;34m)\u001b[0m \u001b[0;32mor\u001b[0m \u001b[0mself\u001b[0m\u001b[0;34m.\u001b[0m\u001b[0mis_boolean\u001b[0m\u001b[0;34m(\u001b[0m\u001b[0;34m)\u001b[0m\u001b[0;34m)\u001b[0m\u001b[0;34m:\u001b[0m\u001b[0;34m\u001b[0m\u001b[0;34m\u001b[0m\u001b[0m\n",
            "\u001b[0;32mpandas/_libs/index.pyx\u001b[0m in \u001b[0;36mpandas._libs.index.IndexEngine.get_value\u001b[0;34m()\u001b[0m\n",
            "\u001b[0;32mpandas/_libs/index.pyx\u001b[0m in \u001b[0;36mpandas._libs.index.IndexEngine.get_value\u001b[0;34m()\u001b[0m\n",
            "\u001b[0;32mpandas/_libs/index.pyx\u001b[0m in \u001b[0;36mpandas._libs.index.IndexEngine.get_loc\u001b[0;34m()\u001b[0m\n",
            "\u001b[0;32mpandas/_libs/hashtable_class_helper.pxi\u001b[0m in \u001b[0;36mpandas._libs.hashtable.PyObjectHashTable.get_item\u001b[0;34m()\u001b[0m\n",
            "\u001b[0;32mpandas/_libs/hashtable_class_helper.pxi\u001b[0m in \u001b[0;36mpandas._libs.hashtable.PyObjectHashTable.get_item\u001b[0;34m()\u001b[0m\n",
            "\u001b[0;31mKeyError\u001b[0m: 'Turkld1'"
          ]
        }
      ]
    },
    {
      "cell_type": "markdown",
      "metadata": {
        "id": "Ty0vo75G3-WA",
        "colab_type": "text"
      },
      "source": [
        "그 다음으로, 각 사람이 부여한 점수에서 그 사람의 점수들의 평균을 빼고, 표준편차로 나누어줍니다. \n",
        "\n",
        "이를 z-normalization이라고 합니다.\n",
        "\n",
        "이렇게 하면 모든 사람의 점수가 평균 0, 표준편차 1의 분포를 가지게 됩니다. 따라서 점수를 부여한 사람을 신경쓰지 않고 점수들을 비교할 수 있습니다."
      ]
    },
    {
      "cell_type": "code",
      "metadata": {
        "id": "YkHBDYlGF1xl",
        "colab_type": "code",
        "colab": {}
      },
      "source": [
        "# 스코어 별로   Score1  Score2  Score3  Score4  Score5 제트노말라이제이션한 컬럼들 추가\n",
        "\n",
        "# Your code here\n",
        "def z_norm(row,i):\n",
        "  worker_id = row[\"Turkld%d\" %]\n",
        "  \n",
        "  \n",
        "  \n",
        "print(data.head())"
      ],
      "execution_count": 0,
      "outputs": []
    },
    {
      "cell_type": "markdown",
      "metadata": {
        "id": "DKeCKpDF4f13",
        "colab_type": "text"
      },
      "source": [
        "이제 사람들 간의 점수 편차를 최소화했으니, 정규화된 점수들의 평균을 내봅시다.\n",
        "\n",
        "평균 점수를 계산하고, 이를 \"Normalized Score\" 칼럼의 값과 비교해보세요.\n",
        "\n",
        "이전과 같이 히스토그램을 통해 시각화도 해보시기 바랍니다."
      ]
    },
    {
      "cell_type": "markdown",
      "metadata": {
        "id": "zyiqlPVCrhoY",
        "colab_type": "text"
      },
      "source": [
        "가운데 중립적인문장 분포가 많으면 공손하지도않도 불손하지도 않다. \n",
        "결국 최종적으로 공손불손 측정도 이그래프 따르게 됨 \n",
        "이런 데이터 모델 학습시키면 학습잘안되고 방해만됨\n",
        "중립적인 문장은 제외하고 극단적인경우만 라벨 붙이고 학습시킨다.\n"
      ]
    },
    {
      "cell_type": "code",
      "metadata": {
        "id": "1nuIZb3R_lQ3",
        "colab_type": "code",
        "colab": {}
      },
      "source": [
        "# Your code here\n",
        "\n",
        "print(data.head())\n",
        "data[\"avg_zn_score\"].plot.hist(bins=50)"
      ],
      "execution_count": 0,
      "outputs": []
    },
    {
      "cell_type": "markdown",
      "metadata": {
        "id": "3hKvYhZL41LC",
        "colab_type": "text"
      },
      "source": [
        "이제 각 문장마다 공손함 점수는 부여했지만, 아직 하나의 문제가 더 남았습니다.\n",
        "\n",
        "공손함은 모호한 개념이기 때문에, 그리고 공손함을 따지기 어려운 중립적인 문장들이 많기 때문에 지금의 데이터에는 공손함을 따지기 어려운 중립적인 문장들이 많습니다.\n",
        "\n",
        "이러한 경우는 점수가 중간에 분포하는 문장들을 학습 데이터에서 제거하는 것이 일반적입니다.\n",
        "\n",
        "이 데이터에서는 가장 공손한 문장 25%와 가장 불손한 문장 25%만을 사용하고, 나머지는 폐기하겠습니다."
      ]
    },
    {
      "cell_type": "code",
      "metadata": {
        "id": "PLxkMzaN9G02",
        "colab_type": "code",
        "colab": {}
      },
      "source": [
        "def load_data(data_file):\n",
        "  data = pd.read_csv(data_file)\n",
        "\n",
        "  # Only use the top quartile as polite, and bottom quartile as impolite. Discard the rest.\n",
        "  quantiles = data[\"Normalized Score\"].quantile([0.25, 0.5, 0.75]) # z노말라이제이션된 스코어랑 값을 이용해서  하위 25퍼 상위 75% 이런거 계산해주는거 quantile 함수\n",
        "                                                                  # 상위, 하위 25%만 쓴다. 상위 25% 공손 , 하위 25% 불손\n",
        "  print(quantiles)\n",
        "\n",
        "  # Your code here\n",
        "\n",
        "  return data\n",
        "\n",
        "data = load_data(\"Stanford_politeness_corpus/wikipedia.annotated.csv\")\n",
        "print(data.head())\n",
        "print(\"데이터 수: %d\" %len(data))"
      ],
      "execution_count": 0,
      "outputs": []
    }
  ]
}