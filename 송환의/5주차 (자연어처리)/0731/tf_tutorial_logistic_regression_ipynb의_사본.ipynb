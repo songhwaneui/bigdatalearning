{
  "nbformat": 4,
  "nbformat_minor": 0,
  "metadata": {
    "colab": {
      "name": "tf_tutorial_logistic_regression.ipynb의 사본",
      "version": "0.3.2",
      "provenance": [],
      "collapsed_sections": [],
      "toc_visible": true
    },
    "kernelspec": {
      "name": "python3",
      "display_name": "Python 3"
    }
  },
  "cells": [
    {
      "cell_type": "code",
      "metadata": {
        "id": "S7Z_CA9qii-9",
        "colab_type": "code",
        "colab": {}
      },
      "source": [
        "import tensorflow as tf"
      ],
      "execution_count": 0,
      "outputs": []
    },
    {
      "cell_type": "code",
      "metadata": {
        "id": "t2ABewXpisuM",
        "colab_type": "code",
        "colab": {}
      },
      "source": [
        "x_data = [[1, 2],\n",
        "          [2, 3],\n",
        "          [3, 1],\n",
        "          [4, 3],\n",
        "          [5, 3],\n",
        "          [6, 2]]\n",
        "y_data = [[0],\n",
        "          [0],\n",
        "          [0],\n",
        "          [1],\n",
        "          [1],\n",
        "          [1]]\n",
        "\n",
        "x_test_data = [[1,1], [5,4], [2,1], [6,3]]\n",
        "y_test_data = [[0], [1], [0], [1]]"
      ],
      "execution_count": 0,
      "outputs": []
    },
    {
      "cell_type": "markdown",
      "metadata": {
        "id": "V5BHnLaoi7DP",
        "colab_type": "text"
      },
      "source": [
        "## Placeholders"
      ]
    },
    {
      "cell_type": "code",
      "metadata": {
        "id": "MhxjJwAwiszo",
        "colab_type": "code",
        "colab": {}
      },
      "source": [
        "# placeholders for a tensor that will be always fed.\n",
        "x = tf.placeholder(tf.float32, shape=[None, 2], name=\"x_ph\") # 배치가 얼마나 들어올지 모른다. None 하면 텐서플로우가 알아서  shape 지정 보통 인풋데이터는 한행으로 나열해서 넣는다.\n",
        "y = tf.placeholder(tf.float32, shape=[None, 1], name=\"y_ph\") ## 정답값"
      ],
      "execution_count": 0,
      "outputs": []
    },
    {
      "cell_type": "markdown",
      "metadata": {
        "id": "E-uymUtkjG_X",
        "colab_type": "text"
      },
      "source": [
        "## Variables"
      ]
    },
    {
      "cell_type": "code",
      "metadata": {
        "id": "AjlSLg2Ris3I",
        "colab_type": "code",
        "colab": {}
      },
      "source": [
        "W = tf.Variable(tf.random_normal([2, 1]), name='weight')\n",
        "b = tf.Variable(tf.random_normal([1]), name='bias')"
      ],
      "execution_count": 0,
      "outputs": []
    },
    {
      "cell_type": "markdown",
      "metadata": {
        "id": "GmY6dzYqjXKj",
        "colab_type": "text"
      },
      "source": [
        "## Build a Model"
      ]
    },
    {
      "cell_type": "code",
      "metadata": {
        "id": "I26HgC-djKjD",
        "colab_type": "code",
        "colab": {}
      },
      "source": [
        "# Hypothesis using sigmoid\n",
        "## 0 1사이에 어디에 확률이 높냐?\n",
        "hypothesis = tf.sigmoid(tf.matmul(x, W) + b)\n",
        "\n",
        "# cost/loss function\n",
        "# 크로스엔트로피\n",
        "# cost = tf.nn.sigmoid_corss_entroypy_with_logits(labels=y, logits= hypothesis)  텐서플로우 문서검색하면 다 나옴 위에서 hypothesis에서 sigmoid 뺴서\n",
        "# cost = tf.reduce_mean(cost)\n",
        "cost = -tf.reduce_mean(y * tf.log(hypothesis) + (1 - y) *\n",
        "                       tf.log(1 - hypothesis))\n",
        "\n",
        "train = tf.train.GradientDescentOptimizer(learning_rate=0.01).minimize(cost)\n",
        "\n",
        "# Accuracy computation\n",
        "# True if hypothesis>0.5 else False\n",
        "predicted = tf.cast(hypothesis > 0.5, dtype=tf.float32)\n",
        "accuracy = tf.reduce_mean(tf.cast(tf.equal(predicted, y), dtype=tf.float32))"
      ],
      "execution_count": 0,
      "outputs": []
    },
    {
      "cell_type": "markdown",
      "metadata": {
        "id": "-lllq3zRjvx-",
        "colab_type": "text"
      },
      "source": [
        "## Train a Model (session call)"
      ]
    },
    {
      "cell_type": "code",
      "metadata": {
        "id": "xTTkMd8MjKwB",
        "colab_type": "code",
        "outputId": "85ef38e2-a0ab-490b-aed4-c870e5415319",
        "colab": {
          "base_uri": "https://localhost:8080/",
          "height": 1000
        }
      },
      "source": [
        "# Launch graph\n",
        "with tf.Session() as sess:\n",
        "    sess.run(tf.global_variables_initializer())\n",
        "\n",
        "    for step in range(10001):\n",
        "        cost_val, _ = sess.run([cost, train], feed_dict={x: x_data, y: y_data})\n",
        "        if step % 200 == 0:\n",
        "            print(step, cost_val)\n",
        "\n",
        "    # Accuracy report\n",
        "    hypothesis_val, pred_val, acc_val = sess.run([hypothesis, predicted, accuracy],\n",
        "                       feed_dict={x: x_test_data, y: y_test_data})\n",
        "    print(\"\\nHypothesis: \", hypothesis_val, \"\\nCorrect : \", pred_val, \"\\nAccuracy: \", acc_val)"
      ],
      "execution_count": 0,
      "outputs": [
        {
          "output_type": "stream",
          "text": [
            "0 1.6046027\n",
            "200 0.731854\n",
            "400 0.5090925\n",
            "600 0.4209815\n",
            "800 0.37991008\n",
            "1000 0.3561863\n",
            "1200 0.3398054\n",
            "1400 0.32696888\n",
            "1600 0.31606326\n",
            "1800 0.30633786\n",
            "2000 0.29741645\n",
            "2200 0.28909743\n",
            "2400 0.28126523\n",
            "2600 0.27384868\n",
            "2800 0.26680076\n",
            "3000 0.2600874\n",
            "3200 0.25368246\n",
            "3400 0.24756455\n",
            "3600 0.24171513\n",
            "3800 0.23611794\n",
            "4000 0.2307583\n",
            "4200 0.22562249\n",
            "4400 0.22069812\n",
            "4600 0.21597344\n",
            "4800 0.21143766\n",
            "5000 0.20708054\n",
            "5200 0.2028926\n",
            "5400 0.1988648\n",
            "5600 0.19498886\n",
            "5800 0.19125693\n",
            "6000 0.18766159\n",
            "6200 0.18419589\n",
            "6400 0.18085353\n",
            "6600 0.17762816\n",
            "6800 0.17451419\n",
            "7000 0.17150617\n",
            "7200 0.16859908\n",
            "7400 0.1657881\n",
            "7600 0.16306876\n",
            "7800 0.16043667\n",
            "8000 0.15788816\n",
            "8200 0.15541919\n",
            "8400 0.15302633\n",
            "8600 0.15070605\n",
            "8800 0.14845544\n",
            "9000 0.14627133\n",
            "9200 0.1441509\n",
            "9400 0.14209151\n",
            "9600 0.14009064\n",
            "9800 0.13814585\n",
            "10000 0.13625492\n",
            "\n",
            "Hypothesis:  [[0.01745345]\n",
            " [0.96335727]\n",
            " [0.07639434]\n",
            " [0.9881692 ]] \n",
            "Correct :  [[0.]\n",
            " [1.]\n",
            " [0.]\n",
            " [1.]] \n",
            "Accuracy:  1.0\n"
          ],
          "name": "stdout"
        }
      ]
    }
  ]
}