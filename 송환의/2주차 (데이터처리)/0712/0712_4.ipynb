{
 "cells": [
  {
   "cell_type": "code",
   "execution_count": null,
   "metadata": {},
   "outputs": [],
   "source": [
    "## 구글 박보영 selector"
   ]
  },
  {
   "cell_type": "code",
   "execution_count": 1,
   "metadata": {},
   "outputs": [],
   "source": [
    "from urllib import *\n",
    "from html import unescape\n",
    "import requests\n",
    "import json \n",
    "headers={\"user-agent\":\"Mozilla/5.0 (Windows NT 10.0; Win64; x64) AppleWebKit/537.36 (KHTML, like Gecko) Chrome/75.0.3770.100 Safari/537.36\"}\n",
    "import requests\n",
    "import time\n",
    "import bs4\n",
    "from bs4 import BeautifulSoup\n",
    "import re"
   ]
  },
  {
   "cell_type": "code",
   "execution_count": 2,
   "metadata": {},
   "outputs": [],
   "source": [
    "\n",
    "\n",
    "def download(method, url, \n",
    "             param = None, data = None, \n",
    "            timeout = 1,maxretries = 3):\n",
    "    \n",
    "    headers = {'user-agent': 'Mozilla/5.0 (Windows NT 10.0; Win64; x64) AppleWebKit/537.36 (KHTML, like Gecko) Chrome/75.0.3770.100 Safari/537.36'}\n",
    "    #headers = None\n",
    "    \n",
    "    try:\n",
    "        resp = requests.request(method, url, params= param, data=data, headers=headers)\n",
    "        resp.raise_for_status()\n",
    "        \n",
    "    except requests.exceptions.HTTPError as e:\n",
    "        if 500 <= e.response.status_code < 600 and maxretries > 0: \n",
    "            time.sleep(timeout) # param에따라 몇초 기다릴지 결정 할 수가 있다.\n",
    "            print(maxretries) # 재귀적으로 자기 자신을 부르게 코드를 짜면 된다.\n",
    "            resp = download(method,\n",
    "                            url, param = param, data=data,\n",
    "                            timeout=timeout,\n",
    "                            maxretries = maxretries - 1)\n",
    "        else:\n",
    "            print(e.response.status_code)\n",
    "            print(e.response.reason)\n",
    "    return resp"
   ]
  },
  {
   "cell_type": "code",
   "execution_count": null,
   "metadata": {},
   "outputs": [],
   "source": []
  },
  {
   "cell_type": "code",
   "execution_count": 3,
   "metadata": {},
   "outputs": [],
   "source": [
    "html = download(\"get\", \"https://www.google.com/search?q=%EB%B0%95%EB%B3%B4%EC%98%81\")\n",
    "dom =BeautifulSoup(html.text,\"lxml\") ##파서 lxml  파서를 바꾸거나 문법을 잘하거나 둘중하나해야함"
   ]
  },
  {
   "cell_type": "code",
   "execution_count": 4,
   "metadata": {},
   "outputs": [
    {
     "data": {
      "text/plain": [
       "<Response [200]>"
      ]
     },
     "execution_count": 4,
     "metadata": {},
     "output_type": "execute_result"
    }
   ],
   "source": [
    "html"
   ]
  },
  {
   "cell_type": "code",
   "execution_count": null,
   "metadata": {},
   "outputs": [],
   "source": []
  },
  {
   "cell_type": "code",
   "execution_count": 5,
   "metadata": {},
   "outputs": [
    {
     "data": {
      "text/plain": [
       "[]"
      ]
     },
     "execution_count": 5,
     "metadata": {},
     "output_type": "execute_result"
    }
   ],
   "source": [
    "[(_[\"href\"], _.text) for _ in dom.select(\".rc > .r a\")]  ## 안되는경우도 있으니까 여러가지 방법을 알고있어야함 기본은 selector 로 하다가 안되는거 있음 딴거쓰면됨"
   ]
  },
  {
   "cell_type": "code",
   "execution_count": 6,
   "metadata": {},
   "outputs": [
    {
     "data": {
      "text/plain": [
       "[('https://ko.wikipedia.org/wiki/%EB%B0%95%EB%B3%B4%EC%98%81',\n",
       "  '박보영 - 위키백과, 우리 모두의 백과사전https://ko.wikipedia.org/wiki/박보영'),\n",
       " ('https://webcache.googleusercontent.com/search?q=cache:gv9t4wBBoSMJ:https://ko.wikipedia.org/wiki/%25EB%25B0%2595%25EB%25B3%25B4%25EC%2598%2581+&cd=1&hl=ko&ct=clnk&gl=kr',\n",
       "  '저장된\\xa0페이지'),\n",
       " ('https://ko.wikipedia.org/wiki/%EB%B0%95%EB%B3%B4%EC%98%81%EC%9D%98_%EC%9E%91%ED%92%88_%EB%AA%A9%EB%A1%9D',\n",
       "  '박보영의 작품 목록 - 위키백과, 우리 모두의 백과사전https://ko.wikipedia.org/wiki/박보영의_작품_목록'),\n",
       " ('https://webcache.googleusercontent.com/search?q=cache:VhhxhBJ2kukJ:https://ko.wikipedia.org/wiki/%25EB%25B0%2595%25EB%25B3%25B4%25EC%2598%2581%25EC%259D%2598_%25EC%259E%2591%25ED%2592%2588_%25EB%25AA%25A9%25EB%25A1%259D+&cd=12&hl=ko&ct=clnk&gl=kr',\n",
       "  '저장된\\xa0페이지'),\n",
       " ('https://namu.wiki/w/%EB%B0%95%EB%B3%B4%EC%98%81',\n",
       "  '박보영 - 나무위키https://namu.wiki/w/박보영'),\n",
       " ('https://news.joins.com/article/22895953',\n",
       "  '박보영은 오래 지켜본다. 연애도, 연기 변신도 - 중앙일보https://news.joins.com/article/22895953'),\n",
       " ('https://webcache.googleusercontent.com/search?q=cache:C8ZtkDOVE_cJ:https://news.joins.com/article/22895953+&cd=14&hl=ko&ct=clnk&gl=kr',\n",
       "  '저장된\\xa0페이지'),\n",
       " ('https://movie.daum.net/person/main?personId=105244',\n",
       "  '박보영 - Daum 영화https://movie.daum.net/person/main?personId=105244'),\n",
       " ('https://webcache.googleusercontent.com/search?q=cache:ahd-t4CdgoAJ:https://movie.daum.net/person/main%3FpersonId%3D105244+&cd=15&hl=ko&ct=clnk&gl=kr',\n",
       "  '저장된\\xa0페이지'),\n",
       " ('https://www.msn.com/ko-kr/entertainment/tv/hd%EC%8A%A4%ED%86%A0%EB%A6%AC-%EC%9E%91%EC%9D%80-%EA%B1%B0%EC%9D%B8-%EB%B0%95%EB%B3%B4%EC%98%81%E2%80%A6%EA%B7%B8%EC%9D%98-%EC%97%B0%EA%B8%B0%EC%97%90-%EB%8C%80%ED%95%9C-%ED%9D%94%EC%A0%81%EB%93%A4/ar-BBUvL0V',\n",
       "  '[HD스토리] 작은 거인 박보영…그의 연기에 대한 흔적들 - MSN.comhttps://www.msn.com/ko-kr/entertainment/tv/...작은...박보영…그의.../ar-BBUvL0V'),\n",
       " ('https://webcache.googleusercontent.com/search?q=cache:RAs5n2AiYIsJ:https://www.msn.com/ko-kr/entertainment/tv/hd%25EC%258A%25A4%25ED%2586%25A0%25EB%25A6%25AC-%25EC%259E%2591%25EC%259D%2580-%25EA%25B1%25B0%25EC%259D%25B8-%25EB%25B0%2595%25EB%25B3%25B4%25EC%2598%2581%25E2%2580%25A6%25EA%25B7%25B8%25EC%259D%2598-%25EC%2597%25B0%25EA%25B8%25B0%25EC%2597%2590-%25EB%258C%2580%25ED%2595%259C-%25ED%259D%2594%25EC%25A0%2581%25EB%2593%25A4/ar-BBUvL0V+&cd=16&hl=ko&ct=clnk&gl=kr',\n",
       "  '저장된\\xa0페이지'),\n",
       " ('https://twitter.com/hashtag/%EB%B0%95%EB%B3%B4%EC%98%81',\n",
       "  '#박보영 hashtag on Twitterhttps://twitter.com/hashtag/박보영'),\n",
       " ('https://webcache.googleusercontent.com/search?q=cache:rTbpyHCWwXUJ:https://twitter.com/hashtag/%25EB%25B0%2595%25EB%25B3%25B4%25EC%2598%2581+&cd=17&hl=ko&ct=clnk&gl=kr',\n",
       "  '저장된\\xa0페이지')]"
      ]
     },
     "execution_count": 6,
     "metadata": {},
     "output_type": "execute_result"
    }
   ],
   "source": [
    "[(_[\"href\"], _.text) for _ in dom.select(\".rc > .r a[href^=http]\")]  ## http로 시작하는 어트리뷰트, http로 시작하는것만 뽑고싶어서 추림"
   ]
  },
  {
   "cell_type": "code",
   "execution_count": null,
   "metadata": {},
   "outputs": [],
   "source": []
  },
  {
   "cell_type": "code",
   "execution_count": null,
   "metadata": {},
   "outputs": [],
   "source": [
    "dom.kigon  ## 키값이 들어가면 none값이 들어간다. 에러안뱉음\n",
    "dom.kigon[\"href\"]  #수집할떄 none 타입 검사해야함 , 크롤러 만들떄 있는지 없는지  nonetype 보고 걸러내야한다."
   ]
  },
  {
   "cell_type": "code",
   "execution_count": null,
   "metadata": {},
   "outputs": [],
   "source": []
  },
  {
   "cell_type": "code",
   "execution_count": null,
   "metadata": {},
   "outputs": [],
   "source": [
    "dom.select() ## 최상단 루트 기준 자손을 찾는것 아까 네이버찾을떄 find해서 div 찾고 거기서 find all 했는데 셀렉터는 한번함 누구밑에 누구\n",
    "ID => # 어쩌고\n",
    "CLASS => .어쩌고\n",
    "태그 => 태그\n",
    "자손 => 공백\n",
    "자식 => >\n",
    "selector(\"div\") => 2\n",
    "selector(\"div#result\") => 1  ##\"div#result 누구라고 지칭한게 정확한가 우리 이거 신경써야함\n",
    "selector(\"#result\") => 1개\n",
    "selector(\".red\") => 3개\n",
    "# 클래스 다중상속 ex) <div class=\"a b c d e\"  ==>div.a.b.c.d.e\n",
    "# 50분동안 할일:\n",
    "# 1. google 검색결과\n",
    "# 2. naver 검색결과\n",
    "# 3. daum 검색결과 파싱( css selector만 이용) (개발자 도구 x, 소스보기 O)\n",
    "# 다음주 준비사항 : 각 조 별 , 수집하고 싶은 source(URL) 알려주기, 실습시간에 해당 URL로 실습할수 있다."
   ]
  },
  {
   "cell_type": "code",
   "execution_count": null,
   "metadata": {},
   "outputs": [],
   "source": []
  },
  {
   "cell_type": "code",
   "execution_count": null,
   "metadata": {},
   "outputs": [],
   "source": []
  },
  {
   "cell_type": "code",
   "execution_count": null,
   "metadata": {},
   "outputs": [],
   "source": [
    "html = download(\"get\", \"https://search.naver.com/search.naver?sm=top_hty&fbm=1&ie=utf8&query=%EB%B0%95%EB%B3%B4%EC%98%81\")\n",
    "dom =BeautifulSoup(html.text,\"lxml\") ##파서 lxml  파서를 바꾸거나 문법을 잘하거나 둘중하나해야함"
   ]
  },
  {
   "cell_type": "code",
   "execution_count": null,
   "metadata": {},
   "outputs": [],
   "source": [
    "[(_[\"href\"], _.text) for _ in dom.select(\"#sp_nws_all1 > dl > dt > a\")] ## > 양옆으로 스페이스 해줘야 된다 안띄면 스트링으로 인식한다."
   ]
  },
  {
   "cell_type": "code",
   "execution_count": null,
   "metadata": {},
   "outputs": [],
   "source": []
  },
  {
   "cell_type": "code",
   "execution_count": 12,
   "metadata": {},
   "outputs": [],
   "source": [
    "html = download(\"get\", \"https://search.daum.net/search?w=tot&DA=YZR&t__nil_searchbox=btn&sug=&sugo=&q=%EC%9E%BC%EB%AF%B8\")\n",
    "dom =BeautifulSoup(html.text,\"lxml\") ##파서 lxml  파서를 바꾸거나 문법을 잘하거나 둘중하나해야함"
   ]
  },
  {
   "cell_type": "code",
   "execution_count": 30,
   "metadata": {},
   "outputs": [
    {
     "data": {
      "text/plain": [
       "[(<b>잼미</b>,\n",
       "  'http://v.media.daum.net/v/20190712083513682?f=o',\n",
       "  \"'남성비하 몸짓 논란' 잼미 누구?..워마드 활동 루머 일축\"),\n",
       " (<b>잼미</b>,\n",
       "  'http://v.media.daum.net/v/20190712080658015?f=o',\n",
       "  '\\'꼬카인 논란\\' BJ잼미.. \"부모님 욕 자제해달라\"'),\n",
       " (<b>잼미</b>,\n",
       "  'http://v.media.daum.net/v/20190712083002559?f=o',\n",
       "  '잼미, 워마드+남성 비하 논란 해명..\"매도하지 말아달라\"(전문)'),\n",
       " (<b>잼미</b>,\n",
       "  'http://v.media.daum.net/v/20190712083036577?f=o',\n",
       "  '\\'男성희롱 논란\\' BJ 잼미, 사과영상 게재..\"매도하지 말았으면\"')]"
      ]
     },
     "execution_count": 30,
     "metadata": {},
     "output_type": "execute_result"
    }
   ],
   "source": [
    "[(_.b, _[\"href\"], _.text  ) for _ in dom.select(\"#clusterResultUL .f_link_b\")]"
   ]
  },
  {
   "cell_type": "code",
   "execution_count": 24,
   "metadata": {},
   "outputs": [
    {
     "ename": "AttributeError",
     "evalue": "'str' object has no attribute 'text'",
     "output_type": "error",
     "traceback": [
      "\u001b[1;31m---------------------------------------------------------------------------\u001b[0m",
      "\u001b[1;31mAttributeError\u001b[0m                            Traceback (most recent call last)",
      "\u001b[1;32m<ipython-input-24-51f8c61fd44d>\u001b[0m in \u001b[0;36m<module>\u001b[1;34m()\u001b[0m\n\u001b[1;32m----> 1\u001b[1;33m \u001b[0m_\u001b[0m\u001b[1;33m[\u001b[0m\u001b[1;36m0\u001b[0m\u001b[1;33m]\u001b[0m\u001b[1;33m.\u001b[0m\u001b[0mtext\u001b[0m\u001b[1;33m\u001b[0m\u001b[0m\n\u001b[0m",
      "\u001b[1;31mAttributeError\u001b[0m: 'str' object has no attribute 'text'"
     ]
    }
   ],
   "source": []
  },
  {
   "cell_type": "code",
   "execution_count": null,
   "metadata": {},
   "outputs": [],
   "source": []
  }
 ],
 "metadata": {
  "kernelspec": {
   "display_name": "Python 3",
   "language": "python",
   "name": "python3"
  },
  "language_info": {
   "codemirror_mode": {
    "name": "ipython",
    "version": 3
   },
   "file_extension": ".py",
   "mimetype": "text/x-python",
   "name": "python",
   "nbconvert_exporter": "python",
   "pygments_lexer": "ipython3",
   "version": "3.6.4"
  }
 },
 "nbformat": 4,
 "nbformat_minor": 2
}
