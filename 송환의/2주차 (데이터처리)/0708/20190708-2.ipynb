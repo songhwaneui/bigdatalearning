{
 "cells": [
  {
   "cell_type": "code",
   "execution_count": 37,
   "metadata": {},
   "outputs": [],
   "source": [
    "import sqlite3"
   ]
  },
  {
   "cell_type": "code",
   "execution_count": 220,
   "metadata": {},
   "outputs": [
    {
     "data": {
      "text/plain": [
       "<sqlite3.Cursor at 0x26d40ae1260>"
      ]
     },
     "execution_count": 220,
     "metadata": {},
     "output_type": "execute_result"
    }
   ],
   "source": [
    "cur.execute('drop table Artist') ######## 삭제\n",
    "cur.execute('drop table album')\n",
    "cur.execute('drop table genre')\n",
    "cur.execute('drop table track')"
   ]
  },
  {
   "cell_type": "code",
   "execution_count": 221,
   "metadata": {},
   "outputs": [],
   "source": [
    "conn = sqlite3.connect('create2.db')"
   ]
  },
  {
   "cell_type": "code",
   "execution_count": 222,
   "metadata": {},
   "outputs": [],
   "source": [
    "cur = conn.cursor()"
   ]
  },
  {
   "cell_type": "code",
   "execution_count": 223,
   "metadata": {},
   "outputs": [
    {
     "data": {
      "text/plain": [
       "<sqlite3.Cursor at 0x26d40ae18f0>"
      ]
     },
     "execution_count": 223,
     "metadata": {},
     "output_type": "execute_result"
    }
   ],
   "source": [
    "cur.executescript(\"\"\"\n",
    "    CREATE TABLE Artist(\n",
    "        id INTEGER NOT NULL PRIMARY KEY AUTOINCREMENT UNIQUE, \n",
    "        name TEXT);\n",
    "    CREATE TABLE Genre(\n",
    "        id INTEGER NOT NULL PRIMARY KEY AUTOINCREMENT UNIQUE,\n",
    "        name TEXT);\n",
    "    CREATE TABLE Album (\n",
    "        id INTEGER NOT NULL PRIMARY KEY AUTOINCREMENT UNIQUE,\n",
    "        title TEXT,\n",
    "        artist_id INTEGER\n",
    "        )\n",
    "    \"\"\")\n",
    "\n"
   ]
  },
  {
   "cell_type": "code",
   "execution_count": 224,
   "metadata": {},
   "outputs": [],
   "source": [
    "## 오토인크리멘트"
   ]
  },
  {
   "cell_type": "code",
   "execution_count": 225,
   "metadata": {},
   "outputs": [
    {
     "data": {
      "text/plain": [
       "<sqlite3.Cursor at 0x26d40ae18f0>"
      ]
     },
     "execution_count": 225,
     "metadata": {},
     "output_type": "execute_result"
    }
   ],
   "source": [
    "cur.executescript(\"\"\"\n",
    "    CREATE TABLE Track(\n",
    "        id INTEGER NOT NULL PRIMARY KEY AUTOINCREMENT UNIQUE, \n",
    "        title TEXT,\n",
    "        length INTEGER,\n",
    "        rating INTEGER,\n",
    "        count INTEGER,\n",
    "        album_id INTEGER,\n",
    "        genre_id INTEGER\n",
    "        )\n",
    "    \"\"\")\n",
    "\n"
   ]
  },
  {
   "cell_type": "code",
   "execution_count": 226,
   "metadata": {},
   "outputs": [],
   "source": [
    "cur.executescript ( \"\"\"\n",
    "                    INSERT INTO Artist (name)\n",
    "                    VALUES ('Led Zepplin');\n",
    "                    \n",
    "                    INSERT INTO Artist (name)\n",
    "                    VALUES ('AC/DC');\n",
    "                    \n",
    "                    \"\"\");"
   ]
  },
  {
   "cell_type": "code",
   "execution_count": 227,
   "metadata": {},
   "outputs": [],
   "source": [
    "cur.executescript ( \"\"\"\n",
    "                    INSERT INTO genre (name)\n",
    "                    VALUES ('Rock');\n",
    "                    \n",
    "                    INSERT INTO genre (name)\n",
    "                    VALUES ('Metal');\n",
    "                    \n",
    "                    \"\"\");\n",
    "\n",
    "\n"
   ]
  },
  {
   "cell_type": "code",
   "execution_count": 228,
   "metadata": {},
   "outputs": [],
   "source": [
    "conn.commit()"
   ]
  },
  {
   "cell_type": "code",
   "execution_count": null,
   "metadata": {},
   "outputs": [],
   "source": []
  },
  {
   "cell_type": "code",
   "execution_count": 229,
   "metadata": {},
   "outputs": [],
   "source": [
    "#cur.execute(\n",
    "#\"\"\" \n",
    "#    INSERT INTO album (title, artist_id)\n",
    " #   VALUES(:album, \n",
    " #   (SELECT id\n",
    " #   FROM artist\n",
    " #   WHERE name = :artist))\n",
    "#\"\"\", {\"album\": \"adasd\", \"artist\":\"Led Zepplin\"});"
   ]
  },
  {
   "cell_type": "code",
   "execution_count": 230,
   "metadata": {},
   "outputs": [],
   "source": [
    "cur.executescript(\n",
    "\"\"\"\n",
    "        insert into Album (title, artist_id) values (\"who made who\",2);\n",
    "        insert into album (title, artist_id) values ('IV',1);\n",
    "\"\"\");"
   ]
  },
  {
   "cell_type": "code",
   "execution_count": 231,
   "metadata": {
    "scrolled": true
   },
   "outputs": [],
   "source": [
    "cur.executescript(\n",
    "\"\"\"\n",
    "        insert into track (title, rating, length, count, album_id, genre_id) values (\"black dog\", 5, 297, 0, 2,1);\n",
    "        insert into track (title, rating, length, count, album_id, genre_id) values ('stairway',5, 482, 0, 2, 1);\n",
    "        insert into track (title, rating, length, count, album_id, genre_id) values ('abot to rock', 5, 313, 0, 1, 2);\n",
    "        insert into track (title, rating, length, count, album_id, genre_id) values ('who made who', 5, 207, 0, 1, 2);\n",
    "\"\"\"\n",
    ");"
   ]
  },
  {
   "cell_type": "code",
   "execution_count": null,
   "metadata": {},
   "outputs": [],
   "source": [
    "#############################################"
   ]
  },
  {
   "cell_type": "code",
   "execution_count": 232,
   "metadata": {},
   "outputs": [],
   "source": [
    "cur.execute(\n",
    "\"\"\" \n",
    "    select Album.title, Artist.name\n",
    "    from Album\n",
    "    join Artist on \n",
    "    Album.artist_id = artist.id;\n",
    "\"\"\");"
   ]
  },
  {
   "cell_type": "code",
   "execution_count": 234,
   "metadata": {
    "scrolled": true
   },
   "outputs": [
    {
     "name": "stdout",
     "output_type": "stream",
     "text": [
      "('who made who', 'AC/DC')\n",
      "('IV', 'Led Zepplin')\n"
     ]
    }
   ],
   "source": [
    "for i in cur:\n",
    "    print(i)\n"
   ]
  },
  {
   "cell_type": "code",
   "execution_count": 240,
   "metadata": {},
   "outputs": [],
   "source": [
    "cur.execute(\n",
    "\"\"\" \n",
    "    select Track.title, genre.name\n",
    "    from track\n",
    "    join genre on\n",
    "    track.genre_id = genre.id\n",
    "\"\"\");"
   ]
  },
  {
   "cell_type": "code",
   "execution_count": 241,
   "metadata": {},
   "outputs": [
    {
     "name": "stdout",
     "output_type": "stream",
     "text": [
      "('black dog', 'Rock')\n",
      "('stairway', 'Rock')\n",
      "('abot to rock', 'Metal')\n",
      "('who made who', 'Metal')\n"
     ]
    }
   ],
   "source": [
    "for i in cur:\n",
    "    print(i)"
   ]
  },
  {
   "cell_type": "code",
   "execution_count": 245,
   "metadata": {},
   "outputs": [],
   "source": [
    "cur.execute(\n",
    "\"\"\" \n",
    "    select Album.title, Track.title\n",
    "    from Track \n",
    "    join Album on Track.album_id = Album.id\n",
    "\"\"\");"
   ]
  },
  {
   "cell_type": "code",
   "execution_count": 246,
   "metadata": {},
   "outputs": [
    {
     "name": "stdout",
     "output_type": "stream",
     "text": [
      "('IV', 'black dog')\n",
      "('IV', 'stairway')\n",
      "('who made who', 'abot to rock')\n",
      "('who made who', 'who made who')\n"
     ]
    }
   ],
   "source": [
    "for i in cur:\n",
    "    print(i)"
   ]
  },
  {
   "cell_type": "code",
   "execution_count": 235,
   "metadata": {},
   "outputs": [],
   "source": [
    "cur.execute(\n",
    "\"\"\" \n",
    "    select track.title, artist.name, album.title, genre.name\n",
    "    From track\n",
    "    Join artist join album join genre\n",
    "        on track.album_id = album.id\n",
    "        and track.genre_id = genre.id\n",
    "        and album.artist_id = artist.id\n",
    "\"\"\");"
   ]
  },
  {
   "cell_type": "code",
   "execution_count": 236,
   "metadata": {},
   "outputs": [
    {
     "name": "stdout",
     "output_type": "stream",
     "text": [
      "('black dog', 'Led Zepplin', 'IV', 'Rock')\n",
      "('stairway', 'Led Zepplin', 'IV', 'Rock')\n",
      "('abot to rock', 'AC/DC', 'who made who', 'Metal')\n",
      "('who made who', 'AC/DC', 'who made who', 'Metal')\n"
     ]
    }
   ],
   "source": [
    "for i in cur:\n",
    "    print(i)\n"
   ]
  },
  {
   "cell_type": "code",
   "execution_count": 247,
   "metadata": {},
   "outputs": [],
   "source": [
    "for i in cur:\n",
    "    print(i)\n"
   ]
  },
  {
   "cell_type": "code",
   "execution_count": null,
   "metadata": {},
   "outputs": [],
   "source": []
  },
  {
   "cell_type": "code",
   "execution_count": null,
   "metadata": {},
   "outputs": [],
   "source": []
  },
  {
   "cell_type": "code",
   "execution_count": null,
   "metadata": {},
   "outputs": [],
   "source": []
  },
  {
   "cell_type": "code",
   "execution_count": null,
   "metadata": {},
   "outputs": [],
   "source": []
  },
  {
   "cell_type": "code",
   "execution_count": null,
   "metadata": {},
   "outputs": [],
   "source": []
  },
  {
   "cell_type": "code",
   "execution_count": null,
   "metadata": {},
   "outputs": [],
   "source": []
  },
  {
   "cell_type": "code",
   "execution_count": null,
   "metadata": {},
   "outputs": [],
   "source": []
  },
  {
   "cell_type": "code",
   "execution_count": 195,
   "metadata": {},
   "outputs": [
    {
     "name": "stdout",
     "output_type": "stream",
     "text": [
      "('adasd', 'Led Zepplin')\n",
      "('who made who', 'Led asd|')\n",
      "('IV', 'Led Zepplin')\n"
     ]
    }
   ],
   "source": []
  },
  {
   "cell_type": "code",
   "execution_count": 152,
   "metadata": {},
   "outputs": [],
   "source": []
  },
  {
   "cell_type": "code",
   "execution_count": null,
   "metadata": {},
   "outputs": [],
   "source": []
  },
  {
   "cell_type": "code",
   "execution_count": null,
   "metadata": {},
   "outputs": [],
   "source": []
  }
 ],
 "metadata": {
  "kernelspec": {
   "display_name": "Python 3",
   "language": "python",
   "name": "python3"
  },
  "language_info": {
   "codemirror_mode": {
    "name": "ipython",
    "version": 3
   },
   "file_extension": ".py",
   "mimetype": "text/x-python",
   "name": "python",
   "nbconvert_exporter": "python",
   "pygments_lexer": "ipython3",
   "version": "3.6.4"
  }
 },
 "nbformat": 4,
 "nbformat_minor": 2
}
