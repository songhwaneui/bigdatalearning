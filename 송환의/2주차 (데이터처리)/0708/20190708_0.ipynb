{
 "cells": [
  {
   "cell_type": "code",
   "execution_count": 2,
   "metadata": {},
   "outputs": [],
   "source": [
    "import sqlite3"
   ]
  },
  {
   "cell_type": "code",
   "execution_count": 2,
   "metadata": {},
   "outputs": [
    {
     "data": {
      "text/plain": [
       "'2.6.0'"
      ]
     },
     "execution_count": 2,
     "metadata": {},
     "output_type": "execute_result"
    }
   ],
   "source": [
    "sqlite3.version"
   ]
  },
  {
   "cell_type": "code",
   "execution_count": 3,
   "metadata": {},
   "outputs": [
    {
     "data": {
      "text/plain": [
       "(2, 6, 0)"
      ]
     },
     "execution_count": 3,
     "metadata": {},
     "output_type": "execute_result"
    }
   ],
   "source": [
    "sqlite3.version_info"
   ]
  },
  {
   "cell_type": "code",
   "execution_count": 4,
   "metadata": {},
   "outputs": [
    {
     "data": {
      "text/plain": [
       "'3.27.2'"
      ]
     },
     "execution_count": 4,
     "metadata": {},
     "output_type": "execute_result"
    }
   ],
   "source": [
    "sqlite3.sqlite_version"
   ]
  },
  {
   "cell_type": "code",
   "execution_count": 5,
   "metadata": {},
   "outputs": [],
   "source": [
    "#처음은 디비서버가 있다는 가정하에 디비 서버 접속"
   ]
  },
  {
   "cell_type": "code",
   "execution_count": 6,
   "metadata": {},
   "outputs": [],
   "source": [
    "conn=sqlite3.connect(':memory:') #connection반환 dbms랑 왔다갔다 하는애"
   ]
  },
  {
   "cell_type": "code",
   "execution_count": 7,
   "metadata": {},
   "outputs": [
    {
     "data": {
      "text/plain": [
       "sqlite3.Connection"
      ]
     },
     "execution_count": 7,
     "metadata": {},
     "output_type": "execute_result"
    }
   ],
   "source": [
    "type(conn)"
   ]
  },
  {
   "cell_type": "code",
   "execution_count": 9,
   "metadata": {},
   "outputs": [],
   "source": [
    "cur = conn.cursor() ##커서를 생성한다."
   ]
  },
  {
   "cell_type": "code",
   "execution_count": 10,
   "metadata": {},
   "outputs": [
    {
     "data": {
      "text/plain": [
       "sqlite3.Cursor"
      ]
     },
     "execution_count": 10,
     "metadata": {},
     "output_type": "execute_result"
    }
   ],
   "source": [
    "type(cur)"
   ]
  },
  {
   "cell_type": "code",
   "execution_count": 11,
   "metadata": {},
   "outputs": [
    {
     "data": {
      "text/plain": [
       "['__class__',\n",
       " '__delattr__',\n",
       " '__dir__',\n",
       " '__doc__',\n",
       " '__eq__',\n",
       " '__format__',\n",
       " '__ge__',\n",
       " '__getattribute__',\n",
       " '__gt__',\n",
       " '__hash__',\n",
       " '__init__',\n",
       " '__init_subclass__',\n",
       " '__iter__',\n",
       " '__le__',\n",
       " '__lt__',\n",
       " '__ne__',\n",
       " '__new__',\n",
       " '__next__',\n",
       " '__reduce__',\n",
       " '__reduce_ex__',\n",
       " '__repr__',\n",
       " '__setattr__',\n",
       " '__sizeof__',\n",
       " '__str__',\n",
       " '__subclasshook__',\n",
       " 'arraysize',\n",
       " 'close',\n",
       " 'connection',\n",
       " 'description',\n",
       " 'execute',\n",
       " 'executemany',\n",
       " 'executescript',\n",
       " 'fetchall',\n",
       " 'fetchmany',\n",
       " 'fetchone',\n",
       " 'lastrowid',\n",
       " 'row_factory',\n",
       " 'rowcount',\n",
       " 'setinputsizes',\n",
       " 'setoutputsize']"
      ]
     },
     "execution_count": 11,
     "metadata": {},
     "output_type": "execute_result"
    }
   ],
   "source": [
    "dir(cur)"
   ]
  },
  {
   "cell_type": "code",
   "execution_count": 12,
   "metadata": {},
   "outputs": [
    {
     "data": {
      "text/plain": [
       "['DataError',\n",
       " 'DatabaseError',\n",
       " 'Error',\n",
       " 'IntegrityError',\n",
       " 'InterfaceError',\n",
       " 'InternalError',\n",
       " 'NotSupportedError',\n",
       " 'OperationalError',\n",
       " 'ProgrammingError',\n",
       " 'Warning',\n",
       " '__call__',\n",
       " '__class__',\n",
       " '__delattr__',\n",
       " '__dir__',\n",
       " '__doc__',\n",
       " '__enter__',\n",
       " '__eq__',\n",
       " '__exit__',\n",
       " '__format__',\n",
       " '__ge__',\n",
       " '__getattribute__',\n",
       " '__gt__',\n",
       " '__hash__',\n",
       " '__init__',\n",
       " '__init_subclass__',\n",
       " '__le__',\n",
       " '__lt__',\n",
       " '__ne__',\n",
       " '__new__',\n",
       " '__reduce__',\n",
       " '__reduce_ex__',\n",
       " '__repr__',\n",
       " '__setattr__',\n",
       " '__sizeof__',\n",
       " '__str__',\n",
       " '__subclasshook__',\n",
       " 'backup',\n",
       " 'close',\n",
       " 'commit',\n",
       " 'create_aggregate',\n",
       " 'create_collation',\n",
       " 'create_function',\n",
       " 'cursor',\n",
       " 'enable_load_extension',\n",
       " 'execute',\n",
       " 'executemany',\n",
       " 'executescript',\n",
       " 'in_transaction',\n",
       " 'interrupt',\n",
       " 'isolation_level',\n",
       " 'iterdump',\n",
       " 'load_extension',\n",
       " 'rollback',\n",
       " 'row_factory',\n",
       " 'set_authorizer',\n",
       " 'set_progress_handler',\n",
       " 'set_trace_callback',\n",
       " 'text_factory',\n",
       " 'total_changes']"
      ]
     },
     "execution_count": 12,
     "metadata": {},
     "output_type": "execute_result"
    }
   ],
   "source": [
    "dir(conn)"
   ]
  },
  {
   "cell_type": "code",
   "execution_count": 13,
   "metadata": {},
   "outputs": [],
   "source": [
    "#execute는 conn에도 있다 임시로 cursor를 생성한다 cur에 있는 것이 정석이다.cursor개체를 받아야 한다.\n",
    "#conn은 db에 접근하기 위해사 핗요함\n",
    "#execute 하나의 문을 받아서 실행 하는 애\n",
    "#executemany 하나의 sql문을 가지고 sequential처리\n",
    "#executescript는 여러개의 sql문\n",
    "#fetchall 모든 결과를 가져옴 리스트형태로\n",
    "#fetchone 하나만 가져옴\n",
    "#fetchmany 지정된 것만큼 가져옴"
   ]
  },
  {
   "cell_type": "code",
   "execution_count": 19,
   "metadata": {},
   "outputs": [
    {
     "data": {
      "text/plain": [
       "<sqlite3.Cursor at 0x151d76ab0a0>"
      ]
     },
     "execution_count": 19,
     "metadata": {},
     "output_type": "execute_result"
    }
   ],
   "source": [
    "cur.execute(\"select sqlite_version();\")"
   ]
  },
  {
   "cell_type": "code",
   "execution_count": 20,
   "metadata": {},
   "outputs": [
    {
     "data": {
      "text/plain": [
       "[('3.27.2',)]"
      ]
     },
     "execution_count": 20,
     "metadata": {},
     "output_type": "execute_result"
    }
   ],
   "source": [
    "cur.fetchall()"
   ]
  },
  {
   "cell_type": "code",
   "execution_count": 21,
   "metadata": {},
   "outputs": [
    {
     "data": {
      "text/plain": [
       "True"
      ]
     },
     "execution_count": 21,
     "metadata": {},
     "output_type": "execute_result"
    }
   ],
   "source": [
    "sqlite3.complete_statement(\"select sqlite_version();\")  #sql구문이 올바르게 마지막까지 썻는지 확인"
   ]
  },
  {
   "cell_type": "code",
   "execution_count": 22,
   "metadata": {},
   "outputs": [],
   "source": [
    "#SQLLITE에서의 데이터 타입"
   ]
  },
  {
   "cell_type": "code",
   "execution_count": 23,
   "metadata": {},
   "outputs": [],
   "source": [
    "#NULL INTEGER REAL TEXT BLOB"
   ]
  },
  {
   "cell_type": "code",
   "execution_count": 25,
   "metadata": {},
   "outputs": [
    {
     "name": "stdout",
     "output_type": "stream",
     "text": [
      "('moon', 72)\n"
     ]
    }
   ],
   "source": [
    "cur.execute(\"create table people(name_last,age)\")\n",
    "\n",
    "who=\"moon\"\n",
    "age =72\n",
    "\n",
    "cur.execute(\"insert into people values (?,?)\",(who,age))  #파라미터를 ?로 넘기는게 qmark style\n",
    "cur.execute(\"select * from people where name_last=:who and age=:age\",{\"who\":who,\"age\":age})\n",
    "\n",
    "print(cur.fetchone())"
   ]
  },
  {
   "cell_type": "code",
   "execution_count": 27,
   "metadata": {},
   "outputs": [
    {
     "data": {
      "text/plain": [
       "<sqlite3.Cursor at 0x151d76ab0a0>"
      ]
     },
     "execution_count": 27,
     "metadata": {},
     "output_type": "execute_result"
    }
   ],
   "source": [
    "sql =\"insert into people values(?,?)\"\n",
    "curData =[('A',1),('B',2),('C',3)]\n",
    "curData =\n",
    "cur.executemany(sql,curData)"
   ]
  },
  {
   "cell_type": "code",
   "execution_count": 28,
   "metadata": {},
   "outputs": [
    {
     "data": {
      "text/plain": [
       "<sqlite3.Cursor at 0x151d76ab0a0>"
      ]
     },
     "execution_count": 28,
     "metadata": {},
     "output_type": "execute_result"
    }
   ],
   "source": [
    "datadict=[{\"who\":\"E\",\"age\":1},{\"who\":\"F\",\"age\":1},{\"who\":\"G\",\"age\":1},{\"who\":\"H\",\"age\":1}]\n",
    "cur.executemany(\"INSERT INTO people VALUES(:who,:age)\",datadict)"
   ]
  },
  {
   "cell_type": "code",
   "execution_count": 29,
   "metadata": {},
   "outputs": [
    {
     "data": {
      "text/plain": [
       "[('moon', 72),\n",
       " ('A', 1),\n",
       " ('B', 2),\n",
       " ('C', 3),\n",
       " ('E', 1),\n",
       " ('F', 1),\n",
       " ('G', 1),\n",
       " ('H', 1)]"
      ]
     },
     "execution_count": 29,
     "metadata": {},
     "output_type": "execute_result"
    }
   ],
   "source": [
    "cur.execute(\"SELECT * FROM people\")\n",
    "cur.fetchall()"
   ]
  },
  {
   "cell_type": "code",
   "execution_count": 31,
   "metadata": {},
   "outputs": [
    {
     "data": {
      "text/plain": [
       "<sqlite3.Cursor at 0x151d76ab0a0>"
      ]
     },
     "execution_count": 31,
     "metadata": {},
     "output_type": "execute_result"
    }
   ],
   "source": [
    "cur.executescript(\"\"\"        #여러 sql을 쓰는 경우 select를 안에서 해도 안먹힌다. 밖에서 select를 한다.\n",
    "    create table person(\n",
    "        first_name text primary key,\n",
    "        last_name text not null);\n",
    "        \n",
    "    insert into person values('name','kim');\n",
    "\"\"\")"
   ]
  },
  {
   "cell_type": "code",
   "execution_count": 32,
   "metadata": {},
   "outputs": [
    {
     "name": "stdout",
     "output_type": "stream",
     "text": [
      "[('name', 'kim')]\n"
     ]
    }
   ],
   "source": [
    "cur.execute('select * from person')\n",
    "print(cur.fetchall())"
   ]
  },
  {
   "cell_type": "code",
   "execution_count": 33,
   "metadata": {},
   "outputs": [],
   "source": [
    "conn.close()"
   ]
  },
  {
   "cell_type": "code",
   "execution_count": 34,
   "metadata": {},
   "outputs": [
    {
     "data": {
      "text/plain": [
       "<sqlite3.Connection at 0x151d76822d0>"
      ]
     },
     "execution_count": 34,
     "metadata": {},
     "output_type": "execute_result"
    }
   ],
   "source": [
    "conn"
   ]
  },
  {
   "cell_type": "code",
   "execution_count": 35,
   "metadata": {},
   "outputs": [
    {
     "data": {
      "text/plain": [
       "<sqlite3.Cursor at 0x151d76ab0a0>"
      ]
     },
     "execution_count": 35,
     "metadata": {},
     "output_type": "execute_result"
    }
   ],
   "source": [
    "cur"
   ]
  },
  {
   "cell_type": "code",
   "execution_count": null,
   "metadata": {},
   "outputs": [],
   "source": []
  },
  {
   "cell_type": "code",
   "execution_count": null,
   "metadata": {},
   "outputs": [],
   "source": []
  },
  {
   "cell_type": "code",
   "execution_count": null,
   "metadata": {},
   "outputs": [],
   "source": []
  },
  {
   "cell_type": "code",
   "execution_count": 7,
   "metadata": {},
   "outputs": [
    {
     "data": {
      "text/plain": [
       "<sqlite3.Cursor at 0x22d754155e0>"
      ]
     },
     "execution_count": 7,
     "metadata": {},
     "output_type": "execute_result"
    }
   ],
   "source": [
    "conn=sqlite3.connect('createasdasdasdasd.db')\n",
    "cur=conn.cursor()\n",
    "cur.execute('''\n",
    "CREATE TABLE COMPANY(\n",
    "    ID INT PRIMARY KEY NOT NULL,\n",
    "    NAME TEXT NOT NULL,\n",
    "    AGE INT NOT NULL,\n",
    "    ADDRESS CHAR(50),\n",
    "    seen BOOLEAN DEFAULT FALSE NOT NULL,\n",
    "    SALARY REAL);''')"
   ]
  },
  {
   "cell_type": "code",
   "execution_count": 5,
   "metadata": {},
   "outputs": [
    {
     "data": {
      "text/plain": [
       "<sqlite3.Cursor at 0x22d75415110>"
      ]
     },
     "execution_count": 5,
     "metadata": {},
     "output_type": "execute_result"
    }
   ],
   "source": [
    "cur.execute('drop table company')"
   ]
  },
  {
   "cell_type": "code",
   "execution_count": 8,
   "metadata": {},
   "outputs": [],
   "source": [
    "cur.execute(\"INSERT INTO COMPANY(ID,NAME,AGE,ADDRESS,SALARY) VALUES (1,'paul',32,'Cali',2000.20)\");\n",
    "cur.execute(\"INSERT INTO COMPANY(ID,NAME,AGE,ADDRESS,SALARY) VALUES (:id,:name,:age,:address,:salary)\",\n",
    "           {'id':2,'name':'cho','age':2,'address':'aa','salary':100000.00});\n",
    "\n",
    "data=[(3,'aa',23,'dsda',2000000.00),(4,'ada',3,'dsaada',4000000.00)]\n",
    "\n",
    "cur.executemany(\"INSERT INTO COMPANY(ID,NAME,AGE,ADDRESS,SALARY) VALUES(?,?,?,?,?)\",data);\n",
    "cur.executescript(\"\"\"\n",
    "INSERT INTO COMPANY (ID,NAME,AGE,ADDRESS,SALARY)\n",
    " VALUES (5,'SADADA',25,'RICH-MOND',65555.00);\n",
    " INSERT INTO COMPANY (ID,NAME,AGE,ADDRESS,SALARY)\n",
    " VALUES (6,'SADA',5,'RICH-MOND',6232355.00);\n",
    " \"\"\");\n",
    "\n",
    "#conn.commit()"
   ]
  },
  {
   "cell_type": "code",
   "execution_count": 9,
   "metadata": {},
   "outputs": [],
   "source": [
    "conn.commit()"
   ]
  },
  {
   "cell_type": "code",
   "execution_count": 22,
   "metadata": {},
   "outputs": [],
   "source": [
    "cur.execute(\"SELECT ID FROM COMPANY WHERE seen='FALSE'\");"
   ]
  },
  {
   "cell_type": "code",
   "execution_count": null,
   "metadata": {},
   "outputs": [],
   "source": []
  },
  {
   "cell_type": "code",
   "execution_count": null,
   "metadata": {},
   "outputs": [],
   "source": []
  },
  {
   "cell_type": "code",
   "execution_count": null,
   "metadata": {},
   "outputs": [],
   "source": []
  },
  {
   "cell_type": "code",
   "execution_count": null,
   "metadata": {},
   "outputs": [],
   "source": []
  },
  {
   "cell_type": "code",
   "execution_count": null,
   "metadata": {},
   "outputs": [],
   "source": []
  },
  {
   "cell_type": "code",
   "execution_count": 15,
   "metadata": {},
   "outputs": [],
   "source": [
    "for i in cur:\n",
    "    print(i)"
   ]
  },
  {
   "cell_type": "code",
   "execution_count": null,
   "metadata": {},
   "outputs": [],
   "source": []
  },
  {
   "cell_type": "code",
   "execution_count": null,
   "metadata": {},
   "outputs": [],
   "source": []
  },
  {
   "cell_type": "code",
   "execution_count": null,
   "metadata": {},
   "outputs": [],
   "source": []
  },
  {
   "cell_type": "code",
   "execution_count": null,
   "metadata": {},
   "outputs": [],
   "source": []
  },
  {
   "cell_type": "code",
   "execution_count": 67,
   "metadata": {},
   "outputs": [
    {
     "data": {
      "text/plain": [
       "6"
      ]
     },
     "execution_count": 67,
     "metadata": {},
     "output_type": "execute_result"
    }
   ],
   "source": [
    "cur.lastrowid"
   ]
  },
  {
   "cell_type": "code",
   "execution_count": 68,
   "metadata": {},
   "outputs": [
    {
     "name": "stdout",
     "output_type": "stream",
     "text": [
      "ID=  1\n",
      "<class 'int'>\n",
      "NAME=  paul\n",
      "<class 'str'>\n",
      "ADDRESS=  Cali\n",
      "<class 'str'>\n",
      "SALARY=  2000.2\n",
      "<class 'float'>\n",
      "ID=  2\n",
      "<class 'int'>\n",
      "NAME=  cho\n",
      "<class 'str'>\n",
      "ADDRESS=  aa\n",
      "<class 'str'>\n",
      "SALARY=  100000.0\n",
      "<class 'float'>\n",
      "ID=  3\n",
      "<class 'int'>\n",
      "NAME=  aa\n",
      "<class 'str'>\n",
      "ADDRESS=  dsda\n",
      "<class 'str'>\n",
      "SALARY=  2000000.0\n",
      "<class 'float'>\n",
      "ID=  4\n",
      "<class 'int'>\n",
      "NAME=  ada\n",
      "<class 'str'>\n",
      "ADDRESS=  dsaada\n",
      "<class 'str'>\n",
      "SALARY=  4000000.0\n",
      "<class 'float'>\n",
      "ID=  5\n",
      "<class 'int'>\n",
      "NAME=  SADADA\n",
      "<class 'str'>\n",
      "ADDRESS=  RICH-MOND\n",
      "<class 'str'>\n",
      "SALARY=  65555.0\n",
      "<class 'float'>\n",
      "ID=  6\n",
      "<class 'int'>\n",
      "NAME=  SADA\n",
      "<class 'str'>\n",
      "ADDRESS=  RICH-MOND\n",
      "<class 'str'>\n",
      "SALARY=  6232355.0\n",
      "<class 'float'>\n"
     ]
    }
   ],
   "source": [
    "cur.execute(\"SELECT id, name , address, salary from COMPANY\")\n",
    "\n",
    "for row in cur:\n",
    "    print(\"ID= \",row[0])\n",
    "    print(type(row[0]))\n",
    "    print(\"NAME= \",row[1])\n",
    "    print(type(row[1]))\n",
    "    print(\"ADDRESS= \",row[2])\n",
    "    print(type(row[2]))\n",
    "    print(\"SALARY= \",row[3])\n",
    "    print(type(row[3]))"
   ]
  },
  {
   "cell_type": "code",
   "execution_count": 59,
   "metadata": {},
   "outputs": [],
   "source": [
    "conn.close()"
   ]
  },
  {
   "cell_type": "code",
   "execution_count": null,
   "metadata": {},
   "outputs": [],
   "source": []
  }
 ],
 "metadata": {
  "kernelspec": {
   "display_name": "Python 3",
   "language": "python",
   "name": "python3"
  },
  "language_info": {
   "codemirror_mode": {
    "name": "ipython",
    "version": 3
   },
   "file_extension": ".py",
   "mimetype": "text/x-python",
   "name": "python",
   "nbconvert_exporter": "python",
   "pygments_lexer": "ipython3",
   "version": "3.6.4"
  }
 },
 "nbformat": 4,
 "nbformat_minor": 2
}
