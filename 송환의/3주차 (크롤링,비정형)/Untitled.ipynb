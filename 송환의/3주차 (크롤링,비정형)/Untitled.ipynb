{
 "cells": [
  {
   "cell_type": "code",
   "execution_count": 2,
   "metadata": {},
   "outputs": [
    {
     "ename": "NameError",
     "evalue": "name 'cur' is not defined",
     "output_type": "error",
     "traceback": [
      "\u001b[1;31m---------------------------------------------------------------------------\u001b[0m",
      "\u001b[1;31mNameError\u001b[0m                                 Traceback (most recent call last)",
      "\u001b[1;32m<ipython-input-2-87b59b321b4f>\u001b[0m in \u001b[0;36m<module>\u001b[1;34m()\u001b[0m\n\u001b[1;32m----> 1\u001b[1;33m cur.executescript(\"\"\"\n\u001b[0m\u001b[0;32m      2\u001b[0m     \u001b[0mDROP\u001b[0m \u001b[0mTABLE\u001b[0m \u001b[0mIF\u001b[0m \u001b[0mEXISTS\u001b[0m \u001b[0mtable1\u001b[0m\u001b[1;33m;\u001b[0m\u001b[1;33m\u001b[0m\u001b[0m\n\u001b[0;32m      3\u001b[0m     CREATE TABLE table1(\n\u001b[0;32m      4\u001b[0m         \u001b[0mid\u001b[0m \u001b[0mINTEGER\u001b[0m \u001b[0mPRIMARY\u001b[0m \u001b[0mKEY\u001b[0m \u001b[0mAUTOINCREMENT\u001b[0m \u001b[0mNOT\u001b[0m \u001b[0mNULL\u001b[0m\u001b[1;33m,\u001b[0m\u001b[1;33m\u001b[0m\u001b[0m\n\u001b[0;32m      5\u001b[0m         \u001b[0mtable2_id\u001b[0m \u001b[0mINTEGER\u001b[0m \u001b[0mNOT\u001b[0m \u001b[0mNULL\u001b[0m\u001b[1;33m,\u001b[0m\u001b[1;33m\u001b[0m\u001b[0m\n",
      "\u001b[1;31mNameError\u001b[0m: name 'cur' is not defined"
     ]
    }
   ],
   "source": [
    "cur.executescript(\"\"\"\n",
    "    DROP TABLE IF EXISTS table1;\n",
    "    CREATE TABLE table1(\n",
    "        id INTEGER PRIMARY KEY AUTOINCREMENT NOT NULL,\n",
    "        table2_id INTEGER NOT NULL,\n",
    "        path TEXT NOT NULL,\n",
    "        param TEXT,\n",
    "        seen BOOLEAN DEFAULT FALSE NOT NULL,\n",
    "        date TIMESTAMP DEFAULT CURRENT_TIMESTAMP NOT NULL\n",
    "    );\n",
    "    \n",
    "    DROP TABLE IF EXISTS table2;\n",
    "    CREATE TABLE table2(\n",
    "        id INTEGER PRIMARY KEY AUTOINCREMENT NOT NULL,\n",
    "        netloc TEXT NOT NULL,\n",
    "        date TIMESTAMP DEFAULT CURRENT_TIMESTAMP NOT NULL\n",
    "    );\n",
    "\n",
    "\"\"\")\n",
    "con.commit()"
   ]
  },
  {
   "cell_type": "code",
   "execution_count": 3,
   "metadata": {},
   "outputs": [
    {
     "ename": "NameError",
     "evalue": "name 'download' is not defined",
     "output_type": "error",
     "traceback": [
      "\u001b[1;31m---------------------------------------------------------------------------\u001b[0m",
      "\u001b[1;31mNameError\u001b[0m                                 Traceback (most recent call last)",
      "\u001b[1;32m<ipython-input-3-b305fac33c45>\u001b[0m in \u001b[0;36m<module>\u001b[1;34m()\u001b[0m\n\u001b[1;32m----> 1\u001b[1;33m \u001b[0mhtml\u001b[0m\u001b[1;33m=\u001b[0m \u001b[0mdownload\u001b[0m\u001b[1;33m(\u001b[0m\u001b[1;34m\"get\"\u001b[0m\u001b[1;33m,\u001b[0m\u001b[1;34m\"https://www.google.com/search?q=%EB%B0%95%EB%B3%B4%EC%98%81&oq=%EB%B0%95%EB%B3%B4%EC%98%81&\"\u001b[0m\u001b[1;33m)\u001b[0m\u001b[1;33m\u001b[0m\u001b[0m\n\u001b[0m\u001b[0;32m      2\u001b[0m \u001b[0mdom\u001b[0m \u001b[1;33m=\u001b[0m \u001b[0mBeautifulSoup\u001b[0m\u001b[1;33m(\u001b[0m\u001b[0mhtml\u001b[0m\u001b[1;33m.\u001b[0m\u001b[0mtext\u001b[0m\u001b[1;33m,\u001b[0m\u001b[1;34m\"lxml\"\u001b[0m\u001b[1;33m)\u001b[0m\u001b[1;33m\u001b[0m\u001b[0m\n\u001b[0;32m      3\u001b[0m \u001b[1;33m\u001b[0m\u001b[0m\n\u001b[0;32m      4\u001b[0m \u001b[1;32mfor\u001b[0m \u001b[0mhref\u001b[0m \u001b[1;32min\u001b[0m \u001b[1;33m[\u001b[0m\u001b[0m_\u001b[0m\u001b[1;33m.\u001b[0m\u001b[0mfind_parent\u001b[0m\u001b[1;33m(\u001b[0m\u001b[1;33m)\u001b[0m\u001b[1;33m[\u001b[0m\u001b[1;34m\"href\"\u001b[0m\u001b[1;33m]\u001b[0m \u001b[1;32mfor\u001b[0m \u001b[0m_\u001b[0m \u001b[1;32min\u001b[0m \u001b[0mdom\u001b[0m\u001b[1;33m.\u001b[0m\u001b[0mselect\u001b[0m\u001b[1;33m(\u001b[0m\u001b[1;34m\".LC20lb\"\u001b[0m\u001b[1;33m)\u001b[0m\u001b[1;33m]\u001b[0m\u001b[1;33m:\u001b[0m\u001b[1;33m\u001b[0m\u001b[0m\n\u001b[0;32m      5\u001b[0m     \u001b[0m_urlparse\u001b[0m\u001b[1;33m=\u001b[0m\u001b[0mrequests\u001b[0m\u001b[1;33m.\u001b[0m\u001b[0mcompat\u001b[0m\u001b[1;33m.\u001b[0m\u001b[0murlparse\u001b[0m\u001b[1;33m(\u001b[0m\u001b[0mhref\u001b[0m\u001b[1;33m)\u001b[0m\u001b[1;33m\u001b[0m\u001b[0m\n",
      "\u001b[1;31mNameError\u001b[0m: name 'download' is not defined"
     ]
    }
   ],
   "source": [
    "html= download(\"get\",\"https://www.google.com/search?q=%EB%B0%95%EB%B3%B4%EC%98%81&oq=%EB%B0%95%EB%B3%B4%EC%98%81&\")\n",
    "dom = BeautifulSoup(html.text,\"lxml\")\n",
    "\n",
    "for href in [_.find_parent()[\"href\"] for _ in dom.select(\".LC20lb\")]:\n",
    "    _urlparse=requests.compat.urlparse(href)\n",
    "    netloc=\"://\".join(_urlparse[:2])\n",
    "    cur.execute(\"SELECT id FROM table2 WHERE netloc =? LIMIT 0,1\",[netloc])\n",
    "    netlocID =cur.fetchone()\n",
    "    if not cur.fetchone():\n",
    "        cur.execute(\"INSERT INTO table2(netloc) VALUES(?)\",[netloc])\n",
    "        con.commit()\n",
    "        cur.execute(\"SELECT id FROM table2 WHERE netloc=? LIMIT 0,1\",[netloc])\n",
    "        netlocID =cur.fetchone()\n",
    "        \n",
    "    cur.execute(\"INSERT INTO table1(table2_id,path,param) VALUES(?,?,?)\",[netlocID[0], _urlparse[2], _urlparse[4]])   \n",
    "    print(cur.lastrowid, netlocID)\n",
    "    \n",
    "\n",
    "#seed url -> db insert db select limit 0,1"
   ]
  },
  {
   "cell_type": "code",
   "execution_count": 4,
   "metadata": {},
   "outputs": [
    {
     "ename": "NameError",
     "evalue": "name 'cur' is not defined",
     "output_type": "error",
     "traceback": [
      "\u001b[1;31m---------------------------------------------------------------------------\u001b[0m",
      "\u001b[1;31mNameError\u001b[0m                                 Traceback (most recent call last)",
      "\u001b[1;32m<ipython-input-4-7379acb9c69d>\u001b[0m in \u001b[0;36m<module>\u001b[1;34m()\u001b[0m\n\u001b[0;32m      1\u001b[0m \u001b[1;32mwhile\u001b[0m \u001b[1;32mTrue\u001b[0m\u001b[1;33m:\u001b[0m\u001b[1;33m\u001b[0m\u001b[0m\n\u001b[1;32m----> 2\u001b[1;33m     cur.execute(\"\"\"\n\u001b[0m\u001b[0;32m      3\u001b[0m         \u001b[0mSELECT\u001b[0m \u001b[0mtable1\u001b[0m\u001b[1;33m.\u001b[0m\u001b[0mid\u001b[0m\u001b[1;33m,\u001b[0m\u001b[0mtable2\u001b[0m\u001b[1;33m.\u001b[0m\u001b[0mnetloc\u001b[0m\u001b[1;33m,\u001b[0m\u001b[0mtable1\u001b[0m\u001b[1;33m.\u001b[0m\u001b[0mpath\u001b[0m\u001b[1;33m,\u001b[0m\u001b[0mtable1\u001b[0m\u001b[1;33m.\u001b[0m\u001b[0mparam\u001b[0m\u001b[1;33m\u001b[0m\u001b[0m\n\u001b[0;32m      4\u001b[0m         \u001b[0mFROM\u001b[0m \u001b[0mtable1\u001b[0m\u001b[1;33m\u001b[0m\u001b[0m\n\u001b[0;32m      5\u001b[0m         \u001b[0mJOIN\u001b[0m \u001b[0mtable2\u001b[0m\u001b[1;33m\u001b[0m\u001b[0m\n",
      "\u001b[1;31mNameError\u001b[0m: name 'cur' is not defined"
     ]
    }
   ],
   "source": [
    "while True:\n",
    "    cur.execute(\"\"\"\n",
    "        SELECT table1.id,table2.netloc,table1.path,table1.param \n",
    "        FROM table1 \n",
    "        JOIN table2 \n",
    "            ON table1.table2_id = table2.id \n",
    "            WHERE table1.seen=FALSE\n",
    "            ORDER BY table1.date ASC \n",
    "            LIMIT 0,1;\n",
    "    \n",
    "    \"\"\")\n",
    "    seed = cur.fetchone()\n",
    "    if not seed:\n",
    "        break;\n",
    "   \n",
    "    cur.execute(\"\"\"\n",
    "        UPDATE table2\n",
    "        SET seen=TRUE\n",
    "        WHERE id=?\n",
    "    \n",
    "    \"\"\",[seed[0]])\n",
    "    \n",
    "    con.commit()\n",
    "    \n",
    "    \n",
    "    baseURL=\"{0}{1}?{2}\".format(seed[1],seed[2],seed[3])\n",
    "    for url in parseURL(baseURL):\n",
    "        _urlparse=requests.compat.urlparse(href)\n",
    "    netloc=\"://\".join(_urlparse[:2])\n",
    "    cur.execute(\"SELECT id FROM table2 WHERE netloc =? LIMIT 0,1\",[netloc])\n",
    "    netlocID =cur.fetchone()\n",
    "    if not cur.fetchone():\n",
    "        cur.execute(\"INSERT INTO table2(netloc) VALUES(?)\",[netloc])\n",
    "        con.commit()\n",
    "        cur.execute(\"SELECT id FROM table2 WHERE netloc=? LIMIT 0,1\",[netloc])\n",
    "        netlocID =cur.fetchone()\n",
    "        \n",
    "    cur.execute(\"INSERT INTO table1(table2_id,path,param) VALUES(?,?,?)\",[netlocID[0], _urlparse[2], _urlparse[4]])   \n",
    "        \n",
    "    \n",
    "    #실제 큐에서 baseurl을 하나 가져온다."
   ]
  },
  {
   "cell_type": "code",
   "execution_count": null,
   "metadata": {},
   "outputs": [],
   "source": []
  }
 ],
 "metadata": {
  "kernelspec": {
   "display_name": "Python 3",
   "language": "python",
   "name": "python3"
  },
  "language_info": {
   "codemirror_mode": {
    "name": "ipython",
    "version": 3
   },
   "file_extension": ".py",
   "mimetype": "text/x-python",
   "name": "python",
   "nbconvert_exporter": "python",
   "pygments_lexer": "ipython3",
   "version": "3.6.4"
  }
 },
 "nbformat": 4,
 "nbformat_minor": 2
}
