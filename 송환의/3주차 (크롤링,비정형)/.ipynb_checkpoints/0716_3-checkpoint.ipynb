{
 "cells": [
  {
   "cell_type": "code",
   "execution_count": null,
   "metadata": {},
   "outputs": [],
   "source": [
    "## 선생님이 짜준 코드 "
   ]
  },
  {
   "cell_type": "code",
   "execution_count": 1,
   "metadata": {},
   "outputs": [],
   "source": [
    "from urllib import *\n",
    "from html import unescape\n",
    "import requests\n",
    "import json \n",
    "headers={\"user-agent\":\"Mozilla/5.0 (Windows NT 10.0; Win64; x64) AppleWebKit/537.36 (KHTML, like Gecko) Chrome/75.0.3770.100 Safari/537.36\"}\n",
    "import requests\n",
    "import time\n",
    "import bs4\n",
    "from bs4 import BeautifulSoup\n",
    "import re\n",
    "import time\n",
    "\n",
    "\n",
    "def download(method, url, \n",
    "             param = None, data = None, \n",
    "            timeout = 1,maxretries = 3):\n",
    "    \n",
    "    headers = {'user-agent': 'Mozilla/5.0 (Windows NT 10.0; Win64; x64) AppleWebKit/537.36 (KHTML, like Gecko) Chrome/75.0.3770.100 Safari/537.36'}\n",
    "    #headers = None\n",
    "    \n",
    "    try:\n",
    "        resp = requests.request(method, url, params= param, data=data, headers=headers)\n",
    "        resp.raise_for_status()\n",
    "        \n",
    "    except requests.exceptions.HTTPError as e:\n",
    "        if 500 <= e.response.status_code < 600 and maxretries > 0: \n",
    "            time.sleep(timeout) # param에따라 몇초 기다릴지 결정 할 수가 있다.\n",
    "            print(maxretries) # 재귀적으로 자기 자신을 부르게 코드를 짜면 된다.\n",
    "            resp = download(method,\n",
    "                            url, param = param, data=data,\n",
    "                            timeout=timeout,\n",
    "                            maxretries = maxretries - 1)\n",
    "        else:\n",
    "            print(e.response.status_code)\n",
    "            print(e.response.reason)\n",
    "    return resp\n",
    "\n",
    "def checkBlog(url):\n",
    "    return requests.compat.urlparse(url)[1].endswith(\"tistory.com\")\n",
    "    ## 정규식 re.search(\".+?\\.tistory.com\", \"http:\\\\adam24eve.tistory.com/\") #짧게매칭되는거 ? 레이지 \n",
    "\n",
    "def parseURL(seed):\n",
    "\n",
    "    html = download(\"get\",seed)\n",
    "    dom =BeautifulSoup(html.text,\"lxml\")\n",
    "\n",
    "    return [requests.compat.urljoin(seed, _.find_parent()[\"href\"]) for _ in dom.select(\"font.list_title\") if _.find_parent() and _.find_parent().has_attr(\"href\")]\n",
    "\n",
    "\n",
    "def parseContent(url):\n",
    "    html = download(\"get\", url)\n",
    "    dom = BeautifulSoup(html.text, \"lxml\")\n",
    "    print(\"asdasdfaf\")\n",
    "    return {\"title\": dom.select_one(\"font.view_title2\").text.strip(),\"body\":  dom.select_one(\"td.board-contents\").text.strip(), \"comments\":[_.text.strip() for _ in dom.select(\"div[id^=commentContent_]\")]}\n",
    "\n",
    "## td.board-contents => lxml과 다르게 html안닫아도 읽을수도 있다.  board-contents 페이스 소스로 보면 class= han 이 또있다. \n",
    "## td han 존나많다. 올라가보니 tr , td 뭐없다 table 까지 올라가서 .pic_bg   .han 이렇게 하면 된다. \n",
    "## <td class = han\n",
    "\n",
    "## 본문내용 글자 꺠지는경우 + 열고닫히는거 제대로 안한경우\n",
    "\n",
    "## 뷰티플소프로 만들어진 돔이랑 페이지 소스랑 비교해서 봐야함\n",
    "\n",
    "## 댓글 순서가 안맞을 페이지소스랑 => ctrl f 67878301 이랑 67878268 이랑 쓴글, 댓글이랑 키값 벨류값 페어 \n",
    "## 디비에서 만들때 키값으로 다시 소팅해줘야 댓글 순서가 맞는다. 여기까지는 어려워서 안한다. \n",
    "\n",
    "## 글이 작성된순서 "
   ]
  },
  {
   "cell_type": "code",
   "execution_count": 2,
   "metadata": {},
   "outputs": [
    {
     "name": "stdout",
     "output_type": "stream",
     "text": [
      "Queue: 30, Seen: 1\n",
      "Queue: 60, Seen: 2\n",
      "Queue: 90, Seen: 3\n",
      "Queue: 120, Seen: 4\n",
      "Queue: 150, Seen: 5\n",
      "Queue: 180, Seen: 6\n",
      "Queue: 210, Seen: 7\n",
      "Queue: 240, Seen: 8\n",
      "Queue: 270, Seen: 9\n",
      "Queue: 300, Seen: 10\n"
     ]
    }
   ],
   "source": [
    "url = \"http://www.ppomppu.co.kr/zboard/zboard.php\"\n",
    "#url = \"http://www.ppomppu.co.kr/zboard/zboard.php?id=ppomppu\"\n",
    "param = {\n",
    "    \"id\":\"freeboard\",\n",
    "    \"page\" : \"1\"\n",
    "}\n",
    "\n",
    "\n",
    "    \n",
    "html = download(\"get\", url, param)\n",
    "dom = BeautifulSoup(html.text, \"lxml\")\n",
    "\n",
    "seed = list()\n",
    "seed.extend([requests.compat.urljoin(url, _[\"href\"])\n",
    "               for _ in dom.select(\"#page_list a\")])\n",
    "seen = list()\n",
    "queue = list()\n",
    "\n",
    "while seed:\n",
    "    baseURL = seed.pop(0)\n",
    "    seen.append(baseURL)\n",
    "\n",
    "    linkList = parseURL(baseURL)\n",
    "\n",
    "    for link in linkList:\n",
    "        if link not in queue and link not in seen:\n",
    "            queue.append(link)\n",
    "    print(\"Queue: {0}, Seen: {1}\".format(len(queue), len(seen)))"
   ]
  },
  {
   "cell_type": "code",
   "execution_count": 6,
   "metadata": {},
   "outputs": [
    {
     "name": "stdout",
     "output_type": "stream",
     "text": [
      "asdasdfaf\n"
     ]
    },
    {
     "ename": "AttributeError",
     "evalue": "'NoneType' object has no attribute 'text'",
     "output_type": "error",
     "traceback": [
      "\u001b[1;31m---------------------------------------------------------------------------\u001b[0m",
      "\u001b[1;31mAttributeError\u001b[0m                            Traceback (most recent call last)",
      "\u001b[1;32m<ipython-input-6-0e366a172ea2>\u001b[0m in \u001b[0;36m<module>\u001b[1;34m()\u001b[0m\n\u001b[0;32m      4\u001b[0m     \u001b[0mseen\u001b[0m\u001b[1;33m.\u001b[0m\u001b[0mappend\u001b[0m\u001b[1;33m(\u001b[0m\u001b[0mbaseURL\u001b[0m\u001b[1;33m)\u001b[0m\u001b[1;33m\u001b[0m\u001b[0m\n\u001b[0;32m      5\u001b[0m     \u001b[1;31m##RE\u001b[0m\u001b[1;33m\u001b[0m\u001b[1;33m\u001b[0m\u001b[0m\n\u001b[1;32m----> 6\u001b[1;33m     \u001b[0mcontent\u001b[0m \u001b[1;33m=\u001b[0m \u001b[0mparseContent\u001b[0m\u001b[1;33m(\u001b[0m\u001b[0mbaseURL\u001b[0m\u001b[1;33m)\u001b[0m\u001b[1;33m\u001b[0m\u001b[0m\n\u001b[0m\u001b[0;32m      7\u001b[0m     cur.execute(\"\"\"\n\u001b[0;32m      8\u001b[0m                 \u001b[0mINSERT\u001b[0m \u001b[0mINTO\u001b[0m \u001b[0mtable3\u001b[0m\u001b[1;33m\u001b[0m\u001b[0m\n",
      "\u001b[1;32m<ipython-input-1-3e6cbbadb45e>\u001b[0m in \u001b[0;36mparseContent\u001b[1;34m(url)\u001b[0m\n\u001b[0;32m     52\u001b[0m     \u001b[0mdom\u001b[0m \u001b[1;33m=\u001b[0m \u001b[0mBeautifulSoup\u001b[0m\u001b[1;33m(\u001b[0m\u001b[0mhtml\u001b[0m\u001b[1;33m.\u001b[0m\u001b[0mtext\u001b[0m\u001b[1;33m,\u001b[0m \u001b[1;34m\"lxml\"\u001b[0m\u001b[1;33m)\u001b[0m\u001b[1;33m\u001b[0m\u001b[0m\n\u001b[0;32m     53\u001b[0m     \u001b[0mprint\u001b[0m\u001b[1;33m(\u001b[0m\u001b[1;34m\"asdasdfaf\"\u001b[0m\u001b[1;33m)\u001b[0m\u001b[1;33m\u001b[0m\u001b[0m\n\u001b[1;32m---> 54\u001b[1;33m     \u001b[1;32mreturn\u001b[0m \u001b[1;33m{\u001b[0m\u001b[1;34m\"title\"\u001b[0m\u001b[1;33m:\u001b[0m \u001b[0mdom\u001b[0m\u001b[1;33m.\u001b[0m\u001b[0mselect_one\u001b[0m\u001b[1;33m(\u001b[0m\u001b[1;34m\"font.view_title2\"\u001b[0m\u001b[1;33m)\u001b[0m\u001b[1;33m.\u001b[0m\u001b[0mtext\u001b[0m\u001b[1;33m.\u001b[0m\u001b[0mstrip\u001b[0m\u001b[1;33m(\u001b[0m\u001b[1;33m)\u001b[0m\u001b[1;33m,\u001b[0m\u001b[1;34m\"body\"\u001b[0m\u001b[1;33m:\u001b[0m  \u001b[0mdom\u001b[0m\u001b[1;33m.\u001b[0m\u001b[0mselect_one\u001b[0m\u001b[1;33m(\u001b[0m\u001b[1;34m\"td.board-contents\"\u001b[0m\u001b[1;33m)\u001b[0m\u001b[1;33m.\u001b[0m\u001b[0mtext\u001b[0m\u001b[1;33m.\u001b[0m\u001b[0mstrip\u001b[0m\u001b[1;33m(\u001b[0m\u001b[1;33m)\u001b[0m\u001b[1;33m,\u001b[0m \u001b[1;34m\"comments\"\u001b[0m\u001b[1;33m:\u001b[0m\u001b[1;33m[\u001b[0m\u001b[0m_\u001b[0m\u001b[1;33m.\u001b[0m\u001b[0mtext\u001b[0m\u001b[1;33m.\u001b[0m\u001b[0mstrip\u001b[0m\u001b[1;33m(\u001b[0m\u001b[1;33m)\u001b[0m \u001b[1;32mfor\u001b[0m \u001b[0m_\u001b[0m \u001b[1;32min\u001b[0m \u001b[0mdom\u001b[0m\u001b[1;33m.\u001b[0m\u001b[0mselect\u001b[0m\u001b[1;33m(\u001b[0m\u001b[1;34m\"div[id^=commentContent_]\"\u001b[0m\u001b[1;33m)\u001b[0m\u001b[1;33m]\u001b[0m\u001b[1;33m}\u001b[0m\u001b[1;33m\u001b[0m\u001b[0m\n\u001b[0m\u001b[0;32m     55\u001b[0m \u001b[1;33m\u001b[0m\u001b[0m\n",
      "\u001b[1;31mAttributeError\u001b[0m: 'NoneType' object has no attribute 'text'"
     ]
    }
   ],
   "source": [
    "\n",
    "while queue :\n",
    "    baseuURL = queue.pop()\n",
    "    seen.append(baseURL)\n",
    "    ##RE\n",
    "    content = parseContent(baseURL)\n",
    "    cur.execute(\"\"\"\n",
    "                INSERT INTO table3\n",
    "                (title, content)\n",
    "                VALUES(?, ?)\n",
    "                \"\"\", [content[\"title\"], content[\"body\"]])\n",
    "    con.commit()\n",
    "    \n",
    "    cur.excute(\"\"\"\n",
    "        SELECT id \n",
    "        FROM table3\n",
    "        WHERE title=? AND content=?;\"\"\", \n",
    "              [content[\"title\"], content[\"body\"]])\n",
    "    id = cur.fetchone()[0]\n",
    "    \n",
    "    for comment in content[\"comments\"]:\n",
    "        cur.execute(\"\"\"\n",
    "            INSERT INTO table4\n",
    "            (table3_id, comment)\n",
    "            VALUES(?,?)\"\"\"\n",
    "                  , [table3_id, comment])\n",
    "    con.commit()\n",
    "    #? 하나의 해쉬화된 키가지고 비교해야하는게 더 좋은방법, 텍스트가지고 통짜로비교 안좋은방법 뭔말인지모르겟다.\n",
    "    \n",
    "    ## contents.append(parseContent(baseURL))\n"
   ]
  },
  {
   "cell_type": "code",
   "execution_count": null,
   "metadata": {},
   "outputs": [],
   "source": []
  },
  {
   "cell_type": "code",
   "execution_count": null,
   "metadata": {},
   "outputs": [],
   "source": []
  },
  {
   "cell_type": "code",
   "execution_count": null,
   "metadata": {},
   "outputs": [],
   "source": []
  },
  {
   "cell_type": "code",
   "execution_count": null,
   "metadata": {},
   "outputs": [],
   "source": []
  },
  {
   "cell_type": "code",
   "execution_count": null,
   "metadata": {},
   "outputs": [],
   "source": []
  },
  {
   "cell_type": "code",
   "execution_count": null,
   "metadata": {},
   "outputs": [],
   "source": []
  },
  {
   "cell_type": "code",
   "execution_count": null,
   "metadata": {},
   "outputs": [],
   "source": []
  },
  {
   "cell_type": "code",
   "execution_count": null,
   "metadata": {},
   "outputs": [],
   "source": []
  },
  {
   "cell_type": "code",
   "execution_count": null,
   "metadata": {},
   "outputs": [],
   "source": [
    "## 테이블 최소 2개 필요"
   ]
  },
  {
   "cell_type": "code",
   "execution_count": null,
   "metadata": {},
   "outputs": [],
   "source": []
  },
  {
   "cell_type": "code",
   "execution_count": null,
   "metadata": {},
   "outputs": [],
   "source": [
    "import sqlite3\n",
    "con = sqlite3.connect(\"scrappy_bot.db\")\n",
    "cur = con.cursor()"
   ]
  },
  {
   "cell_type": "code",
   "execution_count": null,
   "metadata": {},
   "outputs": [],
   "source": [
    "cur.executescript(\"\"\"\n",
    "    DROP TABLE IF EXISTS table3;\n",
    "    CREATE TABLE table3(\n",
    "        id INTEGER PRIMARY KEY AUTOINCREMENT NOT NULL,\n",
    "        title TEXT NOT NULL,\n",
    "        content TEXT NOT NULL,\n",
    "        date TIMESTAMP DEFAULT CURRENT_TIMESTAMP NOT NULL\n",
    "    );\n",
    "    \n",
    "    DROP TABLE IF EXISTS table4;\n",
    "    CREATE TABLE table4(\n",
    "        id INTEGER PRIMARY KEY AUTOINCREMENT NOT NULL,\n",
    "        table3_id INTEGER NOT NULL,\n",
    "        comment TEXT NOT NULL, \n",
    "        date TIMESTAMP DEFAULT CURRENT_TIMESTAMP NOT NULL\n",
    "    );\n",
    "\n",
    "\"\"\")\n",
    "con.commit()"
   ]
  },
  {
   "cell_type": "code",
   "execution_count": null,
   "metadata": {},
   "outputs": [],
   "source": [
    "# 테이블 스키마만 맞으면 한명은 수집하고 떨궈주고 한명은 작업하고 분업화 된다.\n",
    "# 원래 TABLE 1,2,3,4, "
   ]
  },
  {
   "cell_type": "code",
   "execution_count": null,
   "metadata": {},
   "outputs": [],
   "source": []
  },
  {
   "cell_type": "code",
   "execution_count": null,
   "metadata": {},
   "outputs": [],
   "source": []
  }
 ],
 "metadata": {
  "kernelspec": {
   "display_name": "Python 3",
   "language": "python",
   "name": "python3"
  },
  "language_info": {
   "codemirror_mode": {
    "name": "ipython",
    "version": 3
   },
   "file_extension": ".py",
   "mimetype": "text/x-python",
   "name": "python",
   "nbconvert_exporter": "python",
   "pygments_lexer": "ipython3",
   "version": "3.6.4"
  }
 },
 "nbformat": 4,
 "nbformat_minor": 2
}
