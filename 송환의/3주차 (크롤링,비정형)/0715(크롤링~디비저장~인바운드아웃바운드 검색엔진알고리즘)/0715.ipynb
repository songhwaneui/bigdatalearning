{
 "cells": [
  {
   "cell_type": "code",
   "execution_count": 3,
   "metadata": {},
   "outputs": [],
   "source": [
    "from urllib import *\n",
    "from html import unescape\n",
    "import requests\n",
    "import json \n",
    "headers={\"user-agent\":\"Mozilla/5.0 (Windows NT 10.0; Win64; x64) AppleWebKit/537.36 (KHTML, like Gecko) Chrome/75.0.3770.100 Safari/537.36\"}\n",
    "import requests\n",
    "import time\n",
    "import bs4\n",
    "from bs4 import BeautifulSoup\n",
    "import re\n",
    "import time"
   ]
  },
  {
   "cell_type": "code",
   "execution_count": 4,
   "metadata": {},
   "outputs": [],
   "source": [
    "\n",
    "\n",
    "def download(method, url, \n",
    "             param = None, data = None, \n",
    "            timeout = 1,maxretries = 3):\n",
    "    \n",
    "    headers = {'user-agent': 'Mozilla/5.0 (Windows NT 10.0; Win64; x64) AppleWebKit/537.36 (KHTML, like Gecko) Chrome/75.0.3770.100 Safari/537.36'}\n",
    "    #headers = None\n",
    "    \n",
    "    try:\n",
    "        resp = requests.request(method, url, params= param, data=data, headers=headers)\n",
    "        resp.raise_for_status()\n",
    "        \n",
    "    except requests.exceptions.HTTPError as e:\n",
    "        if 500 <= e.response.status_code < 600 and maxretries > 0: \n",
    "            time.sleep(timeout) # param에따라 몇초 기다릴지 결정 할 수가 있다.\n",
    "            print(maxretries) # 재귀적으로 자기 자신을 부르게 코드를 짜면 된다.\n",
    "            resp = download(method,\n",
    "                            url, param = param, data=data,\n",
    "                            timeout=timeout,\n",
    "                            maxretries = maxretries - 1)\n",
    "        else:\n",
    "            print(e.response.status_code)\n",
    "            print(e.response.reason)\n",
    "    return resp"
   ]
  },
  {
   "cell_type": "code",
   "execution_count": null,
   "metadata": {},
   "outputs": [],
   "source": [
    "url = \"https://www.google.com/\""
   ]
  },
  {
   "cell_type": "code",
   "execution_count": null,
   "metadata": {},
   "outputs": [],
   "source": [
    "html = download(\"get\", url)\n",
    "dom =BeautifulSoup(html.text,\"lxml\") ##파서 lxml  파서를 바꾸거나 문법을 잘하거나 둘중하나해야함"
   ]
  },
  {
   "cell_type": "code",
   "execution_count": null,
   "metadata": {},
   "outputs": [],
   "source": [
    "_ (for _ in dom.find_all(\"a\") if(len(_[\"href\"]))"
   ]
  },
  {
   "cell_type": "code",
   "execution_count": null,
   "metadata": {},
   "outputs": [],
   "source": [
    "[requests.compat.urljoin(url, _[\"href\"]) for _ in dom.find_all(\"a\") if(len(_[\"href\"]) > 3)]"
   ]
  },
  {
   "cell_type": "code",
   "execution_count": null,
   "metadata": {},
   "outputs": [],
   "source": [
    "# 앵커텍스트 a라는곳에 href 없는 사이트도 있다., http 하고 도메인이 안바뀌므로 바깥으로 나가는 링크가 하나도 없다. 다 내부링크다\n",
    "# 이런애들 http가 붙은 full url 로 조인 해줘야 한다.\n",
    "# #은 실제 내용 담고있는애가 아니다. 가라다 같은페이지. 애는 뺴야한다.\n",
    "\n",
    "#"
   ]
  },
  {
   "cell_type": "code",
   "execution_count": null,
   "metadata": {},
   "outputs": [],
   "source": []
  },
  {
   "cell_type": "code",
   "execution_count": null,
   "metadata": {},
   "outputs": [],
   "source": []
  },
  {
   "cell_type": "code",
   "execution_count": 50,
   "metadata": {},
   "outputs": [],
   "source": [
    "\n",
    "\n",
    "html = download(\"get\", url)\n",
    "dom = BeautifulSoup(html.text,\"lxml\")"
   ]
  },
  {
   "cell_type": "code",
   "execution_count": 51,
   "metadata": {
    "scrolled": true
   },
   "outputs": [
    {
     "data": {
      "text/plain": [
       "['https://ko.wikipedia.org/wiki/%EB%B0%95%EB%B3%B4%EC%98%81',\n",
       " 'https://ko.wikipedia.org/wiki/%EB%B0%95%EB%B3%B4%EC%98%81%EC%9D%98_%EC%9E%91%ED%92%88_%EB%AA%A9%EB%A1%9D',\n",
       " 'https://namu.wiki/w/%EB%B0%95%EB%B3%B4%EC%98%81',\n",
       " 'https://news.joins.com/article/22895953',\n",
       " 'https://www.youtube.com/watch?v=M6w1XcxejBg',\n",
       " 'https://www.youtube.com/watch?v=SAC2EHpNbvg',\n",
       " 'https://www.msn.com/ko-kr/entertainment/news/%EB%B0%95%EB%B3%B4%EC%98%81-tvn-%EB%93%9C%EB%9D%BC%EB%A7%88-%EC%96%B4%EB%B9%84%EC%8A%A4-%EC%97%AC%EC%A3%BC%EC%9D%B8%EA%B3%B5/ar-BBLZzVh',\n",
       " 'https://www.msn.com/ko-kr/entertainment/tv/hd%EC%8A%A4%ED%86%A0%EB%A6%AC-%EC%9E%91%EC%9D%80-%EA%B1%B0%EC%9D%B8-%EB%B0%95%EB%B3%B4%EC%98%81%E2%80%A6%EA%B7%B8%EC%9D%98-%EC%97%B0%EA%B8%B0%EC%97%90-%EB%8C%80%ED%95%9C-%ED%9D%94%EC%A0%81%EB%93%A4/ar-BBUvL0V',\n",
       " 'https://movie.daum.net/person/main?personId=105244',\n",
       " 'https://twitter.com/hashtag/%EB%B0%95%EB%B3%B4%EC%98%81']"
      ]
     },
     "execution_count": 51,
     "metadata": {},
     "output_type": "execute_result"
    }
   ],
   "source": [
    " [_.find_parent()[\"href\"] for _ in dom.select(\".LC20lb\")]"
   ]
  },
  {
   "cell_type": "code",
   "execution_count": null,
   "metadata": {},
   "outputs": [],
   "source": []
  },
  {
   "cell_type": "code",
   "execution_count": 90,
   "metadata": {},
   "outputs": [],
   "source": [
    "    html = download(\"get\",\"https://www.google.com/search?q=박보영\")\n",
    "    dom = BeautifulSoup(html.text, \"lxml\")\n",
    "    # and len(_[\"href\"]) > 3\n",
    "##return  [requests.compat.urljoin(html, _[\"href\"]\n",
    "\n"
   ]
  },
  {
   "cell_type": "code",
   "execution_count": 100,
   "metadata": {},
   "outputs": [],
   "source": [
    "# url = \"https://www.google.com/search\"\n",
    "#url = \"https://www.google.com/search?q=%EB%B0%95%EB%B3%B4%EC%98%81\"\n",
    "def parseURL(seed):\n",
    "    html = download(\"get\",seed)\n",
    "    dom = BeautifulSoup(html.text, \"lxml\")\n",
    "    # and len(_[\"href\"]) > 3\n",
    "##return  [requests.compat.urljoin(html, _[\"href\"])\n",
    "    return  [requests.compat.urljoin(seed, _[\"href\"]) for _ in dom.find_all(\"a\") if  _.has_attr(\"href\")    ]\n",
    " ##   return  [requests.compat.urljoin(html, _[\"href\"]) for _ in dom.find_all(\"a\") if  _.has_attr(\"href\")    ]\n",
    "#and not _.startwith(\"#\")\n",
    "   # return [requests.compat.urljoin(url, _[\"href\"]) for _ in dom.find_all(\"a\") if  _.has_attr(\"href\") and _.notstartwith(\"#\") ]\n",
    "    # if  _.has_attr(\"href\")      and _.notstartwith(\"#\")"
   ]
  },
  {
   "cell_type": "code",
   "execution_count": null,
   "metadata": {},
   "outputs": [],
   "source": []
  },
  {
   "cell_type": "code",
   "execution_count": null,
   "metadata": {
    "scrolled": false
   },
   "outputs": [
    {
     "name": "stdout",
     "output_type": "stream",
     "text": [
      "https://ko.wikipedia.org/wiki/%EB%B0%95%EB%B3%B4%EC%98%81\n",
      "Queue: 865, Seen: 1\n",
      "1946\n",
      "https://ko.wikipedia.org/wiki/%EB%B0%95%EB%B3%B4%EC%98%81%EC%9D%98_%EC%9E%91%ED%92%88_%EB%AA%A9%EB%A1%9D\n",
      "Queue: 2380, Seen: 2\n",
      "2947\n",
      "https://namu.wiki/w/%EB%B0%95%EB%B3%B4%EC%98%81\n",
      "Queue: 3915, Seen: 3\n",
      "5241\n",
      "https://news.joins.com/article/22895953\n",
      "Queue: 5363, Seen: 4\n",
      "5498\n",
      "https://www.msn.com/ko-kr/entertainment/news/%EB%B0%95%EB%B3%B4%EC%98%81-tvn-%EB%93%9C%EB%9D%BC%EB%A7%88-%EC%96%B4%EB%B9%84%EC%8A%A4-%EC%97%AC%EC%A3%BC%EC%9D%B8%EA%B3%B5/ar-BBLZzVh\n",
      "Queue: 5533, Seen: 5\n",
      "5592\n",
      "https://www.msn.com/ko-kr/entertainment/tv/hd%EC%8A%A4%ED%86%A0%EB%A6%AC-%EC%9E%91%EC%9D%80-%EA%B1%B0%EC%9D%B8-%EB%B0%95%EB%B3%B4%EC%98%81%E2%80%A6%EA%B7%B8%EC%9D%98-%EC%97%B0%EA%B8%B0%EC%97%90-%EB%8C%80%ED%95%9C-%ED%9D%94%EC%A0%81%EB%93%A4/ar-BBUvL0V\n",
      "Queue: 5602, Seen: 6\n",
      "5667\n",
      "https://movie.daum.net/person/main?personId=105244\n",
      "Queue: 5709, Seen: 7\n",
      "5774\n",
      "https://twitter.com/hashtag/%EB%B0%95%EB%B3%B4%EC%98%81\n",
      "Queue: 5954, Seen: 8\n",
      "6183\n",
      "https://ko.wikipedia.org/wiki/%EB%B0%95%EB%B3%B4%EC%98%81#mw-head\n",
      "Queue: 6182, Seen: 9\n",
      "7263\n",
      "https://ko.wikipedia.org/wiki/%EB%B0%95%EB%B3%B4%EC%98%81#p-search\n",
      "Queue: 7262, Seen: 10\n",
      "8343\n",
      "https://ko.wikipedia.org/wiki/%EC%9C%84%ED%82%A4%EB%B0%B1%EA%B3%BC:%EB%8F%99%EC%9D%8C%EC%9D%B4%EC%9D%98%EC%96%B4_%EB%AC%B8%EC%84%9C\n",
      "Queue: 8520, Seen: 11\n",
      "8726\n",
      "https://ko.wikipedia.org/wiki/%EB%B0%95%EB%B3%B4%EC%98%81_(%EB%8F%99%EC%9D%8C%EC%9D%B4%EC%9D%98)\n",
      "Queue: 8748, Seen: 12\n",
      "8801\n",
      "https://ko.wikipedia.org/wiki/%ED%8C%8C%EC%9D%BC:%EB%B0%95%EB%B3%B4%EC%98%81,_%EB%B9%A0%EC%A0%B8%EB%93%9C%EB%8A%94_%EC%8B%AC%EC%BF%B5_%EA%BD%83%EB%AF%B8%EC%86%8C.jpg\n",
      "Queue: 8825, Seen: 13\n",
      "8876\n",
      "https://ko.wikipedia.org/wiki/%EB%8C%80%ED%95%9C%EB%AF%BC%EA%B5%AD\n",
      "Queue: 11461, Seen: 14\n",
      "15271\n",
      "https://ko.wikipedia.org/wiki/%EC%B6%A9%EC%B2%AD%EB%B6%81%EB%8F%84\n",
      "Queue: 15538, Seen: 15\n",
      "16018\n",
      "https://ko.wikipedia.org/wiki/%EA%B4%B4%EC%82%B0%EA%B5%B0\n",
      "Queue: 16289, Seen: 16\n",
      "16730\n",
      "https://ko.wikipedia.org/wiki/%EC%A6%9D%ED%8F%89%EC%9D%8D\n",
      "Queue: 16811, Seen: 17\n",
      "16956\n",
      "https://ko.wikipedia.org/wiki/%EC%A6%9D%ED%8F%89%EA%B5%B0\n",
      "Queue: 17080, Seen: 18\n",
      "17351\n",
      "https://ko.wikipedia.org/wiki/%EB%B0%B0%EC%9A%B0\n",
      "Queue: 17567, Seen: 19\n",
      "17829\n",
      "https://ko.wikipedia.org/wiki/2006%EB%85%84\n",
      "Queue: 18694, Seen: 20\n",
      "19972\n",
      "https://ko.wikipedia.org/wiki/%EB%8B%A8%EA%B5%AD%EB%8C%80%ED%95%99%EA%B5%90\n",
      "Queue: 20976, Seen: 21\n",
      "22804\n",
      "https://ko.wikipedia.org/wiki/%EB%B0%95%EB%B3%B4%EC%98%81%EC%9D%98_%EC%88%98%EC%83%81_%EB%B0%8F_%ED%9B%84%EB%B3%B4_%EB%AA%A9%EB%A1%9D\n",
      "Queue: 23033, Seen: 22\n",
      "23390\n",
      "http://www.vlive.tv/channels/FCE49/\n",
      "Queue: 23389, Seen: 23\n",
      "23389\n",
      "https://ko.wikipedia.org/wiki/V_LIVE\n",
      "Queue: 23496, Seen: 24\n",
      "23634\n",
      "https://ko.wikipedia.org/wiki/1990%EB%85%84\n",
      "Queue: 24247, Seen: 25\n",
      "25746\n",
      "https://ko.wikipedia.org/wiki/2%EC%9B%94_12%EC%9D%BC\n",
      "Queue: 26081, Seen: 26\n",
      "26646\n",
      "https://ko.wikipedia.org/wiki/%EB%B0%95%EB%B3%B4%EC%98%81#약력\n",
      "Queue: 26645, Seen: 27\n",
      "27726\n",
      "https://ko.wikipedia.org/wiki/%EB%B0%95%EB%B3%B4%EC%98%81#성장_과정\n",
      "Queue: 27725, Seen: 28\n",
      "28806\n",
      "https://ko.wikipedia.org/wiki/%EB%B0%95%EB%B3%B4%EC%98%81#상세_경력\n",
      "Queue: 28805, Seen: 29\n",
      "29886\n",
      "https://ko.wikipedia.org/wiki/%EB%B0%95%EB%B3%B4%EC%98%81#2006~2008\n",
      "Queue: 29885, Seen: 30\n",
      "30966\n",
      "https://ko.wikipedia.org/wiki/%EB%B0%95%EB%B3%B4%EC%98%81#2008~2010\n"
     ]
    }
   ],
   "source": [
    "queue = list() ##하나 생김\n",
    "queue.extend( [_.find_parent()[\"href\"] for _ in dom.select(\".LC20lb\")])\n",
    "\n",
    "seen = list()\n",
    "while queue :\n",
    "    baseURL = queue.pop(0)  ##지금 너비우선\n",
    "                            ##깊이우선 -1로 바꿔서 depth 를 정해놓고 or 특정도메인내에서만 => 포커스드크롤링\n",
    "    print(baseURL)\n",
    "    seen.append(baseURL)\n",
    "    # 슬립 \n",
    "    \n",
    "    linkList = parseURL(baseURL) # 중복된 url 계속 생김 re??\n",
    " \n",
    "    for link in linkList:\n",
    "        if link not in queue and link not in seen:\n",
    "            queue.append(link)\n",
    "    print(\"Queue: {0}, Seen: {1}\".format(len(queue), len(seen)))\n",
    "\n",
    "    #새로운 url queue 보고알고, 얼마나 방문했는지 Seen q보면암\n",
    "    ## 큐의 사이즈 무한정으로 늘어남\n",
    "    ## queue,랑 seen합쳐야 400개정도 나옴\n",
    "    queue.extend(linkList)\n",
    "    print(len(queue))\n",
    "    ##파이썬이니까 코드가 짧다."
   ]
  },
  {
   "cell_type": "code",
   "execution_count": null,
   "metadata": {},
   "outputs": [],
   "source": [
    "## 데이터가 a로 시작하더라도 href 가 없을수도 키에러"
   ]
  },
  {
   "cell_type": "code",
   "execution_count": null,
   "metadata": {},
   "outputs": [],
   "source": [
    "## not start re !!!"
   ]
  },
  {
   "cell_type": "code",
   "execution_count": null,
   "metadata": {},
   "outputs": [],
   "source": []
  },
  {
   "cell_type": "code",
   "execution_count": null,
   "metadata": {},
   "outputs": [],
   "source": []
  },
  {
   "cell_type": "code",
   "execution_count": null,
   "metadata": {},
   "outputs": [],
   "source": []
  }
 ],
 "metadata": {
  "kernelspec": {
   "display_name": "Python 3",
   "language": "python",
   "name": "python3"
  },
  "language_info": {
   "codemirror_mode": {
    "name": "ipython",
    "version": 3
   },
   "file_extension": ".py",
   "mimetype": "text/x-python",
   "name": "python",
   "nbconvert_exporter": "python",
   "pygments_lexer": "ipython3",
   "version": "3.6.4"
  }
 },
 "nbformat": 4,
 "nbformat_minor": 2
}
