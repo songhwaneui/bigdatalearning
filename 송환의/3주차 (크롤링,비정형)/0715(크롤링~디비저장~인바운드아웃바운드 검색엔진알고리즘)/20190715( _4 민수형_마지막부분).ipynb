{
 "cells": [
  {
   "cell_type": "raw",
   "metadata": {},
   "source": [
    "urljoin의 역할, a태그와 href의 태그"
   ]
  },
  {
   "cell_type": "code",
   "execution_count": 2,
   "metadata": {},
   "outputs": [],
   "source": [
    "import re\n",
    "from urllib import *\n",
    "from html import unescape\n",
    "import requests\n",
    "import json "
   ]
  },
  {
   "cell_type": "code",
   "execution_count": 3,
   "metadata": {},
   "outputs": [],
   "source": [
    "from urllib import error\n",
    "import requests\n",
    "import time\n",
    "import bs4\n",
    "def download(method,url,param=None,data=None, timeout=1, maxretries=3):\n",
    "    #res = requests.request(method,url,param=param,data=data,headers=headers)\n",
    "    \n",
    "    try:\n",
    "        resp=requests.request(method, url,params=param,data=data, headers=headers)\n",
    "        resp.raise_for_status()\n",
    "    except requests.exceptions.HTTPError as e:\n",
    "        if 500<=e.response.status_code<600 and maxretries>0:\n",
    "            print(maxretries)\n",
    "            \n",
    "            download(method,url,param,data,timeout,maxretries-1)\n",
    "        else:\n",
    "            print(e.response.status_code)\n",
    "            print(e.response.reason)\n",
    "    return resp\n",
    "    "
   ]
  },
  {
   "cell_type": "code",
   "execution_count": 49,
   "metadata": {},
   "outputs": [],
   "source": [
    "#오늘은 시스템적으로 www를 계속 탐험하게 만들 것임 부산물은 html 이다."
   ]
  },
  {
   "cell_type": "code",
   "execution_count": 50,
   "metadata": {},
   "outputs": [],
   "source": [
    "#사이트의 영향력은 인바운드와 아웃바운드로 알 수 있다."
   ]
  },
  {
   "cell_type": "raw",
   "metadata": {},
   "source": [
    "크롤링\n",
    "자연어처리에서 수많은 언어패턴을 수집하거나 내가 원하는 정보수집하거나 웹을 인덱싱하기위해서 사용한다.\n"
   ]
  },
  {
   "cell_type": "raw",
   "metadata": {},
   "source": [
    "scrapy 는 시드주소를 바탕으로 여기저기 돌아다닌다.\n",
    "dom은 파싱과 패칭을 하기위한것"
   ]
  },
  {
   "cell_type": "raw",
   "metadata": {},
   "source": [
    "seed주소 : http://example.webscraping.com/places/default/index"
   ]
  },
  {
   "cell_type": "code",
   "execution_count": 5,
   "metadata": {},
   "outputs": [],
   "source": [
    "#a라는 태그에서 attr중에 href를 가지고 온다.(html)"
   ]
  },
  {
   "cell_type": "code",
   "execution_count": 4,
   "metadata": {},
   "outputs": [],
   "source": [
    "headers ={\"user-agent\":\"#Mozilla/5.0 (Windows NT 10.0; Win64; x64) AppleWebKit/537.36 (KHTML, like Gecko) Chrome/75.0.3770.100 Safari/537.36\"}\n",
    "html=download(\"get\",\"http://example.webscraping.com/places/default/index\")\n",
    "from bs4 import BeautifulSoup"
   ]
  },
  {
   "cell_type": "code",
   "execution_count": 5,
   "metadata": {},
   "outputs": [],
   "source": [
    "from bs4 import BeautifulSoup"
   ]
  },
  {
   "cell_type": "code",
   "execution_count": 7,
   "metadata": {},
   "outputs": [
    {
     "data": {
      "text/plain": [
       "['/places/default/user/register?_next=/places/default/index',\n",
       " '/places/default/user/login?_next=/places/default/index',\n",
       " '/places/default/index',\n",
       " '/places/default/search',\n",
       " '/places/default/view/Afghanistan-1',\n",
       " '/places/default/view/Aland-Islands-2',\n",
       " '/places/default/view/Albania-3',\n",
       " '/places/default/view/Algeria-4',\n",
       " '/places/default/view/American-Samoa-5',\n",
       " '/places/default/view/Andorra-6',\n",
       " '/places/default/view/Angola-7',\n",
       " '/places/default/view/Anguilla-8',\n",
       " '/places/default/view/Antarctica-9',\n",
       " '/places/default/view/Antigua-and-Barbuda-10',\n",
       " '/places/default/index/1']"
      ]
     },
     "execution_count": 7,
     "metadata": {},
     "output_type": "execute_result"
    }
   ],
   "source": [
    "dom = BeautifulSoup(html.text,\"lxml\")\n",
    "[_[\"href\"] for _ in dom.find_all(\"a\") if len(_[\"href\"])>3]"
   ]
  },
  {
   "cell_type": "code",
   "execution_count": 42,
   "metadata": {},
   "outputs": [
    {
     "data": {
      "text/plain": [
       "['https://blog.naver.com/imagetech1?Redirect=Log&logNo=221530358950',\n",
       " 'https://blog.naver.com/js2y86?Redirect=Log&logNo=221530397718',\n",
       " 'https://blog.naver.com/dlqlwm14?Redirect=Log&logNo=221529807195']"
      ]
     },
     "execution_count": 42,
     "metadata": {},
     "output_type": "execute_result"
    }
   ],
   "source": [
    "url = \"https://search.naver.com/search.naver?where=nexearch&sm=tab_jum&query=%EB%B0%95%EB%B3%B4%EC%98%81\"\n",
    "html = download(\"get\", url)\n",
    "dom = BeautifulSoup(html.text,\"lxml\")\n",
    "[_[\"href\"] for _ in dom.select(\"a.sh_blog_title._sp_each_url._sp_each_title\") if checkBlog(_[\"href\"])]\n",
    "# if checkBlog(_[\"href\"])"
   ]
  },
  {
   "cell_type": "code",
   "execution_count": 45,
   "metadata": {},
   "outputs": [],
   "source": [
    "\n",
    "def parseURL(seed):\n",
    "    html = download(\"get\",seed)\n",
    "    dom = BeautifulSoup(html.text, \"lxml\")\n",
    "    \n",
    "    ## naver iframe html안에 html 또들어있어서\n",
    "    if len(dom.select(\"#mainFrame\")) < 1:  ## 메인이랑, 첫페이지만 없음\n",
    "        return []\n",
    "    \n",
    "    seed = requests.compat.urljoin(seed,dom.select(\"#mainFrame\")[0][\"src\"])\n",
    "    html = download(\"get\",seed)\n",
    "    dom = BeautifulSoup(html.text, \"lxml\")\n",
    " #   print(requests.compat.urljoin(seed,dom.select(\"#mainFame\")[0][\"src\"]))\n",
    "\n",
    "    return  [requests.compat.urljoin(seed, _[\"href\"]) for _ in dom.find_all(\"a\") if  _.has_attr(\"href\") and len(_[\"href\"]) >3 and checkBlog(requests.compat.urljoin(seed, _[\"href\"]))]"
   ]
  },
  {
   "cell_type": "code",
   "execution_count": 22,
   "metadata": {},
   "outputs": [
    {
     "ename": "SyntaxError",
     "evalue": "invalid syntax (<ipython-input-22-551f1aabff19>, line 6)",
     "output_type": "error",
     "traceback": [
      "\u001b[1;36m  File \u001b[1;32m\"<ipython-input-22-551f1aabff19>\"\u001b[1;36m, line \u001b[1;32m6\u001b[0m\n\u001b[1;33m    return  [(requests.compat.urljoin(seed, _[\"href\"]) for _ in dom.find_all(\"a\") if seed[1] < 2 and _.has_attr(\"href\") and len(_[\"href\"])  and checkBlog(requests.compat.urljoin(seed[0], _[\"href\"]))]\u001b[0m\n\u001b[1;37m                                                                                                                                                                                                      ^\u001b[0m\n\u001b[1;31mSyntaxError\u001b[0m\u001b[1;31m:\u001b[0m invalid syntax\n"
     ]
    }
   ],
   "source": [
    "\n",
    "def parseURL(seed):\n",
    "    html = download(\"get\",seed)\n",
    "    dom = BeautifulSoup(html.text, \"lxml\")\n",
    "   \n",
    "    return  [(requests.compat.urljoin(seed, _[\"href\"]) for _ in dom.find_all(\"a\") if seed[1] < 2 and _.has_attr(\"href\") and len(_[\"href\"])  and checkBlog(requests.compat.urljoin(seed[0], _[\"href\"]))]"
   ]
  },
  {
   "cell_type": "raw",
   "metadata": {},
   "source": [
    "def parseURL(seed):\n",
    "    html = download(\"get\", seed)\n",
    "    dom = BeautifulSoup(html.text, \"lxml\")\n",
    "    if len(dom.select(\"#mainFrame\")) <1:\n",
    "        return []\n",
    "    seed = requests.compat.urljoin(seed,dom.select(\"#mainFrame\")[0][\"src\"])\n",
    "    \n",
    "    html =download(\"get\",seed)\n",
    "    dom = BeautifulSoup(html.text, \"lxml\")\n",
    "    return [requests.compat.urljoin(url, _[\"href\"]) for _ in dom.find_all(\"a\") \n",
    "            if _.has_attr(\"href\") and len(_[\"herf\"])>3 and checkBlog(requests.compat.urljoin(seed, _[\"href\"]))]"
   ]
  },
  {
   "cell_type": "code",
   "execution_count": 76,
   "metadata": {},
   "outputs": [
    {
     "name": "stdout",
     "output_type": "stream",
     "text": [
      "[('http://adam24eve.tistory.com/858', 1), ('http://cscs0717.tistory.com/27', 1), ('http://listup.tistory.com/248', 1), ('http://34344541.tistory.com/43', 1)]\n",
      "('http://adam24eve.tistory.com/858', 1)\n",
      "Queue:48 Seen:1\n",
      "('http://cscs0717.tistory.com/27', 1)\n",
      "Queue:77 Seen:2\n",
      "('http://listup.tistory.com/248', 1)\n",
      "Queue:103 Seen:3\n",
      "('http://34344541.tistory.com/43', 1)\n",
      "Queue:126 Seen:4\n",
      "('http://adam24eve.tistory.com/', 2)\n",
      "Queue:125 Seen:5\n",
      "('http://adam24eve.tistory.com/category', 2)\n",
      "Queue:124 Seen:6\n",
      "('http://adam24eve.tistory.com/category/Cosmos', 2)\n",
      "Queue:123 Seen:7\n",
      "('http://adam24eve.tistory.com/category/Mystery%20world', 2)\n",
      "Queue:122 Seen:8\n",
      "('http://adam24eve.tistory.com/category/Star', 2)\n",
      "Queue:121 Seen:9\n",
      "('http://adam24eve.tistory.com/category/Political%20', 2)\n",
      "Queue:120 Seen:10\n",
      "('http://adam24eve.tistory.com/category/It-game', 2)\n",
      "Queue:119 Seen:11\n",
      "('http://adam24eve.tistory.com/guestbook', 2)\n",
      "Queue:118 Seen:12\n",
      "('http://adam24eve.tistory.com/858', 2)\n",
      "Queue:117 Seen:13\n",
      "('https://adam24eve.tistory.com/rss', 2)\n",
      "Queue:116 Seen:14\n",
      "('http://adam24eve.tistory.com/tag/%EA%B9%80%EC%98%81%EA%B4%91', 2)\n",
      "Queue:115 Seen:15\n",
      "('http://adam24eve.tistory.com/tag/%EA%B9%80%EC%98%81%EA%B4%91%20%EB%82%98%EC%9D%B4', 2)\n",
      "Queue:114 Seen:16\n",
      "('http://adam24eve.tistory.com/tag/%EA%B9%80%EC%98%81%EA%B4%91%20%EB%B0%95%EB%B3%B4%EC%98%81%20%EC%97%B4%EC%95%A0', 2)\n",
      "Queue:113 Seen:17\n",
      "('http://adam24eve.tistory.com/tag/%EA%B9%80%EC%98%81%EA%B4%91%20%ED%82%A4', 2)\n",
      "Queue:112 Seen:18\n",
      "('http://adam24eve.tistory.com/tag/%EB%AF%B8%EC%9A%B0%EC%83%88', 2)\n",
      "Queue:111 Seen:19\n",
      "('http://adam24eve.tistory.com/tag/%EB%AF%B8%EC%9A%B4%EC%9A%B0%EB%A6%AC%EC%83%88%EB%81%BC', 2)\n",
      "Queue:110 Seen:20\n",
      "('http://adam24eve.tistory.com/tag/%EB%B0%95%EB%B3%B4%EC%98%81', 2)\n",
      "Queue:109 Seen:21\n",
      "('http://adam24eve.tistory.com/tag/%EB%B0%95%EB%B3%B4%EC%98%81%20%ED%82%A4', 2)\n",
      "Queue:108 Seen:22\n",
      "('http://adam24eve.tistory.com/860?category=820301', 2)\n",
      "Queue:107 Seen:23\n",
      "('http://adam24eve.tistory.com/859?category=820301', 2)\n",
      "Queue:106 Seen:24\n",
      "('http://adam24eve.tistory.com/857?category=820301', 2)\n",
      "Queue:105 Seen:25\n",
      "('http://adam24eve.tistory.com/855?category=820301', 2)\n",
      "Queue:104 Seen:26\n",
      "('http://adam24eve.tistory.com/858#rp', 2)\n",
      "Queue:103 Seen:27\n",
      "('http://adam24eve.tistory.com/859', 2)\n",
      "Queue:102 Seen:28\n",
      "('http://adam24eve.tistory.com/983', 2)\n",
      "Queue:101 Seen:29\n",
      "('http://adam24eve.tistory.com/862', 2)\n",
      "Queue:100 Seen:30\n",
      "('http://adam24eve.tistory.com/861', 2)\n",
      "Queue:99 Seen:31\n",
      "('http://adam24eve.tistory.com/860', 2)\n",
      "Queue:98 Seen:32\n",
      "('http://adam24eve.tistory.com/857', 2)\n",
      "Queue:97 Seen:33\n",
      "('http://adam24eve.tistory.com/856', 2)\n",
      "Queue:96 Seen:34\n",
      "('http://adam24eve.tistory.com/855', 2)\n",
      "Queue:95 Seen:35\n",
      "('http://adam24eve.tistory.com/854', 2)\n",
      "Queue:94 Seen:36\n",
      "('http://adam24eve.tistory.com/2', 2)\n",
      "Queue:93 Seen:37\n",
      "('http://adam24eve.tistory.com/notice/406', 2)\n",
      "Queue:92 Seen:38\n",
      "('http://adam24eve.tistory.com/982', 2)\n",
      "Queue:91 Seen:39\n",
      "('http://adam24eve.tistory.com/981', 2)\n",
      "Queue:90 Seen:40\n",
      "('http://adam24eve.tistory.com/980', 2)\n",
      "Queue:89 Seen:41\n",
      "('http://adam24eve.tistory.com/979', 2)\n",
      "Queue:88 Seen:42\n",
      "('http://adam24eve.tistory.com/957#comment15494479', 2)\n",
      "Queue:87 Seen:43\n",
      "('http://adam24eve.tistory.com/810#comment15492825', 2)\n",
      "Queue:86 Seen:44\n",
      "('http://adam24eve.tistory.com/934#comment15492756', 2)\n",
      "Queue:85 Seen:45\n",
      "('http://adam24eve.tistory.com/114#comment15492408', 2)\n",
      "Queue:84 Seen:46\n",
      "('http://adam24eve.tistory.com/820#comment15492397', 2)\n",
      "Queue:83 Seen:47\n",
      "('https://adam24eve.tistory.com/manage', 2)\n",
      "Queue:82 Seen:48\n",
      "('https://adam24eve.tistory.com/manage/entry/post', 2)\n",
      "Queue:81 Seen:49\n",
      "('http://cscs0717.tistory.com/', 2)\n",
      "Queue:80 Seen:50\n",
      "('http://cscs0717.tistory.com/27', 2)\n",
      "Queue:79 Seen:51\n",
      "('https://cscs0717.tistory.com/rss', 2)\n",
      "Queue:78 Seen:52\n",
      "('http://cscs0717.tistory.com/category/', 2)\n",
      "Queue:77 Seen:53\n",
      "('https://cscs0717.tistory.com/10', 2)\n",
      "Queue:76 Seen:54\n",
      "('https://cscs0717.tistory.com/11', 2)\n",
      "Queue:75 Seen:55\n",
      "('https://cscs0717.tistory.com/18', 2)\n",
      "Queue:74 Seen:56\n",
      "('https://cscs0717.tistory.com/19', 2)\n",
      "Queue:73 Seen:57\n",
      "('https://cscs0717.tistory.com/17', 2)\n",
      "Queue:72 Seen:58\n",
      "('https://cscs0717.tistory.com/14', 2)\n",
      "Queue:71 Seen:59\n",
      "('http://cscs0717.tistory.com/29?category=713249', 2)\n",
      "Queue:70 Seen:60\n",
      "('http://cscs0717.tistory.com/28?category=713249', 2)\n",
      "Queue:69 Seen:61\n",
      "('http://cscs0717.tistory.com/27?category=713249', 2)\n",
      "Queue:68 Seen:62\n",
      "('http://cscs0717.tistory.com/26?category=713249', 2)\n",
      "Queue:67 Seen:63\n",
      "('http://cscs0717.tistory.com/24?category=713249', 2)\n",
      "Queue:66 Seen:64\n",
      "('http://cscs0717.tistory.com/23?category=713249', 2)\n",
      "Queue:65 Seen:65\n",
      "('http://cscs0717.tistory.com/tag/%EB%B0%95%EB%B3%B4%EC%98%81', 2)\n",
      "Queue:64 Seen:66\n",
      "('http://cscs0717.tistory.com/tag/%EB%B0%95%EB%B3%B4%EC%98%81%20%EB%AA%B8%EB%A7%A4', 2)\n",
      "Queue:63 Seen:67\n",
      "('http://cscs0717.tistory.com/tag/%EB%B0%95%EB%B3%B4%EC%98%81%20%ED%82%A4', 2)\n",
      "Queue:62 Seen:68\n",
      "('http://cscs0717.tistory.com/27#rp', 2)\n",
      "Queue:61 Seen:69\n",
      "('http://cscs0717.tistory.com/28', 2)\n",
      "Queue:60 Seen:70\n",
      "('http://cscs0717.tistory.com/48', 2)\n",
      "Queue:59 Seen:71\n",
      "('http://cscs0717.tistory.com/32', 2)\n",
      "Queue:58 Seen:72\n",
      "('http://cscs0717.tistory.com/30', 2)\n",
      "Queue:57 Seen:73\n",
      "('http://cscs0717.tistory.com/29', 2)\n",
      "Queue:56 Seen:74\n",
      "('http://cscs0717.tistory.com/26', 2)\n",
      "Queue:55 Seen:75\n",
      "('http://cscs0717.tistory.com/25', 2)\n",
      "Queue:54 Seen:76\n",
      "('http://cscs0717.tistory.com/24', 2)\n",
      "Queue:53 Seen:77\n",
      "('http://cscs0717.tistory.com/23', 2)\n",
      "Queue:52 Seen:78\n",
      "('http://cscs0717.tistory.com/1', 2)\n",
      "Queue:51 Seen:79\n",
      "('http://listup.tistory.com/248#dkBody', 2)\n",
      "Queue:50 Seen:80\n",
      "('http://listup.tistory.com/248#dkGnb', 2)\n",
      "Queue:49 Seen:81\n",
      "('http://listup.tistory.com/', 2)\n",
      "Queue:48 Seen:82\n",
      "('https://listup.tistory.com/manage/entry/post', 2)\n",
      "Queue:47 Seen:83\n",
      "('https://listup.tistory.com/manage', 2)\n",
      "Queue:46 Seen:84\n",
      "('http://listup.tistory.com/tag', 2)\n",
      "Queue:45 Seen:85\n",
      "('http://listup.tistory.com/guestbook', 2)\n",
      "Queue:44 Seen:86\n",
      "('https://listup.tistory.com/rss', 2)\n",
      "Queue:43 Seen:87\n",
      "('http://listup.tistory.com/category', 2)\n",
      "Queue:42 Seen:88\n",
      "('http://listup.tistory.com/248', 2)\n",
      "Queue:41 Seen:89\n",
      "('http://listup.tistory.com/248#none', 2)\n",
      "Queue:40 Seen:90\n",
      "('http://listup.tistory.com/tag/%EB%B0%95%EB%B3%B4%EC%98%81', 2)\n",
      "Queue:39 Seen:91\n",
      "('http://listup.tistory.com/tag/%EB%B0%95%EB%B3%B4%EC%98%81%20%EB%82%98%EC%9D%B4', 2)\n",
      "Queue:38 Seen:92\n",
      "('http://listup.tistory.com/tag/%EB%B0%95%EB%B3%B4%EC%98%81%20%EB%93%9C%EB%9D%BC%EB%A7%88', 2)\n",
      "Queue:37 Seen:93\n",
      "('http://listup.tistory.com/tag/%EB%B0%95%EB%B3%B4%EC%98%81%20%EC%96%B4%EB%B9%84%EC%8A%A4', 2)\n",
      "Queue:36 Seen:94\n",
      "('http://listup.tistory.com/tag/%EB%B0%95%EB%B3%B4%EC%98%81%20%EC%9D%B8%EC%8A%A4%ED%83%80%EA%B7%B8%EB%9E%A8', 2)\n",
      "Queue:35 Seen:95\n",
      "('http://listup.tistory.com/tag/%EB%B0%95%EB%B3%B4%EC%98%81%20%ED%82%A4', 2)\n",
      "Queue:34 Seen:96\n",
      "('http://listup.tistory.com/249', 2)\n",
      "Queue:33 Seen:97\n",
      "('http://listup.tistory.com/321', 2)\n",
      "Queue:32 Seen:98\n",
      "('http://listup.tistory.com/253', 2)\n",
      "Queue:31 Seen:99\n",
      "('http://listup.tistory.com/251', 2)\n",
      "Queue:30 Seen:100\n",
      "('http://listup.tistory.com/250', 2)\n",
      "Queue:29 Seen:101\n",
      "('http://listup.tistory.com/247', 2)\n",
      "Queue:28 Seen:102\n",
      "('http://listup.tistory.com/246', 2)\n",
      "Queue:27 Seen:103\n",
      "('http://listup.tistory.com/245', 2)\n",
      "Queue:26 Seen:104\n",
      "('http://listup.tistory.com/244', 2)\n",
      "Queue:25 Seen:105\n",
      "('http://listup.tistory.com/4', 2)\n",
      "Queue:24 Seen:106\n",
      "('http://34344541.tistory.com/43#content', 2)\n",
      "Queue:23 Seen:107\n",
      "('http://34344541.tistory.com/', 2)\n",
      "Queue:22 Seen:108\n",
      "('http://34344541.tistory.com/tag', 2)\n",
      "Queue:21 Seen:109\n",
      "('http://34344541.tistory.com/guestbook', 2)\n",
      "Queue:20 Seen:110\n",
      "('http://34344541.tistory.com/45?category=0', 2)\n",
      "Queue:19 Seen:111\n",
      "('http://34344541.tistory.com/44?category=0', 2)\n",
      "Queue:18 Seen:112\n",
      "('http://34344541.tistory.com/42?category=0', 2)\n",
      "Queue:17 Seen:113\n",
      "('http://34344541.tistory.com/41?category=0', 2)\n",
      "Queue:16 Seen:114\n",
      "('http://34344541.tistory.com/44', 2)\n",
      "Queue:15 Seen:115\n",
      "('http://34344541.tistory.com/55', 2)\n",
      "Queue:14 Seen:116\n",
      "('http://34344541.tistory.com/47', 2)\n",
      "Queue:13 Seen:117\n",
      "('http://34344541.tistory.com/46', 2)\n",
      "Queue:12 Seen:118\n",
      "('http://34344541.tistory.com/45', 2)\n",
      "Queue:11 Seen:119\n",
      "('http://34344541.tistory.com/42', 2)\n",
      "Queue:10 Seen:120\n",
      "('http://34344541.tistory.com/41', 2)\n",
      "Queue:9 Seen:121\n",
      "('http://34344541.tistory.com/40', 2)\n"
     ]
    },
    {
     "name": "stdout",
     "output_type": "stream",
     "text": [
      "Queue:8 Seen:122\n",
      "('http://34344541.tistory.com/39', 2)\n",
      "Queue:7 Seen:123\n",
      "('http://34344541.tistory.com/1', 2)\n",
      "Queue:6 Seen:124\n",
      "('http://34344541.tistory.com/54', 2)\n",
      "Queue:5 Seen:125\n",
      "('http://34344541.tistory.com/53', 2)\n",
      "Queue:4 Seen:126\n",
      "('http://34344541.tistory.com/52', 2)\n",
      "Queue:3 Seen:127\n",
      "('http://34344541.tistory.com/51', 2)\n",
      "Queue:2 Seen:128\n",
      "('http://34344541.tistory.com/43', 2)\n",
      "Queue:1 Seen:129\n",
      "('https://34344541.tistory.com/manage', 2)\n",
      "Queue:0 Seen:130\n"
     ]
    }
   ],
   "source": [
    "queue = list()\n",
    "queue.extend([(_[\"href\"],1) for _ in dom.select(\"#blogColl a.f_link_b\")if checkBlog(_[\"href\"])])\n",
    "seen=list()\n",
    "print(queue)\n",
    "while queue:\n",
    "    baseURL = queue.pop(0)\n",
    "    print(baseURL)\n",
    "    seen.append(baseURL)\n",
    "    linkList = parseURL(baseURL)\n",
    "    for link in linkList:\n",
    "        if link not in queue and link not in seen:\n",
    "            queue.append(link)\n",
    "    print(\"Queue:{0} Seen:{1}\".format(len(queue),len(seen)))        \n",
    "    #queue.extend(linkList)"
   ]
  },
  {
   "cell_type": "code",
   "execution_count": null,
   "metadata": {},
   "outputs": [],
   "source": [
    "#linkList에 중복되는 애들이 있을 수 있다.\n",
    "#urljoin의 역할이 무엇인가??"
   ]
  },
  {
   "cell_type": "raw",
   "metadata": {},
   "source": [
    "https://www.google.com/search?q=%EB%B0%95%EB%B3%B4%EC%98%81&oq=%EB%B0%95%EB%B3%B4%EC%98%81&"
   ]
  },
  {
   "cell_type": "code",
   "execution_count": 28,
   "metadata": {},
   "outputs": [
    {
     "data": {
      "text/plain": [
       "ParseResult(scheme='https', netloc='blog.naver.com', path='/imagetech1', params='', query='Redirect=Log&logNo=221530358950', fragment='')"
      ]
     },
     "execution_count": 28,
     "metadata": {},
     "output_type": "execute_result"
    }
   ],
   "source": [
    "requests.compat.urlparse(\"https://blog.naver.com/imagetech1?Redirect=Log&logNo=221530358950\")"
   ]
  },
  {
   "cell_type": "code",
   "execution_count": 63,
   "metadata": {},
   "outputs": [],
   "source": [
    "def checkBlog(url):\n",
    "    return requests.compat.urlparse(url)[1].endswith(\"tistory.com\")"
   ]
  },
  {
   "cell_type": "code",
   "execution_count": 54,
   "metadata": {},
   "outputs": [],
   "source": [
    "html=download(\"get\",\"https://search.daum.net/search?w=tot&DA=YZR&t__nil_searchbox=btn&sug=&sugo=&q=%EB%B0%95%EB%B3%B4%EC%98%81\")\n",
    "dom=BeautifulSoup(html.text,\"lxml\")"
   ]
  },
  {
   "cell_type": "code",
   "execution_count": 55,
   "metadata": {},
   "outputs": [
    {
     "data": {
      "text/plain": [
       "['http://adam24eve.tistory.com/858',\n",
       " 'http://cscs0717.tistory.com/27',\n",
       " 'http://listup.tistory.com/248',\n",
       " 'http://34344541.tistory.com/43']"
      ]
     },
     "execution_count": 55,
     "metadata": {},
     "output_type": "execute_result"
    }
   ],
   "source": [
    "[_[\"href\"] for _ in dom.select(\"#blogColl a.f_link_b\") if checkBlog(_[\"href\"])]"
   ]
  },
  {
   "cell_type": "code",
   "execution_count": 71,
   "metadata": {},
   "outputs": [],
   "source": [
    "ll=[(1,\"a\"),(2,\"b\"),(3,\"c\"),(1,\"d\"),(1,\"e\"),(1,\"f\")]"
   ]
  },
  {
   "cell_type": "code",
   "execution_count": 72,
   "metadata": {},
   "outputs": [
    {
     "data": {
      "text/plain": [
       "(1, 'a')"
      ]
     },
     "execution_count": 72,
     "metadata": {},
     "output_type": "execute_result"
    }
   ],
   "source": [
    "ll[0]"
   ]
  },
  {
   "cell_type": "code",
   "execution_count": 73,
   "metadata": {},
   "outputs": [
    {
     "data": {
      "text/plain": [
       "1"
      ]
     },
     "execution_count": 73,
     "metadata": {},
     "output_type": "execute_result"
    }
   ],
   "source": [
    "ll[0][0]"
   ]
  },
  {
   "cell_type": "raw",
   "metadata": {},
   "source": [
    "pk를 문자열로 하면 안된다. 문자열이면 해시값을 만들지 못한다."
   ]
  },
  {
   "cell_type": "code",
   "execution_count": 77,
   "metadata": {},
   "outputs": [],
   "source": [
    "#db만들기 1.id 2.url 3.첫액세스 date 4. seen인지 아닌지 체크 ->최소 4개의 컬럼을 생성"
   ]
  },
  {
   "cell_type": "code",
   "execution_count": 78,
   "metadata": {},
   "outputs": [],
   "source": [
    "#특정 url을 가진애만 쓰고 싶을 때는 sql로 url을 건드려야한다. \n",
    "#string연산은 느리므로 테이블을 하나 더 생성한다\n",
    "#t1 id path seen data t2 id netloc date\n",
    "#t1과 t2를 조인하면 하나의 url이된다. t2에 특정 데이터만 써주면 된다.\n",
    "#url = netloc + path + params"
   ]
  },
  {
   "cell_type": "code",
   "execution_count": 13,
   "metadata": {},
   "outputs": [],
   "source": [
    "import sqlite3"
   ]
  },
  {
   "cell_type": "code",
   "execution_count": 14,
   "metadata": {},
   "outputs": [],
   "source": [
    "con = sqlite3.connect(\"botfin.db\")\n",
    "cur = con.cursor()"
   ]
  },
  {
   "cell_type": "code",
   "execution_count": 52,
   "metadata": {},
   "outputs": [],
   "source": [
    "def parseURL(seed):\n",
    "    html = download('get', seed)\n",
    "    dom = BeautifulSoup(html.text, 'lxml')\n",
    "    \n",
    "    return [requests.compat.urljoin(seed, _['href']) for _ in dom.find_all('a') \n",
    "            if _.has_attr('href') and not _['href'].startswith('#')]"
   ]
  },
  {
   "cell_type": "code",
   "execution_count": 15,
   "metadata": {},
   "outputs": [],
   "source": [
    "cur.executescript(\"\"\"\n",
    "    DROP TABLE IF EXISTS table1;\n",
    "    CREATE TABLE table1(\n",
    "        id INTEGER PRIMARY KEY AUTOINCREMENT NOT NULL,\n",
    "        table2_id INTEGER NOT NULL,\n",
    "        path TEXT NOT NULL,\n",
    "        param TEXT,\n",
    "        depth INTEGER NOT NULL,\n",
    "        inbound INTEGER NOT NULL,\n",
    "        seen BOOLEAN DEFAULT FALSE NOT NULL,\n",
    "        date TIMESTAMP DEFAULT CURRENT_TIMESTAMP NOT NULL\n",
    "    );\n",
    "    \n",
    "    DROP TABLE IF EXISTS table2;\n",
    "    CREATE TABLE table2(\n",
    "        id INTEGER PRIMARY KEY AUTOINCREMENT NOT NULL,\n",
    "        netloc TEXT NOT NULL,\n",
    "        date TIMESTAMP DEFAULT CURRENT_TIMESTAMP NOT NULL\n",
    "    );\n",
    "\n",
    "\"\"\")\n",
    "con.commit()"
   ]
  },
  {
   "cell_type": "code",
   "execution_count": 16,
   "metadata": {},
   "outputs": [
    {
     "name": "stdout",
     "output_type": "stream",
     "text": [
      "1 https://ko.wikipedia.org/wiki/%EB%B0%95%EB%B3%B4%EC%98%81\n",
      "2 https://ko.wikipedia.org/wiki/%EB%B0%95%EB%B3%B4%EC%98%81%EC%9D%98_%EC%9E%91%ED%92%88_%EB%AA%A9%EB%A1%9D\n",
      "3 https://news.joins.com/article/22895953\n",
      "4 https://twitter.com/hashtag/%EB%B0%95%EB%B3%B4%EC%98%81\n",
      "5 https://movie.daum.net/person/main?personId=105244\n",
      "6 http://m.cafe.daum.net/parkboyoungfd\n",
      "7 https://www.msn.com/ko-kr/entertainment/news/%EB%B0%95%EB%B3%B4%EC%98%81-tvn-%EB%93%9C%EB%9D%BC%EB%A7%88-%EC%96%B4%EB%B9%84%EC%8A%A4-%EC%97%AC%EC%A3%BC%EC%9D%B8%EA%B3%B5/ar-BBLZzVh\n",
      "8 https://www.msn.com/ko-kr/entertainment/news/%EB%84%88%EC%9D%98-%EA%B2%B0%ED%98%BC%EC%8B%9D-%E2%86%92-%EC%96%B4%EB%B9%84%EC%8A%A4-%EB%B0%95%EB%B3%B4%EC%98%81-%EA%B7%BC%ED%99%A9-%EC%82%B4%ED%8E%B4%EB%B3%B4%EB%8B%88%E2%80%A6%E2%80%9C%EC%97%AC%EC%A0%84%ED%9E%88-%EB%BD%80%EB%B8%94%EB%A6%AC%E2%80%9D/ar-BBUOmqm\n"
     ]
    }
   ],
   "source": [
    "headers ={\"user-agent\":\"#Mozilla/5.0 (Windows NT 10.0; Win64; x64) AppleWebKit/537.36 (KHTML, like Gecko) Chrome/75.0.3770.100 Safari/537.36\"}\n",
    "html = download(\"get\",\"https://www.google.com/search?q=%EB%B0%95%EB%B3%B4%EC%98%81\")\n",
    "dom = BeautifulSoup(html.text,\"lxml\")\n",
    "\n",
    "for href in [_.find_parent()[\"href\"] for _ in dom.select(\".LC20lb\")]:\n",
    "    _urlparse=requests.compat.urlparse(href)\n",
    "    netloc=\"://\".join(_urlparse[:2])\n",
    "    cur.execute(\"SELECT id FROM table2 WHERE netloc =? LIMIT 0,1\",[netloc])\n",
    "    netlocID =cur.fetchone()\n",
    "    if not cur.fetchone():\n",
    "        cur.execute(\"INSERT INTO table2(netloc) VALUES(?)\",[netloc])\n",
    "        con.commit()\n",
    "        cur.execute(\"SELECT id FROM table2 WHERE netloc=? LIMIT 0,1\",[netloc])\n",
    "        netlocID =cur.fetchone()\n",
    "        \n",
    "    cur.execute(\"INSERT INTO table1(table2_id,path,param,depth,inbound) VALUES(?,?,?,?,?)\",[netlocID[0], _urlparse[2], _urlparse[4],1,0])   \n",
    "    print(cur.lastrowid, href)\n",
    "    con.commit()    \n",
    "\n",
    "#seed url -> db insert db select limit 0,1"
   ]
  },
  {
   "cell_type": "code",
   "execution_count": 33,
   "metadata": {},
   "outputs": [
    {
     "name": "stdout",
     "output_type": "stream",
     "text": [
      "1\n",
      "2\n",
      "3\n"
     ]
    }
   ],
   "source": [
    "i = 0\n",
    "while True:\n",
    "    # seen=FASLE인 것의 정보를 가져온다.\n",
    "    # 먼저 들어간 애가 먼저 나오게 한다. \n",
    "    cur.execute(\"\"\"\n",
    "        SELECT table1.id, table2.netloc, table1.path, table1.param , table1.depth, table2.id\n",
    "        FROM table1 \n",
    "        JOIN table2 \n",
    "            ON table1.table2_id = table2.id \n",
    "        WHERE table1.seen='FALSE' and table1.depth < 3\n",
    "        ORDER BY table1.date ASC \n",
    "        LIMIT 0,1;\n",
    "    \"\"\")\n",
    "    seed = cur.fetchone()\n",
    "    #seed가 없으면 종료(i가 1000을 넘으면 종료)\n",
    "    if not seed or i > 100:\n",
    "        break;\n",
    "    i+=1\n",
    "    print(i)\n",
    "        \n",
    "   # DB에 seen=FALSE인 것을 불러와서 볼 것이니까 TRUE로 전환\n",
    "    cur.execute(\"\"\"\n",
    "        UPDATE table1\n",
    "        SET seen='TRUE'\n",
    "        WHERE id=?\n",
    "    \"\"\", [seed[0]])\n",
    "    con.commit()\n",
    "    \n",
    "    # 보려는 주소 조합하기\n",
    "    baseURL = \"{0}{1}?{2}\".format(seed[1], seed[2], seed[3])\n",
    "    \n",
    "#     # 보고 있는 곳의 링크들을 가져와서 저장한다.\n",
    "#     for href in parseURL(baseURL):\n",
    "#         _urlparse = requests.compat.urlparse(href)\n",
    "#         netloc = \"://\".join(_urlparse[:2])\n",
    "#         cur.execute(\"SELECT id FROM table2 WHERE netloc=? LIMIT 0,1\", [netloc])\n",
    "#         netlocID = cur.fetchone()\n",
    "#         if not netlocID:\n",
    "#             cur.execute(\"INSERT INTO table2(netloc) VALUES(?)\",[netloc])\n",
    "#             con.commit()\n",
    "        \n",
    "#             cur.execute(\"SELECT id FROM table2 WHERE netloc=? LIMIT 0,1\", [netloc])\n",
    "#             netlocID = cur.fetchone()\n",
    "    \n",
    "#         cur.execute(\"INSERT INTO table1(table2_id, path, param, depth, inbound) VALUES(?, ?, ?, ?, ?)\",[netlocID[0], _urlparse[2], _urlparse[4], seed[4]+1, seed[5]])\n",
    "#         con.commit()"
   ]
  },
  {
   "cell_type": "code",
   "execution_count": 41,
   "metadata": {},
   "outputs": [],
   "source": [
    "cur.close()\n",
    "con.close()"
   ]
  },
  {
   "cell_type": "code",
   "execution_count": 147,
   "metadata": {},
   "outputs": [
    {
     "data": {
      "text/plain": [
       "<sqlite3.Cursor at 0x1484baa3dc0>"
      ]
     },
     "execution_count": 147,
     "metadata": {},
     "output_type": "execute_result"
    }
   ],
   "source": [
    "cur.execute(\"SELECT inbound,count(inbound) FROM table1 WHERE table2_id=9 GROUP BY inbound\")"
   ]
  },
  {
   "cell_type": "code",
   "execution_count": 148,
   "metadata": {},
   "outputs": [
    {
     "data": {
      "text/plain": [
       "[(0, 1), (2, 2), (4, 1), (5, 1), (6, 1), (7, 1), (8, 1), (9, 9)]"
      ]
     },
     "execution_count": 148,
     "metadata": {},
     "output_type": "execute_result"
    }
   ],
   "source": [
    "cur.fetchall()"
   ]
  },
  {
   "cell_type": "code",
   "execution_count": 149,
   "metadata": {},
   "outputs": [
    {
     "data": {
      "text/plain": [
       "[(2,)]"
      ]
     },
     "execution_count": 149,
     "metadata": {},
     "output_type": "execute_result"
    }
   ],
   "source": [
    "cur.execute(\"SELECT count(inbound) FROM table1 WHERE inbound=2\")\n",
    "cur.fetchall()"
   ]
  },
  {
   "cell_type": "code",
   "execution_count": null,
   "metadata": {},
   "outputs": [],
   "source": []
  },
  {
   "cell_type": "code",
   "execution_count": 23,
   "metadata": {},
   "outputs": [],
   "source": [
    "\n",
    "def parseURL(seed):\n",
    "    html = download(\"get\",seed[0])\n",
    "    dom = BeautifulSoup(html.text, \"lxml\")\n",
    "   \n",
    "    return  [(requests.compat.urljoin(seed[0], _[\"href\"]) ,seed[1]+1) for _ in dom.find_all(\"a\") if seed[1] < 2 and _.has_attr(\"href\") and len(_[\"href\"])  and checkBlog(requests.compat.urljoin(seed[0], _[\"href\"]))]"
   ]
  },
  {
   "cell_type": "code",
   "execution_count": null,
   "metadata": {},
   "outputs": [],
   "source": []
  }
 ],
 "metadata": {
  "kernelspec": {
   "display_name": "Python 3",
   "language": "python",
   "name": "python3"
  },
  "language_info": {
   "codemirror_mode": {
    "name": "ipython",
    "version": 3
   },
   "file_extension": ".py",
   "mimetype": "text/x-python",
   "name": "python",
   "nbconvert_exporter": "python",
   "pygments_lexer": "ipython3",
   "version": "3.6.4"
  }
 },
 "nbformat": 4,
 "nbformat_minor": 2
}
