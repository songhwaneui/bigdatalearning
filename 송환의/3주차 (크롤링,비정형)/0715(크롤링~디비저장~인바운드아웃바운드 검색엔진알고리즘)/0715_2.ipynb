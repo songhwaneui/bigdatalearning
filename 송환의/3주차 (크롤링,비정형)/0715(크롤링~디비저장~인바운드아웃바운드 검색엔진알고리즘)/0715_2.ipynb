{
 "cells": [
  {
   "cell_type": "code",
   "execution_count": null,
   "metadata": {},
   "outputs": [],
   "source": [
    "## 특정도메인내 특정주소에서만 도는거 포커스드크롤링"
   ]
  },
  {
   "cell_type": "code",
   "execution_count": null,
   "metadata": {},
   "outputs": [],
   "source": [
    "from urllib import *\n",
    "from html import unescape\n",
    "import requests\n",
    "import json \n",
    "headers={\"user-agent\":\"Mozilla/5.0 (Windows NT 10.0; Win64; x64) AppleWebKit/537.36 (KHTML, like Gecko) Chrome/75.0.3770.100 Safari/537.36\"}\n",
    "import requests\n",
    "import time\n",
    "import bs4\n",
    "from bs4 import BeautifulSoup\n",
    "import re\n",
    "import time"
   ]
  },
  {
   "cell_type": "code",
   "execution_count": null,
   "metadata": {},
   "outputs": [],
   "source": [
    "\n",
    "\n",
    "def download(method, url, \n",
    "             param = None, data = None, \n",
    "            timeout = 1,maxretries = 3):\n",
    "    \n",
    "    headers = {'user-agent': 'Mozilla/5.0 (Windows NT 10.0; Win64; x64) AppleWebKit/537.36 (KHTML, like Gecko) Chrome/75.0.3770.100 Safari/537.36'}\n",
    "    #headers = None\n",
    "    \n",
    "    try:\n",
    "        resp = requests.request(method, url, params= param, data=data, headers=headers)\n",
    "        resp.raise_for_status()\n",
    "        \n",
    "    except requests.exceptions.HTTPError as e:\n",
    "        if 500 <= e.response.status_code < 600 and maxretries > 0: \n",
    "            time.sleep(timeout) # param에따라 몇초 기다릴지 결정 할 수가 있다.\n",
    "            print(maxretries) # 재귀적으로 자기 자신을 부르게 코드를 짜면 된다.\n",
    "            resp = download(method,\n",
    "                            url, param = param, data=data,\n",
    "                            timeout=timeout,\n",
    "                            maxretries = maxretries - 1)\n",
    "        else:\n",
    "            print(e.response.status_code)\n",
    "            print(e.response.reason)\n",
    "    return resp"
   ]
  },
  {
   "cell_type": "code",
   "execution_count": null,
   "metadata": {},
   "outputs": [],
   "source": [
    "def checkBlog(url):\n",
    "    return requests.compat.urlparse(url)[1] == \"blog.naver.com\"\n",
    "\n",
    "## 이 주소만 가져오도록 focoused crawalling "
   ]
  },
  {
   "cell_type": "code",
   "execution_count": null,
   "metadata": {},
   "outputs": [],
   "source": [
    "## db로 바꾸면 스키마를 어떻게 짜야하는지 생각하기 틈틈히"
   ]
  },
  {
   "cell_type": "code",
   "execution_count": null,
   "metadata": {},
   "outputs": [],
   "source": []
  },
  {
   "cell_type": "code",
   "execution_count": null,
   "metadata": {},
   "outputs": [],
   "source": [
    "[_[\"href\"] for _ in dom.select(\"a.sh_blog_title._sp_each_url._sp_each_title\") if checkBlog(_[\"href\"])]"
   ]
  },
  {
   "cell_type": "code",
   "execution_count": null,
   "metadata": {},
   "outputs": [],
   "source": [
    "requests.compat.urlparse('https://blog.naver.com/imagetech1?Redirect=Log&logNo=221530358950')"
   ]
  },
  {
   "cell_type": "code",
   "execution_count": null,
   "metadata": {},
   "outputs": [],
   "source": []
  },
  {
   "cell_type": "code",
   "execution_count": null,
   "metadata": {},
   "outputs": [],
   "source": [
    "checkBlog('https://blog.naver.com/imagetech1?Redirect=Log&logNo=221530358950')"
   ]
  },
  {
   "cell_type": "code",
   "execution_count": null,
   "metadata": {},
   "outputs": [],
   "source": []
  },
  {
   "cell_type": "code",
   "execution_count": null,
   "metadata": {},
   "outputs": [],
   "source": []
  },
  {
   "cell_type": "code",
   "execution_count": null,
   "metadata": {},
   "outputs": [],
   "source": []
  },
  {
   "cell_type": "code",
   "execution_count": 4,
   "metadata": {},
   "outputs": [],
   "source": [
    "html = download(\"get\",\"https://search.naver.com/search.naver?sm=top_hty&fbm=1&ie=utf8&query=%EB%B0%95%EB%B3%B4%EC%98%81\")\n",
    "dom = BeautifulSoup(html.text, \"lxml\")"
   ]
  },
  {
   "cell_type": "code",
   "execution_count": 5,
   "metadata": {},
   "outputs": [],
   "source": [
    "\n",
    "def parseURL(seed):\n",
    "    html = download(\"get\",seed)\n",
    "    dom = BeautifulSoup(html.text, \"lxml\")\n",
    "    \n",
    "    ## naver iframe html안에 html 또들어있어서\n",
    "    if len(dom.select(\"#mainFrame\")) < 1:  ## 메인이랑, 첫페이지만 없음\n",
    "        return []\n",
    "    \n",
    "   \n",
    "    seed = requests.compat.urljoin(seed,dom.select(\"#mainFrame\")[0][\"src\"])\n",
    "    print(\"-=================================================\")\n",
    "    print(seed)\n",
    "    print(\"-=================================================\")\n",
    "    html = download(\"get\",seed)\n",
    "    dom = BeautifulSoup(html.text, \"lxml\")\n",
    "    \n",
    "\n",
    "    return  [requests.compat.urljoin(seed, _[\"href\"]) for _ in dom.find_all(\"a\") if  _.has_attr(\"href\") and len(_[\"href\"]) >3 and checkBlog(requests.compat.urljoin(seed, _[\"href\"]))]\n"
   ]
  },
  {
   "cell_type": "code",
   "execution_count": 6,
   "metadata": {},
   "outputs": [
    {
     "name": "stdout",
     "output_type": "stream",
     "text": [
      "https://blog.naver.com/imagetech1?Redirect=Log&logNo=221530358950\n",
      "-=================================================\n",
      "https://blog.naver.com/PostView.nhn?blogId=imagetech1&logNo=221530358950&from=search&redirect=Log&widgetTypeCall=true&directAccess=false\n",
      "-=================================================\n",
      "Queue: 17, Seen: 1\n",
      "https://blog.naver.com/js2y86?Redirect=Log&logNo=221530397718\n",
      "-=================================================\n",
      "https://blog.naver.com/PostView.nhn?blogId=js2y86&logNo=221530397718&from=search&redirect=Log&widgetTypeCall=true&directAccess=false\n",
      "-=================================================\n",
      "Queue: 32, Seen: 2\n",
      "https://blog.naver.com/dlqlwm14?Redirect=Log&logNo=221529807195\n",
      "-=================================================\n",
      "https://blog.naver.com/PostView.nhn?blogId=dlqlwm14&logNo=221529807195&from=search&redirect=Log&widgetTypeCall=true&directAccess=false\n",
      "-=================================================\n",
      "Queue: 48, Seen: 3\n",
      "https://blog.naver.com\n",
      "Queue: 47, Seen: 4\n",
      "https://blog.naver.com/prologue/PrologueList.nhn?blogId=imagetech1\n",
      "Queue: 46, Seen: 5\n",
      "https://blog.naver.com/PostView.nhn?blogId=imagetech1&logNo=221530358950&from=search&redirect=Log&widgetTypeCall=true&directAccess=false#blog-menu\n",
      "Queue: 45, Seen: 6\n",
      "https://blog.naver.com/PostView.nhn?blogId=imagetech1&logNo=221530358950&from=search&redirect=Log&widgetTypeCall=true&directAccess=false#post_1\n",
      "Queue: 44, Seen: 7\n",
      "https://blog.naver.com/MyBlog.nhn\n",
      "Queue: 43, Seen: 8\n",
      "https://blog.naver.com/prologue/PrologueList.nhn?blogId=imagetech1&skinType=&skinId=&from=menu\n",
      "Queue: 42, Seen: 9\n",
      "https://blog.naver.com/PostList.nhn?blogId=imagetech1&skinType=&skinId=&from=menu\n",
      "Queue: 41, Seen: 10\n",
      "https://blog.naver.com/PostList.nhn?blogId=imagetech1&categoryNo=108&skinType=&skinId=&from=menu\n",
      "Queue: 40, Seen: 11\n",
      "https://blog.naver.com/PostList.nhn?blogId=imagetech1&categoryNo=109&skinType=&skinId=&from=menu\n",
      "Queue: 39, Seen: 12\n",
      "https://blog.naver.com/PostView.nhn?blogId=imagetech1&logNo=221460476188&categoryNo=98&parentCategoryNo=114&viewDate=&currentPage=&postListTopCurrentPage=&isAfterWrite=true\n",
      "Queue: 38, Seen: 13\n",
      "https://blog.naver.com/PostList.nhn?blogId=imagetech1&categoryNo=113&from=postList&parentCategoryNo=113\n",
      "Queue: 37, Seen: 14\n",
      "https://blog.naver.com/imagetech1\n",
      "-=================================================\n",
      "https://blog.naver.com/prologue/PrologueList.nhn?blogId=imagetech1&&directAccess=true\n",
      "-=================================================\n",
      "Queue: 64, Seen: 15\n",
      "https://blog.naver.com/PostList.nhn?blogId=imagetech1&categoryNo=113&from=postList&parentCategoryNo=0\n",
      "Queue: 63, Seen: 16\n",
      "https://blog.naver.com/FILEPATH\n",
      "404\n",
      "Not Found\n",
      "Queue: 62, Seen: 17\n",
      "https://blog.naver.com/PostView.nhn?blogId=imagetech1&logNo=221530358950&from=search&redirect=Log&widgetTypeCall=true&directAccess=false#BtnCLose\n",
      "Queue: 61, Seen: 18\n",
      "https://blog.naver.com/prologue/PrologueList.nhn?blogId=js2y86\n",
      "Queue: 60, Seen: 19\n",
      "https://blog.naver.com/PostView.nhn?blogId=js2y86&logNo=221530397718&from=search&redirect=Log&widgetTypeCall=true&directAccess=false#blog-menu\n",
      "Queue: 59, Seen: 20\n",
      "https://blog.naver.com/PostView.nhn?blogId=js2y86&logNo=221530397718&from=search&redirect=Log&widgetTypeCall=true&directAccess=false#post_1\n",
      "Queue: 58, Seen: 21\n",
      "https://blog.naver.com/prologue/PrologueList.nhn?blogId=js2y86&skinType=&skinId=&from=menu\n",
      "Queue: 57, Seen: 22\n",
      "https://blog.naver.com/PostList.nhn?blogId=js2y86&categoryNo=1&skinType=&skinId=&from=menu\n",
      "Queue: 56, Seen: 23\n",
      "https://blog.naver.com/PostList.nhn?blogId=js2y86&categoryNo=8&skinType=&skinId=&from=menu\n",
      "Queue: 55, Seen: 24\n",
      "https://blog.naver.com/PostList.nhn?blogId=js2y86&categoryNo=27&skinType=&skinId=&from=menu\n",
      "Queue: 54, Seen: 25\n",
      "https://blog.naver.com/PostList.nhn?blogId=js2y86&categoryNo=71&skinType=&skinId=&from=menu\n",
      "Queue: 53, Seen: 26\n",
      "https://blog.naver.com/PostList.nhn?blogId=js2y86&categoryNo=62&skinType=&skinId=&from=menu\n",
      "Queue: 52, Seen: 27\n",
      "https://blog.naver.com/memo/MemologPostList.nhn?blogId=js2y86&Redirect=MemoList&skinType=&skinId=&from=menu\n",
      "Queue: 51, Seen: 28\n",
      "https://blog.naver.com/BlogPrivateTagCloud.nhn?blogId=js2y86&Redirect=Dtagcloud&skinType=&skinId=&from=menu\n",
      "Queue: 50, Seen: 29\n",
      "https://blog.naver.com/prologue/PrologueList.nhn?blogId=js2y86&categoryNo=1\n",
      "Queue: 49, Seen: 30\n",
      "https://blog.naver.com/PostList.nhn?blogId=js2y86&categoryNo=19&from=postList\n",
      "Queue: 48, Seen: 31\n",
      "https://blog.naver.com/js2y86\n",
      "-=================================================\n",
      "https://blog.naver.com/prologue/PrologueList.nhn?blogId=js2y86&&directAccess=true\n",
      "-=================================================\n",
      "Queue: 64, Seen: 32\n",
      "https://blog.naver.com/PostList.nhn?blogId=js2y86&categoryNo=19&from=postList&parentCategoryNo=0\n",
      "Queue: 63, Seen: 33\n",
      "https://blog.naver.com/PostView.nhn?blogId=js2y86&logNo=221530397718&from=search&redirect=Log&widgetTypeCall=true&directAccess=false#BtnCLose\n",
      "Queue: 62, Seen: 34\n",
      "https://blog.naver.com/PostList.nhn?blogId=dlqlwm14\n",
      "Queue: 61, Seen: 35\n",
      "https://blog.naver.com/PostView.nhn?blogId=dlqlwm14&logNo=221529807195&from=search&redirect=Log&widgetTypeCall=true&directAccess=false#blog-menu\n",
      "Queue: 60, Seen: 36\n",
      "https://blog.naver.com/PostView.nhn?blogId=dlqlwm14&logNo=221529807195&from=search&redirect=Log&widgetTypeCall=true&directAccess=false#post_1\n",
      "Queue: 59, Seen: 37\n",
      "https://blog.naver.com/prologue/PrologueList.nhn?blogId=dlqlwm14&skinType=&skinId=&from=menu\n",
      "Queue: 58, Seen: 38\n",
      "https://blog.naver.com/PostList.nhn?blogId=dlqlwm14&skinType=&skinId=&from=menu\n",
      "Queue: 57, Seen: 39\n",
      "https://blog.naver.com/PostList.nhn?blogId=dlqlwm14&categoryNo=20&skinType=&skinId=&from=menu\n",
      "Queue: 56, Seen: 40\n",
      "https://blog.naver.com/PostList.nhn?blogId=dlqlwm14&categoryNo=1&parentCategoryNo=1&skinType=&skinId=&from=menu\n",
      "Queue: 55, Seen: 41\n",
      "https://blog.naver.com/PostList.nhn?blogId=dlqlwm14&categoryNo=27&parentCategoryNo=27&skinType=&skinId=&from=menu\n",
      "Queue: 54, Seen: 42\n",
      "https://blog.naver.com/PostList.nhn?blogId=dlqlwm14&categoryNo=10&parentCategoryNo=10&skinType=&skinId=&from=menu\n",
      "Queue: 53, Seen: 43\n",
      "https://blog.naver.com/mapview/MapView.nhn?blogId=dlqlwm14&skinType=&skinId=&from=menu\n",
      "Queue: 52, Seen: 44\n",
      "https://blog.naver.com/PostView.nhn?blogId=dlqlwm14&logNo=220543334886&categoryNo=20&parentCategoryNo=-1&viewDate=&currentPage=&postListTopCurrentPage=&isAfterWrite=true\n",
      "Queue: 51, Seen: 45\n",
      "https://blog.naver.com/PostView.nhn?blogId=dlqlwm14&logNo=220428316411&categoryNo=20&parentCategoryNo=-1&viewDate=&currentPage=&postListTopCurrentPage=&isAfterWrite=true\n",
      "Queue: 50, Seen: 46\n",
      "https://blog.naver.com/PostView.nhn?blogId=dlqlwm14&logNo=220274186328&categoryNo=20&parentCategoryNo=-1&viewDate=&currentPage=&postListTopCurrentPage=&isAfterWrite=true\n",
      "Queue: 49, Seen: 47\n",
      "https://blog.naver.com/PostList.nhn?blogId=dlqlwm14&categoryNo=24&from=postList\n",
      "Queue: 48, Seen: 48\n",
      "https://blog.naver.com/dlqlwm14\n",
      "-=================================================\n",
      "https://blog.naver.com/PostList.nhn?blogId=dlqlwm14&widgetTypeCall=true&directAccess=true\n",
      "-=================================================\n",
      "Queue: 52, Seen: 49\n",
      "https://blog.naver.com/PostList.nhn?blogId=dlqlwm14&categoryNo=24&from=postList&parentCategoryNo=0\n",
      "Queue: 51, Seen: 50\n",
      "https://blog.naver.com/PostView.nhn?blogId=dlqlwm14&logNo=221529807195&from=search&redirect=Log&widgetTypeCall=true&directAccess=false#BtnCLose\n",
      "Queue: 50, Seen: 51\n",
      "https://blog.naver.com/prologue/PrologueList.nhn?blogId=imagetech1&&directAccess=true#blog-menu\n",
      "Queue: 49, Seen: 52\n",
      "https://blog.naver.com/prologue/PrologueList.nhn?blogId=imagetech1&&directAccess=true#post_1\n",
      "Queue: 48, Seen: 53\n",
      "https://blog.naver.com/PostView.nhn?blogId=imagetech1&logNo=221576064253&redirect=Dlog\n",
      "Queue: 47, Seen: 54\n",
      "https://blog.naver.com/PostView.nhn?blogId=imagetech1&logNo=221573719245&redirect=Dlog\n"
     ]
    },
    {
     "ename": "KeyboardInterrupt",
     "evalue": "",
     "output_type": "error",
     "traceback": [
      "\u001b[1;31m---------------------------------------------------------------------------\u001b[0m",
      "\u001b[1;31mKeyboardInterrupt\u001b[0m                         Traceback (most recent call last)",
      "\u001b[1;32m<ipython-input-6-bdedb8e53198>\u001b[0m in \u001b[0;36m<module>\u001b[1;34m()\u001b[0m\n\u001b[0;32m      8\u001b[0m     \u001b[0mseen\u001b[0m\u001b[1;33m.\u001b[0m\u001b[0mappend\u001b[0m\u001b[1;33m(\u001b[0m\u001b[0mbaseURL\u001b[0m\u001b[1;33m)\u001b[0m\u001b[1;33m\u001b[0m\u001b[0m\n\u001b[0;32m      9\u001b[0m     \u001b[1;31m# 슬립\u001b[0m\u001b[1;33m\u001b[0m\u001b[1;33m\u001b[0m\u001b[0m\n\u001b[1;32m---> 10\u001b[1;33m     \u001b[0mtime\u001b[0m\u001b[1;33m.\u001b[0m\u001b[0msleep\u001b[0m\u001b[1;33m(\u001b[0m\u001b[1;36m1\u001b[0m\u001b[1;33m)\u001b[0m\u001b[1;33m\u001b[0m\u001b[0m\n\u001b[0m\u001b[0;32m     11\u001b[0m     \u001b[0mlinkList\u001b[0m \u001b[1;33m=\u001b[0m \u001b[0mparseURL\u001b[0m\u001b[1;33m(\u001b[0m\u001b[0mbaseURL\u001b[0m\u001b[1;33m)\u001b[0m \u001b[1;31m# 중복된 url 계속 생김 re??\u001b[0m\u001b[1;33m\u001b[0m\u001b[0m\n\u001b[0;32m     12\u001b[0m \u001b[1;33m\u001b[0m\u001b[0m\n",
      "\u001b[1;31mKeyboardInterrupt\u001b[0m: "
     ]
    }
   ],
   "source": [
    "queue = list() ##하나 생김\n",
    "queue.extend( [_[\"href\"] for _ in dom.select(\"a.sh_blog_title._sp_each_url._sp_each_title\") if checkBlog(_[\"href\"])])\n",
    "seen = list()\n",
    "while queue :\n",
    "    baseURL = queue.pop(0)  ##지금 너비우선\n",
    "                            ##pop(0)을 깊이우선 -1로 바꿔서 depth 를 정해놓고 or 특정도메인내에서만 => 포커스드크롤링\n",
    "    print(baseURL)\n",
    "    seen.append(baseURL)\n",
    "    # 슬립 \n",
    "    time.sleep(1)\n",
    "    linkList = parseURL(baseURL) # 중복된 url 계속 생김 re??\n",
    " \n",
    "    for link in linkList:\n",
    "        if link not in queue and link not in seen:\n",
    "            queue.append(link)\n",
    "    print(\"Queue: {0}, Seen: {1}\".format(len(queue), len(seen)))\n",
    "  ##  queue.extend(linkList)\n",
    "    \n",
    "    #새로운 url queue 보고알고, 얼마나 방문했는지 Seen q보면암\n",
    "    ## 큐의 사이즈 무한정으로 늘어남\n",
    "    ## queue,랑 seen합쳐야 400개정도 나옴\n",
    "\n",
    "\n",
    "    ##파이썬이니까 코드가 짧다."
   ]
  },
  {
   "cell_type": "code",
   "execution_count": null,
   "metadata": {},
   "outputs": [],
   "source": []
  },
  {
   "cell_type": "code",
   "execution_count": null,
   "metadata": {},
   "outputs": [],
   "source": []
  },
  {
   "cell_type": "code",
   "execution_count": null,
   "metadata": {},
   "outputs": [],
   "source": [
    "\n"
   ]
  }
 ],
 "metadata": {
  "kernelspec": {
   "display_name": "Python 3",
   "language": "python",
   "name": "python3"
  },
  "language_info": {
   "codemirror_mode": {
    "name": "ipython",
    "version": 3
   },
   "file_extension": ".py",
   "mimetype": "text/x-python",
   "name": "python",
   "nbconvert_exporter": "python",
   "pygments_lexer": "ipython3",
   "version": "3.6.4"
  }
 },
 "nbformat": 4,
 "nbformat_minor": 2
}
