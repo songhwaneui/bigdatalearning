{
 "cells": [
  {
   "cell_type": "code",
   "execution_count": 1,
   "metadata": {},
   "outputs": [],
   "source": [
    "from selenium import webdriver\n",
    "\n",
    "driver = webdriver.Chrome()\n",
    "# 창끄면 핸들러 잃어버림\n",
    "# driver.close()"
   ]
  },
  {
   "cell_type": "code",
   "execution_count": null,
   "metadata": {},
   "outputs": [],
   "source": []
  },
  {
   "cell_type": "code",
   "execution_count": 2,
   "metadata": {},
   "outputs": [],
   "source": [
    "driver.get(\"https://news.naver.com/\")\n"
   ]
  },
  {
   "cell_type": "code",
   "execution_count": 27,
   "metadata": {},
   "outputs": [],
   "source": [
    "######## 1번 방식 링크들어가서 제목, 내용 한번에 스크래핑\n",
    "## 원래 스크래핑은 이렇게 하는것이다 이런식으로 해야함"
   ]
  },
  {
   "cell_type": "code",
   "execution_count": 44,
   "metadata": {},
   "outputs": [],
   "source": [
    "\n",
    "con = sqlite3.connect(\"news_no_1.db\")\n",
    "cur = con.cursor()\n",
    "\n",
    "cur.executescript(\"\"\"\n",
    "    DROP TABLE IF EXISTS table1;\n",
    "    CREATE TABLE table1(\n",
    "        id INTEGER PRIMARY KEY AUTOINCREMENT NOT NULL,\n",
    "        title TEXT NOT NULL,\n",
    "        url TEXT NOT NULL\n",
    "    );\n",
    "    \n",
    "    DROP TABLE IF EXISTS table2;\n",
    "    CREATE TABLE table2(\n",
    "        id INTEGER PRIMARY KEY AUTOINCREMENT NOT NULL,\n",
    "        table1_id INTEGER NOT NULL,\n",
    "        content TEXT NOT NULL\n",
    "    );\n",
    "\n",
    "\"\"\")\n",
    "con.commit()\n",
    "\n",
    "driver.get(\"https://news.naver.com\")\n",
    "\n",
    "for _ in driver.find_elements_by_css_selector(\".hdline_news .hdline_article_tit > a, .com_list li > a\"):\n",
    "    if len(_.get_attribute(\"href\"))>1:\n",
    "        cur.execute(\"INSERT INTO table1(title,url) VALUES(?,?)\",[_.text, _.get_attribute(\"href\")])\n",
    "        con.commit()\n",
    "        \n",
    "cur.execute(\"SELECT * FROM table1\") \n",
    "for _ in cur.fetchall():\n",
    "    driver.get(_[2])\n",
    "    \n",
    "    cur.execute(\"INSERT INTO table2(table1_id, content) VALUES(?,?)\",[_[0],driver.find_element_by_css_selector(\"#articleBodyContents\").text])\n",
    "    con.commit()"
   ]
  },
  {
   "cell_type": "code",
   "execution_count": null,
   "metadata": {},
   "outputs": [],
   "source": []
  },
  {
   "cell_type": "code",
   "execution_count": null,
   "metadata": {},
   "outputs": [],
   "source": []
  },
  {
   "cell_type": "code",
   "execution_count": null,
   "metadata": {},
   "outputs": [],
   "source": []
  },
  {
   "cell_type": "code",
   "execution_count": null,
   "metadata": {},
   "outputs": [],
   "source": [
    "####### 2번 방식 제목갔다가 본문갔다가 왔다갔다하면서 데이터 스크래핑\n",
    "####### ajax 동기식으로 하는거 연습해볼려고 해본거다."
   ]
  },
  {
   "cell_type": "code",
   "execution_count": null,
   "metadata": {},
   "outputs": [],
   "source": [
    "import sqlite3\n",
    "con = sqlite3.connect(\"news_no_2.db\")\n",
    "cur = con.cursor()\n",
    "\n",
    "cur.executescript(\"\"\"\n",
    "    DROP TABLE IF EXISTS table1;\n",
    "    CREATE TABLE table1(\n",
    "        id INTEGER PRIMARY KEY AUTOINCREMENT NOT NULL,\n",
    "        title TEXT NOT NULL,\n",
    "        url TEXT NOT NULL\n",
    "    );\n",
    "    \n",
    "    DROP TABLE IF EXISTS table2;\n",
    "    CREATE TABLE table2(\n",
    "        id INTEGER PRIMARY KEY AUTOINCREMENT NOT NULL,\n",
    "        table1_id INTEGER NOT NULL,\n",
    "        content TEXT NOT NULL\n",
    "    );\n",
    "\n",
    "\"\"\")\n",
    "con.commit()"
   ]
  },
  {
   "cell_type": "code",
   "execution_count": 36,
   "metadata": {
    "scrolled": true
   },
   "outputs": [
    {
     "name": "stdout",
     "output_type": "stream",
     "text": [
      "\"다스 소송비, MB에 자금 지원 의미\"…이학수 또 증언\n",
      "임협 재개 불구 파업 가결로 현대중 노사 '가시밭길'\n",
      "민주평화당 분당 수순…박지원 의원, 사실상 '신당 선언'\n",
      "조희연, 자사고 폐지 ‘속도전’… 대책은 재탕\n",
      "'성폭행 피소' 김준기, 치료 핑계 美 체류…신병 인도 요청\n",
      "[팩트체크K] “강제 동원 판결, 노무현 정부 결정 뒤집었다”…사실은?\n",
      "“일본판 기사에 ‘혐한’ 제목”…靑, 조선·중앙 공개 비판\n",
      "[포커스] 한국당 '총선 필패론' 위기감…2030에 '비호감' 낙인\n",
      "2~3주내 협상 시작한다더니…트럼프 \"시간은 본질 아냐\"\n",
      "청와대, 조선·중앙일보 향해 “이게 국민 목소리인가”…조국 “매국적”\n",
      "불산, 수입선 다변화·국산 개발…‘탈일본’ 속도\n",
      "이재용 \"스마트폰·TV도 비상계획 마련\"…소재 탈일본 가능?\n",
      "종업원에게도 지분 나눠줬던 술집, 은밀하게 '세금 회피'\n",
      "택시 서비스·요금 다양화 예고…\"진입장벽 높여\" 반발도\n",
      "자고 있는데 아이폰 '펑'…\"조사 결과 못 알려줘\"\n",
      "대구 치맥페스티벌 열기 '후끈'…닭 튀김 로봇도 '눈길'\n",
      "하룻밤새 무너진 사무실…CCTV에 찍힌 '재개발 폭력사태'\n",
      "1600만원 넣어놓은 '보물 밥솥'을…경찰 도움으로 되찾아\n",
      "검찰 \"증인 1%만 신문\"…'양승태 조기석방 반대' 의견서\n",
      "대구 스크린골프장서 방화 추정 불…2명 부상 1명 위독(종합)\n",
      "여성이 남성보다 알츠하이머 환자 많은 이유 찾았다…美 연구팀 결과\n",
      "[뉴있저] \"인생은 지금부터!\"...77세 모델 최순화\n",
      "호남·경남 150mm 큰비…주말 태풍 영향권\n",
      "타다 “진입장벽 더 높아졌다”-택시 “개편안 큰 틀은 환영”\n",
      "리블린 대통령, 여의도순복음교회 기도회 참석…\"양국가교 노력\"\n",
      "日 지한파 오쿠조노 교수 “압류자산 현금화 멈추는 것이 日 요구의 마지노선”\n",
      "규제의 역설…반도체 가격·주가 동반 상승\n",
      "“한국, 불화수소 중국에 대량 주문”…일본 언론 ‘화들짝’ 보도\n",
      "아베, 야유 막으려 거리유세에 자민당원 동원까지\n",
      "마음 급한 韓 반도체회사...\"中 불화수소 주문\"\n",
      "'부활의 날개짓' 싸이월드, 기대감 UP ↑\n",
      "당근마켓에 트립스토어까지…라인, 스타트업 표절 구설수(종합)\n",
      "“불법 촬영물 95% 해외 서버 유통”…방심위, 구글 등과 공조\n",
      "\"'리브라 연합군'만이 중국과 디지털화폐 패권경쟁서 우위\"\n",
      "‘자금세탁방지 규제’ 대비책 서두르는 암호화폐 거래소들\n"
     ]
    }
   ],
   "source": [
    "# 셀레니움 어떤 타입으로 가져오는지\n",
    "N = 0\n",
    "for _ in driver.find_elements_by_css_selector(\".hdline_news  .hdline_article_tit > a, .com_list li > a\") :\n",
    "    if len(_.get_attribute(\"href\")) > 1:\n",
    "      #  print(_.get_attribute(\"href\"))\n",
    "        print(_.text)\n",
    "        N = N + 1\n",
    "      #  print (len(_.get_attribute(\"href\")))\n"
   ]
  },
  {
   "cell_type": "code",
   "execution_count": 37,
   "metadata": {},
   "outputs": [],
   "source": []
  },
  {
   "cell_type": "code",
   "execution_count": 38,
   "metadata": {},
   "outputs": [],
   "source": [
    "for i in range(N):\n",
    "    driver.find_element_by_css_selector(\"#lnb > ul > li:first-child > a\").click()\n",
    "    news = [_ for _ in driver.find_elements_by_css_selector(\".hdline_news .hdline_article_tit > a, .com_list li > a\") \\\n",
    "            if len(_.get_attribute(\"href\")) > 1][i]\n",
    "    \n",
    "    cur.execute(\"INSERT INTO table1(title, url)  VALUES(? ,?)\", [news.text, news.get_attribute(\"href\")])\n",
    "    con.commit()\n",
    "    \n",
    "    cur.execute(\"SELECT id FROM table1 WHERE url=?\",[news.get_attribute(\"href\")])\n",
    "    newsID = cur.fetchone()[0]\n",
    "    \n",
    "\n",
    "    news.click()\n",
    "    \n",
    "    cur.execute(\"INSERT INTO table2(table1_id, content) VALUES(?, ?)\", [newsID, driver.find_element_by_css_selector(\"#articleBodyContents\").text])\n",
    "    con.commit()"
   ]
  },
  {
   "cell_type": "code",
   "execution_count": null,
   "metadata": {},
   "outputs": [],
   "source": []
  },
  {
   "cell_type": "code",
   "execution_count": null,
   "metadata": {},
   "outputs": [],
   "source": []
  },
  {
   "cell_type": "code",
   "execution_count": null,
   "metadata": {},
   "outputs": [],
   "source": []
  },
  {
   "cell_type": "code",
   "execution_count": null,
   "metadata": {},
   "outputs": [],
   "source": []
  },
  {
   "cell_type": "code",
   "execution_count": null,
   "metadata": {},
   "outputs": [],
   "source": []
  },
  {
   "cell_type": "code",
   "execution_count": null,
   "metadata": {},
   "outputs": [],
   "source": []
  },
  {
   "cell_type": "code",
   "execution_count": null,
   "metadata": {},
   "outputs": [],
   "source": []
  },
  {
   "cell_type": "code",
   "execution_count": null,
   "metadata": {},
   "outputs": [],
   "source": []
  },
  {
   "cell_type": "code",
   "execution_count": 25,
   "metadata": {},
   "outputs": [],
   "source": []
  },
  {
   "cell_type": "code",
   "execution_count": null,
   "metadata": {},
   "outputs": [],
   "source": [
    "from urllib import *\n",
    "from html import unescape\n",
    "import requests\n",
    "import json \n",
    "headers={\"user-agent\":\"Mozilla/5.0 (Windows NT 10.0; Win64; x64) AppleWebKit/537.36 (KHTML, like Gecko) Chrome/75.0.3770.100 Safari/537.36\"}\n",
    "import requests\n",
    "import time\n",
    "import bs4\n",
    "from bs4 import BeautifulSoup\n",
    "import re\n",
    "import time\n",
    "\n",
    "\n",
    "def download(method, url, \n",
    "             param = None, data = None, \n",
    "            timeout = 1,maxretries = 3):\n",
    "    \n",
    "    headers = {'user-agent': 'Mozilla/5.0 (Windows NT 10.0; Win64; x64) AppleWebKit/537.36 (KHTML, like Gecko) Chrome/75.0.3770.100 Safari/537.36'}\n",
    "    #headers = None\n",
    "    \n",
    "    try:\n",
    "        resp = requests.request(method, url, params= param, data=data, headers=headers)\n",
    "        resp.raise_for_status()\n",
    "        \n",
    "    except requests.exceptions.HTTPError as e:\n",
    "        if 500 <= e.response.status_code < 600 and maxretries > 0: \n",
    "            time.sleep(timeout) # param에따라 몇초 기다릴지 결정 할 수가 있다.\n",
    "            print(maxretries) # 재귀적으로 자기 자신을 부르게 코드를 짜면 된다.\n",
    "            resp = download(method,\n",
    "                            url, param = param, data=data,\n",
    "                            timeout=timeout,\n",
    "                            maxretries = maxretries - 1)\n",
    "        else:\n",
    "            print(e.response.status_code)\n",
    "            print(e.response.reason)\n",
    "    return resp\n",
    "\n",
    "def checkBlog(url):\n",
    "    return requests.compat.urlparse(url)[1].endswith(\"tistory.com\")\n",
    "    ## 정규식 re.search(\".+?\\.tistory.com\", \"http:\\\\adam24eve.tistory.com/\") #짧게매칭되는거 ? 레이지 \n",
    "\n",
    "def parseURL(seed):\n",
    "    html = download(\"get\",seed)\n",
    "    dom = BeautifulSoup(html.text, \"lxml\")\n",
    "    \n",
    "    ## naver iframe html안에 html 또들어있어서\n",
    "   # if len(dom.select(\"#mainFrame\")) < 1:  ## 메인이랑, 첫페이지만 없음\n",
    "   #     return []\n",
    "    \n",
    "   \n",
    "   # seed = requests.compat.urljoin(seed,dom.select(\"#mainFrame\")[0][\"src\"])\n",
    "  #  print(\"-=================================================\")\n",
    "   # print(seed)\n",
    "  #  print(\"-=================================================\")\n",
    "   # html = download(\"get\",seed)\n",
    "   # dom = BeautifulSoup(html.text, \"lxml\")\n",
    "    \n",
    "\n",
    "    return  [requests.compat.urljoin(seed, _[\"href\"]) for _ in dom.find_all(\"a\") if  _.has_attr(\"href\") and len(_[\"href\"]) >3 ]\n",
    "\n",
    "##and checkBlog(requests.compat.urljoin(seed, _[\"href\"]))\n",
    "\n",
    "\n",
    "\n",
    "\n"
   ]
  },
  {
   "cell_type": "code",
   "execution_count": null,
   "metadata": {},
   "outputs": [],
   "source": []
  }
 ],
 "metadata": {
  "kernelspec": {
   "display_name": "Python 3",
   "language": "python",
   "name": "python3"
  },
  "language_info": {
   "codemirror_mode": {
    "name": "ipython",
    "version": 3
   },
   "file_extension": ".py",
   "mimetype": "text/x-python",
   "name": "python",
   "nbconvert_exporter": "python",
   "pygments_lexer": "ipython3",
   "version": "3.6.4"
  }
 },
 "nbformat": 4,
 "nbformat_minor": 2
}
