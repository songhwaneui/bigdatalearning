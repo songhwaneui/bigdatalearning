{
 "cells": [
  {
   "cell_type": "code",
   "execution_count": null,
   "metadata": {},
   "outputs": [],
   "source": [
    "## 우편, 무통장 입금  => 자리 예매 진짜 애매 피튀길떄\n",
    "## 인터파크 티켓에매 자동구매 프로그램"
   ]
  },
  {
   "cell_type": "code",
   "execution_count": 1,
   "metadata": {},
   "outputs": [],
   "source": [
    "import time"
   ]
  },
  {
   "cell_type": "code",
   "execution_count": 2,
   "metadata": {},
   "outputs": [],
   "source": [
    "from selenium import webdriver\n",
    "\n",
    "driver = webdriver.Chrome()\n",
    "# 창끄면 핸들러 잃어버림\n",
    "# driver.close()"
   ]
  },
  {
   "cell_type": "code",
   "execution_count": 3,
   "metadata": {},
   "outputs": [],
   "source": [
    "from selenium.webdriver.support.ui import Select"
   ]
  },
  {
   "cell_type": "code",
   "execution_count": 4,
   "metadata": {},
   "outputs": [],
   "source": [
    "driver.get(\"http://ticket.interpark.com/?smid1=header&smid2=ticket/\")"
   ]
  },
  {
   "cell_type": "code",
   "execution_count": 13,
   "metadata": {},
   "outputs": [],
   "source": [
    "import json\n",
    "with open(\"account.json\") as fp:\n",
    "    account = json.load(fp)"
   ]
  },
  {
   "cell_type": "code",
   "execution_count": 14,
   "metadata": {},
   "outputs": [],
   "source": [
    "def login(account, method = \"login\"):\n",
    "    try:\n",
    "        login = driver.find_element_by_css_selector(\"#logstatus > a\")\n",
    "        if method == \"login\":\n",
    "            if login and login.get_attribute(\"id\")==\"aLogin\": ## 주소창에 로그인됫으면 id 들어있고 없으면 아무것도 안들어있다.\n",
    "                driver.get(login.get_attribute(\"href\"))\n",
    "                driver.find_element_by_css_selector(\"#UID\").send_keys(account[\"id\"])\n",
    "                driver.find_element_by_css_selector(\"#PWD\").send_keys(account[\"pw\"])\n",
    "                driver.find_element_by_css_selector(\"div.loginBtn > button\").click()\n",
    "        else:\n",
    "            login.click()\n",
    "    except:\n",
    "        return False\n",
    "    return True\n",
    "        "
   ]
  },
  {
   "cell_type": "code",
   "execution_count": 15,
   "metadata": {},
   "outputs": [],
   "source": [
    "def gnbbtns(category=\"콘서트\"):\n",
    "    links = [ _ for _ in driver.find_elements_by_css_selector(\"ul.gnbBtns  a[class^=btn]\")]\n",
    "    \n",
    "    titles = [_.find_element_by_css_selector(\"img\").get_attribute(\"alt\") for _ in links]\n",
    "    \n",
    "    if category in titles:\n",
    "        return links[titles.index(category)].get_attribute(\"href\")\n",
    "    \n",
    "    return False\n",
    "    \n",
    "    \n",
    "    \n"
   ]
  },
  {
   "cell_type": "code",
   "execution_count": 16,
   "metadata": {},
   "outputs": [],
   "source": [
    "\n",
    "def hotissue(issue=None):\n",
    "    issues = [ _ for _ in driver.find_elements_by_css_selector(\"div.wrap_issue dl.list > dt.issue_obj > a\")]\n",
    "    title = [ _.find_element_by_css_selector(\"span.txt1\").text for _ in issues ]\n",
    "    \n",
    "\n",
    "    if issue in title:\n",
    "        return issues[title.index(issue)].get_attribute(\"href\")\n",
    "    else:\n",
    "        return issues[0].get_attribute(\"href\")"
   ]
  },
  {
   "cell_type": "code",
   "execution_count": 17,
   "metadata": {},
   "outputs": [],
   "source": [
    "##선생님 답\n",
    "\n",
    "\n",
    "## 이거 함수로 짜보면은 중간중간에 함수호출마다 에러날거다\n",
    "\n",
    "def bookWindow(options=None):\n",
    "    if options:\n",
    "        iframe = driver.find_element_by_css_selector(\"#ifrCalendar\")\n",
    "        \n",
    "        if iframe:\n",
    "            driver.switch_to_frame(iframe)\n",
    "            dates = [_ for _ in driver.find_elements_by_css_selector(\"td.able > a\")]\n",
    "            title = [_.text for _ in dates]\n",
    "            print(title)\n",
    "        if options in title:\n",
    "            dirver.execute_script(dates[title.index(options)].get_attribute(\"onclick\"))\n",
    "            \n",
    "        else:\n",
    "            driver.execute_script(dates[0].get_attribute(\"onclick\"))\n",
    "            \n",
    "        driver.switch_to_default_content()\n",
    "        \n",
    "    ## No option\n",
    "    else :\n",
    "        ## 클릭해서들가기\n",
    "        time.sleep(1)\n",
    "        driver.execute_script(\"javascript:fnNormalBooking();\")\n",
    "        #driver.find_element_by_css_selector(\".tk_dt_btn_TArea > a.btn_rev\").click()\n",
    "        driver.switch_to_window(driver.window_handles[-1])\n",
    "        \n",
    "        ## iframe 으로 들가기 달력 선택\n",
    "        iframe = driver.find_element_by_name(\"ifrmBookStep\")\n",
    "        driver.switch_to_frame(iframe)  ## 돔이 네이버 전체에서 iframe 돔으로 바뀌었다.이거랑, 옛날에 iframe 처리하는거랑 2가지 방법 있다.\n",
    "        a = driver.find_elements_by_css_selector(\"#CellPlayDate \")\n",
    "        a[3].click()\n",
    "        driver.switch_to_default_content()\n",
    "        time.sleep(1)\n",
    "        driver.find_element_by_css_selector(\"#LargeNextBtnImage\").click()\n",
    "        \n",
    "        ## iframe 2개 좌석 선택\n",
    "        iframe = driver.find_element_by_name(\"ifrmSeat\")\n",
    "        driver.switch_to_frame(iframe)\n",
    "        iframe = driver.find_element_by_name(\"ifrmSeatDetail\")\n",
    "        driver.switch_to_frame(iframe)\n",
    "        a = driver.find_elements_by_css_selector(\".stySeat\")\n",
    "        a[3].click()\n",
    "        driver.switch_to_default_content()\n",
    "        iframe = driver.find_element_by_name(\"ifrmSeat\")\n",
    "        driver.switch_to_frame(iframe)\n",
    "        time.sleep(1)\n",
    "        driver.find_element_by_css_selector(\"#NextStepImage\").click()\n",
    "    \n",
    "        \n",
    "        ## 티켓 매수 선택\n",
    "        ## html 돔은 그대로인데 ajax식으로 데이터만 왔다갔다 하는식이어서 \n",
    "        ## 아까 다음단계 버튼을 누를떄 iframe 한번 들어갔으므로 다시 초기화 시켜야한다\n",
    "        driver.switch_to_default_content() \n",
    "        \n",
    "        iframe = driver.find_element_by_name(\"ifrmBookStep\")\n",
    "        driver.switch_to_frame(iframe)\n",
    "        \n",
    "        # 클릭방식이 선생님꺼랑 내하는거랑 다르다\n",
    "        # Select 객체로 만들어서 받아와야 한다. 클릭해서 밑에 뜨는 0매 1패 이거는 선택할수가 없다. 코드받아볼수있는 방법 x\n",
    "        #driver.find_element_by_name(\"SeatCount\").click()\n",
    "        seat =  Select(driver.find_element_by_name(\"SeatCount\"))\n",
    "        \n",
    "        seat.select_by_index(driver.find_element_by_css_selector(\".taL option:last-child\").get_attribute('value'))\n",
    "        ## option: nth-child(3) 이렇게하면 몇번쨰꺼 인지 다 선택할수 있다.\n",
    "        driver.switch_to_default_content()\n",
    "        time.sleep(1)\n",
    "        driver.find_element_by_css_selector(\"#SmallNextBtnImage\").click()\n",
    "        \n",
    "        ## 결재 방식 선택\n",
    "                \n",
    "        iframe = driver.find_element_by_name(\"ifrmBookStep\")\n",
    "        driver.switch_to_frame(iframe)\n",
    "        option = driver.find_element_by_css_selector(\"#Delivery_24001   input\")\n",
    "        option.click()\n",
    "        \n",
    "        driver.find_element_by_name(\"YYMMDD\").send_keys(\"940904\")\n",
    "        \n",
    "        driver.find_element_by_id(\"HpNo1\").clear()\n",
    "        driver.find_element_by_id(\"HpNo1\").send_keys(\"010\")\n",
    "        driver.find_element_by_id(\"HpNo2\").clear()\n",
    "        driver.find_element_by_id(\"HpNo2\").send_keys(\"5181\")\n",
    "        driver.find_element_by_id(\"HpNo3\").clear()\n",
    "        driver.find_element_by_id(\"HpNo3\").send_keys(\"6453\")\n",
    "        driver.find_element_by_id(\"Email\").clear()\n",
    "        driver.find_element_by_id(\"Email\").send_keys(\"legendazi@naver.com\")\n",
    "        time.sleep(1)\n",
    "        driver.find_element_by_id(\"chkSyncAddress\").click()\n",
    "        \n",
    "        driver.switch_to_default_content()\n",
    "        time.sleep(1)\n",
    "        driver.find_element_by_id(\"SmallNextBtnImage\").click()\n",
    "\n",
    "\n",
    "        ## 결재수단 창\n",
    "        time.sleep(1)\n",
    "        iframe = driver.find_element_by_name(\"ifrmBookStep\")\n",
    "        driver.switch_to_frame(iframe)\n",
    "        driver.find_element_by_css_selector(\"#Payment_22004    input\").click()\n",
    "                                                                \n",
    "        seat =  Select(driver.find_element_by_id(\"BankCode\"))\n",
    "        temp = list()\n",
    "        for _ in driver.find_elements_by_css_selector(\"#BankCode option\"):\n",
    "            temp.append(_.get_attribute(\"text\"))\n",
    "        seat.select_by_index(temp.index('우리은행'))\n",
    "        driver.switch_to_default_content()\n",
    "        time.sleep(1)\n",
    "        driver.find_element_by_id(\"SmallNextBtnImage\").click()\n",
    "      \n",
    "        ## 마지막 결재완료\n",
    "        iframe = driver.find_element_by_name(\"ifrmBookStep\")\n",
    "        driver.switch_to_frame(iframe)\n",
    "        driver.find_element_by_id(\"CancelAgree\").click()\n",
    "        driver.find_element_by_id(\"CancelAgree2\").click()\n",
    "        driver.switch_to_default_content()\n",
    "        time.sleep(1)\n",
    "        \n",
    "        #driver.find_element_by_id(\"LargeNextBtnImage\").click()  # 여기까지하면 결제됬다고 카톡메세지 날라옴\n",
    "        \n",
    "        # 결재내역 확인\n",
    "        driver.switch_to_default_content()\n",
    "        iframe = driver.find_element_by_name(\"ifrmBookEnd\")\n",
    "        driver.switch_to_frame(iframe)\n",
    "        time.sleep(1)\n",
    "        driver.find_element_by_css_selector(\".btn02\").click()\n"
   ]
  },
  {
   "cell_type": "code",
   "execution_count": 18,
   "metadata": {},
   "outputs": [],
   "source": [
    "def safeClose():\n",
    "    if len(driver.window_handles)>1:\n",
    "        for _ in driver.window_handles[1:]:\n",
    "            driver.switch_to_window(_)\n",
    "            driver.close()\n",
    "    driver.switch_to_window(driver.window_handles[0])\n",
    "    driver.switch_to_default_content()"
   ]
  },
  {
   "cell_type": "code",
   "execution_count": 19,
   "metadata": {},
   "outputs": [],
   "source": [
    "####################################"
   ]
  },
  {
   "cell_type": "code",
   "execution_count": 20,
   "metadata": {},
   "outputs": [],
   "source": [
    "if \"ISession%5FID\" not in [_[\"name\"] for _ in driver.get_cookies()]:\n",
    "    login(account)\n",
    "else:\n",
    "    login(None, \"adasdsad\")\n"
   ]
  },
  {
   "cell_type": "code",
   "execution_count": 22,
   "metadata": {},
   "outputs": [],
   "source": [
    "url = gnbbtns()\n",
    "if url:\n",
    "    driver.get(url)"
   ]
  },
  {
   "cell_type": "code",
   "execution_count": 23,
   "metadata": {},
   "outputs": [],
   "source": [
    "driver.get(hotissue(\"박정현\"))"
   ]
  },
  {
   "cell_type": "code",
   "execution_count": 152,
   "metadata": {},
   "outputs": [
    {
     "name": "stderr",
     "output_type": "stream",
     "text": [
      "C:\\Users\\legen\\Anaconda3\\lib\\site-packages\\ipykernel_launcher.py:29: DeprecationWarning: use driver.switch_to.window instead\n",
      "C:\\Users\\legen\\Anaconda3\\lib\\site-packages\\ipykernel_launcher.py:33: DeprecationWarning: use driver.switch_to.frame instead\n",
      "C:\\Users\\legen\\Anaconda3\\lib\\site-packages\\ipykernel_launcher.py:36: DeprecationWarning: use driver.switch_to.default_content instead\n",
      "C:\\Users\\legen\\Anaconda3\\lib\\site-packages\\ipykernel_launcher.py:42: DeprecationWarning: use driver.switch_to.frame instead\n",
      "C:\\Users\\legen\\Anaconda3\\lib\\site-packages\\ipykernel_launcher.py:44: DeprecationWarning: use driver.switch_to.frame instead\n",
      "C:\\Users\\legen\\Anaconda3\\lib\\site-packages\\ipykernel_launcher.py:47: DeprecationWarning: use driver.switch_to.default_content instead\n",
      "C:\\Users\\legen\\Anaconda3\\lib\\site-packages\\ipykernel_launcher.py:49: DeprecationWarning: use driver.switch_to.frame instead\n",
      "C:\\Users\\legen\\Anaconda3\\lib\\site-packages\\ipykernel_launcher.py:57: DeprecationWarning: use driver.switch_to.default_content instead\n",
      "C:\\Users\\legen\\Anaconda3\\lib\\site-packages\\ipykernel_launcher.py:60: DeprecationWarning: use driver.switch_to.frame instead\n",
      "C:\\Users\\legen\\Anaconda3\\lib\\site-packages\\ipykernel_launcher.py:69: DeprecationWarning: use driver.switch_to.default_content instead\n",
      "C:\\Users\\legen\\Anaconda3\\lib\\site-packages\\ipykernel_launcher.py:76: DeprecationWarning: use driver.switch_to.frame instead\n",
      "C:\\Users\\legen\\Anaconda3\\lib\\site-packages\\ipykernel_launcher.py:93: DeprecationWarning: use driver.switch_to.default_content instead\n",
      "C:\\Users\\legen\\Anaconda3\\lib\\site-packages\\ipykernel_launcher.py:101: DeprecationWarning: use driver.switch_to.frame instead\n",
      "C:\\Users\\legen\\Anaconda3\\lib\\site-packages\\ipykernel_launcher.py:109: DeprecationWarning: use driver.switch_to.default_content instead\n",
      "C:\\Users\\legen\\Anaconda3\\lib\\site-packages\\ipykernel_launcher.py:115: DeprecationWarning: use driver.switch_to.frame instead\n",
      "C:\\Users\\legen\\Anaconda3\\lib\\site-packages\\ipykernel_launcher.py:118: DeprecationWarning: use driver.switch_to.default_content instead\n",
      "C:\\Users\\legen\\Anaconda3\\lib\\site-packages\\ipykernel_launcher.py:123: DeprecationWarning: use driver.switch_to.default_content instead\n",
      "C:\\Users\\legen\\Anaconda3\\lib\\site-packages\\ipykernel_launcher.py:125: DeprecationWarning: use driver.switch_to.frame instead\n"
     ]
    },
    {
     "ename": "NoSuchElementException",
     "evalue": "Message: no such element: Unable to locate element: {\"method\":\"css selector\",\"selector\":\".btn02\"}\n  (Session info: chrome=75.0.3770.142)\n",
     "output_type": "error",
     "traceback": [
      "\u001b[1;31m---------------------------------------------------------------------------\u001b[0m",
      "\u001b[1;31mNoSuchElementException\u001b[0m                    Traceback (most recent call last)",
      "\u001b[1;32m<ipython-input-152-0b9eb1ee0570>\u001b[0m in \u001b[0;36m<module>\u001b[1;34m()\u001b[0m\n\u001b[1;32m----> 1\u001b[1;33m \u001b[0mbookWindow\u001b[0m\u001b[1;33m(\u001b[0m\u001b[1;33m)\u001b[0m\u001b[1;33m\u001b[0m\u001b[0m\n\u001b[0m",
      "\u001b[1;32m<ipython-input-142-5e7b7dbb9931>\u001b[0m in \u001b[0;36mbookWindow\u001b[1;34m(options)\u001b[0m\n\u001b[0;32m    125\u001b[0m         \u001b[0mdriver\u001b[0m\u001b[1;33m.\u001b[0m\u001b[0mswitch_to_frame\u001b[0m\u001b[1;33m(\u001b[0m\u001b[0miframe\u001b[0m\u001b[1;33m)\u001b[0m\u001b[1;33m\u001b[0m\u001b[0m\n\u001b[0;32m    126\u001b[0m         \u001b[0mtime\u001b[0m\u001b[1;33m.\u001b[0m\u001b[0msleep\u001b[0m\u001b[1;33m(\u001b[0m\u001b[1;36m1\u001b[0m\u001b[1;33m)\u001b[0m\u001b[1;33m\u001b[0m\u001b[0m\n\u001b[1;32m--> 127\u001b[1;33m         \u001b[0mdriver\u001b[0m\u001b[1;33m.\u001b[0m\u001b[0mfind_element_by_css_selector\u001b[0m\u001b[1;33m(\u001b[0m\u001b[1;34m\".btn02\"\u001b[0m\u001b[1;33m)\u001b[0m\u001b[1;33m.\u001b[0m\u001b[0mclick\u001b[0m\u001b[1;33m(\u001b[0m\u001b[1;33m)\u001b[0m\u001b[1;33m\u001b[0m\u001b[0m\n\u001b[0m",
      "\u001b[1;32m~\\Anaconda3\\lib\\site-packages\\selenium\\webdriver\\remote\\webdriver.py\u001b[0m in \u001b[0;36mfind_element_by_css_selector\u001b[1;34m(self, css_selector)\u001b[0m\n\u001b[0;32m    596\u001b[0m             \u001b[0melement\u001b[0m \u001b[1;33m=\u001b[0m \u001b[0mdriver\u001b[0m\u001b[1;33m.\u001b[0m\u001b[0mfind_element_by_css_selector\u001b[0m\u001b[1;33m(\u001b[0m\u001b[1;34m'#foo'\u001b[0m\u001b[1;33m)\u001b[0m\u001b[1;33m\u001b[0m\u001b[0m\n\u001b[0;32m    597\u001b[0m         \"\"\"\n\u001b[1;32m--> 598\u001b[1;33m         \u001b[1;32mreturn\u001b[0m \u001b[0mself\u001b[0m\u001b[1;33m.\u001b[0m\u001b[0mfind_element\u001b[0m\u001b[1;33m(\u001b[0m\u001b[0mby\u001b[0m\u001b[1;33m=\u001b[0m\u001b[0mBy\u001b[0m\u001b[1;33m.\u001b[0m\u001b[0mCSS_SELECTOR\u001b[0m\u001b[1;33m,\u001b[0m \u001b[0mvalue\u001b[0m\u001b[1;33m=\u001b[0m\u001b[0mcss_selector\u001b[0m\u001b[1;33m)\u001b[0m\u001b[1;33m\u001b[0m\u001b[0m\n\u001b[0m\u001b[0;32m    599\u001b[0m \u001b[1;33m\u001b[0m\u001b[0m\n\u001b[0;32m    600\u001b[0m     \u001b[1;32mdef\u001b[0m \u001b[0mfind_elements_by_css_selector\u001b[0m\u001b[1;33m(\u001b[0m\u001b[0mself\u001b[0m\u001b[1;33m,\u001b[0m \u001b[0mcss_selector\u001b[0m\u001b[1;33m)\u001b[0m\u001b[1;33m:\u001b[0m\u001b[1;33m\u001b[0m\u001b[0m\n",
      "\u001b[1;32m~\\Anaconda3\\lib\\site-packages\\selenium\\webdriver\\remote\\webdriver.py\u001b[0m in \u001b[0;36mfind_element\u001b[1;34m(self, by, value)\u001b[0m\n\u001b[0;32m    976\u001b[0m         return self.execute(Command.FIND_ELEMENT, {\n\u001b[0;32m    977\u001b[0m             \u001b[1;34m'using'\u001b[0m\u001b[1;33m:\u001b[0m \u001b[0mby\u001b[0m\u001b[1;33m,\u001b[0m\u001b[1;33m\u001b[0m\u001b[0m\n\u001b[1;32m--> 978\u001b[1;33m             'value': value})['value']\n\u001b[0m\u001b[0;32m    979\u001b[0m \u001b[1;33m\u001b[0m\u001b[0m\n\u001b[0;32m    980\u001b[0m     \u001b[1;32mdef\u001b[0m \u001b[0mfind_elements\u001b[0m\u001b[1;33m(\u001b[0m\u001b[0mself\u001b[0m\u001b[1;33m,\u001b[0m \u001b[0mby\u001b[0m\u001b[1;33m=\u001b[0m\u001b[0mBy\u001b[0m\u001b[1;33m.\u001b[0m\u001b[0mID\u001b[0m\u001b[1;33m,\u001b[0m \u001b[0mvalue\u001b[0m\u001b[1;33m=\u001b[0m\u001b[1;32mNone\u001b[0m\u001b[1;33m)\u001b[0m\u001b[1;33m:\u001b[0m\u001b[1;33m\u001b[0m\u001b[0m\n",
      "\u001b[1;32m~\\Anaconda3\\lib\\site-packages\\selenium\\webdriver\\remote\\webdriver.py\u001b[0m in \u001b[0;36mexecute\u001b[1;34m(self, driver_command, params)\u001b[0m\n\u001b[0;32m    319\u001b[0m         \u001b[0mresponse\u001b[0m \u001b[1;33m=\u001b[0m \u001b[0mself\u001b[0m\u001b[1;33m.\u001b[0m\u001b[0mcommand_executor\u001b[0m\u001b[1;33m.\u001b[0m\u001b[0mexecute\u001b[0m\u001b[1;33m(\u001b[0m\u001b[0mdriver_command\u001b[0m\u001b[1;33m,\u001b[0m \u001b[0mparams\u001b[0m\u001b[1;33m)\u001b[0m\u001b[1;33m\u001b[0m\u001b[0m\n\u001b[0;32m    320\u001b[0m         \u001b[1;32mif\u001b[0m \u001b[0mresponse\u001b[0m\u001b[1;33m:\u001b[0m\u001b[1;33m\u001b[0m\u001b[0m\n\u001b[1;32m--> 321\u001b[1;33m             \u001b[0mself\u001b[0m\u001b[1;33m.\u001b[0m\u001b[0merror_handler\u001b[0m\u001b[1;33m.\u001b[0m\u001b[0mcheck_response\u001b[0m\u001b[1;33m(\u001b[0m\u001b[0mresponse\u001b[0m\u001b[1;33m)\u001b[0m\u001b[1;33m\u001b[0m\u001b[0m\n\u001b[0m\u001b[0;32m    322\u001b[0m             response['value'] = self._unwrap_value(\n\u001b[0;32m    323\u001b[0m                 response.get('value', None))\n",
      "\u001b[1;32m~\\Anaconda3\\lib\\site-packages\\selenium\\webdriver\\remote\\errorhandler.py\u001b[0m in \u001b[0;36mcheck_response\u001b[1;34m(self, response)\u001b[0m\n\u001b[0;32m    240\u001b[0m                 \u001b[0malert_text\u001b[0m \u001b[1;33m=\u001b[0m \u001b[0mvalue\u001b[0m\u001b[1;33m[\u001b[0m\u001b[1;34m'alert'\u001b[0m\u001b[1;33m]\u001b[0m\u001b[1;33m.\u001b[0m\u001b[0mget\u001b[0m\u001b[1;33m(\u001b[0m\u001b[1;34m'text'\u001b[0m\u001b[1;33m)\u001b[0m\u001b[1;33m\u001b[0m\u001b[0m\n\u001b[0;32m    241\u001b[0m             \u001b[1;32mraise\u001b[0m \u001b[0mexception_class\u001b[0m\u001b[1;33m(\u001b[0m\u001b[0mmessage\u001b[0m\u001b[1;33m,\u001b[0m \u001b[0mscreen\u001b[0m\u001b[1;33m,\u001b[0m \u001b[0mstacktrace\u001b[0m\u001b[1;33m,\u001b[0m \u001b[0malert_text\u001b[0m\u001b[1;33m)\u001b[0m\u001b[1;33m\u001b[0m\u001b[0m\n\u001b[1;32m--> 242\u001b[1;33m         \u001b[1;32mraise\u001b[0m \u001b[0mexception_class\u001b[0m\u001b[1;33m(\u001b[0m\u001b[0mmessage\u001b[0m\u001b[1;33m,\u001b[0m \u001b[0mscreen\u001b[0m\u001b[1;33m,\u001b[0m \u001b[0mstacktrace\u001b[0m\u001b[1;33m)\u001b[0m\u001b[1;33m\u001b[0m\u001b[0m\n\u001b[0m\u001b[0;32m    243\u001b[0m \u001b[1;33m\u001b[0m\u001b[0m\n\u001b[0;32m    244\u001b[0m     \u001b[1;32mdef\u001b[0m \u001b[0m_value_or_default\u001b[0m\u001b[1;33m(\u001b[0m\u001b[0mself\u001b[0m\u001b[1;33m,\u001b[0m \u001b[0mobj\u001b[0m\u001b[1;33m,\u001b[0m \u001b[0mkey\u001b[0m\u001b[1;33m,\u001b[0m \u001b[0mdefault\u001b[0m\u001b[1;33m)\u001b[0m\u001b[1;33m:\u001b[0m\u001b[1;33m\u001b[0m\u001b[0m\n",
      "\u001b[1;31mNoSuchElementException\u001b[0m: Message: no such element: Unable to locate element: {\"method\":\"css selector\",\"selector\":\".btn02\"}\n  (Session info: chrome=75.0.3770.142)\n"
     ]
    }
   ],
   "source": [
    "bookWindow()"
   ]
  },
  {
   "cell_type": "code",
   "execution_count": null,
   "metadata": {},
   "outputs": [],
   "source": [
    "#################################"
   ]
  },
  {
   "cell_type": "code",
   "execution_count": null,
   "metadata": {},
   "outputs": [],
   "source": []
  },
  {
   "cell_type": "code",
   "execution_count": 153,
   "metadata": {},
   "outputs": [
    {
     "name": "stderr",
     "output_type": "stream",
     "text": [
      "C:\\Users\\legen\\Anaconda3\\lib\\site-packages\\ipykernel_launcher.py:6: DeprecationWarning: use driver.switch_to.window instead\n",
      "  \n",
      "C:\\Users\\legen\\Anaconda3\\lib\\site-packages\\ipykernel_launcher.py:7: DeprecationWarning: use driver.switch_to.default_content instead\n",
      "  import sys\n"
     ]
    }
   ],
   "source": [
    "\n",
    "safeClose()"
   ]
  },
  {
   "cell_type": "code",
   "execution_count": 150,
   "metadata": {},
   "outputs": [
    {
     "data": {
      "text/plain": [
       "['CDwindow-C25721C79595971052984B2228627E94',\n",
       " 'CDwindow-E76624663F8AD48AAE8B68CA01B6CF76']"
      ]
     },
     "execution_count": 150,
     "metadata": {},
     "output_type": "execute_result"
    }
   ],
   "source": []
  },
  {
   "cell_type": "code",
   "execution_count": 107,
   "metadata": {
    "scrolled": true
   },
   "outputs": [
    {
     "data": {
      "text/plain": [
       "'6'"
      ]
     },
     "execution_count": 107,
     "metadata": {},
     "output_type": "execute_result"
    }
   ],
   "source": [
    "driver.current_window_handle[-1]"
   ]
  },
  {
   "cell_type": "code",
   "execution_count": 105,
   "metadata": {},
   "outputs": [
    {
     "data": {
      "text/plain": [
       "['CDwindow-A847D0AF06AF4A158D288E6E57BD8449',\n",
       " 'CDwindow-1A789DBA94747F3396BA57721796EAD6',\n",
       " 'CDwindow-3EAEF0DE0E82A00398113D1BBBBE645D']"
      ]
     },
     "execution_count": 105,
     "metadata": {},
     "output_type": "execute_result"
    }
   ],
   "source": [
    "driver.window_handles"
   ]
  },
  {
   "cell_type": "code",
   "execution_count": 17,
   "metadata": {},
   "outputs": [
    {
     "name": "stderr",
     "output_type": "stream",
     "text": [
      "C:\\Users\\legen\\Anaconda3\\lib\\site-packages\\ipykernel_launcher.py:1: DeprecationWarning: use driver.switch_to.window instead\n",
      "  \"\"\"Entry point for launching an IPython kernel.\n"
     ]
    }
   ],
   "source": [
    "driver.switch_to_window(driver.window_handles[0])\n",
    "# driver.window_handles"
   ]
  },
  {
   "cell_type": "code",
   "execution_count": null,
   "metadata": {},
   "outputs": [],
   "source": []
  }
 ],
 "metadata": {
  "kernelspec": {
   "display_name": "Python 3",
   "language": "python",
   "name": "python3"
  },
  "language_info": {
   "codemirror_mode": {
    "name": "ipython",
    "version": 3
   },
   "file_extension": ".py",
   "mimetype": "text/x-python",
   "name": "python",
   "nbconvert_exporter": "python",
   "pygments_lexer": "ipython3",
   "version": "3.6.4"
  }
 },
 "nbformat": 4,
 "nbformat_minor": 2
}
